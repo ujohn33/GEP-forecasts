{
 "cells": [
  {
   "cell_type": "code",
   "execution_count": 61,
   "metadata": {},
   "outputs": [
    {
     "name": "stdout",
     "output_type": "stream",
     "text": [
      "[[5, 84], [1, 5], [54, 1], [2, 54], [45, 2], [34, 45], [78, 34], [23, 78], [34, 23], [45, 34], [76, 45], [88, 76]]\n",
      "(12, 2)\n"
     ]
    },
    {
     "data": {
      "text/plain": [
       "(12, 1, 2)"
      ]
     },
     "execution_count": 61,
     "metadata": {},
     "output_type": "execute_result"
    }
   ],
   "source": [
    "import numpy as np\n",
    "import itertools\n",
    "\n",
    "X, Y = [], []\n",
    "\n",
    "\"\"\"[2,3,84,5,1]\n",
    "   [54,2,45,34,78]\n",
    "   [23,34,45,76,88]\"\"\"\n",
    "\n",
    "ts = [2,3,84,5,1,54,2,45,34,78,23,34,45,76,88]\n",
    "values = np.array(ts)\n",
    "values = values.astype('float32')\n",
    "lag = 3\n",
    "\n",
    "if len(ts) - lag <= 0:\n",
    "    X.append(ts)\n",
    "else:\n",
    "    for i in range(len(ts) - lag):\n",
    "        Y.append(ts[i + lag])\n",
    "        # Substacted 96 for not knowing the day before\n",
    "        ab = list(itertools.chain([ts[i+lag]], [ts[i+lag-1]]))\n",
    "        X.append(ab)\n",
    "        #X.append(ts[(i + lag)])\n",
    "print(X)     \n",
    "#X = list(X)\n",
    "X, Y = np.array(X), np.array(Y)\n",
    "print(X.shape)\n",
    "# Reshaping the X array to an LSTM input shape \n",
    "X = np.reshape(X, (X.shape[0], 1, X.shape[1]))\n",
    "X.shape"
   ]
  },
  {
   "cell_type": "code",
   "execution_count": 45,
   "metadata": {
    "scrolled": true
   },
   "outputs": [
    {
     "data": {
      "text/plain": [
       "(12, 3, 1)"
      ]
     },
     "execution_count": 45,
     "metadata": {},
     "output_type": "execute_result"
    }
   ],
   "source": [
    "X.shape"
   ]
  },
  {
   "cell_type": "code",
   "execution_count": 70,
   "metadata": {},
   "outputs": [],
   "source": [
    "class WindowGenerator():\n",
    "    def __init__(self, input_width, label_width, shift,\n",
    "               train_df, val_df, test_df,\n",
    "               label_columns=None):\n",
    "        # Store the raw data.\n",
    "        self.train_df = train_df\n",
    "        self.val_df = val_df\n",
    "        self.test_df = test_df\n",
    "\n",
    "        # Work out the label column indices.\n",
    "        self.label_columns = label_columns\n",
    "        if label_columns is not None:\n",
    "            self.label_columns_indices = {name: i for i, name in\n",
    "                                        enumerate(label_columns)}\n",
    "        self.column_indices = {name: i for i, name in\n",
    "                               enumerate(train_df.columns)}\n",
    "\n",
    "        # Work out the window parameters.\n",
    "        self.input_width = input_width\n",
    "        self.label_width = label_width\n",
    "        self.shift = shift\n",
    "\n",
    "        self.total_window_size = input_width + shift\n",
    "\n",
    "        self.input_slice = slice(0, input_width)\n",
    "        self.input_indices = np.arange(self.total_window_size)[self.input_slice]\n",
    "\n",
    "        self.label_start = self.total_window_size - self.label_width\n",
    "        self.labels_slice = slice(self.label_start, None)\n",
    "        self.label_indices = np.arange(self.total_window_size)[self.labels_slice]\n",
    "\n",
    "    def __repr__(self):\n",
    "        return '\\n'.join([\n",
    "            f'Total window size: {self.total_window_size}',\n",
    "            f'Input indices: {self.input_indices}',\n",
    "            f'Label indices: {self.label_indices}',\n",
    "            f'Label column name(s): {self.label_columns}'])\n",
    "    def split_window(self, features):\n",
    "        inputs = features[:, self.input_slice, :]\n",
    "        labels = features[:, self.labels_slice, :]\n",
    "        if self.label_columns is not None:\n",
    "            labels = tf.stack(\n",
    "                [labels[:, :, self.column_indices[name]] for name in self.label_columns],\n",
    "                axis=-1)\n",
    "\n",
    "        # Slicing doesn't preserve static shape information, so set the shapes\n",
    "        # manually. This way the `tf.data.Datasets` are easier to inspect.\n",
    "        inputs.set_shape([None, self.input_width, None])\n",
    "        labels.set_shape([None, self.label_width, None])\n",
    "\n",
    "        return inputs, labels\n",
    "    \n",
    "    WindowGenerator.split_window = split_window\n",
    "    \n",
    "    def make_dataset(self, data):\n",
    "        data = np.array(data, dtype=np.float32)\n",
    "        ds = tf.keras.preprocessing.timeseries_dataset_from_array(\n",
    "          data=data,\n",
    "          targets=None,\n",
    "          sequence_length=self.total_window_size,\n",
    "          sequence_stride=1,\n",
    "          shuffle=True,\n",
    "          batch_size=32,)\n",
    "\n",
    "        ds = ds.map(self.split_window)\n",
    "\n",
    "        return ds\n",
    "\n",
    "    WindowGenerator.make_dataset = make_dataset\n"
   ]
  },
  {
   "cell_type": "code",
   "execution_count": 68,
   "metadata": {},
   "outputs": [],
   "source": [
    "def split_window(self, features):\n",
    "    inputs = features[:, self.input_slice, :]\n",
    "    labels = features[:, self.labels_slice, :]\n",
    "    if self.label_columns is not None:\n",
    "        labels = tf.stack(\n",
    "            [labels[:, :, self.column_indices[name]] for name in self.label_columns],\n",
    "            axis=-1)\n",
    "\n",
    "    # Slicing doesn't preserve static shape information, so set the shapes\n",
    "    # manually. This way the `tf.data.Datasets` are easier to inspect.\n",
    "    inputs.set_shape([None, self.input_width, None])\n",
    "    labels.set_shape([None, self.label_width, None])\n",
    "\n",
    "    return inputs, labels\n",
    "\n",
    "WindowGenerator.split_window = split_window"
   ]
  },
  {
   "cell_type": "code",
   "execution_count": 69,
   "metadata": {},
   "outputs": [
    {
     "ename": "TypeError",
     "evalue": "__init__() missing 3 required positional arguments: 'train_df', 'val_df', and 'test_df'",
     "output_type": "error",
     "traceback": [
      "\u001b[0;31m---------------------------------------------------------------------------\u001b[0m",
      "\u001b[0;31mTypeError\u001b[0m                                 Traceback (most recent call last)",
      "\u001b[0;32m<ipython-input-69-32a1b09affb2>\u001b[0m in \u001b[0;36m<module>\u001b[0;34m\u001b[0m\n\u001b[1;32m      1\u001b[0m \u001b[0mOUT_STEPS\u001b[0m \u001b[0;34m=\u001b[0m \u001b[0;36m24\u001b[0m\u001b[0;34m\u001b[0m\u001b[0;34m\u001b[0m\u001b[0m\n\u001b[0;32m----> 2\u001b[0;31m multi_window = WindowGenerator(input_width=24,\n\u001b[0m\u001b[1;32m      3\u001b[0m                                \u001b[0mlabel_width\u001b[0m\u001b[0;34m=\u001b[0m\u001b[0mOUT_STEPS\u001b[0m\u001b[0;34m,\u001b[0m\u001b[0;34m\u001b[0m\u001b[0;34m\u001b[0m\u001b[0m\n\u001b[1;32m      4\u001b[0m                                shift=OUT_STEPS)\n",
      "\u001b[0;31mTypeError\u001b[0m: __init__() missing 3 required positional arguments: 'train_df', 'val_df', and 'test_df'"
     ]
    }
   ],
   "source": [
    "OUT_STEPS = 24\n",
    "multi_window = WindowGenerator(input_width=24,\n",
    "                               label_width=OUT_STEPS,\n",
    "                               shift=OUT_STEPS)\n"
   ]
  },
  {
   "cell_type": "code",
   "execution_count": 19,
   "metadata": {},
   "outputs": [
    {
     "data": {
      "text/plain": [
       "Datetime     0\n",
       "Valeur      20\n",
       "dtype: int64"
      ]
     },
     "execution_count": 19,
     "metadata": {},
     "output_type": "execute_result"
    }
   ],
   "source": [
    "df_cons.isna().sum()"
   ]
  },
  {
   "cell_type": "code",
   "execution_count": 20,
   "metadata": {},
   "outputs": [
    {
     "data": {
      "text/plain": [
       "Datetime             0\n",
       "Temperatures (°C)    0\n",
       "dtype: int64"
      ]
     },
     "execution_count": 20,
     "metadata": {},
     "output_type": "execute_result"
    }
   ],
   "source": [
    "df_temp.isna().sum()"
   ]
  },
  {
   "cell_type": "code",
   "execution_count": 16,
   "metadata": {},
   "outputs": [],
   "source": [
    "import pandas as pd\n",
    "df_cons = pd.read_csv('./Consumption_15min.csv')\n",
    "df_temp = pd.read_csv('./Temp_15min.csv')"
   ]
  },
  {
   "cell_type": "code",
   "execution_count": 9,
   "metadata": {},
   "outputs": [
    {
     "data": {
      "text/html": [
       "<div>\n",
       "<style scoped>\n",
       "    .dataframe tbody tr th:only-of-type {\n",
       "        vertical-align: middle;\n",
       "    }\n",
       "\n",
       "    .dataframe tbody tr th {\n",
       "        vertical-align: top;\n",
       "    }\n",
       "\n",
       "    .dataframe thead th {\n",
       "        text-align: right;\n",
       "    }\n",
       "</style>\n",
       "<table border=\"1\" class=\"dataframe\">\n",
       "  <thead>\n",
       "    <tr style=\"text-align: right;\">\n",
       "      <th></th>\n",
       "      <th>Datetime</th>\n",
       "      <th>Valeur</th>\n",
       "    </tr>\n",
       "  </thead>\n",
       "  <tbody>\n",
       "    <tr>\n",
       "      <th>0</th>\n",
       "      <td>2014-12-06 00:00:00</td>\n",
       "      <td>7.14</td>\n",
       "    </tr>\n",
       "    <tr>\n",
       "      <th>1</th>\n",
       "      <td>2014-12-06 00:15:00</td>\n",
       "      <td>7.56</td>\n",
       "    </tr>\n",
       "    <tr>\n",
       "      <th>2</th>\n",
       "      <td>2014-12-06 00:30:00</td>\n",
       "      <td>6.72</td>\n",
       "    </tr>\n",
       "    <tr>\n",
       "      <th>3</th>\n",
       "      <td>2014-12-06 00:45:00</td>\n",
       "      <td>6.93</td>\n",
       "    </tr>\n",
       "    <tr>\n",
       "      <th>4</th>\n",
       "      <td>2014-12-06 01:00:00</td>\n",
       "      <td>7.14</td>\n",
       "    </tr>\n",
       "    <tr>\n",
       "      <th>...</th>\n",
       "      <td>...</td>\n",
       "      <td>...</td>\n",
       "    </tr>\n",
       "    <tr>\n",
       "      <th>177787</th>\n",
       "      <td>2019-12-31 22:45:00</td>\n",
       "      <td>3.78</td>\n",
       "    </tr>\n",
       "    <tr>\n",
       "      <th>177788</th>\n",
       "      <td>2019-12-31 23:00:00</td>\n",
       "      <td>3.99</td>\n",
       "    </tr>\n",
       "    <tr>\n",
       "      <th>177789</th>\n",
       "      <td>2019-12-31 23:15:00</td>\n",
       "      <td>3.78</td>\n",
       "    </tr>\n",
       "    <tr>\n",
       "      <th>177790</th>\n",
       "      <td>2019-12-31 23:30:00</td>\n",
       "      <td>3.78</td>\n",
       "    </tr>\n",
       "    <tr>\n",
       "      <th>177791</th>\n",
       "      <td>2019-12-31 23:45:00</td>\n",
       "      <td>3.78</td>\n",
       "    </tr>\n",
       "  </tbody>\n",
       "</table>\n",
       "<p>177792 rows × 2 columns</p>\n",
       "</div>"
      ],
      "text/plain": [
       "                   Datetime  Valeur\n",
       "0       2014-12-06 00:00:00    7.14\n",
       "1       2014-12-06 00:15:00    7.56\n",
       "2       2014-12-06 00:30:00    6.72\n",
       "3       2014-12-06 00:45:00    6.93\n",
       "4       2014-12-06 01:00:00    7.14\n",
       "...                     ...     ...\n",
       "177787  2019-12-31 22:45:00    3.78\n",
       "177788  2019-12-31 23:00:00    3.99\n",
       "177789  2019-12-31 23:15:00    3.78\n",
       "177790  2019-12-31 23:30:00    3.78\n",
       "177791  2019-12-31 23:45:00    3.78\n",
       "\n",
       "[177792 rows x 2 columns]"
      ]
     },
     "execution_count": 9,
     "metadata": {},
     "output_type": "execute_result"
    }
   ],
   "source": [
    "def predict_n_ahead(self, n_ahead: int):\n",
    "    \"\"\"\n",
    "    A method to predict n time steps ahead\n",
    "    \"\"\"    \n",
    "    X, _, _, _, _, _ = self.create_data_for_NN(use_last_n=self.lag2)   \n",
    "    print(X.shape)\n",
    "\n",
    "    # Making the prediction list \n",
    "    yhat = []\n",
    "\n",
    "    for _ in range(n_ahead):\n",
    "        # Making the prediction\n",
    "        fc = self.model.predict(X)\n",
    "        print('fc is')\n",
    "        print(fc.shape)\n",
    "        yhat.append(fc)\n",
    "\n",
    "        for i in range(len(ts) - lag):\n",
    "            Y.append(ts[i + lag])\n",
    "            # Substacted 96 for not knowing the day before\n",
    "            ab = list(itertools.chain([ts[i+lag - lag]], [ts[i+lag - lag2]], [holiday[i + lag]], [hour_cos[i + lag]], [hour_sin[i + lag]], [week_cos[i + lag]], [week_sin[i + lag]], [month_cos[i + lag]], [month_sin[i + lag]], [minute_cos[i + lag]], [minute_sin[i + lag]]))\n",
    "            X.append(ab)\n",
    "\n",
    "        # Creating a new input matrix for forecasting\n",
    "        X = np.append(X, fc)\n",
    "\n",
    "        # Ommiting the first variable\n",
    "        X = np.delete(X, range(self.lag2))\n",
    "\n",
    "        # Reshaping for the next iteration\n",
    "        X = np.reshape(X, (X.shape[0], 1, 11))\n",
    "        #(X.shape[0], 1, X.shape[1])\n",
    "        print(X.shape)\n",
    "    yhat = [y[0][0] for y in yhat]\n",
    "    return yhat "
   ]
  },
  {
   "cell_type": "code",
   "execution_count": 89,
   "metadata": {},
   "outputs": [
    {
     "data": {
      "text/html": [
       "<div>\n",
       "<style scoped>\n",
       "    .dataframe tbody tr th:only-of-type {\n",
       "        vertical-align: middle;\n",
       "    }\n",
       "\n",
       "    .dataframe tbody tr th {\n",
       "        vertical-align: top;\n",
       "    }\n",
       "\n",
       "    .dataframe thead th {\n",
       "        text-align: right;\n",
       "    }\n",
       "</style>\n",
       "<table border=\"1\" class=\"dataframe\">\n",
       "  <thead>\n",
       "    <tr style=\"text-align: right;\">\n",
       "      <th></th>\n",
       "      <th>Valeur</th>\n",
       "    </tr>\n",
       "    <tr>\n",
       "      <th>Date</th>\n",
       "      <th></th>\n",
       "    </tr>\n",
       "  </thead>\n",
       "  <tbody>\n",
       "    <tr>\n",
       "      <th>2014-01-06 02:00:00</th>\n",
       "      <td>6.51</td>\n",
       "    </tr>\n",
       "    <tr>\n",
       "      <th>2014-01-06 02:15:00</th>\n",
       "      <td>6.51</td>\n",
       "    </tr>\n",
       "    <tr>\n",
       "      <th>2014-01-06 02:30:00</th>\n",
       "      <td>6.72</td>\n",
       "    </tr>\n",
       "    <tr>\n",
       "      <th>2014-01-06 02:45:00</th>\n",
       "      <td>6.51</td>\n",
       "    </tr>\n",
       "    <tr>\n",
       "      <th>2014-01-06 03:00:00</th>\n",
       "      <td>6.93</td>\n",
       "    </tr>\n",
       "    <tr>\n",
       "      <th>...</th>\n",
       "      <td>...</td>\n",
       "    </tr>\n",
       "    <tr>\n",
       "      <th>2020-06-30 23:00:00</th>\n",
       "      <td>5.04</td>\n",
       "    </tr>\n",
       "    <tr>\n",
       "      <th>2020-06-30 23:15:00</th>\n",
       "      <td>3.36</td>\n",
       "    </tr>\n",
       "    <tr>\n",
       "      <th>2020-06-30 23:30:00</th>\n",
       "      <td>3.36</td>\n",
       "    </tr>\n",
       "    <tr>\n",
       "      <th>2020-06-30 23:45:00</th>\n",
       "      <td>4.20</td>\n",
       "    </tr>\n",
       "    <tr>\n",
       "      <th>2020-01-07 00:00:00</th>\n",
       "      <td>3.57</td>\n",
       "    </tr>\n",
       "  </tbody>\n",
       "</table>\n",
       "<p>213305 rows × 1 columns</p>\n",
       "</div>"
      ],
      "text/plain": [
       "                     Valeur\n",
       "Date                       \n",
       "2014-01-06 02:00:00    6.51\n",
       "2014-01-06 02:15:00    6.51\n",
       "2014-01-06 02:30:00    6.72\n",
       "2014-01-06 02:45:00    6.51\n",
       "2014-01-06 03:00:00    6.93\n",
       "...                     ...\n",
       "2020-06-30 23:00:00    5.04\n",
       "2020-06-30 23:15:00    3.36\n",
       "2020-06-30 23:30:00    3.36\n",
       "2020-06-30 23:45:00    4.20\n",
       "2020-01-07 00:00:00    3.57\n",
       "\n",
       "[213305 rows x 1 columns]"
      ]
     },
     "execution_count": 89,
     "metadata": {},
     "output_type": "execute_result"
    }
   ],
   "source": [
    "data1 = pd.read_pickle('Building-1-Roulart Media Group/building_1_cnsumptions.pkl')\n",
    "data1.index = pd.to_datetime(data1.index)\n",
    "#data1['Datetime'] = data1.index\n",
    "data1"
   ]
  },
  {
   "cell_type": "code",
   "execution_count": 90,
   "metadata": {},
   "outputs": [],
   "source": [
    "data1 = data1.sort_index()\n",
    "data1 = data1.groupby(data1.index)['Valeur'].mean()\n",
    "data1 = data1.loc[:'2020']\n"
   ]
  },
  {
   "cell_type": "code",
   "execution_count": 42,
   "metadata": {},
   "outputs": [
    {
     "name": "stdout",
     "output_type": "stream",
     "text": [
      "[[ 2  3 84]\n",
      " [ 3 84  5]\n",
      " [84  5  1]\n",
      " [ 5  1 54]\n",
      " [ 1 54  2]\n",
      " [54  2 45]\n",
      " [ 2 45 34]]\n"
     ]
    }
   ],
   "source": [
    "print(X)"
   ]
  },
  {
   "cell_type": "code",
   "execution_count": null,
   "metadata": {},
   "outputs": [],
   "source": []
  }
 ],
 "metadata": {
  "kernelspec": {
   "display_name": "Python 3",
   "language": "python",
   "name": "python3"
  },
  "language_info": {
   "codemirror_mode": {
    "name": "ipython",
    "version": 3
   },
   "file_extension": ".py",
   "mimetype": "text/x-python",
   "name": "python",
   "nbconvert_exporter": "python",
   "pygments_lexer": "ipython3",
   "version": "3.8.3"
  }
 },
 "nbformat": 4,
 "nbformat_minor": 4
}
