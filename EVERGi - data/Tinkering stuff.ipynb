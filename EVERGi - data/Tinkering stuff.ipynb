{
 "cells": [
  {
   "cell_type": "code",
   "execution_count": 43,
   "metadata": {},
   "outputs": [],
   "source": [
    "import numpy as np\n",
    "import itertools\n",
    "\n",
    "X, Y = [], []\n",
    "\n",
    "ts = [2,3,84,5,1,54,2,45,34,78]\n",
    "lag = 3\n",
    "\n",
    "if len(ts) - lag <= 0:\n",
    "    X.append(ts)\n",
    "else:\n",
    "    for i in range(len(ts) - lag):\n",
    "        Y.append(ts[i + lag])\n",
    "        # Substacted 96 for not knowing the day before\n",
    "        #ab = list(itertools.chain(ts[i:(i + lag)], [2,3]))\n",
    "        #X.append(ab)\n",
    "        X.append(ts[i:(i + lag)])\n",
    "    \n",
    "#X = list(X)\n",
    "X, Y = np.array(X), np.array(Y)\n",
    "\n",
    "# Reshaping the X array to an LSTM input shape \n",
    "X = np.reshape(X, (1, X.shape[0], X.shape[1]))"
   ]
  },
  {
   "cell_type": "code",
   "execution_count": 44,
   "metadata": {},
   "outputs": [
    {
     "name": "stdout",
     "output_type": "stream",
     "text": [
      "(1, 7, 3)\n"
     ]
    }
   ],
   "source": [
    "print(X.shape)"
   ]
  },
  {
   "cell_type": "code",
   "execution_count": 42,
   "metadata": {},
   "outputs": [
    {
     "name": "stdout",
     "output_type": "stream",
     "text": [
      "[[ 2  3 84]\n",
      " [ 3 84  5]\n",
      " [84  5  1]\n",
      " [ 5  1 54]\n",
      " [ 1 54  2]\n",
      " [54  2 45]\n",
      " [ 2 45 34]]\n"
     ]
    }
   ],
   "source": [
    "print(X)"
   ]
  },
  {
   "cell_type": "code",
   "execution_count": null,
   "metadata": {},
   "outputs": [],
   "source": []
  }
 ],
 "metadata": {
  "kernelspec": {
   "display_name": "Python 3",
   "language": "python",
   "name": "python3"
  },
  "language_info": {
   "codemirror_mode": {
    "name": "ipython",
    "version": 3
   },
   "file_extension": ".py",
   "mimetype": "text/x-python",
   "name": "python",
   "nbconvert_exporter": "python",
   "pygments_lexer": "ipython3",
   "version": "3.8.5"
  }
 },
 "nbformat": 4,
 "nbformat_minor": 4
}
