{
 "cells": [
  {
   "cell_type": "code",
   "execution_count": 43,
   "metadata": {},
   "outputs": [],
   "source": [
    "import numpy as np\n",
    "import itertools\n",
    "\n",
    "X, Y = [], []\n",
    "\n",
    "ts = [2,3,84,5,1,54,2,45,34,78]\n",
    "lag = 3\n",
    "\n",
    "if len(ts) - lag <= 0:\n",
    "    X.append(ts)\n",
    "else:\n",
    "    for i in range(len(ts) - lag):\n",
    "        Y.append(ts[i + lag])\n",
    "        # Substacted 96 for not knowing the day before\n",
    "        #ab = list(itertools.chain(ts[i:(i + lag)], [2,3]))\n",
    "        #X.append(ab)\n",
    "        X.append(ts[i:(i + lag)])\n",
    "    \n",
    "#X = list(X)\n",
    "X, Y = np.array(X), np.array(Y)\n",
    "\n",
    "# Reshaping the X array to an LSTM input shape \n",
    "X = np.reshape(X, (1, X.shape[0], X.shape[1]))"
   ]
  },
  {
   "cell_type": "code",
   "execution_count": 16,
   "metadata": {},
   "outputs": [],
   "source": [
    "import pandas as pd\n",
    "df_cons = pd.read_csv('./Consumption_15min.csv')\n",
    "df_temp = pd.read_csv('./Temp_15min.csv')"
   ]
  },
  {
   "cell_type": "code",
   "execution_count": 17,
   "metadata": {},
   "outputs": [
    {
     "data": {
      "text/plain": [
       "(177792, 2)"
      ]
     },
     "execution_count": 17,
     "metadata": {},
     "output_type": "execute_result"
    }
   ],
   "source": [
    "df_cons.shape"
   ]
  },
  {
   "cell_type": "code",
   "execution_count": 18,
   "metadata": {},
   "outputs": [
    {
     "data": {
      "text/plain": [
       "(177792, 2)"
      ]
     },
     "execution_count": 18,
     "metadata": {},
     "output_type": "execute_result"
    }
   ],
   "source": [
    "df_temp.shape"
   ]
  },
  {
   "cell_type": "code",
   "execution_count": 9,
   "metadata": {},
   "outputs": [
    {
     "data": {
      "text/html": [
       "<div>\n",
       "<style scoped>\n",
       "    .dataframe tbody tr th:only-of-type {\n",
       "        vertical-align: middle;\n",
       "    }\n",
       "\n",
       "    .dataframe tbody tr th {\n",
       "        vertical-align: top;\n",
       "    }\n",
       "\n",
       "    .dataframe thead th {\n",
       "        text-align: right;\n",
       "    }\n",
       "</style>\n",
       "<table border=\"1\" class=\"dataframe\">\n",
       "  <thead>\n",
       "    <tr style=\"text-align: right;\">\n",
       "      <th></th>\n",
       "      <th>Datetime</th>\n",
       "      <th>Valeur</th>\n",
       "    </tr>\n",
       "  </thead>\n",
       "  <tbody>\n",
       "    <tr>\n",
       "      <th>0</th>\n",
       "      <td>2014-12-06 00:00:00</td>\n",
       "      <td>7.14</td>\n",
       "    </tr>\n",
       "    <tr>\n",
       "      <th>1</th>\n",
       "      <td>2014-12-06 00:15:00</td>\n",
       "      <td>7.56</td>\n",
       "    </tr>\n",
       "    <tr>\n",
       "      <th>2</th>\n",
       "      <td>2014-12-06 00:30:00</td>\n",
       "      <td>6.72</td>\n",
       "    </tr>\n",
       "    <tr>\n",
       "      <th>3</th>\n",
       "      <td>2014-12-06 00:45:00</td>\n",
       "      <td>6.93</td>\n",
       "    </tr>\n",
       "    <tr>\n",
       "      <th>4</th>\n",
       "      <td>2014-12-06 01:00:00</td>\n",
       "      <td>7.14</td>\n",
       "    </tr>\n",
       "    <tr>\n",
       "      <th>...</th>\n",
       "      <td>...</td>\n",
       "      <td>...</td>\n",
       "    </tr>\n",
       "    <tr>\n",
       "      <th>177787</th>\n",
       "      <td>2019-12-31 22:45:00</td>\n",
       "      <td>3.78</td>\n",
       "    </tr>\n",
       "    <tr>\n",
       "      <th>177788</th>\n",
       "      <td>2019-12-31 23:00:00</td>\n",
       "      <td>3.99</td>\n",
       "    </tr>\n",
       "    <tr>\n",
       "      <th>177789</th>\n",
       "      <td>2019-12-31 23:15:00</td>\n",
       "      <td>3.78</td>\n",
       "    </tr>\n",
       "    <tr>\n",
       "      <th>177790</th>\n",
       "      <td>2019-12-31 23:30:00</td>\n",
       "      <td>3.78</td>\n",
       "    </tr>\n",
       "    <tr>\n",
       "      <th>177791</th>\n",
       "      <td>2019-12-31 23:45:00</td>\n",
       "      <td>3.78</td>\n",
       "    </tr>\n",
       "  </tbody>\n",
       "</table>\n",
       "<p>177792 rows × 2 columns</p>\n",
       "</div>"
      ],
      "text/plain": [
       "                   Datetime  Valeur\n",
       "0       2014-12-06 00:00:00    7.14\n",
       "1       2014-12-06 00:15:00    7.56\n",
       "2       2014-12-06 00:30:00    6.72\n",
       "3       2014-12-06 00:45:00    6.93\n",
       "4       2014-12-06 01:00:00    7.14\n",
       "...                     ...     ...\n",
       "177787  2019-12-31 22:45:00    3.78\n",
       "177788  2019-12-31 23:00:00    3.99\n",
       "177789  2019-12-31 23:15:00    3.78\n",
       "177790  2019-12-31 23:30:00    3.78\n",
       "177791  2019-12-31 23:45:00    3.78\n",
       "\n",
       "[177792 rows x 2 columns]"
      ]
     },
     "execution_count": 9,
     "metadata": {},
     "output_type": "execute_result"
    }
   ],
   "source": [
    "df_cons"
   ]
  },
  {
   "cell_type": "code",
   "execution_count": 10,
   "metadata": {},
   "outputs": [
    {
     "data": {
      "text/html": [
       "<div>\n",
       "<style scoped>\n",
       "    .dataframe tbody tr th:only-of-type {\n",
       "        vertical-align: middle;\n",
       "    }\n",
       "\n",
       "    .dataframe tbody tr th {\n",
       "        vertical-align: top;\n",
       "    }\n",
       "\n",
       "    .dataframe thead th {\n",
       "        text-align: right;\n",
       "    }\n",
       "</style>\n",
       "<table border=\"1\" class=\"dataframe\">\n",
       "  <thead>\n",
       "    <tr style=\"text-align: right;\">\n",
       "      <th></th>\n",
       "      <th>time</th>\n",
       "      <th>Temperatures (°C)</th>\n",
       "    </tr>\n",
       "  </thead>\n",
       "  <tbody>\n",
       "    <tr>\n",
       "      <th>0</th>\n",
       "      <td>2014-12-06 00:00:00</td>\n",
       "      <td>4.265863</td>\n",
       "    </tr>\n",
       "    <tr>\n",
       "      <th>1</th>\n",
       "      <td>2014-12-06 00:15:00</td>\n",
       "      <td>4.265863</td>\n",
       "    </tr>\n",
       "    <tr>\n",
       "      <th>2</th>\n",
       "      <td>2014-12-06 00:30:00</td>\n",
       "      <td>4.265863</td>\n",
       "    </tr>\n",
       "    <tr>\n",
       "      <th>3</th>\n",
       "      <td>2014-12-06 00:45:00</td>\n",
       "      <td>4.265863</td>\n",
       "    </tr>\n",
       "    <tr>\n",
       "      <th>4</th>\n",
       "      <td>2014-12-06 01:00:00</td>\n",
       "      <td>4.289362</td>\n",
       "    </tr>\n",
       "    <tr>\n",
       "      <th>...</th>\n",
       "      <td>...</td>\n",
       "      <td>...</td>\n",
       "    </tr>\n",
       "    <tr>\n",
       "      <th>177784</th>\n",
       "      <td>2019-12-31 22:00:00</td>\n",
       "      <td>3.519647</td>\n",
       "    </tr>\n",
       "    <tr>\n",
       "      <th>177785</th>\n",
       "      <td>2019-12-31 22:15:00</td>\n",
       "      <td>3.519647</td>\n",
       "    </tr>\n",
       "    <tr>\n",
       "      <th>177786</th>\n",
       "      <td>2019-12-31 22:30:00</td>\n",
       "      <td>3.519647</td>\n",
       "    </tr>\n",
       "    <tr>\n",
       "      <th>177787</th>\n",
       "      <td>2019-12-31 22:45:00</td>\n",
       "      <td>3.519647</td>\n",
       "    </tr>\n",
       "    <tr>\n",
       "      <th>177788</th>\n",
       "      <td>2019-12-31 23:00:00</td>\n",
       "      <td>2.955377</td>\n",
       "    </tr>\n",
       "  </tbody>\n",
       "</table>\n",
       "<p>177789 rows × 2 columns</p>\n",
       "</div>"
      ],
      "text/plain": [
       "                       time  Temperatures (°C)\n",
       "0       2014-12-06 00:00:00           4.265863\n",
       "1       2014-12-06 00:15:00           4.265863\n",
       "2       2014-12-06 00:30:00           4.265863\n",
       "3       2014-12-06 00:45:00           4.265863\n",
       "4       2014-12-06 01:00:00           4.289362\n",
       "...                     ...                ...\n",
       "177784  2019-12-31 22:00:00           3.519647\n",
       "177785  2019-12-31 22:15:00           3.519647\n",
       "177786  2019-12-31 22:30:00           3.519647\n",
       "177787  2019-12-31 22:45:00           3.519647\n",
       "177788  2019-12-31 23:00:00           2.955377\n",
       "\n",
       "[177789 rows x 2 columns]"
      ]
     },
     "execution_count": 10,
     "metadata": {},
     "output_type": "execute_result"
    }
   ],
   "source": [
    "df_temp"
   ]
  },
  {
   "cell_type": "code",
   "execution_count": 44,
   "metadata": {},
   "outputs": [
    {
     "name": "stdout",
     "output_type": "stream",
     "text": [
      "(1, 7, 3)\n"
     ]
    }
   ],
   "source": [
    "print(X.shape)"
   ]
  },
  {
   "cell_type": "code",
   "execution_count": 42,
   "metadata": {},
   "outputs": [
    {
     "name": "stdout",
     "output_type": "stream",
     "text": [
      "[[ 2  3 84]\n",
      " [ 3 84  5]\n",
      " [84  5  1]\n",
      " [ 5  1 54]\n",
      " [ 1 54  2]\n",
      " [54  2 45]\n",
      " [ 2 45 34]]\n"
     ]
    }
   ],
   "source": [
    "print(X)"
   ]
  },
  {
   "cell_type": "code",
   "execution_count": null,
   "metadata": {},
   "outputs": [],
   "source": []
  }
 ],
 "metadata": {
  "kernelspec": {
   "display_name": "Python 3",
   "language": "python",
   "name": "python3"
  },
  "language_info": {
   "codemirror_mode": {
    "name": "ipython",
    "version": 3
   },
   "file_extension": ".py",
   "mimetype": "text/x-python",
   "name": "python",
   "nbconvert_exporter": "python",
   "pygments_lexer": "ipython3",
   "version": "3.8.3"
  }
 },
 "nbformat": 4,
 "nbformat_minor": 4
}
