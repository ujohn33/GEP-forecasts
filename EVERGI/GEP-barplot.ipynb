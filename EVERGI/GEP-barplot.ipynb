{
 "cells": [
  {
   "cell_type": "code",
   "execution_count": 3,
   "metadata": {},
   "outputs": [],
   "source": [
    "import pandas as pd\n",
    "import matplotlib.pyplot as plt\n",
    "import seaborn as sns\n",
    "import numpy as np"
   ]
  },
  {
   "cell_type": "code",
   "execution_count": 11,
   "metadata": {},
   "outputs": [],
   "source": [
    "bench = pd.read_csv('results/GEP/baseline.csv', index_col=0)\n",
    "MIMO_full = pd.read_csv('results/GEP/fulldata10_LSTM.csv', index_col=0)\n",
    "temp = pd.read_csv('results/GEP/Temp_LSTM.csv', index_col=0)\n",
    "MIMO = pd.read_csv('results/GEP/LSTM_MIMO10.csv', index_col=0)\n",
    "condRNN = pd.read_csv('results/GEP/ConditionalRNN10_sequential.csv', index_col=0)\n",
    "datasets = [MIMO, condRNN, MIMO_full, temp, bench]"
   ]
  },
  {
   "cell_type": "code",
   "execution_count": 12,
   "metadata": {},
   "outputs": [],
   "source": [
    "#condRNN = condRNN.drop(condRNN.index[:11]).reset_index(drop=True)\n",
    "temp = temp.drop(temp.index[:1]).reset_index(drop=True)\n",
    "MIMO = MIMO.drop(MIMO.index[:1]).reset_index(drop=True)\n",
    "MIMO_full = MIMO_full.drop(MIMO_full.index[:1]).reset_index(drop=True)\n",
    "condRNN = condRNN.drop(condRNN.index[:1]).reset_index(drop=True)"
   ]
  },
  {
   "cell_type": "code",
   "execution_count": 17,
   "metadata": {},
   "outputs": [
    {
     "data": {
      "text/html": [
       "<div>\n",
       "<style scoped>\n",
       "    .dataframe tbody tr th:only-of-type {\n",
       "        vertical-align: middle;\n",
       "    }\n",
       "\n",
       "    .dataframe tbody tr th {\n",
       "        vertical-align: top;\n",
       "    }\n",
       "\n",
       "    .dataframe thead th {\n",
       "        text-align: right;\n",
       "    }\n",
       "</style>\n",
       "<table border=\"1\" class=\"dataframe\">\n",
       "  <thead>\n",
       "    <tr style=\"text-align: right;\">\n",
       "      <th></th>\n",
       "      <th>mae</th>\n",
       "      <th>mape</th>\n",
       "      <th>rmse</th>\n",
       "      <th>B</th>\n",
       "    </tr>\n",
       "  </thead>\n",
       "  <tbody>\n",
       "    <tr>\n",
       "      <th>10</th>\n",
       "      <td>1.347938</td>\n",
       "      <td>28.639441</td>\n",
       "      <td>1.818140</td>\n",
       "      <td>GEP2</td>\n",
       "    </tr>\n",
       "    <tr>\n",
       "      <th>11</th>\n",
       "      <td>1.317570</td>\n",
       "      <td>28.446746</td>\n",
       "      <td>1.768912</td>\n",
       "      <td>GEP2</td>\n",
       "    </tr>\n",
       "    <tr>\n",
       "      <th>12</th>\n",
       "      <td>1.282552</td>\n",
       "      <td>27.787181</td>\n",
       "      <td>1.738521</td>\n",
       "      <td>GEP2</td>\n",
       "    </tr>\n",
       "    <tr>\n",
       "      <th>13</th>\n",
       "      <td>1.253984</td>\n",
       "      <td>27.134305</td>\n",
       "      <td>1.713027</td>\n",
       "      <td>GEP2</td>\n",
       "    </tr>\n",
       "    <tr>\n",
       "      <th>14</th>\n",
       "      <td>1.250113</td>\n",
       "      <td>27.352786</td>\n",
       "      <td>1.686273</td>\n",
       "      <td>GEP2</td>\n",
       "    </tr>\n",
       "    <tr>\n",
       "      <th>15</th>\n",
       "      <td>1.263686</td>\n",
       "      <td>27.630522</td>\n",
       "      <td>1.711964</td>\n",
       "      <td>GEP2</td>\n",
       "    </tr>\n",
       "    <tr>\n",
       "      <th>16</th>\n",
       "      <td>1.235189</td>\n",
       "      <td>26.575893</td>\n",
       "      <td>1.704949</td>\n",
       "      <td>GEP2</td>\n",
       "    </tr>\n",
       "    <tr>\n",
       "      <th>17</th>\n",
       "      <td>1.270088</td>\n",
       "      <td>27.147242</td>\n",
       "      <td>1.750455</td>\n",
       "      <td>GEP2</td>\n",
       "    </tr>\n",
       "    <tr>\n",
       "      <th>18</th>\n",
       "      <td>1.272439</td>\n",
       "      <td>27.238020</td>\n",
       "      <td>1.756980</td>\n",
       "      <td>GEP2</td>\n",
       "    </tr>\n",
       "    <tr>\n",
       "      <th>19</th>\n",
       "      <td>1.252603</td>\n",
       "      <td>26.403586</td>\n",
       "      <td>1.753324</td>\n",
       "      <td>GEP2</td>\n",
       "    </tr>\n",
       "    <tr>\n",
       "      <th>20</th>\n",
       "      <td>2.010078</td>\n",
       "      <td>30.575804</td>\n",
       "      <td>2.967464</td>\n",
       "      <td>GEP4</td>\n",
       "    </tr>\n",
       "    <tr>\n",
       "      <th>21</th>\n",
       "      <td>1.964969</td>\n",
       "      <td>30.023315</td>\n",
       "      <td>2.954699</td>\n",
       "      <td>GEP4</td>\n",
       "    </tr>\n",
       "    <tr>\n",
       "      <th>22</th>\n",
       "      <td>2.082962</td>\n",
       "      <td>31.546888</td>\n",
       "      <td>3.132094</td>\n",
       "      <td>GEP4</td>\n",
       "    </tr>\n",
       "    <tr>\n",
       "      <th>23</th>\n",
       "      <td>2.086536</td>\n",
       "      <td>32.111560</td>\n",
       "      <td>3.111308</td>\n",
       "      <td>GEP4</td>\n",
       "    </tr>\n",
       "    <tr>\n",
       "      <th>24</th>\n",
       "      <td>2.101669</td>\n",
       "      <td>32.159356</td>\n",
       "      <td>3.141624</td>\n",
       "      <td>GEP4</td>\n",
       "    </tr>\n",
       "    <tr>\n",
       "      <th>25</th>\n",
       "      <td>2.097473</td>\n",
       "      <td>31.844988</td>\n",
       "      <td>3.135301</td>\n",
       "      <td>GEP4</td>\n",
       "    </tr>\n",
       "    <tr>\n",
       "      <th>26</th>\n",
       "      <td>2.107051</td>\n",
       "      <td>32.300602</td>\n",
       "      <td>3.152084</td>\n",
       "      <td>GEP4</td>\n",
       "    </tr>\n",
       "    <tr>\n",
       "      <th>27</th>\n",
       "      <td>2.123505</td>\n",
       "      <td>32.557139</td>\n",
       "      <td>3.175063</td>\n",
       "      <td>GEP4</td>\n",
       "    </tr>\n",
       "    <tr>\n",
       "      <th>28</th>\n",
       "      <td>2.153891</td>\n",
       "      <td>33.119041</td>\n",
       "      <td>3.207185</td>\n",
       "      <td>GEP4</td>\n",
       "    </tr>\n",
       "    <tr>\n",
       "      <th>29</th>\n",
       "      <td>2.141651</td>\n",
       "      <td>32.824076</td>\n",
       "      <td>3.191240</td>\n",
       "      <td>GEP4</td>\n",
       "    </tr>\n",
       "  </tbody>\n",
       "</table>\n",
       "</div>"
      ],
      "text/plain": [
       "         mae       mape      rmse     B\n",
       "10  1.347938  28.639441  1.818140  GEP2\n",
       "11  1.317570  28.446746  1.768912  GEP2\n",
       "12  1.282552  27.787181  1.738521  GEP2\n",
       "13  1.253984  27.134305  1.713027  GEP2\n",
       "14  1.250113  27.352786  1.686273  GEP2\n",
       "15  1.263686  27.630522  1.711964  GEP2\n",
       "16  1.235189  26.575893  1.704949  GEP2\n",
       "17  1.270088  27.147242  1.750455  GEP2\n",
       "18  1.272439  27.238020  1.756980  GEP2\n",
       "19  1.252603  26.403586  1.753324  GEP2\n",
       "20  2.010078  30.575804  2.967464  GEP4\n",
       "21  1.964969  30.023315  2.954699  GEP4\n",
       "22  2.082962  31.546888  3.132094  GEP4\n",
       "23  2.086536  32.111560  3.111308  GEP4\n",
       "24  2.101669  32.159356  3.141624  GEP4\n",
       "25  2.097473  31.844988  3.135301  GEP4\n",
       "26  2.107051  32.300602  3.152084  GEP4\n",
       "27  2.123505  32.557139  3.175063  GEP4\n",
       "28  2.153891  33.119041  3.207185  GEP4\n",
       "29  2.141651  32.824076  3.191240  GEP4"
      ]
     },
     "execution_count": 17,
     "metadata": {},
     "output_type": "execute_result"
    }
   ],
   "source": [
    "condRNN.tail(20)"
   ]
  },
  {
   "cell_type": "code",
   "execution_count": 46,
   "metadata": {},
   "outputs": [],
   "source": [
    "means = []\n",
    "stds = []\n",
    "datasets2 = [MIMO, condRNN, MIMO_full, bench]\n",
    "#means.append(35.58681558224254)\n",
    "#stds.append(0)\n",
    "for df in datasets2:\n",
    "    #means.append(df['mape'].mean())\n",
    "    #stds.append(df['mape'].std())\n",
    "    means.append(df['rmse'].mean())\n",
    "    stds.append(df['rmse'].mean())"
   ]
  },
  {
   "cell_type": "code",
   "execution_count": 47,
   "metadata": {},
   "outputs": [
    {
     "data": {
      "text/plain": [
       "[4.178946466231139, 3.473690737291912, 3.2187884393455795, 3.6441788334682266]"
      ]
     },
     "execution_count": 47,
     "metadata": {},
     "output_type": "execute_result"
    }
   ],
   "source": [
    "means"
   ]
  },
  {
   "cell_type": "code",
   "execution_count": 14,
   "metadata": {},
   "outputs": [
    {
     "ename": "KeyError",
     "evalue": "'Column not found: mape'",
     "output_type": "error",
     "traceback": [
      "\u001b[0;31m---------------------------------------------------------------------------\u001b[0m",
      "\u001b[0;31mKeyError\u001b[0m                                  Traceback (most recent call last)",
      "\u001b[0;32m<ipython-input-14-e97e94ce851b>\u001b[0m in \u001b[0;36m<module>\u001b[0;34m\u001b[0m\n\u001b[1;32m      4\u001b[0m \u001b[0mx\u001b[0m \u001b[0;34m=\u001b[0m \u001b[0mnp\u001b[0m\u001b[0;34m.\u001b[0m\u001b[0marray\u001b[0m\u001b[0;34m(\u001b[0m\u001b[0mrange\u001b[0m\u001b[0;34m(\u001b[0m\u001b[0;36m1\u001b[0m\u001b[0;34m,\u001b[0m\u001b[0;36m7\u001b[0m\u001b[0;34m,\u001b[0m\u001b[0;36m2\u001b[0m\u001b[0;34m)\u001b[0m\u001b[0;34m)\u001b[0m\u001b[0;34m\u001b[0m\u001b[0;34m\u001b[0m\u001b[0m\n\u001b[1;32m      5\u001b[0m \u001b[0;32mfor\u001b[0m \u001b[0mi\u001b[0m\u001b[0;34m,\u001b[0m\u001b[0mdf\u001b[0m \u001b[0;32min\u001b[0m \u001b[0menumerate\u001b[0m\u001b[0;34m(\u001b[0m\u001b[0mdatasets\u001b[0m\u001b[0;34m)\u001b[0m\u001b[0;34m:\u001b[0m\u001b[0;34m\u001b[0m\u001b[0;34m\u001b[0m\u001b[0m\n\u001b[0;32m----> 6\u001b[0;31m     \u001b[0mmeans\u001b[0m \u001b[0;34m=\u001b[0m \u001b[0mdf\u001b[0m\u001b[0;34m.\u001b[0m\u001b[0mgroupby\u001b[0m\u001b[0;34m(\u001b[0m\u001b[0;34m'B'\u001b[0m\u001b[0;34m)\u001b[0m\u001b[0;34m[\u001b[0m\u001b[0;34m'mape'\u001b[0m\u001b[0;34m]\u001b[0m\u001b[0;34m.\u001b[0m\u001b[0mmean\u001b[0m\u001b[0;34m(\u001b[0m\u001b[0;34m)\u001b[0m\u001b[0;34m\u001b[0m\u001b[0;34m\u001b[0m\u001b[0m\n\u001b[0m\u001b[1;32m      7\u001b[0m     \u001b[0mstds\u001b[0m \u001b[0;34m=\u001b[0m \u001b[0mdf\u001b[0m\u001b[0;34m.\u001b[0m\u001b[0mgroupby\u001b[0m\u001b[0;34m(\u001b[0m\u001b[0;34m'B'\u001b[0m\u001b[0;34m)\u001b[0m\u001b[0;34m[\u001b[0m\u001b[0;34m'mape'\u001b[0m\u001b[0;34m]\u001b[0m\u001b[0;34m.\u001b[0m\u001b[0mstd\u001b[0m\u001b[0;34m(\u001b[0m\u001b[0;34m)\u001b[0m\u001b[0;34m\u001b[0m\u001b[0;34m\u001b[0m\u001b[0m\n\u001b[1;32m      8\u001b[0m     \u001b[0;32mif\u001b[0m \u001b[0mi\u001b[0m \u001b[0;34m==\u001b[0m \u001b[0;36m3\u001b[0m\u001b[0;34m:\u001b[0m\u001b[0;34m\u001b[0m\u001b[0;34m\u001b[0m\u001b[0m\n",
      "\u001b[0;32m~/anaconda3/envs/evgeny/lib/python3.8/site-packages/pandas/core/groupby/generic.py\u001b[0m in \u001b[0;36m__getitem__\u001b[0;34m(self, key)\u001b[0m\n\u001b[1;32m   1646\u001b[0m                 \u001b[0mstacklevel\u001b[0m\u001b[0;34m=\u001b[0m\u001b[0;36m2\u001b[0m\u001b[0;34m,\u001b[0m\u001b[0;34m\u001b[0m\u001b[0;34m\u001b[0m\u001b[0m\n\u001b[1;32m   1647\u001b[0m             )\n\u001b[0;32m-> 1648\u001b[0;31m         \u001b[0;32mreturn\u001b[0m \u001b[0msuper\u001b[0m\u001b[0;34m(\u001b[0m\u001b[0;34m)\u001b[0m\u001b[0;34m.\u001b[0m\u001b[0m__getitem__\u001b[0m\u001b[0;34m(\u001b[0m\u001b[0mkey\u001b[0m\u001b[0;34m)\u001b[0m\u001b[0;34m\u001b[0m\u001b[0;34m\u001b[0m\u001b[0m\n\u001b[0m\u001b[1;32m   1649\u001b[0m \u001b[0;34m\u001b[0m\u001b[0m\n\u001b[1;32m   1650\u001b[0m     \u001b[0;32mdef\u001b[0m \u001b[0m_gotitem\u001b[0m\u001b[0;34m(\u001b[0m\u001b[0mself\u001b[0m\u001b[0;34m,\u001b[0m \u001b[0mkey\u001b[0m\u001b[0;34m,\u001b[0m \u001b[0mndim\u001b[0m\u001b[0;34m:\u001b[0m \u001b[0mint\u001b[0m\u001b[0;34m,\u001b[0m \u001b[0msubset\u001b[0m\u001b[0;34m=\u001b[0m\u001b[0;32mNone\u001b[0m\u001b[0;34m)\u001b[0m\u001b[0;34m:\u001b[0m\u001b[0;34m\u001b[0m\u001b[0;34m\u001b[0m\u001b[0m\n",
      "\u001b[0;32m~/anaconda3/envs/evgeny/lib/python3.8/site-packages/pandas/core/base.py\u001b[0m in \u001b[0;36m__getitem__\u001b[0;34m(self, key)\u001b[0m\n\u001b[1;32m    226\u001b[0m         \u001b[0;32melse\u001b[0m\u001b[0;34m:\u001b[0m\u001b[0;34m\u001b[0m\u001b[0;34m\u001b[0m\u001b[0m\n\u001b[1;32m    227\u001b[0m             \u001b[0;32mif\u001b[0m \u001b[0mkey\u001b[0m \u001b[0;32mnot\u001b[0m \u001b[0;32min\u001b[0m \u001b[0mself\u001b[0m\u001b[0;34m.\u001b[0m\u001b[0mobj\u001b[0m\u001b[0;34m:\u001b[0m\u001b[0;34m\u001b[0m\u001b[0;34m\u001b[0m\u001b[0m\n\u001b[0;32m--> 228\u001b[0;31m                 \u001b[0;32mraise\u001b[0m \u001b[0mKeyError\u001b[0m\u001b[0;34m(\u001b[0m\u001b[0;34mf\"Column not found: {key}\"\u001b[0m\u001b[0;34m)\u001b[0m\u001b[0;34m\u001b[0m\u001b[0;34m\u001b[0m\u001b[0m\n\u001b[0m\u001b[1;32m    229\u001b[0m             \u001b[0;32mreturn\u001b[0m \u001b[0mself\u001b[0m\u001b[0;34m.\u001b[0m\u001b[0m_gotitem\u001b[0m\u001b[0;34m(\u001b[0m\u001b[0mkey\u001b[0m\u001b[0;34m,\u001b[0m \u001b[0mndim\u001b[0m\u001b[0;34m=\u001b[0m\u001b[0;36m1\u001b[0m\u001b[0;34m)\u001b[0m\u001b[0;34m\u001b[0m\u001b[0;34m\u001b[0m\u001b[0m\n\u001b[1;32m    230\u001b[0m \u001b[0;34m\u001b[0m\u001b[0m\n",
      "\u001b[0;31mKeyError\u001b[0m: 'Column not found: mape'"
     ]
    },
    {
     "data": {
      "image/png": "[encoded data removed]",
      "text/plain": [
       "<Figure size 432x288 with 1 Axes>"
      ]
     },
     "metadata": {
      "needs_background": "light"
     },
     "output_type": "display_data"
    }
   ],
   "source": [
    "fig, ax = plt.subplots()\n",
    "colors=[\"blue\", \"orange\", \"green\", 'red', \"black\"]\n",
    "labels = ['MIMO', 'ConditionalRNN', 'MIMO mixed input data', 'MIMO mixed input + temp', 'Same day']\n",
    "x = np.array(range(1,7,2))\n",
    "for i,df in enumerate(datasets):\n",
    "    means = df.groupby('B')['mape'].mean()\n",
    "    stds = df.groupby('B')['mape'].std()\n",
    "    if i == 3:\n",
    "        means.loc['GEP4']=0\n",
    "        stds.loc['GEP4']=0\n",
    "    #print(means)\n",
    "    #print(stds)\n",
    "    ax.bar(x-0.4, means, yerr=stds, alpha=0.8, width=0.3, label=labels[i], color=colors[i])\n",
    "    x = x+0.4\n",
    "#i = 3\n",
    "#ax.bar(x-0.4, bench['rmse'], alpha=0.8, width=0.3, label=labels[i], color=colors[i])\n",
    "plt.xticks(ticks=np.array(range(1,7,2))+0.2, labels=['B1','B2','B4'], fontsize=16)\n",
    "plt.title('Comparison between model acccuracy for day-ahead load forecast\\n(Green Energy Park)', fontsize=18, fontweight='bold')\n",
    "plt.ylabel('RMSE [kWh]', fontsize=18)\n",
    "plt.legend(fontsize=18)\n",
    "plt.grid()\n",
    "plt.rcParams['figure.figsize'] = (10, 10)\n",
    "plt.show()"
   ]
  },
  {
   "cell_type": "code",
   "execution_count": 48,
   "metadata": {},
   "outputs": [
    {
     "name": "stderr",
     "output_type": "stream",
     "text": [
      "No handles with labels found to put in legend.\n"
     ]
    },
    {
     "data": {
      "image/png": "[encoded data removed]",
      "text/plain": [
       "<Figure size 720x576 with 1 Axes>"
      ]
     },
     "metadata": {
      "needs_background": "light"
     },
     "output_type": "display_data"
    }
   ],
   "source": [
    "plt.rcParams['figure.figsize'] = (10, 8)\n",
    "colors=[\"blue\", \"orange\", \"green\", \"black\"]\n",
    "labels = ['MIMO', 'ConditionalRNN', 'MIMO-full_data', 'same-day']\n",
    "#plt.grid(zorder=0)\n",
    "plt.bar(range(len(means)), means, align='center', color=colors, alpha=0.8, zorder=1)\n",
    "plt.xticks(ticks=range(len(means)), labels=labels,\n",
    "           rotation=45)\n",
    "plt.title('Mean acccuracies for day-ahead load forecast of 27 buildings\\n(British Columbia)')\n",
    "plt.ylabel('RMSE')\n",
    "plt.legend()\n",
    "plt.show()"
   ]
  },
  {
   "cell_type": "code",
   "execution_count": null,
   "metadata": {},
   "outputs": [],
   "source": []
  }
 ],
 "metadata": {
  "kernelspec": {
   "display_name": "Python [conda env:evgeny] *",
   "language": "python",
   "name": "conda-env-evgeny-py"
  },
  "language_info": {
   "codemirror_mode": {
    "name": "ipython",
    "version": 3
   },
   "file_extension": ".py",
   "mimetype": "text/x-python",
   "name": "python",
   "nbconvert_exporter": "python",
   "pygments_lexer": "ipython3",
   "version": "3.8.6"
  }
 },
 "nbformat": 4,
 "nbformat_minor": 4
}
