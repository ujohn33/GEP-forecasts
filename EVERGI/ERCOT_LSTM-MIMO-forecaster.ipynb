{
 "cells": [
  {
   "cell_type": "code",
   "execution_count": 73,
   "metadata": {},
   "outputs": [],
   "source": [
    "import datetime\n",
    "import sys\n",
    "import os\n",
    "\n",
    "import IPython\n",
    "import IPython.display\n",
    "import matplotlib as mpl\n",
    "import matplotlib.pyplot as plt\n",
    "import numpy as np\n",
    "import pandas as pd\n",
    "import seaborn as sns\n",
    "import tensorflow as tf\n",
    "import itertools\n",
    "from tensorflow.keras.layers import Dense\n",
    "from tensorflow.keras.models import Sequential\n",
    "from cond_rnn import ConditionalRNN\n",
    "from sklearn.preprocessing import MinMaxScaler\n",
    "from collections import UserDict\n",
    "\n",
    "import src.preprocessing\n",
    "from src.functions import load_data, mape, TimeSeriesTensor, create_evaluation_df, series_to_supervised, plot_train_history, validation\n",
    "\n",
    "np.set_printoptions(threshold=sys.maxsize)\n",
    "mpl.rcParams['figure.figsize'] = (8, 6)\n",
    "mpl.rcParams['axes.grid'] = False\n",
    "DAYS_IN_YEAR = 365\n",
    "HOURS_IN_DAY = 24\n",
    "DAYS_OF_WEEK = ['week_1','week_2','week_3','week_4','week_5','week_6','week_7']\n",
    "MINUTES_IN_HOUR = 60\n",
    "SECONDS_IN_MINUTE = 60\n",
    "MINUTES_IN_DAY = MINUTES_IN_HOUR * HOURS_IN_DAY"
   ]
  },
  {
   "cell_type": "code",
   "execution_count": 74,
   "metadata": {},
   "outputs": [],
   "source": [
    "csv_path = '../data/ERCOT/ercot_data.csv'\n",
    "df = pd.read_csv(csv_path, index_col=0)"
   ]
  },
  {
   "cell_type": "code",
   "execution_count": 75,
   "metadata": {},
   "outputs": [],
   "source": [
    "df = src.preprocessing.preprocess(df, 'texas')"
   ]
  },
  {
   "cell_type": "code",
   "execution_count": 76,
   "metadata": {},
   "outputs": [],
   "source": [
    "c1 = df.iloc[:,2:10]\n",
    "c2 = series_to_supervised(df)\n",
    "short_df = df.iloc[:,[0,1,-4,-3,-2,-1]].copy()\n",
    "c1 = c1.loc[c2.index]\n",
    "short_df = short_df['2012-01-07 02:00:00':]"
   ]
  },
  {
   "cell_type": "code",
   "execution_count": 77,
   "metadata": {},
   "outputs": [
    {
     "name": "stdout",
     "output_type": "stream",
     "text": [
      "(34892, 8)\n",
      "(34892, 2)\n",
      "(34915, 6)\n"
     ]
    }
   ],
   "source": [
    "print(c1.shape)\n",
    "print(c2.shape)\n",
    "print(short_df.shape)"
   ]
  },
  {
   "cell_type": "code",
   "execution_count": 78,
   "metadata": {},
   "outputs": [],
   "source": [
    "test_df = short_df.copy()['2015':]\n",
    "test_c1 = c1.copy()['2015':]\n",
    "test_c2 = c2.copy()['2015':]\n",
    "\n",
    "n_test = len(test_df)\n",
    "index = len(short_df) - n_test\n",
    "train_val_split = 0\n",
    "\n",
    "train_df = short_df.copy()[:-len(test_df)]\n",
    "train_c1 = c1.copy()[:-len(test_c1)]\n",
    "train_c2 = c2.copy()[:-len(test_c2)]\n",
    "\n",
    "num_features = df.shape[1]"
   ]
  },
  {
   "cell_type": "code",
   "execution_count": 79,
   "metadata": {},
   "outputs": [
    {
     "data": {
      "text/plain": [
       "MinMaxScaler()"
      ]
     },
     "execution_count": 79,
     "metadata": {},
     "output_type": "execute_result"
    }
   ],
   "source": [
    "y_scaler = MinMaxScaler()\n",
    "y_scaler.fit(train_df[['value']])"
   ]
  },
  {
   "cell_type": "code",
   "execution_count": 80,
   "metadata": {},
   "outputs": [],
   "source": [
    "train_c2[['value(t-24)']] = y_scaler.fit_transform(train_c2[['value(t-24)']])"
   ]
  },
  {
   "cell_type": "code",
   "execution_count": 81,
   "metadata": {},
   "outputs": [],
   "source": [
    "train_c2[['value(t-168)']] = y_scaler.fit_transform(train_c2[['value(t-168)']])"
   ]
  },
  {
   "cell_type": "code",
   "execution_count": 82,
   "metadata": {},
   "outputs": [],
   "source": [
    "X_scaler = MinMaxScaler()\n",
    "train_df[train_df.columns] = X_scaler.fit_transform(train_df)\n",
    "test_df[train_df.columns] = X_scaler.fit_transform(test_df)"
   ]
  },
  {
   "cell_type": "code",
   "execution_count": 83,
   "metadata": {},
   "outputs": [],
   "source": [
    "T = 24\n",
    "HORIZON = 24\n",
    "tensor_structure = {'X':(range(-T+1, 1), ['value', 'Temperatures (°C)','fractional hour_sin','fractional hour_cos','day of year_sin','day of year_cos'])}\n",
    "train_inputs = TimeSeriesTensor(train_df, 'value', HORIZON, tensor_structure)"
   ]
  },
  {
   "cell_type": "code",
   "execution_count": 84,
   "metadata": {},
   "outputs": [],
   "source": [
    "test_inputs = TimeSeriesTensor(test_df, 'value', HORIZON, tensor_structure)"
   ]
  },
  {
   "cell_type": "code",
   "execution_count": 85,
   "metadata": {},
   "outputs": [
    {
     "name": "stdout",
     "output_type": "stream",
     "text": [
      "(25967, 168)\n",
      "(34892, 8)\n",
      "(34892, 2)\n"
     ]
    }
   ],
   "source": [
    "print(train_inputs.dataframe.shape)\n",
    "print(c1.shape)\n",
    "print(c2.shape)"
   ]
  },
  {
   "cell_type": "code",
   "execution_count": 86,
   "metadata": {},
   "outputs": [],
   "source": [
    "train_c1 = c1.reindex(train_inputs.dataframe.index)\n",
    "train_c2 = c2.reindex(train_inputs.dataframe.index)"
   ]
  },
  {
   "cell_type": "code",
   "execution_count": 87,
   "metadata": {},
   "outputs": [],
   "source": [
    "test_c1 = c1.reindex(test_inputs.dataframe.index)\n",
    "test_c2 = c2.reindex(test_inputs.dataframe.index)"
   ]
  },
  {
   "cell_type": "code",
   "execution_count": 88,
   "metadata": {},
   "outputs": [
    {
     "name": "stdout",
     "output_type": "stream",
     "text": [
      "(25967, 168)\n",
      "(25967, 8)\n",
      "(25967, 2)\n"
     ]
    }
   ],
   "source": [
    "print(train_inputs.dataframe.shape)\n",
    "print(train_c1.shape)\n",
    "print(train_c2.shape)"
   ]
  },
  {
   "cell_type": "code",
   "execution_count": null,
   "metadata": {},
   "outputs": [],
   "source": []
  },
  {
   "cell_type": "code",
   "execution_count": 89,
   "metadata": {},
   "outputs": [],
   "source": [
    "# LONGER DF\n",
    "longer_df = df.copy()\n",
    "#longer_df = longer_df['2012-01-07 02:00:00':]\n",
    "longer_df = longer_df.merge(series_to_supervised(longer_df), how='right', left_index=True, right_index=True)"
   ]
  },
  {
   "cell_type": "code",
   "execution_count": 90,
   "metadata": {},
   "outputs": [],
   "source": [
    "test_longer_df = longer_df['2015':].copy()\n",
    "train_longer_df = longer_df[:-len(test_longer_df)].copy()"
   ]
  },
  {
   "cell_type": "code",
   "execution_count": 91,
   "metadata": {},
   "outputs": [],
   "source": [
    "long_scaler = MinMaxScaler()\n",
    "test_longer_df[test_longer_df.columns] = X_scaler.fit_transform(test_longer_df)\n",
    "train_longer_df[train_longer_df.columns] = X_scaler.fit_transform(train_longer_df)"
   ]
  },
  {
   "cell_type": "code",
   "execution_count": 92,
   "metadata": {},
   "outputs": [],
   "source": [
    "T = 24\n",
    "HORIZON = 24\n",
    "tensor_structure = {'X':(range(-T+1, 1), train_longer_df.columns)}\n",
    "train_longer_inputs = TimeSeriesTensor(train_longer_df, 'value', HORIZON, tensor_structure)\n",
    "test_longer_inputs = TimeSeriesTensor(test_longer_df, 'value', HORIZON, tensor_structure)"
   ]
  },
  {
   "cell_type": "code",
   "execution_count": null,
   "metadata": {},
   "outputs": [],
   "source": []
  },
  {
   "cell_type": "code",
   "execution_count": 93,
   "metadata": {},
   "outputs": [],
   "source": [
    "df_lags = short_df.merge(series_to_supervised(df), how='right', left_index=True, right_index=True)"
   ]
  },
  {
   "cell_type": "code",
   "execution_count": 94,
   "metadata": {},
   "outputs": [],
   "source": [
    "test_df_lags = df_lags['2015':].copy()\n",
    "train_df_lags = df_lags[:-len(test_df_lags)].copy()"
   ]
  },
  {
   "cell_type": "code",
   "execution_count": 95,
   "metadata": {},
   "outputs": [],
   "source": [
    "train_Y_df_lags = train_df_lags.iloc[:,0]\n",
    "test_Y_df_lags = test_df_lags.iloc[:,0]"
   ]
  },
  {
   "cell_type": "code",
   "execution_count": 96,
   "metadata": {},
   "outputs": [],
   "source": [
    "X_lags_scaler = MinMaxScaler()\n",
    "train_df_lags[train_df_lags.columns] = X_lags_scaler.fit_transform(train_df_lags)\n",
    "test_df_lags[test_df_lags.columns] = X_lags_scaler.fit_transform(test_df_lags)"
   ]
  },
  {
   "cell_type": "code",
   "execution_count": 97,
   "metadata": {},
   "outputs": [],
   "source": [
    "train_X_df_lags = train_df_lags.iloc[:,1:]\n",
    "test_X_df_lags = test_df_lags.iloc[:,1:]"
   ]
  },
  {
   "cell_type": "code",
   "execution_count": 98,
   "metadata": {},
   "outputs": [],
   "source": [
    "train_Y1_df_lags = train_df_lags.iloc[:,0]\n",
    "test_Y1_df_lags = test_df_lags.iloc[:,0]"
   ]
  },
  {
   "cell_type": "code",
   "execution_count": 99,
   "metadata": {},
   "outputs": [],
   "source": [
    "train_X_df_lags = np.asarray(train_X_df_lags).reshape((train_X_df_lags.shape[0], 1, train_X_df_lags.shape[1]))\n",
    "test_X_df_lags = np.asarray(test_X_df_lags).reshape((test_X_df_lags.shape[0], 1, test_X_df_lags.shape[1]))"
   ]
  },
  {
   "cell_type": "code",
   "execution_count": 100,
   "metadata": {},
   "outputs": [
    {
     "name": "stdout",
     "output_type": "stream",
     "text": [
      "[('target', 'y', 't+1') ('target', 'y', 't+2') ('target', 'y', 't+3')\n",
      " ('target', 'y', 't+4') ('target', 'y', 't+5') ('target', 'y', 't+6')\n",
      " ('target', 'y', 't+7') ('target', 'y', 't+8') ('target', 'y', 't+9')\n",
      " ('target', 'y', 't+10') ('target', 'y', 't+11') ('target', 'y', 't+12')\n",
      " ('target', 'y', 't+13') ('target', 'y', 't+14') ('target', 'y', 't+15')\n",
      " ('target', 'y', 't+16') ('target', 'y', 't+17') ('target', 'y', 't+18')\n",
      " ('target', 'y', 't+19') ('target', 'y', 't+20') ('target', 'y', 't+21')\n",
      " ('target', 'y', 't+22') ('target', 'y', 't+23') ('target', 'y', 't+24')\n",
      " ('X', 'value', 't-23') ('X', 'value', 't-22') ('X', 'value', 't-21')\n",
      " ('X', 'value', 't-20') ('X', 'value', 't-19') ('X', 'value', 't-18')\n",
      " ('X', 'value', 't-17') ('X', 'value', 't-16') ('X', 'value', 't-15')\n",
      " ('X', 'value', 't-14') ('X', 'value', 't-13') ('X', 'value', 't-12')\n",
      " ('X', 'value', 't-11') ('X', 'value', 't-10') ('X', 'value', 't-9')\n",
      " ('X', 'value', 't-8') ('X', 'value', 't-7') ('X', 'value', 't-6')\n",
      " ('X', 'value', 't-5') ('X', 'value', 't-4') ('X', 'value', 't-3')\n",
      " ('X', 'value', 't-2') ('X', 'value', 't-1') ('X', 'value', 't')\n",
      " ('X', 'Temperatures (°C)', 't-23') ('X', 'Temperatures (°C)', 't-22')\n",
      " ('X', 'Temperatures (°C)', 't-21') ('X', 'Temperatures (°C)', 't-20')\n",
      " ('X', 'Temperatures (°C)', 't-19') ('X', 'Temperatures (°C)', 't-18')\n",
      " ('X', 'Temperatures (°C)', 't-17') ('X', 'Temperatures (°C)', 't-16')\n",
      " ('X', 'Temperatures (°C)', 't-15') ('X', 'Temperatures (°C)', 't-14')\n",
      " ('X', 'Temperatures (°C)', 't-13') ('X', 'Temperatures (°C)', 't-12')\n",
      " ('X', 'Temperatures (°C)', 't-11') ('X', 'Temperatures (°C)', 't-10')\n",
      " ('X', 'Temperatures (°C)', 't-9') ('X', 'Temperatures (°C)', 't-8')\n",
      " ('X', 'Temperatures (°C)', 't-7') ('X', 'Temperatures (°C)', 't-6')\n",
      " ('X', 'Temperatures (°C)', 't-5') ('X', 'Temperatures (°C)', 't-4')\n",
      " ('X', 'Temperatures (°C)', 't-3') ('X', 'Temperatures (°C)', 't-2')\n",
      " ('X', 'Temperatures (°C)', 't-1') ('X', 'Temperatures (°C)', 't')\n",
      " ('X', 'fractional hour_sin', 't-23') ('X', 'fractional hour_sin', 't-22')\n",
      " ('X', 'fractional hour_sin', 't-21') ('X', 'fractional hour_sin', 't-20')\n",
      " ('X', 'fractional hour_sin', 't-19') ('X', 'fractional hour_sin', 't-18')\n",
      " ('X', 'fractional hour_sin', 't-17') ('X', 'fractional hour_sin', 't-16')\n",
      " ('X', 'fractional hour_sin', 't-15') ('X', 'fractional hour_sin', 't-14')\n",
      " ('X', 'fractional hour_sin', 't-13') ('X', 'fractional hour_sin', 't-12')\n",
      " ('X', 'fractional hour_sin', 't-11') ('X', 'fractional hour_sin', 't-10')\n",
      " ('X', 'fractional hour_sin', 't-9') ('X', 'fractional hour_sin', 't-8')\n",
      " ('X', 'fractional hour_sin', 't-7') ('X', 'fractional hour_sin', 't-6')\n",
      " ('X', 'fractional hour_sin', 't-5') ('X', 'fractional hour_sin', 't-4')\n",
      " ('X', 'fractional hour_sin', 't-3') ('X', 'fractional hour_sin', 't-2')\n",
      " ('X', 'fractional hour_sin', 't-1') ('X', 'fractional hour_sin', 't')\n",
      " ('X', 'fractional hour_cos', 't-23') ('X', 'fractional hour_cos', 't-22')\n",
      " ('X', 'fractional hour_cos', 't-21') ('X', 'fractional hour_cos', 't-20')\n",
      " ('X', 'fractional hour_cos', 't-19') ('X', 'fractional hour_cos', 't-18')\n",
      " ('X', 'fractional hour_cos', 't-17') ('X', 'fractional hour_cos', 't-16')\n",
      " ('X', 'fractional hour_cos', 't-15') ('X', 'fractional hour_cos', 't-14')\n",
      " ('X', 'fractional hour_cos', 't-13') ('X', 'fractional hour_cos', 't-12')\n",
      " ('X', 'fractional hour_cos', 't-11') ('X', 'fractional hour_cos', 't-10')\n",
      " ('X', 'fractional hour_cos', 't-9') ('X', 'fractional hour_cos', 't-8')\n",
      " ('X', 'fractional hour_cos', 't-7') ('X', 'fractional hour_cos', 't-6')\n",
      " ('X', 'fractional hour_cos', 't-5') ('X', 'fractional hour_cos', 't-4')\n",
      " ('X', 'fractional hour_cos', 't-3') ('X', 'fractional hour_cos', 't-2')\n",
      " ('X', 'fractional hour_cos', 't-1') ('X', 'fractional hour_cos', 't')\n",
      " ('X', 'day of year_sin', 't-23') ('X', 'day of year_sin', 't-22')\n",
      " ('X', 'day of year_sin', 't-21') ('X', 'day of year_sin', 't-20')\n",
      " ('X', 'day of year_sin', 't-19') ('X', 'day of year_sin', 't-18')\n",
      " ('X', 'day of year_sin', 't-17') ('X', 'day of year_sin', 't-16')\n",
      " ('X', 'day of year_sin', 't-15') ('X', 'day of year_sin', 't-14')\n",
      " ('X', 'day of year_sin', 't-13') ('X', 'day of year_sin', 't-12')\n",
      " ('X', 'day of year_sin', 't-11') ('X', 'day of year_sin', 't-10')\n",
      " ('X', 'day of year_sin', 't-9') ('X', 'day of year_sin', 't-8')\n",
      " ('X', 'day of year_sin', 't-7') ('X', 'day of year_sin', 't-6')\n",
      " ('X', 'day of year_sin', 't-5') ('X', 'day of year_sin', 't-4')\n",
      " ('X', 'day of year_sin', 't-3') ('X', 'day of year_sin', 't-2')\n",
      " ('X', 'day of year_sin', 't-1') ('X', 'day of year_sin', 't')\n",
      " ('X', 'day of year_cos', 't-23') ('X', 'day of year_cos', 't-22')\n",
      " ('X', 'day of year_cos', 't-21') ('X', 'day of year_cos', 't-20')\n",
      " ('X', 'day of year_cos', 't-19') ('X', 'day of year_cos', 't-18')\n",
      " ('X', 'day of year_cos', 't-17') ('X', 'day of year_cos', 't-16')\n",
      " ('X', 'day of year_cos', 't-15') ('X', 'day of year_cos', 't-14')\n",
      " ('X', 'day of year_cos', 't-13') ('X', 'day of year_cos', 't-12')\n",
      " ('X', 'day of year_cos', 't-11') ('X', 'day of year_cos', 't-10')\n",
      " ('X', 'day of year_cos', 't-9') ('X', 'day of year_cos', 't-8')\n",
      " ('X', 'day of year_cos', 't-7') ('X', 'day of year_cos', 't-6')\n",
      " ('X', 'day of year_cos', 't-5') ('X', 'day of year_cos', 't-4')\n",
      " ('X', 'day of year_cos', 't-3') ('X', 'day of year_cos', 't-2')\n",
      " ('X', 'day of year_cos', 't-1') ('X', 'day of year_cos', 't')]\n"
     ]
    }
   ],
   "source": [
    "print(train_inputs.dataframe.columns.to_numpy())"
   ]
  },
  {
   "cell_type": "code",
   "execution_count": 120,
   "metadata": {},
   "outputs": [],
   "source": [
    "class Baseline(tf.keras.Model):\n",
    "    def __init__(self, label_index=None):\n",
    "        super().__init__()\n",
    "        self.label_index = label_index\n",
    "\n",
    "    def call(self, inputs):\n",
    "        if self.label_index is None:\n",
    "            return inputs\n",
    "        result = inputs[:, :, self.label_index]\n",
    "        return result[:, :, tf.newaxis]"
   ]
  },
  {
   "cell_type": "code",
   "execution_count": 122,
   "metadata": {},
   "outputs": [],
   "source": [
    "val_performance = {}\n",
    "performance = {}\n",
    "mape_performance = {}\n",
    "mse_performance = {}\n",
    "\n",
    "baseline = Baseline(label_index = 0)\n",
    "\n",
    "baseline.compile(loss=tf.losses.MeanSquaredError(), metrics=[tf.metrics.MeanSquaredError()])\n",
    "\n",
    "predictions_B = baseline.predict(test_inputs['X'])\n",
    "eval_df_B = create_evaluation_df(predictions_B.reshape(-1,24), test_inputs, HORIZON, y_scaler)\n",
    "\n",
    "performance['Baseline'] = baseline.evaluate(test_inputs['X'],test_inputs['target'], verbose=0)\n",
    "mape_performance['Baseline'] = validation(eval_df_B['prediction'], eval_df_B['actual'], 'MAPE')\n",
    "mse_performance['Baseline'] = validation(eval_df_B['prediction'], eval_df_B['actual'], 'RMSE')"
   ]
  },
  {
   "cell_type": "code",
   "execution_count": 125,
   "metadata": {},
   "outputs": [
    {
     "data": {
      "text/html": [
       "<div>\n",
       "<style scoped>\n",
       "    .dataframe tbody tr th:only-of-type {\n",
       "        vertical-align: middle;\n",
       "    }\n",
       "\n",
       "    .dataframe tbody tr th {\n",
       "        vertical-align: top;\n",
       "    }\n",
       "\n",
       "    .dataframe thead tr th {\n",
       "        text-align: left;\n",
       "    }\n",
       "</style>\n",
       "<table border=\"1\" class=\"dataframe\">\n",
       "  <thead>\n",
       "    <tr>\n",
       "      <th>tensor</th>\n",
       "      <th colspan=\"10\" halign=\"left\">target</th>\n",
       "      <th>...</th>\n",
       "      <th colspan=\"10\" halign=\"left\">X</th>\n",
       "    </tr>\n",
       "    <tr>\n",
       "      <th>feature</th>\n",
       "      <th colspan=\"10\" halign=\"left\">y</th>\n",
       "      <th>...</th>\n",
       "      <th colspan=\"10\" halign=\"left\">day of year_cos</th>\n",
       "    </tr>\n",
       "    <tr>\n",
       "      <th>time step</th>\n",
       "      <th>t+1</th>\n",
       "      <th>t+2</th>\n",
       "      <th>t+3</th>\n",
       "      <th>t+4</th>\n",
       "      <th>t+5</th>\n",
       "      <th>t+6</th>\n",
       "      <th>t+7</th>\n",
       "      <th>t+8</th>\n",
       "      <th>t+9</th>\n",
       "      <th>t+10</th>\n",
       "      <th>...</th>\n",
       "      <th>t-9</th>\n",
       "      <th>t-8</th>\n",
       "      <th>t-7</th>\n",
       "      <th>t-6</th>\n",
       "      <th>t-5</th>\n",
       "      <th>t-4</th>\n",
       "      <th>t-3</th>\n",
       "      <th>t-2</th>\n",
       "      <th>t-1</th>\n",
       "      <th>t</th>\n",
       "    </tr>\n",
       "  </thead>\n",
       "  <tbody>\n",
       "    <tr>\n",
       "      <th>2015-01-01 23:00:00</th>\n",
       "      <td>0.545386</td>\n",
       "      <td>0.512968</td>\n",
       "      <td>0.498526</td>\n",
       "      <td>0.489418</td>\n",
       "      <td>0.485399</td>\n",
       "      <td>0.496407</td>\n",
       "      <td>0.529108</td>\n",
       "      <td>0.576000</td>\n",
       "      <td>0.615860</td>\n",
       "      <td>0.638106</td>\n",
       "      <td>...</td>\n",
       "      <td>1.0</td>\n",
       "      <td>1.0</td>\n",
       "      <td>1.0</td>\n",
       "      <td>1.0</td>\n",
       "      <td>1.0</td>\n",
       "      <td>1.0</td>\n",
       "      <td>1.0</td>\n",
       "      <td>1.0</td>\n",
       "      <td>1.000000</td>\n",
       "      <td>1.000000</td>\n",
       "    </tr>\n",
       "    <tr>\n",
       "      <th>2015-01-02 00:00:00</th>\n",
       "      <td>0.512968</td>\n",
       "      <td>0.498526</td>\n",
       "      <td>0.489418</td>\n",
       "      <td>0.485399</td>\n",
       "      <td>0.496407</td>\n",
       "      <td>0.529108</td>\n",
       "      <td>0.576000</td>\n",
       "      <td>0.615860</td>\n",
       "      <td>0.638106</td>\n",
       "      <td>0.664575</td>\n",
       "      <td>...</td>\n",
       "      <td>1.0</td>\n",
       "      <td>1.0</td>\n",
       "      <td>1.0</td>\n",
       "      <td>1.0</td>\n",
       "      <td>1.0</td>\n",
       "      <td>1.0</td>\n",
       "      <td>1.0</td>\n",
       "      <td>1.0</td>\n",
       "      <td>1.000000</td>\n",
       "      <td>0.999992</td>\n",
       "    </tr>\n",
       "    <tr>\n",
       "      <th>2015-01-02 01:00:00</th>\n",
       "      <td>0.498526</td>\n",
       "      <td>0.489418</td>\n",
       "      <td>0.485399</td>\n",
       "      <td>0.496407</td>\n",
       "      <td>0.529108</td>\n",
       "      <td>0.576000</td>\n",
       "      <td>0.615860</td>\n",
       "      <td>0.638106</td>\n",
       "      <td>0.664575</td>\n",
       "      <td>0.679592</td>\n",
       "      <td>...</td>\n",
       "      <td>1.0</td>\n",
       "      <td>1.0</td>\n",
       "      <td>1.0</td>\n",
       "      <td>1.0</td>\n",
       "      <td>1.0</td>\n",
       "      <td>1.0</td>\n",
       "      <td>1.0</td>\n",
       "      <td>1.0</td>\n",
       "      <td>0.999992</td>\n",
       "      <td>0.999992</td>\n",
       "    </tr>\n",
       "  </tbody>\n",
       "</table>\n",
       "<p>3 rows × 168 columns</p>\n",
       "</div>"
      ],
      "text/plain": [
       "tensor                 target                                          \\\n",
       "feature                     y                                           \n",
       "time step                 t+1       t+2       t+3       t+4       t+5   \n",
       "2015-01-01 23:00:00  0.545386  0.512968  0.498526  0.489418  0.485399   \n",
       "2015-01-02 00:00:00  0.512968  0.498526  0.489418  0.485399  0.496407   \n",
       "2015-01-02 01:00:00  0.498526  0.489418  0.485399  0.496407  0.529108   \n",
       "\n",
       "tensor                                                                 ...  \\\n",
       "feature                                                                ...   \n",
       "time step                 t+6       t+7       t+8       t+9      t+10  ...   \n",
       "2015-01-01 23:00:00  0.496407  0.529108  0.576000  0.615860  0.638106  ...   \n",
       "2015-01-02 00:00:00  0.529108  0.576000  0.615860  0.638106  0.664575  ...   \n",
       "2015-01-02 01:00:00  0.576000  0.615860  0.638106  0.664575  0.679592  ...   \n",
       "\n",
       "tensor                            X                                     \\\n",
       "feature             day of year_cos                                      \n",
       "time step                       t-9  t-8  t-7  t-6  t-5  t-4  t-3  t-2   \n",
       "2015-01-01 23:00:00             1.0  1.0  1.0  1.0  1.0  1.0  1.0  1.0   \n",
       "2015-01-02 00:00:00             1.0  1.0  1.0  1.0  1.0  1.0  1.0  1.0   \n",
       "2015-01-02 01:00:00             1.0  1.0  1.0  1.0  1.0  1.0  1.0  1.0   \n",
       "\n",
       "tensor                                   \n",
       "feature                                  \n",
       "time step                 t-1         t  \n",
       "2015-01-01 23:00:00  1.000000  1.000000  \n",
       "2015-01-02 00:00:00  1.000000  0.999992  \n",
       "2015-01-02 01:00:00  0.999992  0.999992  \n",
       "\n",
       "[3 rows x 168 columns]"
      ]
     },
     "execution_count": 125,
     "metadata": {},
     "output_type": "execute_result"
    }
   ],
   "source": [
    "test_inputs.dataframe.head(3)"
   ]
  },
  {
   "cell_type": "code",
   "execution_count": 126,
   "metadata": {},
   "outputs": [
    {
     "data": {
      "text/plain": [
       "array([[0.67129021, 0.64216349, 0.61619098, 0.6072355 , 0.60144124,\n",
       "        0.60523075, 0.62185999, 0.64664452, 0.66736952, 0.68778093,\n",
       "        0.70654794, 0.71285225, 0.71367988, 0.7012092 , 0.67962643,\n",
       "        0.6584803 , 0.64512408, 0.65077606, 0.68008537, 0.71057203,\n",
       "        0.69223109, 0.6649721 , 0.63217122, 0.58727376],\n",
       "       [0.64216349, 0.61619098, 0.6072355 , 0.60144124, 0.60523075,\n",
       "        0.62185999, 0.64664452, 0.66736952, 0.68778093, 0.70654794,\n",
       "        0.71285225, 0.71367988, 0.7012092 , 0.67962643, 0.6584803 ,\n",
       "        0.64512408, 0.65077606, 0.68008537, 0.71057203, 0.69223109,\n",
       "        0.6649721 , 0.63217122, 0.58727376, 0.54538603],\n",
       "       [0.61619098, 0.6072355 , 0.60144124, 0.60523075, 0.62185999,\n",
       "        0.64664452, 0.66736952, 0.68778093, 0.70654794, 0.71285225,\n",
       "        0.71367988, 0.7012092 , 0.67962643, 0.6584803 , 0.64512408,\n",
       "        0.65077606, 0.68008537, 0.71057203, 0.69223109, 0.6649721 ,\n",
       "        0.63217122, 0.58727376, 0.54538603, 0.51296816]])"
      ]
     },
     "execution_count": 126,
     "metadata": {},
     "output_type": "execute_result"
    }
   ],
   "source": [
    "predictions_B.reshape(-1,24)[:3]"
   ]
  },
  {
   "cell_type": "code",
   "execution_count": 103,
   "metadata": {},
   "outputs": [],
   "source": [
    "MAX_EPOCHS = 25\n",
    "BATCHSIZE = 10\n",
    "patience = 5\n",
    "\n",
    "LSTM_framework = tf.keras.models.Sequential([\n",
    "    # Shape [batch, time, features] => [batch, time, lstm_units]\n",
    "    tf.keras.layers.LSTM(32, activation='relu', return_sequences=True, input_shape=(train_X_df_lags.shape[1],train_X_df_lags.shape[2])),\n",
    "    tf.keras.layers.LSTM(32, activation='relu'),\n",
    "    tf.keras.layers.Dropout(0.2),\n",
    "    tf.keras.layers.Dense(1)\n",
    "])"
   ]
  },
  {
   "cell_type": "code",
   "execution_count": 104,
   "metadata": {},
   "outputs": [],
   "source": [
    "LSTM_framework.compile(optimizer=tf.optimizers.Adam(), loss='mse', metrics=[tf.metrics.MeanSquaredError()])"
   ]
  },
  {
   "cell_type": "code",
   "execution_count": 105,
   "metadata": {},
   "outputs": [
    {
     "name": "stdout",
     "output_type": "stream",
     "text": [
      "Model: \"sequential_4\"\n",
      "_________________________________________________________________\n",
      "Layer (type)                 Output Shape              Param #   \n",
      "=================================================================\n",
      "lstm_4 (LSTM)                (None, 1, 32)             5120      \n",
      "_________________________________________________________________\n",
      "lstm_5 (LSTM)                (None, 32)                8320      \n",
      "_________________________________________________________________\n",
      "dropout_1 (Dropout)          (None, 32)                0         \n",
      "_________________________________________________________________\n",
      "dense_16 (Dense)             (None, 1)                 33        \n",
      "=================================================================\n",
      "Total params: 13,473\n",
      "Trainable params: 13,473\n",
      "Non-trainable params: 0\n",
      "_________________________________________________________________\n"
     ]
    }
   ],
   "source": [
    "LSTM_framework.summary()"
   ]
  },
  {
   "cell_type": "code",
   "execution_count": 107,
   "metadata": {},
   "outputs": [
    {
     "name": "stdout",
     "output_type": "stream",
     "text": [
      "Epoch 1/25\n",
      "695/695 [==============================] - 2s 4ms/step - loss: 0.0036 - mean_squared_error: 0.0036 - val_loss: 0.0029 - val_mean_squared_error: 0.0029\n",
      "Epoch 2/25\n",
      "695/695 [==============================] - 2s 3ms/step - loss: 0.0035 - mean_squared_error: 0.0035 - val_loss: 0.0029 - val_mean_squared_error: 0.0029\n",
      "Epoch 3/25\n",
      "695/695 [==============================] - 2s 3ms/step - loss: 0.0035 - mean_squared_error: 0.0035 - val_loss: 0.0031 - val_mean_squared_error: 0.0031\n",
      "Epoch 4/25\n",
      "695/695 [==============================] - 2s 3ms/step - loss: 0.0035 - mean_squared_error: 0.0035 - val_loss: 0.0037 - val_mean_squared_error: 0.0037\n",
      "Epoch 5/25\n",
      "695/695 [==============================] - 2s 3ms/step - loss: 0.0035 - mean_squared_error: 0.0035 - val_loss: 0.0027 - val_mean_squared_error: 0.0027\n",
      "Epoch 6/25\n",
      "695/695 [==============================] - 2s 3ms/step - loss: 0.0034 - mean_squared_error: 0.0034 - val_loss: 0.0036 - val_mean_squared_error: 0.0036\n",
      "Epoch 7/25\n",
      "695/695 [==============================] - 2s 3ms/step - loss: 0.0034 - mean_squared_error: 0.0034 - val_loss: 0.0026 - val_mean_squared_error: 0.0026\n",
      "Epoch 8/25\n",
      "695/695 [==============================] - 2s 3ms/step - loss: 0.0034 - mean_squared_error: 0.0034 - val_loss: 0.0031 - val_mean_squared_error: 0.0031\n",
      "Epoch 9/25\n",
      "695/695 [==============================] - 2s 3ms/step - loss: 0.0033 - mean_squared_error: 0.0033 - val_loss: 0.0031 - val_mean_squared_error: 0.0031\n",
      "Epoch 10/25\n",
      "695/695 [==============================] - 2s 3ms/step - loss: 0.0033 - mean_squared_error: 0.0033 - val_loss: 0.0031 - val_mean_squared_error: 0.0031\n",
      "Epoch 11/25\n",
      "695/695 [==============================] - 2s 3ms/step - loss: 0.0033 - mean_squared_error: 0.0033 - val_loss: 0.0028 - val_mean_squared_error: 0.0028\n",
      "Epoch 12/25\n",
      "695/695 [==============================] - 2s 3ms/step - loss: 0.0033 - mean_squared_error: 0.0033 - val_loss: 0.0035 - val_mean_squared_error: 0.0035\n",
      "RUN 1\n",
      "\n",
      "Epoch 1/25\n",
      "695/695 [==============================] - 2s 3ms/step - loss: 0.0032 - mean_squared_error: 0.0032 - val_loss: 0.0052 - val_mean_squared_error: 0.0052\n",
      "Epoch 2/25\n",
      "695/695 [==============================] - 2s 3ms/step - loss: 0.0033 - mean_squared_error: 0.0033 - val_loss: 0.0028 - val_mean_squared_error: 0.0028\n",
      "Epoch 3/25\n",
      "695/695 [==============================] - 2s 3ms/step - loss: 0.0032 - mean_squared_error: 0.0032 - val_loss: 0.0027 - val_mean_squared_error: 0.0027\n",
      "Epoch 4/25\n",
      "695/695 [==============================] - 2s 3ms/step - loss: 0.0032 - mean_squared_error: 0.0032 - val_loss: 0.0024 - val_mean_squared_error: 0.0024\n",
      "Epoch 5/25\n",
      "695/695 [==============================] - 2s 3ms/step - loss: 0.0032 - mean_squared_error: 0.0032 - val_loss: 0.0025 - val_mean_squared_error: 0.0025\n",
      "Epoch 6/25\n",
      "695/695 [==============================] - 2s 3ms/step - loss: 0.0032 - mean_squared_error: 0.0032 - val_loss: 0.0028 - val_mean_squared_error: 0.0028\n",
      "Epoch 7/25\n",
      "695/695 [==============================] - 2s 3ms/step - loss: 0.0031 - mean_squared_error: 0.0031 - val_loss: 0.0035 - val_mean_squared_error: 0.0035\n",
      "Epoch 8/25\n",
      "695/695 [==============================] - 2s 3ms/step - loss: 0.0031 - mean_squared_error: 0.0031 - val_loss: 0.0028 - val_mean_squared_error: 0.0028\n",
      "Epoch 9/25\n",
      "695/695 [==============================] - 2s 3ms/step - loss: 0.0031 - mean_squared_error: 0.0031 - val_loss: 0.0023 - val_mean_squared_error: 0.0023\n",
      "Epoch 10/25\n",
      "695/695 [==============================] - 2s 3ms/step - loss: 0.0031 - mean_squared_error: 0.0031 - val_loss: 0.0028 - val_mean_squared_error: 0.0028\n",
      "Epoch 11/25\n",
      "695/695 [==============================] - 2s 3ms/step - loss: 0.0031 - mean_squared_error: 0.0031 - val_loss: 0.0027 - val_mean_squared_error: 0.0027\n",
      "Epoch 12/25\n",
      "695/695 [==============================] - 2s 3ms/step - loss: 0.0031 - mean_squared_error: 0.0031 - val_loss: 0.0036 - val_mean_squared_error: 0.0036\n",
      "Epoch 13/25\n",
      "695/695 [==============================] - 2s 3ms/step - loss: 0.0031 - mean_squared_error: 0.0031 - val_loss: 0.0026 - val_mean_squared_error: 0.0026\n",
      "Epoch 14/25\n",
      "695/695 [==============================] - 2s 3ms/step - loss: 0.0030 - mean_squared_error: 0.0030 - val_loss: 0.0026 - val_mean_squared_error: 0.0026\n",
      "RUN 2\n",
      "\n",
      "Epoch 1/25\n",
      "695/695 [==============================] - 2s 3ms/step - loss: 0.0030 - mean_squared_error: 0.0030 - val_loss: 0.0025 - val_mean_squared_error: 0.0025\n",
      "Epoch 2/25\n",
      "695/695 [==============================] - 2s 3ms/step - loss: 0.0030 - mean_squared_error: 0.0030 - val_loss: 0.0023 - val_mean_squared_error: 0.0023\n",
      "Epoch 3/25\n",
      "695/695 [==============================] - 2s 3ms/step - loss: 0.0031 - mean_squared_error: 0.0031 - val_loss: 0.0034 - val_mean_squared_error: 0.0034\n",
      "Epoch 4/25\n",
      "695/695 [==============================] - 2s 3ms/step - loss: 0.0030 - mean_squared_error: 0.0030 - val_loss: 0.0031 - val_mean_squared_error: 0.0031\n",
      "Epoch 5/25\n",
      "695/695 [==============================] - 2s 3ms/step - loss: 0.0030 - mean_squared_error: 0.0030 - val_loss: 0.0028 - val_mean_squared_error: 0.0028\n",
      "Epoch 6/25\n",
      "695/695 [==============================] - 2s 3ms/step - loss: 0.0030 - mean_squared_error: 0.0030 - val_loss: 0.0022 - val_mean_squared_error: 0.0022\n",
      "Epoch 7/25\n",
      "695/695 [==============================] - 2s 3ms/step - loss: 0.0030 - mean_squared_error: 0.0030 - val_loss: 0.0042 - val_mean_squared_error: 0.0042\n",
      "Epoch 8/25\n",
      "695/695 [==============================] - 2s 3ms/step - loss: 0.0029 - mean_squared_error: 0.0029 - val_loss: 0.0035 - val_mean_squared_error: 0.0035\n",
      "Epoch 9/25\n",
      "695/695 [==============================] - 2s 3ms/step - loss: 0.0029 - mean_squared_error: 0.0029 - val_loss: 0.0027 - val_mean_squared_error: 0.0027\n",
      "Epoch 10/25\n",
      "695/695 [==============================] - 2s 3ms/step - loss: 0.0030 - mean_squared_error: 0.0030 - val_loss: 0.0022 - val_mean_squared_error: 0.0022\n",
      "Epoch 11/25\n",
      "695/695 [==============================] - 2s 3ms/step - loss: 0.0029 - mean_squared_error: 0.0029 - val_loss: 0.0028 - val_mean_squared_error: 0.0028\n",
      "RUN 3\n",
      "\n",
      "Epoch 1/25\n",
      "695/695 [==============================] - 2s 3ms/step - loss: 0.0029 - mean_squared_error: 0.0029 - val_loss: 0.0027 - val_mean_squared_error: 0.0027\n",
      "Epoch 2/25\n",
      "695/695 [==============================] - 2s 3ms/step - loss: 0.0029 - mean_squared_error: 0.0029 - val_loss: 0.0024 - val_mean_squared_error: 0.0024\n",
      "Epoch 3/25\n",
      "695/695 [==============================] - 2s 3ms/step - loss: 0.0030 - mean_squared_error: 0.0030 - val_loss: 0.0022 - val_mean_squared_error: 0.0022\n",
      "Epoch 4/25\n",
      "695/695 [==============================] - 2s 3ms/step - loss: 0.0029 - mean_squared_error: 0.0029 - val_loss: 0.0026 - val_mean_squared_error: 0.0026\n",
      "Epoch 5/25\n",
      "695/695 [==============================] - 2s 3ms/step - loss: 0.0029 - mean_squared_error: 0.0029 - val_loss: 0.0024 - val_mean_squared_error: 0.0024\n",
      "Epoch 6/25\n",
      "695/695 [==============================] - 2s 3ms/step - loss: 0.0029 - mean_squared_error: 0.0029 - val_loss: 0.0029 - val_mean_squared_error: 0.0029\n",
      "Epoch 7/25\n",
      "695/695 [==============================] - 2s 3ms/step - loss: 0.0029 - mean_squared_error: 0.0029 - val_loss: 0.0034 - val_mean_squared_error: 0.0034\n",
      "Epoch 8/25\n",
      "695/695 [==============================] - 2s 3ms/step - loss: 0.0029 - mean_squared_error: 0.0029 - val_loss: 0.0024 - val_mean_squared_error: 0.0024\n",
      "RUN 4\n",
      "\n",
      "Epoch 1/25\n",
      "695/695 [==============================] - 2s 3ms/step - loss: 0.0029 - mean_squared_error: 0.0029 - val_loss: 0.0028 - val_mean_squared_error: 0.0028\n",
      "Epoch 2/25\n",
      "695/695 [==============================] - 2s 3ms/step - loss: 0.0029 - mean_squared_error: 0.0029 - val_loss: 0.0025 - val_mean_squared_error: 0.0025\n",
      "Epoch 3/25\n",
      "695/695 [==============================] - 2s 3ms/step - loss: 0.0028 - mean_squared_error: 0.0028 - val_loss: 0.0021 - val_mean_squared_error: 0.0021\n",
      "Epoch 4/25\n",
      "695/695 [==============================] - 2s 3ms/step - loss: 0.0029 - mean_squared_error: 0.0029 - val_loss: 0.0043 - val_mean_squared_error: 0.0043\n",
      "Epoch 5/25\n",
      "695/695 [==============================] - 2s 3ms/step - loss: 0.0028 - mean_squared_error: 0.0028 - val_loss: 0.0022 - val_mean_squared_error: 0.0022\n",
      "Epoch 6/25\n"
     ]
    },
    {
     "name": "stdout",
     "output_type": "stream",
     "text": [
      "695/695 [==============================] - 2s 3ms/step - loss: 0.0028 - mean_squared_error: 0.0028 - val_loss: 0.0028 - val_mean_squared_error: 0.0028\n",
      "Epoch 7/25\n",
      "695/695 [==============================] - 2s 3ms/step - loss: 0.0028 - mean_squared_error: 0.0028 - val_loss: 0.0026 - val_mean_squared_error: 0.0026\n",
      "Epoch 8/25\n",
      "695/695 [==============================] - 2s 3ms/step - loss: 0.0029 - mean_squared_error: 0.0029 - val_loss: 0.0024 - val_mean_squared_error: 0.0024\n",
      "RUN 5\n",
      "\n",
      "Epoch 1/25\n",
      "695/695 [==============================] - 2s 3ms/step - loss: 0.0028 - mean_squared_error: 0.0028 - val_loss: 0.0035 - val_mean_squared_error: 0.0035\n",
      "Epoch 2/25\n",
      "695/695 [==============================] - 2s 3ms/step - loss: 0.0028 - mean_squared_error: 0.0028 - val_loss: 0.0022 - val_mean_squared_error: 0.0022\n",
      "Epoch 3/25\n",
      "695/695 [==============================] - 2s 3ms/step - loss: 0.0028 - mean_squared_error: 0.0028 - val_loss: 0.0032 - val_mean_squared_error: 0.0032\n",
      "Epoch 4/25\n",
      "695/695 [==============================] - 2s 3ms/step - loss: 0.0028 - mean_squared_error: 0.0028 - val_loss: 0.0027 - val_mean_squared_error: 0.0027\n",
      "Epoch 5/25\n",
      "695/695 [==============================] - 2s 3ms/step - loss: 0.0028 - mean_squared_error: 0.0028 - val_loss: 0.0046 - val_mean_squared_error: 0.0046\n",
      "Epoch 6/25\n",
      "695/695 [==============================] - 2s 3ms/step - loss: 0.0028 - mean_squared_error: 0.0028 - val_loss: 0.0031 - val_mean_squared_error: 0.0031\n",
      "Epoch 7/25\n",
      "695/695 [==============================] - 2s 3ms/step - loss: 0.0028 - mean_squared_error: 0.0028 - val_loss: 0.0028 - val_mean_squared_error: 0.0028\n",
      "RUN 6\n",
      "\n",
      "Epoch 1/25\n",
      "695/695 [==============================] - 2s 4ms/step - loss: 0.0029 - mean_squared_error: 0.0029 - val_loss: 0.0021 - val_mean_squared_error: 0.0021\n",
      "Epoch 2/25\n",
      "695/695 [==============================] - 2s 3ms/step - loss: 0.0028 - mean_squared_error: 0.0028 - val_loss: 0.0029 - val_mean_squared_error: 0.0029\n",
      "Epoch 3/25\n",
      "695/695 [==============================] - 2s 3ms/step - loss: 0.0029 - mean_squared_error: 0.0029 - val_loss: 0.0025 - val_mean_squared_error: 0.0025\n",
      "Epoch 4/25\n",
      "695/695 [==============================] - 2s 3ms/step - loss: 0.0028 - mean_squared_error: 0.0028 - val_loss: 0.0029 - val_mean_squared_error: 0.0029\n",
      "Epoch 5/25\n",
      "695/695 [==============================] - 2s 3ms/step - loss: 0.0028 - mean_squared_error: 0.0028 - val_loss: 0.0027 - val_mean_squared_error: 0.0027\n",
      "Epoch 6/25\n",
      "695/695 [==============================] - 2s 3ms/step - loss: 0.0028 - mean_squared_error: 0.0028 - val_loss: 0.0031 - val_mean_squared_error: 0.0031\n",
      "RUN 7\n",
      "\n",
      "Epoch 1/25\n",
      "695/695 [==============================] - 2s 3ms/step - loss: 0.0028 - mean_squared_error: 0.0028 - val_loss: 0.0030 - val_mean_squared_error: 0.0030\n",
      "Epoch 2/25\n",
      "695/695 [==============================] - 2s 3ms/step - loss: 0.0027 - mean_squared_error: 0.0027 - val_loss: 0.0020 - val_mean_squared_error: 0.0020\n",
      "Epoch 3/25\n",
      "695/695 [==============================] - 2s 3ms/step - loss: 0.0028 - mean_squared_error: 0.0028 - val_loss: 0.0024 - val_mean_squared_error: 0.0024\n",
      "Epoch 4/25\n",
      "695/695 [==============================] - 2s 3ms/step - loss: 0.0028 - mean_squared_error: 0.0028 - val_loss: 0.0029 - val_mean_squared_error: 0.0029\n",
      "Epoch 5/25\n",
      "695/695 [==============================] - 2s 3ms/step - loss: 0.0028 - mean_squared_error: 0.0028 - val_loss: 0.0030 - val_mean_squared_error: 0.0030\n",
      "Epoch 6/25\n",
      "695/695 [==============================] - 2s 3ms/step - loss: 0.0028 - mean_squared_error: 0.0028 - val_loss: 0.0027 - val_mean_squared_error: 0.0027\n",
      "Epoch 7/25\n",
      "695/695 [==============================] - 2s 3ms/step - loss: 0.0028 - mean_squared_error: 0.0028 - val_loss: 0.0025 - val_mean_squared_error: 0.0025\n",
      "RUN 8\n",
      "\n",
      "Epoch 1/25\n",
      "695/695 [==============================] - 2s 4ms/step - loss: 0.0028 - mean_squared_error: 0.0028 - val_loss: 0.0028 - val_mean_squared_error: 0.0028\n",
      "Epoch 2/25\n",
      "695/695 [==============================] - 2s 3ms/step - loss: 0.0028 - mean_squared_error: 0.0028 - val_loss: 0.0020 - val_mean_squared_error: 0.0020\n",
      "Epoch 3/25\n",
      "695/695 [==============================] - 2s 3ms/step - loss: 0.0028 - mean_squared_error: 0.0028 - val_loss: 0.0026 - val_mean_squared_error: 0.0026\n",
      "Epoch 4/25\n",
      "695/695 [==============================] - 2s 3ms/step - loss: 0.0027 - mean_squared_error: 0.0027 - val_loss: 0.0023 - val_mean_squared_error: 0.0023\n",
      "Epoch 5/25\n",
      "695/695 [==============================] - 2s 3ms/step - loss: 0.0027 - mean_squared_error: 0.0027 - val_loss: 0.0023 - val_mean_squared_error: 0.0023\n",
      "Epoch 6/25\n",
      "695/695 [==============================] - 2s 3ms/step - loss: 0.0027 - mean_squared_error: 0.0027 - val_loss: 0.0025 - val_mean_squared_error: 0.0025\n",
      "Epoch 7/25\n",
      "695/695 [==============================] - 2s 3ms/step - loss: 0.0028 - mean_squared_error: 0.0028 - val_loss: 0.0026 - val_mean_squared_error: 0.0026\n",
      "RUN 9\n",
      "\n",
      "Epoch 1/25\n",
      "695/695 [==============================] - 2s 4ms/step - loss: 0.0028 - mean_squared_error: 0.0028 - val_loss: 0.0030 - val_mean_squared_error: 0.0030\n",
      "Epoch 2/25\n",
      "695/695 [==============================] - 2s 3ms/step - loss: 0.0028 - mean_squared_error: 0.0028 - val_loss: 0.0020 - val_mean_squared_error: 0.0020\n",
      "Epoch 3/25\n",
      "695/695 [==============================] - 2s 3ms/step - loss: 0.0027 - mean_squared_error: 0.0027 - val_loss: 0.0034 - val_mean_squared_error: 0.0034\n",
      "Epoch 4/25\n",
      "695/695 [==============================] - 2s 3ms/step - loss: 0.0028 - mean_squared_error: 0.0028 - val_loss: 0.0037 - val_mean_squared_error: 0.0037\n",
      "Epoch 5/25\n",
      "695/695 [==============================] - 2s 3ms/step - loss: 0.0027 - mean_squared_error: 0.0027 - val_loss: 0.0032 - val_mean_squared_error: 0.0032\n",
      "Epoch 6/25\n",
      "695/695 [==============================] - 2s 3ms/step - loss: 0.0028 - mean_squared_error: 0.0028 - val_loss: 0.0021 - val_mean_squared_error: 0.0021\n",
      "Epoch 7/25\n",
      "695/695 [==============================] - 2s 3ms/step - loss: 0.0028 - mean_squared_error: 0.0028 - val_loss: 0.0026 - val_mean_squared_error: 0.0026\n",
      "RUN 10\n",
      "\n"
     ]
    }
   ],
   "source": [
    "mape_performance['LSTM_framework'] = []\n",
    "mse_performance['LSTM_framework'] = []\n",
    "metrics = pd.DataFrame(columns=['mape','rmse'], index=range(1,11))\n",
    "for i in range(1,11):\n",
    "    LSTM_framework.compile(optimizer=tf.optimizers.Adam(), loss='mse', metrics=[tf.metrics.MeanSquaredError()])\n",
    "\n",
    "    early_stopping = tf.keras.callbacks.EarlyStopping(monitor='val_loss', patience=patience, mode='min')\n",
    "\n",
    "    history = LSTM_framework.fit(train_X_df_lags, train_Y1_df_lags, batch_size=32, epochs=MAX_EPOCHS,\n",
    "                      validation_split=0.15,\n",
    "                      callbacks=[early_stopping], verbose=1)\n",
    "\n",
    "\n",
    "    #save_model(LSTM_framework, i)\n",
    "    fpredictions = LSTM_framework.predict(test_X_df_lags)\n",
    "    fpredictions = y_scaler.inverse_transform(fpredictions)\n",
    "    mape = validation(fpredictions.reshape(-1), test_Y_df_lags, 'MAPE')\n",
    "    rmse = validation(fpredictions.reshape(-1), test_Y_df_lags, 'RMSE')\n",
    "    mape_performance['LSTM_framework'].append(mape)\n",
    "    mse_performance['LSTM_framework'].append(rmse)\n",
    "    print('RUN '+str(i)+'\\n')\n",
    "    metrics.loc[i] = pd.Series({'mape':mape, 'rmse':rmse})\n",
    "\n",
    "    file1 = open('./results/ERCOT_LSTM_framework_accuracy.txt', 'a') \n",
    "    file1.write('\\nRUN '+str(i)+':') \n",
    "    file1.writelines(['\\n'+str(mape), '\\n'+str(rmse)]) \n",
    "    file1.close()\n",
    "metrics.to_csv('./results/ERCOT_fram.csv')"
   ]
  },
  {
   "cell_type": "code",
   "execution_count": 40,
   "metadata": {},
   "outputs": [
    {
     "name": "stdout",
     "output_type": "stream",
     "text": [
      "Epoch 1/25\n",
      "695/695 [==============================] - 2s 3ms/step - loss: 0.0164 - mean_squared_error: 0.0164 - val_loss: 0.0060 - val_mean_squared_error: 0.0060\n",
      "Epoch 2/25\n",
      "695/695 [==============================] - 2s 3ms/step - loss: 0.0071 - mean_squared_error: 0.0071 - val_loss: 0.0049 - val_mean_squared_error: 0.0049\n",
      "Epoch 3/25\n",
      "695/695 [==============================] - 2s 3ms/step - loss: 0.0055 - mean_squared_error: 0.0055 - val_loss: 0.0043 - val_mean_squared_error: 0.0043\n",
      "Epoch 4/25\n",
      "695/695 [==============================] - 2s 3ms/step - loss: 0.0046 - mean_squared_error: 0.0046 - val_loss: 0.0044 - val_mean_squared_error: 0.0044\n",
      "Epoch 5/25\n",
      "695/695 [==============================] - 2s 3ms/step - loss: 0.0039 - mean_squared_error: 0.0039 - val_loss: 0.0036 - val_mean_squared_error: 0.0036\n",
      "Epoch 6/25\n",
      "695/695 [==============================] - 2s 3ms/step - loss: 0.0036 - mean_squared_error: 0.0036 - val_loss: 0.0029 - val_mean_squared_error: 0.0029\n",
      "Epoch 7/25\n",
      "695/695 [==============================] - 2s 3ms/step - loss: 0.0035 - mean_squared_error: 0.0035 - val_loss: 0.0027 - val_mean_squared_error: 0.0027\n",
      "Epoch 8/25\n",
      "695/695 [==============================] - 2s 3ms/step - loss: 0.0034 - mean_squared_error: 0.0034 - val_loss: 0.0027 - val_mean_squared_error: 0.0027\n",
      "Epoch 9/25\n",
      "695/695 [==============================] - 2s 3ms/step - loss: 0.0034 - mean_squared_error: 0.0034 - val_loss: 0.0025 - val_mean_squared_error: 0.0025\n",
      "Epoch 10/25\n",
      "695/695 [==============================] - 2s 3ms/step - loss: 0.0033 - mean_squared_error: 0.0033 - val_loss: 0.0037 - val_mean_squared_error: 0.0037\n",
      "Epoch 11/25\n",
      "695/695 [==============================] - 2s 3ms/step - loss: 0.0033 - mean_squared_error: 0.0033 - val_loss: 0.0029 - val_mean_squared_error: 0.0029\n",
      "Epoch 12/25\n",
      "695/695 [==============================] - 2s 3ms/step - loss: 0.0032 - mean_squared_error: 0.0032 - val_loss: 0.0024 - val_mean_squared_error: 0.0024\n",
      "Epoch 13/25\n",
      "695/695 [==============================] - 2s 3ms/step - loss: 0.0032 - mean_squared_error: 0.0032 - val_loss: 0.0030 - val_mean_squared_error: 0.0030\n",
      "Epoch 14/25\n",
      "695/695 [==============================] - 2s 3ms/step - loss: 0.0031 - mean_squared_error: 0.0031 - val_loss: 0.0038 - val_mean_squared_error: 0.0038\n",
      "Epoch 15/25\n",
      "695/695 [==============================] - 2s 3ms/step - loss: 0.0031 - mean_squared_error: 0.0031 - val_loss: 0.0033 - val_mean_squared_error: 0.0033\n",
      "Epoch 16/25\n",
      "695/695 [==============================] - 2s 3ms/step - loss: 0.0031 - mean_squared_error: 0.0031 - val_loss: 0.0023 - val_mean_squared_error: 0.0023\n",
      "Epoch 17/25\n",
      "695/695 [==============================] - 2s 3ms/step - loss: 0.0031 - mean_squared_error: 0.0031 - val_loss: 0.0027 - val_mean_squared_error: 0.0027\n",
      "Epoch 18/25\n",
      "695/695 [==============================] - 2s 3ms/step - loss: 0.0030 - mean_squared_error: 0.0030 - val_loss: 0.0028 - val_mean_squared_error: 0.0028\n",
      "Epoch 19/25\n",
      "695/695 [==============================] - 2s 3ms/step - loss: 0.0030 - mean_squared_error: 0.0030 - val_loss: 0.0028 - val_mean_squared_error: 0.0028\n",
      "Epoch 20/25\n",
      "695/695 [==============================] - 2s 3ms/step - loss: 0.0030 - mean_squared_error: 0.0030 - val_loss: 0.0031 - val_mean_squared_error: 0.0031\n",
      "Epoch 21/25\n",
      "695/695 [==============================] - 2s 3ms/step - loss: 0.0030 - mean_squared_error: 0.0030 - val_loss: 0.0027 - val_mean_squared_error: 0.0027\n"
     ]
    }
   ],
   "source": [
    "early_stopping = tf.keras.callbacks.EarlyStopping(monitor='val_loss', patience=patience, mode='min')\n",
    "\n",
    "history = LSTM_framework.fit(train_X_df_lags, train_Y1_df_lags, batch_size=32, epochs=MAX_EPOCHS,\n",
    "                  validation_split=0.15,\n",
    "                  callbacks=[early_stopping], verbose=1)"
   ]
  },
  {
   "cell_type": "code",
   "execution_count": 41,
   "metadata": {},
   "outputs": [],
   "source": [
    "performance['LSTM framework'] = LSTM_framework.evaluate(test_X_df_lags, y_scaler.fit_transform(np.array(test_Y_df_lags).reshape(-1,1)).reshape(-1,1,1), verbose=0)"
   ]
  },
  {
   "cell_type": "code",
   "execution_count": 42,
   "metadata": {},
   "outputs": [],
   "source": [
    "fpredictions = LSTM_framework.predict(test_X_df_lags)\n",
    "fpredictions = y_scaler.inverse_transform(fpredictions)\n",
    "mape_performance['LSTM_framework'] = mape(fpredictions.reshape(-1), test_Y_df_lags)"
   ]
  },
  {
   "cell_type": "code",
   "execution_count": null,
   "metadata": {},
   "outputs": [],
   "source": []
  },
  {
   "cell_type": "code",
   "execution_count": 43,
   "metadata": {},
   "outputs": [],
   "source": [
    "# FULL DATA \n",
    "MAX_EPOCHS = 50\n",
    "BATCHSIZE = 10\n",
    "patience = 10\n",
    "\n",
    "FULL_LSTMIMO = tf.keras.models.Sequential([\n",
    "    # Shape [batch, time, features] => [batch, time, lstm_units]\n",
    "    tf.keras.layers.LSTM(32, input_shape=(24, 16)),\n",
    "    # Shape => [batch, time, features]\n",
    "    tf.keras.layers.Dense(HORIZON)\n",
    "])"
   ]
  },
  {
   "cell_type": "code",
   "execution_count": 44,
   "metadata": {},
   "outputs": [],
   "source": [
    "# FULL DATA \n",
    "FULL_LSTMIMO.compile(optimizer=tf.optimizers.Adam(), loss='mse', metrics=[tf.metrics.MeanSquaredError()])"
   ]
  },
  {
   "cell_type": "code",
   "execution_count": 45,
   "metadata": {},
   "outputs": [
    {
     "name": "stdout",
     "output_type": "stream",
     "text": [
      "Model: \"sequential_1\"\n",
      "_________________________________________________________________\n",
      "Layer (type)                 Output Shape              Param #   \n",
      "=================================================================\n",
      "lstm_2 (LSTM)                (None, 32)                6272      \n",
      "_________________________________________________________________\n",
      "dense_1 (Dense)              (None, 24)                792       \n",
      "=================================================================\n",
      "Total params: 7,064\n",
      "Trainable params: 7,064\n",
      "Non-trainable params: 0\n",
      "_________________________________________________________________\n"
     ]
    }
   ],
   "source": [
    "# FULL DATA \n",
    "FULL_LSTMIMO.summary()"
   ]
  },
  {
   "cell_type": "code",
   "execution_count": 111,
   "metadata": {},
   "outputs": [
    {
     "name": "stdout",
     "output_type": "stream",
     "text": [
      "Epoch 1/25\n",
      "690/690 [==============================] - 12s 18ms/step - loss: 0.0014 - mean_squared_error: 0.0014 - val_loss: 0.0045 - val_mean_squared_error: 0.0045\n",
      "Epoch 2/25\n",
      "690/690 [==============================] - 11s 15ms/step - loss: 0.0014 - mean_squared_error: 0.0014 - val_loss: 0.0043 - val_mean_squared_error: 0.0043\n",
      "Epoch 3/25\n",
      "690/690 [==============================] - 10s 15ms/step - loss: 0.0015 - mean_squared_error: 0.0015 - val_loss: 0.0044 - val_mean_squared_error: 0.0044\n",
      "Epoch 4/25\n",
      "690/690 [==============================] - 11s 16ms/step - loss: 0.0015 - mean_squared_error: 0.0015 - val_loss: 0.0041 - val_mean_squared_error: 0.0041\n",
      "Epoch 5/25\n",
      "690/690 [==============================] - 10s 15ms/step - loss: 0.0014 - mean_squared_error: 0.0014 - val_loss: 0.0045 - val_mean_squared_error: 0.0045\n",
      "Epoch 6/25\n",
      "690/690 [==============================] - 10s 15ms/step - loss: 0.0014 - mean_squared_error: 0.0014 - val_loss: 0.0043 - val_mean_squared_error: 0.0043\n",
      "Epoch 7/25\n",
      "690/690 [==============================] - 10s 15ms/step - loss: 0.0015 - mean_squared_error: 0.0015 - val_loss: 0.0046 - val_mean_squared_error: 0.0046\n",
      "Epoch 8/25\n",
      "690/690 [==============================] - 11s 15ms/step - loss: 0.0014 - mean_squared_error: 0.0014 - val_loss: 0.0048 - val_mean_squared_error: 0.0048\n",
      "Epoch 9/25\n",
      "690/690 [==============================] - 11s 16ms/step - loss: 0.0014 - mean_squared_error: 0.0014 - val_loss: 0.0044 - val_mean_squared_error: 0.0044\n",
      "RUN 1\n",
      "\n",
      "Epoch 1/25\n",
      "690/690 [==============================] - 12s 18ms/step - loss: 0.0014 - mean_squared_error: 0.0014 - val_loss: 0.0042 - val_mean_squared_error: 0.0042\n",
      "Epoch 2/25\n",
      "690/690 [==============================] - 12s 17ms/step - loss: 0.0014 - mean_squared_error: 0.0014 - val_loss: 0.0044 - val_mean_squared_error: 0.0044\n",
      "Epoch 3/25\n",
      "690/690 [==============================] - 11s 16ms/step - loss: 0.0014 - mean_squared_error: 0.0014 - val_loss: 0.0046 - val_mean_squared_error: 0.0046\n",
      "Epoch 4/25\n",
      "690/690 [==============================] - 11s 16ms/step - loss: 0.0014 - mean_squared_error: 0.0014 - val_loss: 0.0043 - val_mean_squared_error: 0.0043\n",
      "Epoch 5/25\n",
      "690/690 [==============================] - 11s 16ms/step - loss: 0.0013 - mean_squared_error: 0.0013 - val_loss: 0.0047 - val_mean_squared_error: 0.0047\n",
      "Epoch 6/25\n",
      "690/690 [==============================] - 10s 15ms/step - loss: 0.0014 - mean_squared_error: 0.0014 - val_loss: 0.0041 - val_mean_squared_error: 0.0041\n",
      "Epoch 7/25\n",
      "690/690 [==============================] - 10s 15ms/step - loss: 0.0014 - mean_squared_error: 0.0014 - val_loss: 0.0043 - val_mean_squared_error: 0.0043\n",
      "Epoch 8/25\n",
      "690/690 [==============================] - 10s 15ms/step - loss: 0.0014 - mean_squared_error: 0.0014 - val_loss: 0.0053 - val_mean_squared_error: 0.0053\n",
      "Epoch 9/25\n",
      "690/690 [==============================] - 11s 15ms/step - loss: 0.0013 - mean_squared_error: 0.0013 - val_loss: 0.0041 - val_mean_squared_error: 0.0041\n",
      "Epoch 10/25\n",
      "690/690 [==============================] - 10s 14ms/step - loss: 0.0013 - mean_squared_error: 0.0013 - val_loss: 0.0044 - val_mean_squared_error: 0.0044\n",
      "Epoch 11/25\n",
      "690/690 [==============================] - 10s 14ms/step - loss: 0.0014 - mean_squared_error: 0.0014 - val_loss: 0.0043 - val_mean_squared_error: 0.0043\n",
      "Epoch 12/25\n",
      "690/690 [==============================] - 10s 14ms/step - loss: 0.0013 - mean_squared_error: 0.0013 - val_loss: 0.0042 - val_mean_squared_error: 0.0042\n",
      "Epoch 13/25\n",
      "690/690 [==============================] - 10s 14ms/step - loss: 0.0013 - mean_squared_error: 0.0013 - val_loss: 0.0043 - val_mean_squared_error: 0.0043\n",
      "Epoch 14/25\n",
      "690/690 [==============================] - 10s 14ms/step - loss: 0.0014 - mean_squared_error: 0.0014 - val_loss: 0.0045 - val_mean_squared_error: 0.0045\n",
      "RUN 2\n",
      "\n",
      "Epoch 1/25\n",
      "690/690 [==============================] - 11s 16ms/step - loss: 0.0013 - mean_squared_error: 0.0013 - val_loss: 0.0044 - val_mean_squared_error: 0.0044\n",
      "Epoch 2/25\n",
      "690/690 [==============================] - 10s 15ms/step - loss: 0.0013 - mean_squared_error: 0.0013 - val_loss: 0.0040 - val_mean_squared_error: 0.0040\n",
      "Epoch 3/25\n",
      "690/690 [==============================] - 10s 14ms/step - loss: 0.0013 - mean_squared_error: 0.0013 - val_loss: 0.0041 - val_mean_squared_error: 0.0041\n",
      "Epoch 4/25\n",
      "690/690 [==============================] - 11s 15ms/step - loss: 0.0013 - mean_squared_error: 0.0013 - val_loss: 0.0042 - val_mean_squared_error: 0.0042\n",
      "Epoch 5/25\n",
      "690/690 [==============================] - 11s 16ms/step - loss: 0.0013 - mean_squared_error: 0.0013 - val_loss: 0.0043 - val_mean_squared_error: 0.0043\n",
      "Epoch 6/25\n",
      "690/690 [==============================] - 10s 15ms/step - loss: 0.0013 - mean_squared_error: 0.0013 - val_loss: 0.0045 - val_mean_squared_error: 0.0045\n",
      "Epoch 7/25\n",
      "690/690 [==============================] - 10s 15ms/step - loss: 0.0013 - mean_squared_error: 0.0013 - val_loss: 0.0046 - val_mean_squared_error: 0.0046\n",
      "RUN 3\n",
      "\n",
      "Epoch 1/25\n",
      "690/690 [==============================] - 11s 16ms/step - loss: 0.0013 - mean_squared_error: 0.0013 - val_loss: 0.0043 - val_mean_squared_error: 0.0043\n",
      "Epoch 2/25\n",
      "690/690 [==============================] - 10s 14ms/step - loss: 0.0013 - mean_squared_error: 0.0013 - val_loss: 0.0043 - val_mean_squared_error: 0.0043\n",
      "Epoch 3/25\n",
      "690/690 [==============================] - 10s 14ms/step - loss: 0.0013 - mean_squared_error: 0.0013 - val_loss: 0.0042 - val_mean_squared_error: 0.0042\n",
      "Epoch 4/25\n",
      "690/690 [==============================] - 10s 14ms/step - loss: 0.0013 - mean_squared_error: 0.0013 - val_loss: 0.0042 - val_mean_squared_error: 0.0042\n",
      "Epoch 5/25\n",
      "690/690 [==============================] - 10s 14ms/step - loss: 0.0013 - mean_squared_error: 0.0013 - val_loss: 0.0064 - val_mean_squared_error: 0.0064\n",
      "Epoch 6/25\n",
      "690/690 [==============================] - 10s 14ms/step - loss: 0.0014 - mean_squared_error: 0.0014 - val_loss: 0.0043 - val_mean_squared_error: 0.0043\n",
      "Epoch 7/25\n",
      "690/690 [==============================] - 10s 14ms/step - loss: 0.0012 - mean_squared_error: 0.0012 - val_loss: 0.0043 - val_mean_squared_error: 0.0043\n",
      "Epoch 8/25\n",
      "690/690 [==============================] - 10s 14ms/step - loss: 0.0012 - mean_squared_error: 0.0012 - val_loss: 0.0043 - val_mean_squared_error: 0.0043\n",
      "Epoch 9/25\n",
      "690/690 [==============================] - 10s 14ms/step - loss: 0.0013 - mean_squared_error: 0.0013 - val_loss: 0.0042 - val_mean_squared_error: 0.0042\n",
      "RUN 4\n",
      "\n",
      "Epoch 1/25\n",
      "690/690 [==============================] - 11s 15ms/step - loss: 0.0013 - mean_squared_error: 0.0013 - val_loss: 0.0043 - val_mean_squared_error: 0.0043\n",
      "Epoch 2/25\n",
      "690/690 [==============================] - 10s 15ms/step - loss: 0.0013 - mean_squared_error: 0.0013 - val_loss: 0.0043 - val_mean_squared_error: 0.0043\n",
      "Epoch 3/25\n",
      "690/690 [==============================] - 10s 14ms/step - loss: 0.0012 - mean_squared_error: 0.0012 - val_loss: 0.0043 - val_mean_squared_error: 0.0043\n",
      "Epoch 4/25\n",
      "690/690 [==============================] - 10s 14ms/step - loss: 0.0012 - mean_squared_error: 0.0012 - val_loss: 0.0046 - val_mean_squared_error: 0.0046\n",
      "Epoch 5/25\n",
      "690/690 [==============================] - 10s 14ms/step - loss: 0.0012 - mean_squared_error: 0.0012 - val_loss: 0.0045 - val_mean_squared_error: 0.0045\n",
      "Epoch 6/25\n",
      "690/690 [==============================] - 10s 14ms/step - loss: 0.0012 - mean_squared_error: 0.0012 - val_loss: 0.0042 - val_mean_squared_error: 0.0042\n",
      "Epoch 7/25\n",
      "690/690 [==============================] - 10s 14ms/step - loss: 0.0012 - mean_squared_error: 0.0012 - val_loss: 0.0045 - val_mean_squared_error: 0.0045\n",
      "Epoch 8/25\n",
      "690/690 [==============================] - 10s 14ms/step - loss: 0.0012 - mean_squared_error: 0.0012 - val_loss: 0.0045 - val_mean_squared_error: 0.0045\n",
      "Epoch 9/25\n",
      "690/690 [==============================] - 10s 14ms/step - loss: 0.0012 - mean_squared_error: 0.0012 - val_loss: 0.0047 - val_mean_squared_error: 0.0047\n",
      "Epoch 10/25\n",
      "690/690 [==============================] - 10s 15ms/step - loss: 0.0012 - mean_squared_error: 0.0012 - val_loss: 0.0045 - val_mean_squared_error: 0.0045\n",
      "Epoch 11/25\n",
      "690/690 [==============================] - 10s 15ms/step - loss: 0.0012 - mean_squared_error: 0.0012 - val_loss: 0.0043 - val_mean_squared_error: 0.0043\n"
     ]
    },
    {
     "name": "stdout",
     "output_type": "stream",
     "text": [
      "RUN 5\n",
      "\n",
      "Epoch 1/25\n",
      "690/690 [==============================] - 12s 17ms/step - loss: 0.0012 - mean_squared_error: 0.0012 - val_loss: 0.0045 - val_mean_squared_error: 0.0045\n",
      "Epoch 2/25\n",
      "690/690 [==============================] - 10s 15ms/step - loss: 0.0012 - mean_squared_error: 0.0012 - val_loss: 0.0042 - val_mean_squared_error: 0.0042\n",
      "Epoch 3/25\n",
      "690/690 [==============================] - 9s 14ms/step - loss: 0.0012 - mean_squared_error: 0.0012 - val_loss: 0.0042 - val_mean_squared_error: 0.0042\n",
      "Epoch 4/25\n",
      "690/690 [==============================] - 10s 14ms/step - loss: 0.0012 - mean_squared_error: 0.0012 - val_loss: 0.0044 - val_mean_squared_error: 0.0044\n",
      "Epoch 5/25\n",
      "690/690 [==============================] - 10s 14ms/step - loss: 0.0012 - mean_squared_error: 0.0012 - val_loss: 0.0044 - val_mean_squared_error: 0.0044\n",
      "Epoch 6/25\n",
      "690/690 [==============================] - 10s 14ms/step - loss: 0.0012 - mean_squared_error: 0.0012 - val_loss: 0.0044 - val_mean_squared_error: 0.0044\n",
      "Epoch 7/25\n",
      "690/690 [==============================] - 10s 14ms/step - loss: 0.0012 - mean_squared_error: 0.0012 - val_loss: 0.0043 - val_mean_squared_error: 0.0043\n",
      "RUN 6\n",
      "\n",
      "Epoch 1/25\n",
      "690/690 [==============================] - 11s 16ms/step - loss: 0.0012 - mean_squared_error: 0.0012 - val_loss: 0.0046 - val_mean_squared_error: 0.0046\n",
      "Epoch 2/25\n",
      "690/690 [==============================] - 10s 14ms/step - loss: 0.0012 - mean_squared_error: 0.0012 - val_loss: 0.0045 - val_mean_squared_error: 0.0045\n",
      "Epoch 3/25\n",
      "690/690 [==============================] - 9s 14ms/step - loss: 0.0011 - mean_squared_error: 0.0011 - val_loss: 0.0046 - val_mean_squared_error: 0.0046\n",
      "Epoch 4/25\n",
      "690/690 [==============================] - 10s 14ms/step - loss: 0.0012 - mean_squared_error: 0.0012 - val_loss: 0.0042 - val_mean_squared_error: 0.0042\n",
      "Epoch 5/25\n",
      "690/690 [==============================] - 10s 14ms/step - loss: 0.0012 - mean_squared_error: 0.0012 - val_loss: 0.0045 - val_mean_squared_error: 0.0045\n",
      "Epoch 6/25\n",
      "690/690 [==============================] - 10s 14ms/step - loss: 0.0011 - mean_squared_error: 0.0011 - val_loss: 0.0044 - val_mean_squared_error: 0.0044\n",
      "Epoch 7/25\n",
      "690/690 [==============================] - 10s 14ms/step - loss: 0.0011 - mean_squared_error: 0.0011 - val_loss: 0.0045 - val_mean_squared_error: 0.0045\n",
      "Epoch 8/25\n",
      "690/690 [==============================] - 9s 14ms/step - loss: 0.0011 - mean_squared_error: 0.0011 - val_loss: 0.0049 - val_mean_squared_error: 0.0049\n",
      "Epoch 9/25\n",
      "690/690 [==============================] - 10s 14ms/step - loss: 0.0011 - mean_squared_error: 0.0011 - val_loss: 0.0043 - val_mean_squared_error: 0.0043\n",
      "RUN 7\n",
      "\n",
      "Epoch 1/25\n",
      "690/690 [==============================] - 11s 16ms/step - loss: 0.0011 - mean_squared_error: 0.0011 - val_loss: 0.0046 - val_mean_squared_error: 0.0046\n",
      "Epoch 2/25\n",
      "690/690 [==============================] - 10s 14ms/step - loss: 0.0011 - mean_squared_error: 0.0011 - val_loss: 0.0047 - val_mean_squared_error: 0.0047\n",
      "Epoch 3/25\n",
      "690/690 [==============================] - 11s 15ms/step - loss: 0.0011 - mean_squared_error: 0.0011 - val_loss: 0.0043 - val_mean_squared_error: 0.0043\n",
      "Epoch 4/25\n",
      "690/690 [==============================] - 11s 16ms/step - loss: 0.0011 - mean_squared_error: 0.0011 - val_loss: 0.0047 - val_mean_squared_error: 0.0047\n",
      "Epoch 5/25\n",
      "690/690 [==============================] - 10s 15ms/step - loss: 0.0011 - mean_squared_error: 0.0011 - val_loss: 0.0049 - val_mean_squared_error: 0.0049\n",
      "Epoch 6/25\n",
      "690/690 [==============================] - 10s 15ms/step - loss: 0.0011 - mean_squared_error: 0.0011 - val_loss: 0.0044 - val_mean_squared_error: 0.0044\n",
      "Epoch 7/25\n",
      "690/690 [==============================] - 11s 15ms/step - loss: 0.0011 - mean_squared_error: 0.0011 - val_loss: 0.0045 - val_mean_squared_error: 0.0045\n",
      "Epoch 8/25\n",
      "690/690 [==============================] - 11s 16ms/step - loss: 0.0011 - mean_squared_error: 0.0011 - val_loss: 0.0044 - val_mean_squared_error: 0.0044\n",
      "RUN 8\n",
      "\n",
      "Epoch 1/25\n",
      "690/690 [==============================] - 11s 17ms/step - loss: 0.0011 - mean_squared_error: 0.0011 - val_loss: 0.0044 - val_mean_squared_error: 0.0044\n",
      "Epoch 2/25\n",
      "690/690 [==============================] - 10s 15ms/step - loss: 0.0011 - mean_squared_error: 0.0011 - val_loss: 0.0043 - val_mean_squared_error: 0.0043\n",
      "Epoch 3/25\n",
      "690/690 [==============================] - 10s 14ms/step - loss: 0.0011 - mean_squared_error: 0.0011 - val_loss: 0.0046 - val_mean_squared_error: 0.0046\n",
      "Epoch 4/25\n",
      "690/690 [==============================] - 10s 14ms/step - loss: 0.0011 - mean_squared_error: 0.0011 - val_loss: 0.0046 - val_mean_squared_error: 0.0046\n",
      "Epoch 5/25\n",
      "690/690 [==============================] - 10s 14ms/step - loss: 0.0011 - mean_squared_error: 0.0011 - val_loss: 0.0044 - val_mean_squared_error: 0.0044\n",
      "Epoch 6/25\n",
      "690/690 [==============================] - 10s 14ms/step - loss: 0.0011 - mean_squared_error: 0.0011 - val_loss: 0.0044 - val_mean_squared_error: 0.0044\n",
      "Epoch 7/25\n",
      "690/690 [==============================] - 10s 14ms/step - loss: 0.0011 - mean_squared_error: 0.0011 - val_loss: 0.0047 - val_mean_squared_error: 0.0047\n",
      "RUN 9\n",
      "\n",
      "Epoch 1/25\n",
      "690/690 [==============================] - 11s 16ms/step - loss: 0.0011 - mean_squared_error: 0.0011 - val_loss: 0.0043 - val_mean_squared_error: 0.0043\n",
      "Epoch 2/25\n",
      "690/690 [==============================] - 11s 16ms/step - loss: 0.0011 - mean_squared_error: 0.0011 - val_loss: 0.0046 - val_mean_squared_error: 0.0046\n",
      "Epoch 3/25\n",
      "690/690 [==============================] - 11s 15ms/step - loss: 0.0011 - mean_squared_error: 0.0011 - val_loss: 0.0045 - val_mean_squared_error: 0.0045\n",
      "Epoch 4/25\n",
      "690/690 [==============================] - 10s 14ms/step - loss: 0.0011 - mean_squared_error: 0.0011 - val_loss: 0.0046 - val_mean_squared_error: 0.0046\n",
      "Epoch 5/25\n",
      "690/690 [==============================] - 10s 14ms/step - loss: 0.0010 - mean_squared_error: 0.0010 - val_loss: 0.0047 - val_mean_squared_error: 0.0047\n",
      "Epoch 6/25\n",
      "690/690 [==============================] - 10s 14ms/step - loss: 0.0010 - mean_squared_error: 0.0010 - val_loss: 0.0046 - val_mean_squared_error: 0.0046\n",
      "RUN 10\n",
      "\n"
     ]
    }
   ],
   "source": [
    "mape_performance['LSTM-MIMO-full-data'] = []\n",
    "mse_performance['LSTM-MIMO-full-data'] = []\n",
    "for i in range(1,11):\n",
    "    FULL_LSTMIMO.compile(optimizer=tf.optimizers.Adam(), loss='mse', metrics=[tf.metrics.MeanSquaredError()])\n",
    "\n",
    "    early_stopping = tf.keras.callbacks.EarlyStopping(monitor='val_loss', patience=patience, mode='min')\n",
    "\n",
    "    history = FULL_LSTMIMO.fit(train_longer_inputs['X'], train_longer_inputs['target'], batch_size=32, epochs=MAX_EPOCHS,\n",
    "                  validation_split=0.15,\n",
    "                  callbacks=[early_stopping], verbose=1)\n",
    "\n",
    "\n",
    "    #save_model(FULL_LSTMIMO, i)\n",
    "    FD_predictions = FULL_LSTMIMO.predict(test_longer_inputs['X'])\n",
    "    FD_eval_df = create_evaluation_df(FD_predictions, test_longer_inputs, HORIZON, y_scaler)\n",
    "    mape = validation(FD_eval_df['prediction'], FD_eval_df['actual'], 'MAPE')\n",
    "    rmse = validation(FD_eval_df['prediction'], FD_eval_df['actual'], 'RMSE')\n",
    "    mape_performance['LSTM-MIMO-full-data'].append(mape)\n",
    "    mse_performance['LSTM-MIMO-full-data'].append(rmse)\n",
    "    print('RUN '+str(i)+'\\n')\n",
    "    metrics.loc[i] = pd.Series({'mape':mape, 'rmse':rmse})\n",
    "\n",
    "    file1 = open('./results/ERCOT_LSTM_MIMO-full_accuracy.txt', 'a') \n",
    "    file1.write('\\nRUN '+str(i)+':') \n",
    "    file1.writelines(['\\n'+str(mape), '\\n'+str(rmse)]) \n",
    "    file1.close()\n",
    "metrics.to_csv('./results/ERCOT_MIMO-full.csv')"
   ]
  },
  {
   "cell_type": "code",
   "execution_count": 47,
   "metadata": {},
   "outputs": [
    {
     "data": {
      "image/png": "[encoded data removed]",
      "text/plain": [
       "<Figure size 576x432 with 1 Axes>"
      ]
     },
     "metadata": {
      "needs_background": "light"
     },
     "output_type": "display_data"
    }
   ],
   "source": [
    "# FULL DATA \n",
    "plot_train_history(FULL_LSTMIMO)"
   ]
  },
  {
   "cell_type": "code",
   "execution_count": 49,
   "metadata": {},
   "outputs": [],
   "source": [
    "FD_predictions = FULL_LSTMIMO.predict(test_longer_inputs['X'])\n",
    "FD_eval_df = create_evaluation_df(FD_predictions, test_longer_inputs, HORIZON, y_scaler)\n",
    "performance['LSTM-MIMO-full-data'] = FULL_LSTMIMO.evaluate(test_longer_inputs['X'],test_longer_inputs['target'], verbose=0)\n",
    "mape_performance['LSTM-MIMO-full-data'] = mape(FD_eval_df['prediction'], FD_eval_df['actual'])"
   ]
  },
  {
   "cell_type": "code",
   "execution_count": null,
   "metadata": {},
   "outputs": [],
   "source": []
  },
  {
   "cell_type": "code",
   "execution_count": 50,
   "metadata": {},
   "outputs": [],
   "source": [
    "MAX_EPOCHS = 50\n",
    "BATCHSIZE = 10\n",
    "patience = 10\n",
    "\n",
    "LSTMIMO = tf.keras.models.Sequential([\n",
    "    # Shape [batch, time, features] => [batch, time, lstm_units]\n",
    "    tf.keras.layers.LSTM(32, input_shape=(24, 6)),\n",
    "    # Shape => [batch, time, features]\n",
    "    tf.keras.layers.Dense(HORIZON)\n",
    "])"
   ]
  },
  {
   "cell_type": "code",
   "execution_count": 51,
   "metadata": {},
   "outputs": [],
   "source": [
    "LSTMIMO.compile(optimizer=tf.optimizers.Adam(), loss='mse', metrics=[tf.metrics.MeanSquaredError()])"
   ]
  },
  {
   "cell_type": "code",
   "execution_count": 52,
   "metadata": {},
   "outputs": [
    {
     "name": "stdout",
     "output_type": "stream",
     "text": [
      "Model: \"sequential_2\"\n",
      "_________________________________________________________________\n",
      "Layer (type)                 Output Shape              Param #   \n",
      "=================================================================\n",
      "lstm_3 (LSTM)                (None, 32)                4992      \n",
      "_________________________________________________________________\n",
      "dense_2 (Dense)              (None, 24)                792       \n",
      "=================================================================\n",
      "Total params: 5,784\n",
      "Trainable params: 5,784\n",
      "Non-trainable params: 0\n",
      "_________________________________________________________________\n"
     ]
    }
   ],
   "source": [
    "LSTMIMO.summary()"
   ]
  },
  {
   "cell_type": "code",
   "execution_count": 114,
   "metadata": {},
   "outputs": [
    {
     "name": "stdout",
     "output_type": "stream",
     "text": [
      "Epoch 1/25\n",
      "690/690 [==============================] - 10s 15ms/step - loss: 0.0030 - mean_squared_error: 0.0030 - val_loss: 0.0038 - val_mean_squared_error: 0.0038\n",
      "Epoch 2/25\n",
      "690/690 [==============================] - 10s 14ms/step - loss: 0.0030 - mean_squared_error: 0.0030 - val_loss: 0.0036 - val_mean_squared_error: 0.0036\n",
      "Epoch 3/25\n",
      "690/690 [==============================] - 10s 14ms/step - loss: 0.0030 - mean_squared_error: 0.0030 - val_loss: 0.0036 - val_mean_squared_error: 0.0036\n",
      "Epoch 4/25\n",
      "690/690 [==============================] - 10s 15ms/step - loss: 0.0030 - mean_squared_error: 0.0030 - val_loss: 0.0039 - val_mean_squared_error: 0.0039\n",
      "Epoch 5/25\n",
      "690/690 [==============================] - 10s 15ms/step - loss: 0.0030 - mean_squared_error: 0.0030 - val_loss: 0.0039 - val_mean_squared_error: 0.0039\n",
      "Epoch 6/25\n",
      "690/690 [==============================] - 10s 14ms/step - loss: 0.0029 - mean_squared_error: 0.0029 - val_loss: 0.0039 - val_mean_squared_error: 0.0039\n",
      "Epoch 7/25\n",
      "690/690 [==============================] - 10s 14ms/step - loss: 0.0029 - mean_squared_error: 0.0029 - val_loss: 0.0039 - val_mean_squared_error: 0.0039\n",
      "Epoch 8/25\n",
      "690/690 [==============================] - 10s 14ms/step - loss: 0.0029 - mean_squared_error: 0.0029 - val_loss: 0.0044 - val_mean_squared_error: 0.0044\n",
      "RUN 1\n",
      "\n",
      "Epoch 1/25\n",
      "690/690 [==============================] - 11s 16ms/step - loss: 0.0029 - mean_squared_error: 0.0029 - val_loss: 0.0041 - val_mean_squared_error: 0.0041\n",
      "Epoch 2/25\n",
      "690/690 [==============================] - 11s 16ms/step - loss: 0.0029 - mean_squared_error: 0.0029 - val_loss: 0.0040 - val_mean_squared_error: 0.0040\n",
      "Epoch 3/25\n",
      "690/690 [==============================] - 11s 16ms/step - loss: 0.0029 - mean_squared_error: 0.0029 - val_loss: 0.0039 - val_mean_squared_error: 0.0039\n",
      "Epoch 4/25\n",
      "690/690 [==============================] - 10s 15ms/step - loss: 0.0029 - mean_squared_error: 0.0029 - val_loss: 0.0039 - val_mean_squared_error: 0.0039\n",
      "Epoch 5/25\n",
      "690/690 [==============================] - 10s 15ms/step - loss: 0.0028 - mean_squared_error: 0.0028 - val_loss: 0.0051 - val_mean_squared_error: 0.0051\n",
      "Epoch 6/25\n",
      "690/690 [==============================] - 10s 14ms/step - loss: 0.0028 - mean_squared_error: 0.0028 - val_loss: 0.0039 - val_mean_squared_error: 0.0039\n",
      "Epoch 7/25\n",
      "690/690 [==============================] - 10s 14ms/step - loss: 0.0029 - mean_squared_error: 0.0029 - val_loss: 0.0038 - val_mean_squared_error: 0.0038\n",
      "Epoch 8/25\n",
      "690/690 [==============================] - 10s 14ms/step - loss: 0.0028 - mean_squared_error: 0.0028 - val_loss: 0.0041 - val_mean_squared_error: 0.0041\n",
      "Epoch 9/25\n",
      "690/690 [==============================] - 11s 16ms/step - loss: 0.0028 - mean_squared_error: 0.0028 - val_loss: 0.0040 - val_mean_squared_error: 0.0040\n",
      "Epoch 10/25\n",
      "690/690 [==============================] - 11s 16ms/step - loss: 0.0028 - mean_squared_error: 0.0028 - val_loss: 0.0040 - val_mean_squared_error: 0.0040\n",
      "Epoch 11/25\n",
      "690/690 [==============================] - 11s 16ms/step - loss: 0.0028 - mean_squared_error: 0.0028 - val_loss: 0.0040 - val_mean_squared_error: 0.0040\n",
      "Epoch 12/25\n",
      "690/690 [==============================] - 11s 15ms/step - loss: 0.0028 - mean_squared_error: 0.0028 - val_loss: 0.0043 - val_mean_squared_error: 0.0043\n",
      "RUN 2\n",
      "\n",
      "Epoch 1/25\n",
      "690/690 [==============================] - 12s 18ms/step - loss: 0.0028 - mean_squared_error: 0.0028 - val_loss: 0.0041 - val_mean_squared_error: 0.0041\n",
      "Epoch 2/25\n",
      "690/690 [==============================] - 11s 16ms/step - loss: 0.0028 - mean_squared_error: 0.0028 - val_loss: 0.0041 - val_mean_squared_error: 0.0041\n",
      "Epoch 3/25\n",
      "690/690 [==============================] - 11s 15ms/step - loss: 0.0028 - mean_squared_error: 0.0028 - val_loss: 0.0042 - val_mean_squared_error: 0.0042\n",
      "Epoch 4/25\n",
      "690/690 [==============================] - 10s 15ms/step - loss: 0.0028 - mean_squared_error: 0.0028 - val_loss: 0.0042 - val_mean_squared_error: 0.0042\n",
      "Epoch 5/25\n",
      "690/690 [==============================] - 10s 15ms/step - loss: 0.0027 - mean_squared_error: 0.0027 - val_loss: 0.0043 - val_mean_squared_error: 0.0043\n",
      "Epoch 6/25\n",
      "690/690 [==============================] - 10s 14ms/step - loss: 0.0027 - mean_squared_error: 0.0027 - val_loss: 0.0039 - val_mean_squared_error: 0.0039\n",
      "Epoch 7/25\n",
      "690/690 [==============================] - 10s 14ms/step - loss: 0.0027 - mean_squared_error: 0.0027 - val_loss: 0.0039 - val_mean_squared_error: 0.0039\n",
      "Epoch 8/25\n",
      "690/690 [==============================] - 10s 14ms/step - loss: 0.0027 - mean_squared_error: 0.0027 - val_loss: 0.0041 - val_mean_squared_error: 0.0041\n",
      "Epoch 9/25\n",
      "690/690 [==============================] - 10s 14ms/step - loss: 0.0027 - mean_squared_error: 0.0027 - val_loss: 0.0041 - val_mean_squared_error: 0.0041\n",
      "Epoch 10/25\n",
      "690/690 [==============================] - 10s 15ms/step - loss: 0.0027 - mean_squared_error: 0.0027 - val_loss: 0.0045 - val_mean_squared_error: 0.0045\n",
      "Epoch 11/25\n",
      "690/690 [==============================] - 11s 15ms/step - loss: 0.0027 - mean_squared_error: 0.0027 - val_loss: 0.0042 - val_mean_squared_error: 0.0042\n",
      "RUN 3\n",
      "\n",
      "Epoch 1/25\n",
      "690/690 [==============================] - 11s 16ms/step - loss: 0.0027 - mean_squared_error: 0.0027 - val_loss: 0.0042 - val_mean_squared_error: 0.0042\n",
      "Epoch 2/25\n",
      "690/690 [==============================] - 11s 16ms/step - loss: 0.0027 - mean_squared_error: 0.0027 - val_loss: 0.0043 - val_mean_squared_error: 0.0043\n",
      "Epoch 3/25\n",
      "690/690 [==============================] - 11s 16ms/step - loss: 0.0026 - mean_squared_error: 0.0026 - val_loss: 0.0041 - val_mean_squared_error: 0.0041\n",
      "Epoch 4/25\n",
      "690/690 [==============================] - 11s 16ms/step - loss: 0.0026 - mean_squared_error: 0.0026 - val_loss: 0.0041 - val_mean_squared_error: 0.0041\n",
      "Epoch 5/25\n",
      "690/690 [==============================] - 11s 15ms/step - loss: 0.0026 - mean_squared_error: 0.0026 - val_loss: 0.0041 - val_mean_squared_error: 0.0041\n",
      "Epoch 6/25\n",
      "690/690 [==============================] - 11s 16ms/step - loss: 0.0026 - mean_squared_error: 0.0026 - val_loss: 0.0044 - val_mean_squared_error: 0.0044\n",
      "Epoch 7/25\n",
      "690/690 [==============================] - 11s 16ms/step - loss: 0.0026 - mean_squared_error: 0.0026 - val_loss: 0.0043 - val_mean_squared_error: 0.0043\n",
      "Epoch 8/25\n",
      "690/690 [==============================] - 11s 16ms/step - loss: 0.0026 - mean_squared_error: 0.0026 - val_loss: 0.0042 - val_mean_squared_error: 0.0042\n",
      "RUN 4\n",
      "\n",
      "Epoch 1/25\n",
      "690/690 [==============================] - 12s 17ms/step - loss: 0.0026 - mean_squared_error: 0.0026 - val_loss: 0.0043 - val_mean_squared_error: 0.0043\n",
      "Epoch 2/25\n",
      "690/690 [==============================] - 11s 15ms/step - loss: 0.0026 - mean_squared_error: 0.0026 - val_loss: 0.0044 - val_mean_squared_error: 0.0044\n",
      "Epoch 3/25\n",
      "690/690 [==============================] - 11s 16ms/step - loss: 0.0026 - mean_squared_error: 0.0026 - val_loss: 0.0043 - val_mean_squared_error: 0.0043\n",
      "Epoch 4/25\n",
      "690/690 [==============================] - 11s 16ms/step - loss: 0.0026 - mean_squared_error: 0.0026 - val_loss: 0.0043 - val_mean_squared_error: 0.0043\n",
      "Epoch 5/25\n",
      "690/690 [==============================] - 10s 15ms/step - loss: 0.0026 - mean_squared_error: 0.0026 - val_loss: 0.0044 - val_mean_squared_error: 0.0044\n",
      "Epoch 6/25\n",
      "690/690 [==============================] - 11s 16ms/step - loss: 0.0026 - mean_squared_error: 0.0026 - val_loss: 0.0044 - val_mean_squared_error: 0.0044\n",
      "RUN 5\n",
      "\n",
      "Epoch 1/25\n",
      "690/690 [==============================] - 13s 18ms/step - loss: 0.0026 - mean_squared_error: 0.0026 - val_loss: 0.0043 - val_mean_squared_error: 0.0043\n",
      "Epoch 2/25\n",
      "690/690 [==============================] - 11s 17ms/step - loss: 0.0026 - mean_squared_error: 0.0026 - val_loss: 0.0042 - val_mean_squared_error: 0.0042\n",
      "Epoch 3/25\n",
      "690/690 [==============================] - 11s 16ms/step - loss: 0.0025 - mean_squared_error: 0.0025 - val_loss: 0.0044 - val_mean_squared_error: 0.0044\n",
      "Epoch 4/25\n",
      "690/690 [==============================] - 11s 16ms/step - loss: 0.0026 - mean_squared_error: 0.0026 - val_loss: 0.0043 - val_mean_squared_error: 0.0043\n",
      "Epoch 5/25\n",
      "690/690 [==============================] - 11s 16ms/step - loss: 0.0025 - mean_squared_error: 0.0025 - val_loss: 0.0043 - val_mean_squared_error: 0.0043\n"
     ]
    },
    {
     "name": "stdout",
     "output_type": "stream",
     "text": [
      "Epoch 6/25\n",
      "690/690 [==============================] - 11s 16ms/step - loss: 0.0025 - mean_squared_error: 0.0025 - val_loss: 0.0042 - val_mean_squared_error: 0.0042\n",
      "Epoch 7/25\n",
      "690/690 [==============================] - 11s 16ms/step - loss: 0.0025 - mean_squared_error: 0.0025 - val_loss: 0.0041 - val_mean_squared_error: 0.0041\n",
      "Epoch 8/25\n",
      "690/690 [==============================] - 11s 16ms/step - loss: 0.0025 - mean_squared_error: 0.0025 - val_loss: 0.0048 - val_mean_squared_error: 0.0048\n",
      "Epoch 9/25\n",
      "690/690 [==============================] - 10s 15ms/step - loss: 0.0025 - mean_squared_error: 0.0025 - val_loss: 0.0042 - val_mean_squared_error: 0.0042\n",
      "Epoch 10/25\n",
      "690/690 [==============================] - 10s 14ms/step - loss: 0.0025 - mean_squared_error: 0.0025 - val_loss: 0.0042 - val_mean_squared_error: 0.0042\n",
      "Epoch 11/25\n",
      "690/690 [==============================] - 11s 15ms/step - loss: 0.0025 - mean_squared_error: 0.0025 - val_loss: 0.0043 - val_mean_squared_error: 0.0043\n",
      "Epoch 12/25\n",
      "690/690 [==============================] - 11s 15ms/step - loss: 0.0025 - mean_squared_error: 0.0025 - val_loss: 0.0053 - val_mean_squared_error: 0.0053\n",
      "RUN 6\n",
      "\n",
      "Epoch 1/25\n",
      "690/690 [==============================] - 12s 18ms/step - loss: 0.0025 - mean_squared_error: 0.0025 - val_loss: 0.0042 - val_mean_squared_error: 0.0042\n",
      "Epoch 2/25\n",
      "690/690 [==============================] - 12s 18ms/step - loss: 0.0025 - mean_squared_error: 0.0025 - val_loss: 0.0041 - val_mean_squared_error: 0.0041\n",
      "Epoch 3/25\n",
      "690/690 [==============================] - 12s 17ms/step - loss: 0.0024 - mean_squared_error: 0.0024 - val_loss: 0.0042 - val_mean_squared_error: 0.0042\n",
      "Epoch 4/25\n",
      "690/690 [==============================] - 12s 17ms/step - loss: 0.0025 - mean_squared_error: 0.0025 - val_loss: 0.0044 - val_mean_squared_error: 0.0044\n",
      "Epoch 5/25\n",
      "690/690 [==============================] - 11s 16ms/step - loss: 0.0024 - mean_squared_error: 0.0024 - val_loss: 0.0043 - val_mean_squared_error: 0.0043\n",
      "Epoch 6/25\n",
      "690/690 [==============================] - 10s 15ms/step - loss: 0.0024 - mean_squared_error: 0.0024 - val_loss: 0.0044 - val_mean_squared_error: 0.0044\n",
      "Epoch 7/25\n",
      "690/690 [==============================] - 10s 15ms/step - loss: 0.0024 - mean_squared_error: 0.0024 - val_loss: 0.0043 - val_mean_squared_error: 0.0043\n",
      "RUN 7\n",
      "\n",
      "Epoch 1/25\n",
      "690/690 [==============================] - 12s 17ms/step - loss: 0.0024 - mean_squared_error: 0.0024 - val_loss: 0.0046 - val_mean_squared_error: 0.0046\n",
      "Epoch 2/25\n",
      "690/690 [==============================] - 11s 16ms/step - loss: 0.0024 - mean_squared_error: 0.0024 - val_loss: 0.0043 - val_mean_squared_error: 0.0043\n",
      "Epoch 3/25\n",
      "690/690 [==============================] - 10s 15ms/step - loss: 0.0024 - mean_squared_error: 0.0024 - val_loss: 0.0048 - val_mean_squared_error: 0.0048\n",
      "Epoch 4/25\n",
      "690/690 [==============================] - 10s 15ms/step - loss: 0.0024 - mean_squared_error: 0.0024 - val_loss: 0.0042 - val_mean_squared_error: 0.0042\n",
      "Epoch 5/25\n",
      "690/690 [==============================] - 11s 15ms/step - loss: 0.0024 - mean_squared_error: 0.0024 - val_loss: 0.0043 - val_mean_squared_error: 0.0043\n",
      "Epoch 6/25\n",
      "690/690 [==============================] - 10s 14ms/step - loss: 0.0024 - mean_squared_error: 0.0024 - val_loss: 0.0042 - val_mean_squared_error: 0.0042\n",
      "Epoch 7/25\n",
      "690/690 [==============================] - 10s 15ms/step - loss: 0.0024 - mean_squared_error: 0.0024 - val_loss: 0.0044 - val_mean_squared_error: 0.0044\n",
      "Epoch 8/25\n",
      "690/690 [==============================] - 10s 14ms/step - loss: 0.0024 - mean_squared_error: 0.0024 - val_loss: 0.0044 - val_mean_squared_error: 0.0044\n",
      "Epoch 9/25\n",
      "690/690 [==============================] - 10s 14ms/step - loss: 0.0024 - mean_squared_error: 0.0024 - val_loss: 0.0041 - val_mean_squared_error: 0.0041\n",
      "Epoch 10/25\n",
      "690/690 [==============================] - 10s 14ms/step - loss: 0.0024 - mean_squared_error: 0.0024 - val_loss: 0.0042 - val_mean_squared_error: 0.0042\n",
      "Epoch 11/25\n",
      "690/690 [==============================] - 10s 14ms/step - loss: 0.0024 - mean_squared_error: 0.0024 - val_loss: 0.0044 - val_mean_squared_error: 0.0044\n",
      "Epoch 12/25\n",
      "690/690 [==============================] - 10s 14ms/step - loss: 0.0024 - mean_squared_error: 0.0024 - val_loss: 0.0044 - val_mean_squared_error: 0.0044\n",
      "Epoch 13/25\n",
      "690/690 [==============================] - 10s 14ms/step - loss: 0.0024 - mean_squared_error: 0.0024 - val_loss: 0.0047 - val_mean_squared_error: 0.0047\n",
      "Epoch 14/25\n",
      "690/690 [==============================] - 10s 14ms/step - loss: 0.0024 - mean_squared_error: 0.0024 - val_loss: 0.0043 - val_mean_squared_error: 0.0043\n",
      "RUN 8\n",
      "\n",
      "Epoch 1/25\n",
      "690/690 [==============================] - 12s 17ms/step - loss: 0.0024 - mean_squared_error: 0.0024 - val_loss: 0.0042 - val_mean_squared_error: 0.0042\n",
      "Epoch 2/25\n",
      "690/690 [==============================] - 11s 16ms/step - loss: 0.0024 - mean_squared_error: 0.0024 - val_loss: 0.0043 - val_mean_squared_error: 0.0043\n",
      "Epoch 3/25\n",
      "690/690 [==============================] - 11s 16ms/step - loss: 0.0024 - mean_squared_error: 0.0024 - val_loss: 0.0043 - val_mean_squared_error: 0.0043\n",
      "Epoch 4/25\n",
      "690/690 [==============================] - 11s 16ms/step - loss: 0.0024 - mean_squared_error: 0.0024 - val_loss: 0.0044 - val_mean_squared_error: 0.0044\n",
      "Epoch 5/25\n",
      "690/690 [==============================] - 11s 16ms/step - loss: 0.0023 - mean_squared_error: 0.0023 - val_loss: 0.0045 - val_mean_squared_error: 0.0045\n",
      "Epoch 6/25\n",
      "690/690 [==============================] - 11s 16ms/step - loss: 0.0023 - mean_squared_error: 0.0023 - val_loss: 0.0044 - val_mean_squared_error: 0.0044\n",
      "RUN 9\n",
      "\n",
      "Epoch 1/25\n",
      "690/690 [==============================] - 11s 16ms/step - loss: 0.0024 - mean_squared_error: 0.0024 - val_loss: 0.0057 - val_mean_squared_error: 0.0057\n",
      "Epoch 2/25\n",
      "690/690 [==============================] - 10s 15ms/step - loss: 0.0023 - mean_squared_error: 0.0023 - val_loss: 0.0049 - val_mean_squared_error: 0.0049\n",
      "Epoch 3/25\n",
      "690/690 [==============================] - 10s 15ms/step - loss: 0.0023 - mean_squared_error: 0.0023 - val_loss: 0.0042 - val_mean_squared_error: 0.0042\n",
      "Epoch 4/25\n",
      "690/690 [==============================] - 10s 15ms/step - loss: 0.0023 - mean_squared_error: 0.0023 - val_loss: 0.0044 - val_mean_squared_error: 0.0044\n",
      "Epoch 5/25\n",
      "690/690 [==============================] - 11s 15ms/step - loss: 0.0023 - mean_squared_error: 0.0023 - val_loss: 0.0046 - val_mean_squared_error: 0.0046\n",
      "Epoch 6/25\n",
      "690/690 [==============================] - 11s 16ms/step - loss: 0.0023 - mean_squared_error: 0.0023 - val_loss: 0.0045 - val_mean_squared_error: 0.0045\n",
      "Epoch 7/25\n",
      "690/690 [==============================] - 11s 16ms/step - loss: 0.0023 - mean_squared_error: 0.0023 - val_loss: 0.0042 - val_mean_squared_error: 0.0042\n",
      "Epoch 8/25\n",
      "690/690 [==============================] - 11s 15ms/step - loss: 0.0023 - mean_squared_error: 0.0023 - val_loss: 0.0041 - val_mean_squared_error: 0.0041\n",
      "Epoch 9/25\n",
      "690/690 [==============================] - 11s 16ms/step - loss: 0.0023 - mean_squared_error: 0.0023 - val_loss: 0.0045 - val_mean_squared_error: 0.0045\n",
      "Epoch 10/25\n",
      "690/690 [==============================] - 10s 15ms/step - loss: 0.0023 - mean_squared_error: 0.0023 - val_loss: 0.0044 - val_mean_squared_error: 0.0044\n",
      "Epoch 11/25\n",
      "690/690 [==============================] - 11s 16ms/step - loss: 0.0023 - mean_squared_error: 0.0023 - val_loss: 0.0047 - val_mean_squared_error: 0.0047\n",
      "Epoch 12/25\n",
      "690/690 [==============================] - 10s 15ms/step - loss: 0.0023 - mean_squared_error: 0.0023 - val_loss: 0.0044 - val_mean_squared_error: 0.0044\n",
      "Epoch 13/25\n",
      "690/690 [==============================] - 11s 16ms/step - loss: 0.0023 - mean_squared_error: 0.0023 - val_loss: 0.0043 - val_mean_squared_error: 0.0043\n",
      "RUN 10\n",
      "\n"
     ]
    }
   ],
   "source": [
    "mape_performance['LSTM-MIMO'] = []\n",
    "mse_performance['LSTM-MIMO'] = []\n",
    "for i in range(1,11):\n",
    "    LSTMIMO.compile(optimizer=tf.optimizers.Adam(), loss='mse', metrics=[tf.metrics.MeanSquaredError()])\n",
    "\n",
    "    early_stopping = tf.keras.callbacks.EarlyStopping(monitor='val_loss', patience=patience, mode='min')\n",
    "\n",
    "    history = LSTMIMO.fit(train_inputs['X'], train_inputs['target'], batch_size=32, epochs=MAX_EPOCHS,\n",
    "                  validation_split=0.15,\n",
    "                  callbacks=[early_stopping], verbose=1)\n",
    "\n",
    "\n",
    "    #save_model(LSTMIMO, i)\n",
    "    predictions = LSTMIMO.predict(test_inputs['X'])\n",
    "    eval_df = create_evaluation_df(predictions, test_inputs, HORIZON, y_scaler)\n",
    "    mape = validation(eval_df['prediction'], eval_df['actual'], 'MAPE')\n",
    "    rmse = validation(eval_df['prediction'], eval_df['actual'], 'RMSE')\n",
    "    mape_performance['LSTM-MIMO'].append(mape)\n",
    "    mse_performance['LSTM-MIMO'].append(rmse)\n",
    "    print('RUN '+str(i)+'\\n')\n",
    "    metrics.loc[i] = pd.Series({'mape':mape, 'rmse':rmse})\n",
    "\n",
    "    file1 = open('./results/ERCOT_LSTM_MIMO.txt', 'a') \n",
    "    file1.write('\\nRUN '+str(i)+':') \n",
    "    file1.writelines(['\\n'+str(mape), '\\n'+str(rmse)]) \n",
    "    file1.close()\n",
    "metrics.to_csv('./results/ERCOT_MIMO.csv')"
   ]
  },
  {
   "cell_type": "code",
   "execution_count": 53,
   "metadata": {},
   "outputs": [
    {
     "name": "stdout",
     "output_type": "stream",
     "text": [
      "Epoch 1/50\n",
      "694/694 [==============================] - 10s 15ms/step - loss: 0.0176 - mean_squared_error: 0.0176 - val_loss: 0.0073 - val_mean_squared_error: 0.0073\n",
      "Epoch 2/50\n",
      "694/694 [==============================] - 10s 14ms/step - loss: 0.0065 - mean_squared_error: 0.0065 - val_loss: 0.0066 - val_mean_squared_error: 0.0066\n",
      "Epoch 3/50\n",
      "694/694 [==============================] - 10s 15ms/step - loss: 0.0057 - mean_squared_error: 0.0057 - val_loss: 0.0059 - val_mean_squared_error: 0.0059\n",
      "Epoch 4/50\n",
      "694/694 [==============================] - 10s 14ms/step - loss: 0.0053 - mean_squared_error: 0.0053 - val_loss: 0.0058 - val_mean_squared_error: 0.0058\n",
      "Epoch 5/50\n",
      "694/694 [==============================] - 10s 15ms/step - loss: 0.0051 - mean_squared_error: 0.0051 - val_loss: 0.0073 - val_mean_squared_error: 0.0073\n",
      "Epoch 6/50\n",
      "694/694 [==============================] - 11s 15ms/step - loss: 0.0047 - mean_squared_error: 0.0047 - val_loss: 0.0052 - val_mean_squared_error: 0.0052\n",
      "Epoch 7/50\n",
      "694/694 [==============================] - 11s 16ms/step - loss: 0.0043 - mean_squared_error: 0.0043 - val_loss: 0.0047 - val_mean_squared_error: 0.0047\n",
      "Epoch 8/50\n",
      "694/694 [==============================] - 11s 15ms/step - loss: 0.0042 - mean_squared_error: 0.0042 - val_loss: 0.0048 - val_mean_squared_error: 0.0048\n",
      "Epoch 9/50\n",
      "694/694 [==============================] - 10s 14ms/step - loss: 0.0041 - mean_squared_error: 0.0041 - val_loss: 0.0046 - val_mean_squared_error: 0.0046\n",
      "Epoch 10/50\n",
      "694/694 [==============================] - 10s 14ms/step - loss: 0.0040 - mean_squared_error: 0.0040 - val_loss: 0.0044 - val_mean_squared_error: 0.0044\n",
      "Epoch 11/50\n",
      "694/694 [==============================] - 10s 15ms/step - loss: 0.0039 - mean_squared_error: 0.0039 - val_loss: 0.0044 - val_mean_squared_error: 0.0044\n",
      "Epoch 12/50\n",
      "694/694 [==============================] - 10s 15ms/step - loss: 0.0039 - mean_squared_error: 0.0039 - val_loss: 0.0043 - val_mean_squared_error: 0.0043\n",
      "Epoch 13/50\n",
      "694/694 [==============================] - 10s 15ms/step - loss: 0.0038 - mean_squared_error: 0.0038 - val_loss: 0.0043 - val_mean_squared_error: 0.0043\n",
      "Epoch 14/50\n",
      "694/694 [==============================] - 10s 14ms/step - loss: 0.0038 - mean_squared_error: 0.0038 - val_loss: 0.0044 - val_mean_squared_error: 0.0044\n",
      "Epoch 15/50\n",
      "694/694 [==============================] - 9s 13ms/step - loss: 0.0037 - mean_squared_error: 0.0037 - val_loss: 0.0041 - val_mean_squared_error: 0.0041\n",
      "Epoch 16/50\n",
      "694/694 [==============================] - 9s 14ms/step - loss: 0.0037 - mean_squared_error: 0.0037 - val_loss: 0.0043 - val_mean_squared_error: 0.0043\n",
      "Epoch 17/50\n",
      "694/694 [==============================] - 9s 13ms/step - loss: 0.0037 - mean_squared_error: 0.0037 - val_loss: 0.0044 - val_mean_squared_error: 0.0044\n",
      "Epoch 18/50\n",
      "694/694 [==============================] - 9s 13ms/step - loss: 0.0036 - mean_squared_error: 0.0036 - val_loss: 0.0040 - val_mean_squared_error: 0.0040\n",
      "Epoch 19/50\n",
      "694/694 [==============================] - 10s 14ms/step - loss: 0.0036 - mean_squared_error: 0.0036 - val_loss: 0.0042 - val_mean_squared_error: 0.0042\n",
      "Epoch 20/50\n",
      "694/694 [==============================] - 10s 14ms/step - loss: 0.0035 - mean_squared_error: 0.0035 - val_loss: 0.0044 - val_mean_squared_error: 0.0044\n",
      "Epoch 21/50\n",
      "694/694 [==============================] - 10s 14ms/step - loss: 0.0035 - mean_squared_error: 0.0035 - val_loss: 0.0040 - val_mean_squared_error: 0.0040\n",
      "Epoch 22/50\n",
      "694/694 [==============================] - 10s 14ms/step - loss: 0.0035 - mean_squared_error: 0.0035 - val_loss: 0.0043 - val_mean_squared_error: 0.0043\n",
      "Epoch 23/50\n",
      "694/694 [==============================] - 9s 14ms/step - loss: 0.0035 - mean_squared_error: 0.0035 - val_loss: 0.0039 - val_mean_squared_error: 0.0039\n",
      "Epoch 24/50\n",
      "694/694 [==============================] - 9s 12ms/step - loss: 0.0034 - mean_squared_error: 0.0034 - val_loss: 0.0043 - val_mean_squared_error: 0.0043\n",
      "Epoch 25/50\n",
      "694/694 [==============================] - 10s 14ms/step - loss: 0.0034 - mean_squared_error: 0.0034 - val_loss: 0.0041 - val_mean_squared_error: 0.0041\n",
      "Epoch 26/50\n",
      "694/694 [==============================] - 10s 14ms/step - loss: 0.0034 - mean_squared_error: 0.0034 - val_loss: 0.0040 - val_mean_squared_error: 0.0040\n",
      "Epoch 27/50\n",
      "694/694 [==============================] - 10s 14ms/step - loss: 0.0034 - mean_squared_error: 0.0034 - val_loss: 0.0038 - val_mean_squared_error: 0.0038\n",
      "Epoch 28/50\n",
      "694/694 [==============================] - 10s 14ms/step - loss: 0.0033 - mean_squared_error: 0.0033 - val_loss: 0.0040 - val_mean_squared_error: 0.0040\n",
      "Epoch 29/50\n",
      "694/694 [==============================] - 10s 14ms/step - loss: 0.0033 - mean_squared_error: 0.0033 - val_loss: 0.0039 - val_mean_squared_error: 0.0039\n",
      "Epoch 30/50\n",
      "694/694 [==============================] - 9s 14ms/step - loss: 0.0033 - mean_squared_error: 0.0033 - val_loss: 0.0038 - val_mean_squared_error: 0.0038\n",
      "Epoch 31/50\n",
      "694/694 [==============================] - 9s 13ms/step - loss: 0.0033 - mean_squared_error: 0.0033 - val_loss: 0.0041 - val_mean_squared_error: 0.0041\n",
      "Epoch 32/50\n",
      "694/694 [==============================] - 9s 13ms/step - loss: 0.0033 - mean_squared_error: 0.0033 - val_loss: 0.0039 - val_mean_squared_error: 0.0039\n",
      "Epoch 33/50\n",
      "694/694 [==============================] - 10s 14ms/step - loss: 0.0033 - mean_squared_error: 0.0033 - val_loss: 0.0038 - val_mean_squared_error: 0.0038\n",
      "Epoch 34/50\n",
      "694/694 [==============================] - 10s 14ms/step - loss: 0.0033 - mean_squared_error: 0.0033 - val_loss: 0.0038 - val_mean_squared_error: 0.0038\n",
      "Epoch 35/50\n",
      "694/694 [==============================] - 10s 14ms/step - loss: 0.0032 - mean_squared_error: 0.0032 - val_loss: 0.0038 - val_mean_squared_error: 0.0038\n",
      "Epoch 36/50\n",
      "694/694 [==============================] - 10s 14ms/step - loss: 0.0032 - mean_squared_error: 0.0032 - val_loss: 0.0044 - val_mean_squared_error: 0.0044\n",
      "Epoch 37/50\n",
      "694/694 [==============================] - 10s 14ms/step - loss: 0.0032 - mean_squared_error: 0.0032 - val_loss: 0.0040 - val_mean_squared_error: 0.0040\n",
      "Epoch 38/50\n",
      "694/694 [==============================] - 10s 14ms/step - loss: 0.0032 - mean_squared_error: 0.0032 - val_loss: 0.0047 - val_mean_squared_error: 0.0047\n",
      "Epoch 39/50\n",
      "694/694 [==============================] - 9s 13ms/step - loss: 0.0032 - mean_squared_error: 0.0032 - val_loss: 0.0039 - val_mean_squared_error: 0.0039\n",
      "Epoch 40/50\n",
      "694/694 [==============================] - 9s 14ms/step - loss: 0.0032 - mean_squared_error: 0.0032 - val_loss: 0.0038 - val_mean_squared_error: 0.0038\n",
      "Epoch 41/50\n",
      "694/694 [==============================] - 9s 13ms/step - loss: 0.0032 - mean_squared_error: 0.0032 - val_loss: 0.0048 - val_mean_squared_error: 0.0048\n",
      "Epoch 42/50\n",
      "694/694 [==============================] - 9s 13ms/step - loss: 0.0032 - mean_squared_error: 0.0032 - val_loss: 0.0040 - val_mean_squared_error: 0.0040\n",
      "Epoch 43/50\n",
      "694/694 [==============================] - 9s 13ms/step - loss: 0.0032 - mean_squared_error: 0.0032 - val_loss: 0.0040 - val_mean_squared_error: 0.0040\n"
     ]
    }
   ],
   "source": [
    "early_stopping = tf.keras.callbacks.EarlyStopping(monitor='val_loss', patience=patience, mode='min')\n",
    "\n",
    "history = LSTMIMO.fit(train_inputs['X'], train_inputs['target'], batch_size=32, epochs=MAX_EPOCHS,\n",
    "                  validation_split=0.15,\n",
    "                  callbacks=[early_stopping], verbose=1)"
   ]
  },
  {
   "cell_type": "code",
   "execution_count": 55,
   "metadata": {},
   "outputs": [
    {
     "data": {
      "image/png": "[encoded data removed]",
      "text/plain": [
       "<Figure size 576x432 with 1 Axes>"
      ]
     },
     "metadata": {
      "needs_background": "light"
     },
     "output_type": "display_data"
    }
   ],
   "source": [
    "plot_train_history(LSTMIMO)"
   ]
  },
  {
   "cell_type": "code",
   "execution_count": 57,
   "metadata": {},
   "outputs": [],
   "source": [
    "predictions = LSTMIMO.predict(test_inputs['X'])\n",
    "eval_df = create_evaluation_df(predictions, test_inputs, HORIZON, y_scaler)\n",
    "performance['LSTM-MIMO'] = LSTMIMO.evaluate(test_inputs['X'],test_inputs['target'], verbose=0)\n",
    "mape_performance['LSTM-MIMO'] = mape(eval_df['prediction'], eval_df['actual'])"
   ]
  },
  {
   "cell_type": "code",
   "execution_count": 1181,
   "metadata": {},
   "outputs": [
    {
     "data": {
      "text/plain": [
       "[]"
      ]
     },
     "execution_count": 1181,
     "metadata": {},
     "output_type": "execute_result"
    },
    {
     "data": {
      "image/png": "[encoded data removed]",
      "text/plain": [
       "<Figure size 576x432 with 1 Axes>"
      ]
     },
     "metadata": {
      "needs_background": "light"
     },
     "output_type": "display_data"
    }
   ],
   "source": [
    "import random\n",
    "i = random.randint(1,8740)\n",
    "plt.plot(y_scaler.inverse_transform(test_inputs.dataframe.loc[:,'target'])[i].reshape(24,-1), label='target')\n",
    "plt.plot(y_scaler.inverse_transform(predictions_B.reshape(-1,24))[i], label='baseline')\n",
    "plt.plot(y_scaler.inverse_transform(predictions.reshape(-1,24))[i], label='LSTM')\n",
    "plt.legend()\n",
    "[]"
   ]
  },
  {
   "cell_type": "code",
   "execution_count": 90,
   "metadata": {},
   "outputs": [
    {
     "data": {
      "text/plain": [
       "h\n",
       "t+1     0.021260\n",
       "t+2     0.028931\n",
       "t+3     0.035425\n",
       "t+4     0.041277\n",
       "t+5     0.046222\n",
       "t+6     0.050896\n",
       "t+7     0.054871\n",
       "t+8     0.058713\n",
       "t+9     0.061704\n",
       "t+10    0.062074\n",
       "t+11    0.062840\n",
       "t+12    0.063808\n",
       "t+13    0.064861\n",
       "t+14    0.066111\n",
       "t+15    0.067169\n",
       "t+16    0.066280\n",
       "t+17    0.067063\n",
       "t+18    0.066291\n",
       "t+19    0.066471\n",
       "t+20    0.067548\n",
       "t+21    0.067307\n",
       "t+22    0.068315\n",
       "t+23    0.066865\n",
       "t+24    0.067168\n",
       "Name: APE, dtype: float64"
      ]
     },
     "execution_count": 90,
     "metadata": {},
     "output_type": "execute_result"
    }
   ],
   "source": [
    "eval_df['APE'] = (eval_df['prediction'] - eval_df['actual']).abs() / eval_df['actual']\n",
    "df = eval_df.groupby('h')['APE'].mean()\n",
    "df.reindex(['t+1', 't+2', 't+3', 't+4', 't+5', 't+6', 't+7', 't+8', 't+9', 't+10', 't+11', 't+12', 't+13', 't+14', 't+15', 't+16', 't+17', 't+18', 't+19', 't+20', 't+21', 't+22', 't+23', 't+24'])"
   ]
  },
  {
   "cell_type": "code",
   "execution_count": 116,
   "metadata": {},
   "outputs": [],
   "source": [
    "MAX_EPOCHS = 50\n",
    "BATCHSIZE = 32\n",
    "patience = 10\n",
    "\n",
    "ConditionalRNN = Sequential(layers=[ConditionalRNN(32, cell='LSTM'),\n",
    "                                    Dense(HORIZON)])"
   ]
  },
  {
   "cell_type": "code",
   "execution_count": 117,
   "metadata": {},
   "outputs": [],
   "source": [
    "ConditionalRNN.compile(optimizer=tf.optimizers.Adam(), loss='mse', metrics=[tf.metrics.MeanSquaredError()])"
   ]
  },
  {
   "cell_type": "code",
   "execution_count": 60,
   "metadata": {},
   "outputs": [
    {
     "ename": "ValueError",
     "evalue": "This model has not yet been built. Build the model first by calling `build()` or calling `fit()` with some data, or specify an `input_shape` argument in the first layer(s) for automatic build.",
     "output_type": "error",
     "traceback": [
      "\u001b[0;31m---------------------------------------------------------------------------\u001b[0m",
      "\u001b[0;31mValueError\u001b[0m                                Traceback (most recent call last)",
      "\u001b[0;32m<ipython-input-60-2ba3275328eb>\u001b[0m in \u001b[0;36m<module>\u001b[0;34m\u001b[0m\n\u001b[0;32m----> 1\u001b[0;31m \u001b[0mConditionalRNN\u001b[0m\u001b[0;34m.\u001b[0m\u001b[0msummary\u001b[0m\u001b[0;34m(\u001b[0m\u001b[0;34m)\u001b[0m\u001b[0;34m\u001b[0m\u001b[0;34m\u001b[0m\u001b[0m\n\u001b[0m",
      "\u001b[0;32m~/anaconda3/envs/evgeny/lib/python3.8/site-packages/tensorflow/python/keras/engine/training.py\u001b[0m in \u001b[0;36msummary\u001b[0;34m(self, line_length, positions, print_fn)\u001b[0m\n\u001b[1;32m   2349\u001b[0m     \"\"\"\n\u001b[1;32m   2350\u001b[0m     \u001b[0;32mif\u001b[0m \u001b[0;32mnot\u001b[0m \u001b[0mself\u001b[0m\u001b[0;34m.\u001b[0m\u001b[0mbuilt\u001b[0m\u001b[0;34m:\u001b[0m\u001b[0;34m\u001b[0m\u001b[0;34m\u001b[0m\u001b[0m\n\u001b[0;32m-> 2351\u001b[0;31m       raise ValueError('This model has not yet been built. '\n\u001b[0m\u001b[1;32m   2352\u001b[0m                        \u001b[0;34m'Build the model first by calling `build()` or calling '\u001b[0m\u001b[0;34m\u001b[0m\u001b[0;34m\u001b[0m\u001b[0m\n\u001b[1;32m   2353\u001b[0m                        \u001b[0;34m'`fit()` with some data, or specify '\u001b[0m\u001b[0;34m\u001b[0m\u001b[0;34m\u001b[0m\u001b[0m\n",
      "\u001b[0;31mValueError\u001b[0m: This model has not yet been built. Build the model first by calling `build()` or calling `fit()` with some data, or specify an `input_shape` argument in the first layer(s) for automatic build."
     ]
    }
   ],
   "source": [
    "ConditionalRNN.summary()"
   ]
  },
  {
   "cell_type": "code",
   "execution_count": 118,
   "metadata": {},
   "outputs": [
    {
     "name": "stdout",
     "output_type": "stream",
     "text": [
      "Epoch 1/50\n",
      "WARNING:tensorflow:Layers in a Sequential model should only have a single input tensor, but we receive a <class 'tuple'> input: (<tf.Tensor 'IteratorGetNext:0' shape=(None, 24, 6) dtype=float64>, <tf.Tensor 'IteratorGetNext:1' shape=(None, 8) dtype=float64>, <tf.Tensor 'IteratorGetNext:2' shape=(None, 2) dtype=float64>)\n",
      "Consider rewriting this model with the Functional API.\n",
      "WARNING:tensorflow:Layers in a Sequential model should only have a single input tensor, but we receive a <class 'tuple'> input: (<tf.Tensor 'IteratorGetNext:0' shape=(None, 24, 6) dtype=float64>, <tf.Tensor 'IteratorGetNext:1' shape=(None, 8) dtype=float64>, <tf.Tensor 'IteratorGetNext:2' shape=(None, 2) dtype=float64>)\n",
      "Consider rewriting this model with the Functional API.\n",
      "689/690 [============================>.] - ETA: 0s - loss: 0.0189 - mean_squared_error: 0.0189WARNING:tensorflow:Layers in a Sequential model should only have a single input tensor, but we receive a <class 'tuple'> input: (<tf.Tensor 'IteratorGetNext:0' shape=(None, 24, 6) dtype=float64>, <tf.Tensor 'IteratorGetNext:1' shape=(None, 8) dtype=float64>, <tf.Tensor 'IteratorGetNext:2' shape=(None, 2) dtype=float64>)\n",
      "Consider rewriting this model with the Functional API.\n",
      "690/690 [==============================] - 13s 19ms/step - loss: 0.0188 - mean_squared_error: 0.0188 - val_loss: 0.0074 - val_mean_squared_error: 0.0074\n",
      "Epoch 2/50\n",
      "690/690 [==============================] - 13s 18ms/step - loss: 0.0069 - mean_squared_error: 0.0069 - val_loss: 0.0061 - val_mean_squared_error: 0.0061\n",
      "Epoch 3/50\n",
      "690/690 [==============================] - 12s 18ms/step - loss: 0.0060 - mean_squared_error: 0.0060 - val_loss: 0.0056 - val_mean_squared_error: 0.0056\n",
      "Epoch 4/50\n",
      "690/690 [==============================] - 12s 18ms/step - loss: 0.0055 - mean_squared_error: 0.0055 - val_loss: 0.0055 - val_mean_squared_error: 0.0055\n",
      "Epoch 5/50\n",
      "690/690 [==============================] - 12s 18ms/step - loss: 0.0052 - mean_squared_error: 0.0052 - val_loss: 0.0050 - val_mean_squared_error: 0.0050\n",
      "Epoch 6/50\n",
      "690/690 [==============================] - 12s 18ms/step - loss: 0.0048 - mean_squared_error: 0.0048 - val_loss: 0.0046 - val_mean_squared_error: 0.0046\n",
      "Epoch 7/50\n",
      "690/690 [==============================] - 12s 18ms/step - loss: 0.0045 - mean_squared_error: 0.0045 - val_loss: 0.0044 - val_mean_squared_error: 0.0044\n",
      "Epoch 8/50\n",
      "690/690 [==============================] - 11s 17ms/step - loss: 0.0043 - mean_squared_error: 0.0043 - val_loss: 0.0043 - val_mean_squared_error: 0.0043\n",
      "Epoch 9/50\n",
      "690/690 [==============================] - 12s 17ms/step - loss: 0.0042 - mean_squared_error: 0.0042 - val_loss: 0.0042 - val_mean_squared_error: 0.0042\n",
      "Epoch 10/50\n",
      "690/690 [==============================] - 11s 16ms/step - loss: 0.0042 - mean_squared_error: 0.0042 - val_loss: 0.0046 - val_mean_squared_error: 0.0046\n",
      "Epoch 11/50\n",
      "690/690 [==============================] - 11s 16ms/step - loss: 0.0041 - mean_squared_error: 0.0041 - val_loss: 0.0041 - val_mean_squared_error: 0.0041\n",
      "Epoch 12/50\n",
      "690/690 [==============================] - 12s 17ms/step - loss: 0.0040 - mean_squared_error: 0.0040 - val_loss: 0.0042 - val_mean_squared_error: 0.0042\n",
      "Epoch 13/50\n",
      "690/690 [==============================] - 11s 17ms/step - loss: 0.0040 - mean_squared_error: 0.0040 - val_loss: 0.0040 - val_mean_squared_error: 0.0040\n",
      "Epoch 14/50\n",
      "690/690 [==============================] - 12s 17ms/step - loss: 0.0039 - mean_squared_error: 0.0039 - val_loss: 0.0040 - val_mean_squared_error: 0.0040\n",
      "Epoch 15/50\n",
      "690/690 [==============================] - 12s 17ms/step - loss: 0.0039 - mean_squared_error: 0.0039 - val_loss: 0.0042 - val_mean_squared_error: 0.0042\n",
      "Epoch 16/50\n",
      "690/690 [==============================] - 12s 18ms/step - loss: 0.0038 - mean_squared_error: 0.0038 - val_loss: 0.0039 - val_mean_squared_error: 0.0039\n",
      "Epoch 17/50\n",
      "690/690 [==============================] - 12s 17ms/step - loss: 0.0038 - mean_squared_error: 0.0038 - val_loss: 0.0039 - val_mean_squared_error: 0.0039\n",
      "Epoch 18/50\n",
      "690/690 [==============================] - 13s 18ms/step - loss: 0.0037 - mean_squared_error: 0.0037 - val_loss: 0.0039 - val_mean_squared_error: 0.0039\n",
      "Epoch 19/50\n",
      "690/690 [==============================] - 12s 18ms/step - loss: 0.0037 - mean_squared_error: 0.0037 - val_loss: 0.0040 - val_mean_squared_error: 0.0040\n",
      "Epoch 20/50\n",
      "690/690 [==============================] - 12s 17ms/step - loss: 0.0036 - mean_squared_error: 0.0036 - val_loss: 0.0039 - val_mean_squared_error: 0.0039\n",
      "Epoch 21/50\n",
      "690/690 [==============================] - 12s 17ms/step - loss: 0.0036 - mean_squared_error: 0.0036 - val_loss: 0.0036 - val_mean_squared_error: 0.0036\n",
      "Epoch 22/50\n",
      "690/690 [==============================] - 12s 18ms/step - loss: 0.0036 - mean_squared_error: 0.0036 - val_loss: 0.0036 - val_mean_squared_error: 0.0036\n",
      "Epoch 23/50\n",
      "690/690 [==============================] - 13s 18ms/step - loss: 0.0035 - mean_squared_error: 0.0035 - val_loss: 0.0037 - val_mean_squared_error: 0.0037\n",
      "Epoch 24/50\n",
      "690/690 [==============================] - 13s 18ms/step - loss: 0.0035 - mean_squared_error: 0.0035 - val_loss: 0.0036 - val_mean_squared_error: 0.0036\n",
      "Epoch 25/50\n",
      "690/690 [==============================] - 12s 17ms/step - loss: 0.0035 - mean_squared_error: 0.0035 - val_loss: 0.0036 - val_mean_squared_error: 0.0036\n",
      "Epoch 26/50\n",
      "690/690 [==============================] - 12s 17ms/step - loss: 0.0035 - mean_squared_error: 0.0035 - val_loss: 0.0036 - val_mean_squared_error: 0.0036\n",
      "Epoch 27/50\n",
      "690/690 [==============================] - 12s 18ms/step - loss: 0.0034 - mean_squared_error: 0.0034 - val_loss: 0.0036 - val_mean_squared_error: 0.0036\n",
      "Epoch 28/50\n",
      "690/690 [==============================] - 13s 19ms/step - loss: 0.0034 - mean_squared_error: 0.0034 - val_loss: 0.0037 - val_mean_squared_error: 0.0037\n",
      "Epoch 29/50\n",
      "690/690 [==============================] - 13s 19ms/step - loss: 0.0034 - mean_squared_error: 0.0034 - val_loss: 0.0036 - val_mean_squared_error: 0.0036\n",
      "Epoch 30/50\n",
      "690/690 [==============================] - 13s 18ms/step - loss: 0.0034 - mean_squared_error: 0.0034 - val_loss: 0.0036 - val_mean_squared_error: 0.0036\n",
      "Epoch 31/50\n",
      "690/690 [==============================] - 12s 18ms/step - loss: 0.0033 - mean_squared_error: 0.0033 - val_loss: 0.0034 - val_mean_squared_error: 0.0034\n",
      "Epoch 32/50\n",
      "690/690 [==============================] - 13s 18ms/step - loss: 0.0033 - mean_squared_error: 0.0033 - val_loss: 0.0034 - val_mean_squared_error: 0.0034\n",
      "Epoch 33/50\n",
      "690/690 [==============================] - 12s 18ms/step - loss: 0.0033 - mean_squared_error: 0.0033 - val_loss: 0.0035 - val_mean_squared_error: 0.0035\n",
      "Epoch 34/50\n",
      "690/690 [==============================] - 13s 18ms/step - loss: 0.0032 - mean_squared_error: 0.0032 - val_loss: 0.0035 - val_mean_squared_error: 0.0035\n",
      "Epoch 35/50\n",
      "690/690 [==============================] - 12s 18ms/step - loss: 0.0032 - mean_squared_error: 0.0032 - val_loss: 0.0033 - val_mean_squared_error: 0.0033\n",
      "Epoch 36/50\n",
      "690/690 [==============================] - 12s 18ms/step - loss: 0.0032 - mean_squared_error: 0.0032 - val_loss: 0.0036 - val_mean_squared_error: 0.0036\n",
      "Epoch 37/50\n",
      "690/690 [==============================] - 12s 18ms/step - loss: 0.0032 - mean_squared_error: 0.0032 - val_loss: 0.0038 - val_mean_squared_error: 0.0038\n",
      "Epoch 38/50\n",
      "690/690 [==============================] - 12s 18ms/step - loss: 0.0031 - mean_squared_error: 0.0031 - val_loss: 0.0035 - val_mean_squared_error: 0.0035\n",
      "Epoch 39/50\n",
      "690/690 [==============================] - 12s 18ms/step - loss: 0.0031 - mean_squared_error: 0.0031 - val_loss: 0.0035 - val_mean_squared_error: 0.0035\n",
      "Epoch 40/50\n",
      "690/690 [==============================] - 13s 19ms/step - loss: 0.0031 - mean_squared_error: 0.0031 - val_loss: 0.0033 - val_mean_squared_error: 0.0033\n",
      "Epoch 41/50\n",
      "690/690 [==============================] - 13s 19ms/step - loss: 0.0031 - mean_squared_error: 0.0031 - val_loss: 0.0034 - val_mean_squared_error: 0.0034\n",
      "Epoch 42/50\n",
      "690/690 [==============================] - 13s 19ms/step - loss: 0.0031 - mean_squared_error: 0.0031 - val_loss: 0.0035 - val_mean_squared_error: 0.0035\n",
      "Epoch 43/50\n"
     ]
    },
    {
     "name": "stdout",
     "output_type": "stream",
     "text": [
      "690/690 [==============================] - 13s 18ms/step - loss: 0.0030 - mean_squared_error: 0.0030 - val_loss: 0.0033 - val_mean_squared_error: 0.0033\n",
      "Epoch 44/50\n",
      "690/690 [==============================] - 12s 18ms/step - loss: 0.0030 - mean_squared_error: 0.0030 - val_loss: 0.0039 - val_mean_squared_error: 0.0039\n",
      "Epoch 45/50\n",
      "690/690 [==============================] - 13s 18ms/step - loss: 0.0030 - mean_squared_error: 0.0030 - val_loss: 0.0037 - val_mean_squared_error: 0.0037\n",
      "Epoch 46/50\n",
      "690/690 [==============================] - 12s 18ms/step - loss: 0.0030 - mean_squared_error: 0.0030 - val_loss: 0.0036 - val_mean_squared_error: 0.0036\n",
      "Epoch 47/50\n",
      "690/690 [==============================] - 12s 18ms/step - loss: 0.0029 - mean_squared_error: 0.0029 - val_loss: 0.0034 - val_mean_squared_error: 0.0034\n",
      "Epoch 48/50\n",
      "690/690 [==============================] - 12s 17ms/step - loss: 0.0029 - mean_squared_error: 0.0029 - val_loss: 0.0037 - val_mean_squared_error: 0.0037\n",
      "Epoch 49/50\n",
      "690/690 [==============================] - 11s 16ms/step - loss: 0.0029 - mean_squared_error: 0.0029 - val_loss: 0.0035 - val_mean_squared_error: 0.0035\n",
      "Epoch 50/50\n",
      "690/690 [==============================] - 11s 16ms/step - loss: 0.0029 - mean_squared_error: 0.0029 - val_loss: 0.0037 - val_mean_squared_error: 0.0037\n",
      "WARNING:tensorflow:Layers in a Sequential model should only have a single input tensor, but we receive a <class 'tuple'> input: (<tf.Tensor 'IteratorGetNext:0' shape=(None, 24, 6) dtype=float64>, <tf.Tensor 'IteratorGetNext:1' shape=(None, 8) dtype=float64>, <tf.Tensor 'IteratorGetNext:2' shape=(None, 2) dtype=float64>)\n",
      "Consider rewriting this model with the Functional API.\n",
      "RUN 1\n",
      "\n",
      "Epoch 1/50\n",
      "WARNING:tensorflow:Layers in a Sequential model should only have a single input tensor, but we receive a <class 'tuple'> input: (<tf.Tensor 'IteratorGetNext:0' shape=(None, 24, 6) dtype=float64>, <tf.Tensor 'IteratorGetNext:1' shape=(None, 8) dtype=float64>, <tf.Tensor 'IteratorGetNext:2' shape=(None, 2) dtype=float64>)\n",
      "Consider rewriting this model with the Functional API.\n",
      "WARNING:tensorflow:Layers in a Sequential model should only have a single input tensor, but we receive a <class 'tuple'> input: (<tf.Tensor 'IteratorGetNext:0' shape=(None, 24, 6) dtype=float64>, <tf.Tensor 'IteratorGetNext:1' shape=(None, 8) dtype=float64>, <tf.Tensor 'IteratorGetNext:2' shape=(None, 2) dtype=float64>)\n",
      "Consider rewriting this model with the Functional API.\n",
      "688/690 [============================>.] - ETA: 0s - loss: 0.0029 - mean_squared_error: 0.0029WARNING:tensorflow:Layers in a Sequential model should only have a single input tensor, but we receive a <class 'tuple'> input: (<tf.Tensor 'IteratorGetNext:0' shape=(None, 24, 6) dtype=float64>, <tf.Tensor 'IteratorGetNext:1' shape=(None, 8) dtype=float64>, <tf.Tensor 'IteratorGetNext:2' shape=(None, 2) dtype=float64>)\n",
      "Consider rewriting this model with the Functional API.\n",
      "690/690 [==============================] - 12s 18ms/step - loss: 0.0029 - mean_squared_error: 0.0029 - val_loss: 0.0039 - val_mean_squared_error: 0.0039\n",
      "Epoch 2/50\n",
      "690/690 [==============================] - 12s 17ms/step - loss: 0.0028 - mean_squared_error: 0.0028 - val_loss: 0.0037 - val_mean_squared_error: 0.0037\n",
      "Epoch 3/50\n",
      "690/690 [==============================] - 13s 18ms/step - loss: 0.0028 - mean_squared_error: 0.0028 - val_loss: 0.0037 - val_mean_squared_error: 0.0037\n",
      "Epoch 4/50\n",
      "690/690 [==============================] - 13s 18ms/step - loss: 0.0028 - mean_squared_error: 0.0028 - val_loss: 0.0036 - val_mean_squared_error: 0.0036\n",
      "Epoch 5/50\n",
      "690/690 [==============================] - 11s 16ms/step - loss: 0.0028 - mean_squared_error: 0.0028 - val_loss: 0.0036 - val_mean_squared_error: 0.0036\n",
      "Epoch 6/50\n",
      "690/690 [==============================] - 11s 16ms/step - loss: 0.0027 - mean_squared_error: 0.0027 - val_loss: 0.0036 - val_mean_squared_error: 0.0036\n",
      "Epoch 7/50\n",
      "690/690 [==============================] - 11s 16ms/step - loss: 0.0027 - mean_squared_error: 0.0027 - val_loss: 0.0040 - val_mean_squared_error: 0.0040\n",
      "Epoch 8/50\n",
      "690/690 [==============================] - 12s 17ms/step - loss: 0.0027 - mean_squared_error: 0.0027 - val_loss: 0.0041 - val_mean_squared_error: 0.0041\n",
      "Epoch 9/50\n",
      "690/690 [==============================] - 11s 17ms/step - loss: 0.0027 - mean_squared_error: 0.0027 - val_loss: 0.0038 - val_mean_squared_error: 0.0038\n",
      "Epoch 10/50\n",
      "690/690 [==============================] - 12s 17ms/step - loss: 0.0027 - mean_squared_error: 0.0027 - val_loss: 0.0035 - val_mean_squared_error: 0.0035\n",
      "Epoch 11/50\n",
      "690/690 [==============================] - 12s 17ms/step - loss: 0.0026 - mean_squared_error: 0.0026 - val_loss: 0.0037 - val_mean_squared_error: 0.0037\n",
      "Epoch 12/50\n",
      "690/690 [==============================] - 12s 18ms/step - loss: 0.0026 - mean_squared_error: 0.0026 - val_loss: 0.0041 - val_mean_squared_error: 0.0041\n",
      "Epoch 13/50\n",
      "690/690 [==============================] - 11s 16ms/step - loss: 0.0026 - mean_squared_error: 0.0026 - val_loss: 0.0036 - val_mean_squared_error: 0.0036\n",
      "Epoch 14/50\n",
      "690/690 [==============================] - 11s 16ms/step - loss: 0.0026 - mean_squared_error: 0.0026 - val_loss: 0.0038 - val_mean_squared_error: 0.0038\n",
      "Epoch 15/50\n",
      "690/690 [==============================] - 12s 17ms/step - loss: 0.0026 - mean_squared_error: 0.0026 - val_loss: 0.0040 - val_mean_squared_error: 0.0040\n",
      "Epoch 16/50\n",
      "690/690 [==============================] - 12s 18ms/step - loss: 0.0025 - mean_squared_error: 0.0025 - val_loss: 0.0036 - val_mean_squared_error: 0.0036\n",
      "Epoch 17/50\n",
      "690/690 [==============================] - 12s 17ms/step - loss: 0.0025 - mean_squared_error: 0.0025 - val_loss: 0.0038 - val_mean_squared_error: 0.0038\n",
      "Epoch 18/50\n",
      "690/690 [==============================] - 11s 17ms/step - loss: 0.0025 - mean_squared_error: 0.0025 - val_loss: 0.0037 - val_mean_squared_error: 0.0037\n",
      "Epoch 19/50\n",
      "690/690 [==============================] - 11s 16ms/step - loss: 0.0025 - mean_squared_error: 0.0025 - val_loss: 0.0036 - val_mean_squared_error: 0.0036\n",
      "Epoch 20/50\n",
      "690/690 [==============================] - 12s 17ms/step - loss: 0.0025 - mean_squared_error: 0.0025 - val_loss: 0.0037 - val_mean_squared_error: 0.0037\n",
      "WARNING:tensorflow:Layers in a Sequential model should only have a single input tensor, but we receive a <class 'tuple'> input: (<tf.Tensor 'IteratorGetNext:0' shape=(None, 24, 6) dtype=float64>, <tf.Tensor 'IteratorGetNext:1' shape=(None, 8) dtype=float64>, <tf.Tensor 'IteratorGetNext:2' shape=(None, 2) dtype=float64>)\n",
      "Consider rewriting this model with the Functional API.\n",
      "RUN 2\n",
      "\n",
      "Epoch 1/50\n",
      "WARNING:tensorflow:Layers in a Sequential model should only have a single input tensor, but we receive a <class 'tuple'> input: (<tf.Tensor 'IteratorGetNext:0' shape=(None, 24, 6) dtype=float64>, <tf.Tensor 'IteratorGetNext:1' shape=(None, 8) dtype=float64>, <tf.Tensor 'IteratorGetNext:2' shape=(None, 2) dtype=float64>)\n",
      "Consider rewriting this model with the Functional API.\n",
      "WARNING:tensorflow:Layers in a Sequential model should only have a single input tensor, but we receive a <class 'tuple'> input: (<tf.Tensor 'IteratorGetNext:0' shape=(None, 24, 6) dtype=float64>, <tf.Tensor 'IteratorGetNext:1' shape=(None, 8) dtype=float64>, <tf.Tensor 'IteratorGetNext:2' shape=(None, 2) dtype=float64>)\n",
      "Consider rewriting this model with the Functional API.\n",
      "689/690 [============================>.] - ETA: 0s - loss: 0.0025 - mean_squared_error: 0.0025WARNING:tensorflow:Layers in a Sequential model should only have a single input tensor, but we receive a <class 'tuple'> input: (<tf.Tensor 'IteratorGetNext:0' shape=(None, 24, 6) dtype=float64>, <tf.Tensor 'IteratorGetNext:1' shape=(None, 8) dtype=float64>, <tf.Tensor 'IteratorGetNext:2' shape=(None, 2) dtype=float64>)\n",
      "Consider rewriting this model with the Functional API.\n",
      "690/690 [==============================] - 11s 16ms/step - loss: 0.0025 - mean_squared_error: 0.0025 - val_loss: 0.0041 - val_mean_squared_error: 0.0041\n",
      "Epoch 2/50\n",
      "690/690 [==============================] - 11s 16ms/step - loss: 0.0025 - mean_squared_error: 0.0025 - val_loss: 0.0036 - val_mean_squared_error: 0.0036\n",
      "Epoch 3/50\n"
     ]
    },
    {
     "name": "stdout",
     "output_type": "stream",
     "text": [
      "690/690 [==============================] - 11s 16ms/step - loss: 0.0024 - mean_squared_error: 0.0024 - val_loss: 0.0038 - val_mean_squared_error: 0.0038\n",
      "Epoch 4/50\n",
      "690/690 [==============================] - 11s 17ms/step - loss: 0.0024 - mean_squared_error: 0.0024 - val_loss: 0.0040 - val_mean_squared_error: 0.0040\n",
      "Epoch 5/50\n",
      "690/690 [==============================] - 11s 16ms/step - loss: 0.0025 - mean_squared_error: 0.0025 - val_loss: 0.0036 - val_mean_squared_error: 0.0036\n",
      "Epoch 6/50\n",
      "690/690 [==============================] - 12s 17ms/step - loss: 0.0024 - mean_squared_error: 0.0024 - val_loss: 0.0037 - val_mean_squared_error: 0.0037\n",
      "Epoch 7/50\n",
      "690/690 [==============================] - 11s 16ms/step - loss: 0.0024 - mean_squared_error: 0.0024 - val_loss: 0.0035 - val_mean_squared_error: 0.0035\n",
      "Epoch 8/50\n",
      "690/690 [==============================] - 12s 17ms/step - loss: 0.0024 - mean_squared_error: 0.0024 - val_loss: 0.0037 - val_mean_squared_error: 0.0037\n",
      "Epoch 9/50\n",
      "690/690 [==============================] - 12s 17ms/step - loss: 0.0024 - mean_squared_error: 0.0024 - val_loss: 0.0038 - val_mean_squared_error: 0.0038\n",
      "Epoch 10/50\n",
      "690/690 [==============================] - 11s 16ms/step - loss: 0.0024 - mean_squared_error: 0.0024 - val_loss: 0.0039 - val_mean_squared_error: 0.0039\n",
      "Epoch 11/50\n",
      "690/690 [==============================] - 12s 17ms/step - loss: 0.0024 - mean_squared_error: 0.0024 - val_loss: 0.0042 - val_mean_squared_error: 0.0042\n",
      "Epoch 12/50\n",
      "690/690 [==============================] - 12s 17ms/step - loss: 0.0024 - mean_squared_error: 0.0024 - val_loss: 0.0039 - val_mean_squared_error: 0.0039\n",
      "Epoch 13/50\n",
      "690/690 [==============================] - 11s 16ms/step - loss: 0.0023 - mean_squared_error: 0.0023 - val_loss: 0.0040 - val_mean_squared_error: 0.0040\n",
      "Epoch 14/50\n",
      "690/690 [==============================] - 11s 16ms/step - loss: 0.0024 - mean_squared_error: 0.0024 - val_loss: 0.0043 - val_mean_squared_error: 0.0043\n",
      "Epoch 15/50\n",
      "690/690 [==============================] - 11s 16ms/step - loss: 0.0023 - mean_squared_error: 0.0023 - val_loss: 0.0038 - val_mean_squared_error: 0.0038\n",
      "Epoch 16/50\n",
      "690/690 [==============================] - 11s 15ms/step - loss: 0.0023 - mean_squared_error: 0.0023 - val_loss: 0.0039 - val_mean_squared_error: 0.0039\n",
      "Epoch 17/50\n",
      "690/690 [==============================] - 11s 16ms/step - loss: 0.0023 - mean_squared_error: 0.0023 - val_loss: 0.0037 - val_mean_squared_error: 0.0037\n",
      "WARNING:tensorflow:Layers in a Sequential model should only have a single input tensor, but we receive a <class 'tuple'> input: (<tf.Tensor 'IteratorGetNext:0' shape=(None, 24, 6) dtype=float64>, <tf.Tensor 'IteratorGetNext:1' shape=(None, 8) dtype=float64>, <tf.Tensor 'IteratorGetNext:2' shape=(None, 2) dtype=float64>)\n",
      "Consider rewriting this model with the Functional API.\n",
      "RUN 3\n",
      "\n",
      "Epoch 1/50\n",
      "WARNING:tensorflow:Layers in a Sequential model should only have a single input tensor, but we receive a <class 'tuple'> input: (<tf.Tensor 'IteratorGetNext:0' shape=(None, 24, 6) dtype=float64>, <tf.Tensor 'IteratorGetNext:1' shape=(None, 8) dtype=float64>, <tf.Tensor 'IteratorGetNext:2' shape=(None, 2) dtype=float64>)\n",
      "Consider rewriting this model with the Functional API.\n",
      "WARNING:tensorflow:Layers in a Sequential model should only have a single input tensor, but we receive a <class 'tuple'> input: (<tf.Tensor 'IteratorGetNext:0' shape=(None, 24, 6) dtype=float64>, <tf.Tensor 'IteratorGetNext:1' shape=(None, 8) dtype=float64>, <tf.Tensor 'IteratorGetNext:2' shape=(None, 2) dtype=float64>)\n",
      "Consider rewriting this model with the Functional API.\n",
      "690/690 [==============================] - ETA: 0s - loss: 0.0023 - mean_squared_error: 0.0023WARNING:tensorflow:Layers in a Sequential model should only have a single input tensor, but we receive a <class 'tuple'> input: (<tf.Tensor 'IteratorGetNext:0' shape=(None, 24, 6) dtype=float64>, <tf.Tensor 'IteratorGetNext:1' shape=(None, 8) dtype=float64>, <tf.Tensor 'IteratorGetNext:2' shape=(None, 2) dtype=float64>)\n",
      "Consider rewriting this model with the Functional API.\n",
      "690/690 [==============================] - 13s 19ms/step - loss: 0.0023 - mean_squared_error: 0.0023 - val_loss: 0.0039 - val_mean_squared_error: 0.0039\n",
      "Epoch 2/50\n",
      "690/690 [==============================] - 13s 18ms/step - loss: 0.0023 - mean_squared_error: 0.0023 - val_loss: 0.0041 - val_mean_squared_error: 0.0041\n",
      "Epoch 3/50\n",
      "690/690 [==============================] - 12s 18ms/step - loss: 0.0023 - mean_squared_error: 0.0023 - val_loss: 0.0038 - val_mean_squared_error: 0.0038\n",
      "Epoch 4/50\n",
      "690/690 [==============================] - 12s 17ms/step - loss: 0.0022 - mean_squared_error: 0.0022 - val_loss: 0.0037 - val_mean_squared_error: 0.0037\n",
      "Epoch 5/50\n",
      "690/690 [==============================] - 12s 18ms/step - loss: 0.0022 - mean_squared_error: 0.0022 - val_loss: 0.0040 - val_mean_squared_error: 0.0040\n",
      "Epoch 6/50\n",
      "690/690 [==============================] - 12s 17ms/step - loss: 0.0022 - mean_squared_error: 0.0022 - val_loss: 0.0043 - val_mean_squared_error: 0.0043\n",
      "Epoch 7/50\n",
      "690/690 [==============================] - 12s 17ms/step - loss: 0.0022 - mean_squared_error: 0.0022 - val_loss: 0.0040 - val_mean_squared_error: 0.0040\n",
      "Epoch 8/50\n",
      "690/690 [==============================] - 12s 17ms/step - loss: 0.0022 - mean_squared_error: 0.0022 - val_loss: 0.0038 - val_mean_squared_error: 0.0038\n",
      "Epoch 9/50\n",
      "690/690 [==============================] - 12s 17ms/step - loss: 0.0022 - mean_squared_error: 0.0022 - val_loss: 0.0041 - val_mean_squared_error: 0.0041\n",
      "Epoch 10/50\n",
      "690/690 [==============================] - 13s 18ms/step - loss: 0.0022 - mean_squared_error: 0.0022 - val_loss: 0.0039 - val_mean_squared_error: 0.0039\n",
      "Epoch 11/50\n",
      "690/690 [==============================] - 12s 18ms/step - loss: 0.0022 - mean_squared_error: 0.0022 - val_loss: 0.0039 - val_mean_squared_error: 0.0039\n",
      "Epoch 12/50\n",
      "690/690 [==============================] - 12s 17ms/step - loss: 0.0022 - mean_squared_error: 0.0022 - val_loss: 0.0038 - val_mean_squared_error: 0.0038\n",
      "Epoch 13/50\n",
      "690/690 [==============================] - 11s 16ms/step - loss: 0.0022 - mean_squared_error: 0.0022 - val_loss: 0.0046 - val_mean_squared_error: 0.0046\n",
      "Epoch 14/50\n",
      "690/690 [==============================] - 11s 16ms/step - loss: 0.0022 - mean_squared_error: 0.0022 - val_loss: 0.0038 - val_mean_squared_error: 0.0038\n",
      "WARNING:tensorflow:Layers in a Sequential model should only have a single input tensor, but we receive a <class 'tuple'> input: (<tf.Tensor 'IteratorGetNext:0' shape=(None, 24, 6) dtype=float64>, <tf.Tensor 'IteratorGetNext:1' shape=(None, 8) dtype=float64>, <tf.Tensor 'IteratorGetNext:2' shape=(None, 2) dtype=float64>)\n",
      "Consider rewriting this model with the Functional API.\n",
      "RUN 4\n",
      "\n",
      "Epoch 1/50\n",
      "WARNING:tensorflow:Layers in a Sequential model should only have a single input tensor, but we receive a <class 'tuple'> input: (<tf.Tensor 'IteratorGetNext:0' shape=(None, 24, 6) dtype=float64>, <tf.Tensor 'IteratorGetNext:1' shape=(None, 8) dtype=float64>, <tf.Tensor 'IteratorGetNext:2' shape=(None, 2) dtype=float64>)\n",
      "Consider rewriting this model with the Functional API.\n",
      "WARNING:tensorflow:Layers in a Sequential model should only have a single input tensor, but we receive a <class 'tuple'> input: (<tf.Tensor 'IteratorGetNext:0' shape=(None, 24, 6) dtype=float64>, <tf.Tensor 'IteratorGetNext:1' shape=(None, 8) dtype=float64>, <tf.Tensor 'IteratorGetNext:2' shape=(None, 2) dtype=float64>)\n",
      "Consider rewriting this model with the Functional API.\n",
      "689/690 [============================>.] - ETA: 0s - loss: 0.0022 - mean_squared_error: 0.0022WARNING:tensorflow:Layers in a Sequential model should only have a single input tensor, but we receive a <class 'tuple'> input: (<tf.Tensor 'IteratorGetNext:0' shape=(None, 24, 6) dtype=float64>, <tf.Tensor 'IteratorGetNext:1' shape=(None, 8) dtype=float64>, <tf.Tensor 'IteratorGetNext:2' shape=(None, 2) dtype=float64>)\n",
      "Consider rewriting this model with the Functional API.\n",
      "690/690 [==============================] - 11s 16ms/step - loss: 0.0022 - mean_squared_error: 0.0022 - val_loss: 0.0043 - val_mean_squared_error: 0.0043\n",
      "Epoch 2/50\n"
     ]
    },
    {
     "name": "stdout",
     "output_type": "stream",
     "text": [
      "690/690 [==============================] - 11s 16ms/step - loss: 0.0022 - mean_squared_error: 0.0022 - val_loss: 0.0039 - val_mean_squared_error: 0.0039\n",
      "Epoch 3/50\n",
      "690/690 [==============================] - 11s 16ms/step - loss: 0.0021 - mean_squared_error: 0.0021 - val_loss: 0.0043 - val_mean_squared_error: 0.0043\n",
      "Epoch 4/50\n",
      "690/690 [==============================] - 11s 16ms/step - loss: 0.0021 - mean_squared_error: 0.0021 - val_loss: 0.0044 - val_mean_squared_error: 0.0044\n",
      "Epoch 5/50\n",
      "690/690 [==============================] - 11s 16ms/step - loss: 0.0021 - mean_squared_error: 0.0021 - val_loss: 0.0038 - val_mean_squared_error: 0.0038\n",
      "Epoch 6/50\n",
      "690/690 [==============================] - 12s 18ms/step - loss: 0.0021 - mean_squared_error: 0.0021 - val_loss: 0.0037 - val_mean_squared_error: 0.0037\n",
      "Epoch 7/50\n",
      "690/690 [==============================] - 12s 18ms/step - loss: 0.0021 - mean_squared_error: 0.0021 - val_loss: 0.0040 - val_mean_squared_error: 0.0040\n",
      "Epoch 8/50\n",
      "690/690 [==============================] - 13s 18ms/step - loss: 0.0021 - mean_squared_error: 0.0021 - val_loss: 0.0038 - val_mean_squared_error: 0.0038\n",
      "Epoch 9/50\n",
      "690/690 [==============================] - 11s 17ms/step - loss: 0.0021 - mean_squared_error: 0.0021 - val_loss: 0.0038 - val_mean_squared_error: 0.0038\n",
      "Epoch 10/50\n",
      "690/690 [==============================] - 11s 16ms/step - loss: 0.0021 - mean_squared_error: 0.0021 - val_loss: 0.0039 - val_mean_squared_error: 0.0039\n",
      "Epoch 11/50\n",
      "690/690 [==============================] - 11s 16ms/step - loss: 0.0021 - mean_squared_error: 0.0021 - val_loss: 0.0042 - val_mean_squared_error: 0.0042\n",
      "Epoch 12/50\n",
      "690/690 [==============================] - 12s 17ms/step - loss: 0.0021 - mean_squared_error: 0.0021 - val_loss: 0.0040 - val_mean_squared_error: 0.0040\n",
      "Epoch 13/50\n",
      "690/690 [==============================] - 12s 17ms/step - loss: 0.0021 - mean_squared_error: 0.0021 - val_loss: 0.0040 - val_mean_squared_error: 0.0040\n",
      "Epoch 14/50\n",
      "690/690 [==============================] - 11s 16ms/step - loss: 0.0021 - mean_squared_error: 0.0021 - val_loss: 0.0038 - val_mean_squared_error: 0.0038\n",
      "Epoch 15/50\n",
      "690/690 [==============================] - 11s 15ms/step - loss: 0.0025 - mean_squared_error: 0.0025 - val_loss: 0.0044 - val_mean_squared_error: 0.0044\n",
      "Epoch 16/50\n",
      "690/690 [==============================] - 11s 15ms/step - loss: 0.0024 - mean_squared_error: 0.0024 - val_loss: 0.0038 - val_mean_squared_error: 0.0038\n",
      "WARNING:tensorflow:Layers in a Sequential model should only have a single input tensor, but we receive a <class 'tuple'> input: (<tf.Tensor 'IteratorGetNext:0' shape=(None, 24, 6) dtype=float64>, <tf.Tensor 'IteratorGetNext:1' shape=(None, 8) dtype=float64>, <tf.Tensor 'IteratorGetNext:2' shape=(None, 2) dtype=float64>)\n",
      "Consider rewriting this model with the Functional API.\n",
      "RUN 5\n",
      "\n",
      "Epoch 1/50\n",
      "WARNING:tensorflow:Layers in a Sequential model should only have a single input tensor, but we receive a <class 'tuple'> input: (<tf.Tensor 'IteratorGetNext:0' shape=(None, 24, 6) dtype=float64>, <tf.Tensor 'IteratorGetNext:1' shape=(None, 8) dtype=float64>, <tf.Tensor 'IteratorGetNext:2' shape=(None, 2) dtype=float64>)\n",
      "Consider rewriting this model with the Functional API.\n",
      "WARNING:tensorflow:Layers in a Sequential model should only have a single input tensor, but we receive a <class 'tuple'> input: (<tf.Tensor 'IteratorGetNext:0' shape=(None, 24, 6) dtype=float64>, <tf.Tensor 'IteratorGetNext:1' shape=(None, 8) dtype=float64>, <tf.Tensor 'IteratorGetNext:2' shape=(None, 2) dtype=float64>)\n",
      "Consider rewriting this model with the Functional API.\n",
      "687/690 [============================>.] - ETA: 0s - loss: 0.0023 - mean_squared_error: 0.0023WARNING:tensorflow:Layers in a Sequential model should only have a single input tensor, but we receive a <class 'tuple'> input: (<tf.Tensor 'IteratorGetNext:0' shape=(None, 24, 6) dtype=float64>, <tf.Tensor 'IteratorGetNext:1' shape=(None, 8) dtype=float64>, <tf.Tensor 'IteratorGetNext:2' shape=(None, 2) dtype=float64>)\n",
      "Consider rewriting this model with the Functional API.\n",
      "690/690 [==============================] - 11s 16ms/step - loss: 0.0023 - mean_squared_error: 0.0023 - val_loss: 0.0041 - val_mean_squared_error: 0.0041\n",
      "Epoch 2/50\n",
      "690/690 [==============================] - 11s 16ms/step - loss: 0.0023 - mean_squared_error: 0.0023 - val_loss: 0.0038 - val_mean_squared_error: 0.0038\n",
      "Epoch 3/50\n",
      "690/690 [==============================] - 11s 16ms/step - loss: 0.0022 - mean_squared_error: 0.0022 - val_loss: 0.0040 - val_mean_squared_error: 0.0040\n",
      "Epoch 4/50\n",
      "690/690 [==============================] - 11s 16ms/step - loss: 0.0022 - mean_squared_error: 0.0022 - val_loss: 0.0040 - val_mean_squared_error: 0.0040\n",
      "Epoch 5/50\n",
      "690/690 [==============================] - 11s 16ms/step - loss: 0.0022 - mean_squared_error: 0.0022 - val_loss: 0.0038 - val_mean_squared_error: 0.0038\n",
      "Epoch 6/50\n",
      "690/690 [==============================] - 12s 17ms/step - loss: 0.0022 - mean_squared_error: 0.0022 - val_loss: 0.0038 - val_mean_squared_error: 0.0038\n",
      "Epoch 7/50\n",
      "690/690 [==============================] - 12s 18ms/step - loss: 0.0022 - mean_squared_error: 0.0022 - val_loss: 0.0045 - val_mean_squared_error: 0.0045\n",
      "Epoch 8/50\n",
      "690/690 [==============================] - 12s 18ms/step - loss: 0.0022 - mean_squared_error: 0.0022 - val_loss: 0.0044 - val_mean_squared_error: 0.0044\n",
      "Epoch 9/50\n",
      "690/690 [==============================] - 12s 17ms/step - loss: 0.0021 - mean_squared_error: 0.0021 - val_loss: 0.0039 - val_mean_squared_error: 0.0039\n",
      "Epoch 10/50\n",
      "690/690 [==============================] - 12s 17ms/step - loss: 0.0021 - mean_squared_error: 0.0021 - val_loss: 0.0039 - val_mean_squared_error: 0.0039\n",
      "Epoch 11/50\n",
      "690/690 [==============================] - 11s 15ms/step - loss: 0.0021 - mean_squared_error: 0.0021 - val_loss: 0.0040 - val_mean_squared_error: 0.0040\n",
      "Epoch 12/50\n",
      "690/690 [==============================] - 11s 16ms/step - loss: 0.0021 - mean_squared_error: 0.0021 - val_loss: 0.0041 - val_mean_squared_error: 0.0041\n",
      "WARNING:tensorflow:Layers in a Sequential model should only have a single input tensor, but we receive a <class 'tuple'> input: (<tf.Tensor 'IteratorGetNext:0' shape=(None, 24, 6) dtype=float64>, <tf.Tensor 'IteratorGetNext:1' shape=(None, 8) dtype=float64>, <tf.Tensor 'IteratorGetNext:2' shape=(None, 2) dtype=float64>)\n",
      "Consider rewriting this model with the Functional API.\n",
      "RUN 6\n",
      "\n",
      "Epoch 1/50\n",
      "WARNING:tensorflow:Layers in a Sequential model should only have a single input tensor, but we receive a <class 'tuple'> input: (<tf.Tensor 'IteratorGetNext:0' shape=(None, 24, 6) dtype=float64>, <tf.Tensor 'IteratorGetNext:1' shape=(None, 8) dtype=float64>, <tf.Tensor 'IteratorGetNext:2' shape=(None, 2) dtype=float64>)\n",
      "Consider rewriting this model with the Functional API.\n",
      "WARNING:tensorflow:Layers in a Sequential model should only have a single input tensor, but we receive a <class 'tuple'> input: (<tf.Tensor 'IteratorGetNext:0' shape=(None, 24, 6) dtype=float64>, <tf.Tensor 'IteratorGetNext:1' shape=(None, 8) dtype=float64>, <tf.Tensor 'IteratorGetNext:2' shape=(None, 2) dtype=float64>)\n",
      "Consider rewriting this model with the Functional API.\n",
      "686/690 [============================>.] - ETA: 0s - loss: 0.0021 - mean_squared_error: 0.0021WARNING:tensorflow:Layers in a Sequential model should only have a single input tensor, but we receive a <class 'tuple'> input: (<tf.Tensor 'IteratorGetNext:0' shape=(None, 24, 6) dtype=float64>, <tf.Tensor 'IteratorGetNext:1' shape=(None, 8) dtype=float64>, <tf.Tensor 'IteratorGetNext:2' shape=(None, 2) dtype=float64>)\n",
      "Consider rewriting this model with the Functional API.\n",
      "690/690 [==============================] - 11s 16ms/step - loss: 0.0021 - mean_squared_error: 0.0021 - val_loss: 0.0039 - val_mean_squared_error: 0.0039\n",
      "Epoch 2/50\n",
      "690/690 [==============================] - 11s 16ms/step - loss: 0.0021 - mean_squared_error: 0.0021 - val_loss: 0.0039 - val_mean_squared_error: 0.0039\n",
      "Epoch 3/50\n",
      "690/690 [==============================] - 11s 16ms/step - loss: 0.0021 - mean_squared_error: 0.0021 - val_loss: 0.0040 - val_mean_squared_error: 0.0040\n",
      "Epoch 4/50\n"
     ]
    },
    {
     "name": "stdout",
     "output_type": "stream",
     "text": [
      "690/690 [==============================] - 11s 16ms/step - loss: 0.0021 - mean_squared_error: 0.0021 - val_loss: 0.0040 - val_mean_squared_error: 0.0040\n",
      "Epoch 5/50\n",
      "690/690 [==============================] - 12s 17ms/step - loss: 0.0020 - mean_squared_error: 0.0020 - val_loss: 0.0044 - val_mean_squared_error: 0.0044\n",
      "Epoch 6/50\n",
      "690/690 [==============================] - 12s 17ms/step - loss: 0.0021 - mean_squared_error: 0.0021 - val_loss: 0.0040 - val_mean_squared_error: 0.0040\n",
      "Epoch 7/50\n",
      "690/690 [==============================] - 12s 17ms/step - loss: 0.0021 - mean_squared_error: 0.0021 - val_loss: 0.0039 - val_mean_squared_error: 0.0039\n",
      "Epoch 8/50\n",
      "690/690 [==============================] - 12s 17ms/step - loss: 0.0020 - mean_squared_error: 0.0020 - val_loss: 0.0040 - val_mean_squared_error: 0.0040\n",
      "Epoch 9/50\n",
      "690/690 [==============================] - 12s 18ms/step - loss: 0.0021 - mean_squared_error: 0.0021 - val_loss: 0.0040 - val_mean_squared_error: 0.0040\n",
      "Epoch 10/50\n",
      "690/690 [==============================] - 12s 18ms/step - loss: 0.0020 - mean_squared_error: 0.0020 - val_loss: 0.0042 - val_mean_squared_error: 0.0042\n",
      "Epoch 11/50\n",
      "690/690 [==============================] - 13s 18ms/step - loss: 0.0020 - mean_squared_error: 0.0020 - val_loss: 0.0039 - val_mean_squared_error: 0.0039\n",
      "Epoch 12/50\n",
      "690/690 [==============================] - 13s 18ms/step - loss: 0.0020 - mean_squared_error: 0.0020 - val_loss: 0.0040 - val_mean_squared_error: 0.0040\n",
      "WARNING:tensorflow:Layers in a Sequential model should only have a single input tensor, but we receive a <class 'tuple'> input: (<tf.Tensor 'IteratorGetNext:0' shape=(None, 24, 6) dtype=float64>, <tf.Tensor 'IteratorGetNext:1' shape=(None, 8) dtype=float64>, <tf.Tensor 'IteratorGetNext:2' shape=(None, 2) dtype=float64>)\n",
      "Consider rewriting this model with the Functional API.\n",
      "RUN 7\n",
      "\n",
      "Epoch 1/50\n",
      "WARNING:tensorflow:Layers in a Sequential model should only have a single input tensor, but we receive a <class 'tuple'> input: (<tf.Tensor 'IteratorGetNext:0' shape=(None, 24, 6) dtype=float64>, <tf.Tensor 'IteratorGetNext:1' shape=(None, 8) dtype=float64>, <tf.Tensor 'IteratorGetNext:2' shape=(None, 2) dtype=float64>)\n",
      "Consider rewriting this model with the Functional API.\n",
      "WARNING:tensorflow:Layers in a Sequential model should only have a single input tensor, but we receive a <class 'tuple'> input: (<tf.Tensor 'IteratorGetNext:0' shape=(None, 24, 6) dtype=float64>, <tf.Tensor 'IteratorGetNext:1' shape=(None, 8) dtype=float64>, <tf.Tensor 'IteratorGetNext:2' shape=(None, 2) dtype=float64>)\n",
      "Consider rewriting this model with the Functional API.\n",
      "687/690 [============================>.] - ETA: 0s - loss: 0.0020 - mean_squared_error: 0.0020WARNING:tensorflow:Layers in a Sequential model should only have a single input tensor, but we receive a <class 'tuple'> input: (<tf.Tensor 'IteratorGetNext:0' shape=(None, 24, 6) dtype=float64>, <tf.Tensor 'IteratorGetNext:1' shape=(None, 8) dtype=float64>, <tf.Tensor 'IteratorGetNext:2' shape=(None, 2) dtype=float64>)\n",
      "Consider rewriting this model with the Functional API.\n",
      "690/690 [==============================] - 13s 19ms/step - loss: 0.0020 - mean_squared_error: 0.0020 - val_loss: 0.0041 - val_mean_squared_error: 0.0041\n",
      "Epoch 2/50\n",
      "690/690 [==============================] - 11s 17ms/step - loss: 0.0020 - mean_squared_error: 0.0020 - val_loss: 0.0039 - val_mean_squared_error: 0.0039\n",
      "Epoch 3/50\n",
      "690/690 [==============================] - 11s 16ms/step - loss: 0.0020 - mean_squared_error: 0.0020 - val_loss: 0.0041 - val_mean_squared_error: 0.0041\n",
      "Epoch 4/50\n",
      "690/690 [==============================] - 12s 17ms/step - loss: 0.0020 - mean_squared_error: 0.0020 - val_loss: 0.0043 - val_mean_squared_error: 0.0043\n",
      "Epoch 5/50\n",
      "690/690 [==============================] - 12s 17ms/step - loss: 0.0020 - mean_squared_error: 0.0020 - val_loss: 0.0039 - val_mean_squared_error: 0.0039\n",
      "Epoch 6/50\n",
      "690/690 [==============================] - 12s 17ms/step - loss: 0.0020 - mean_squared_error: 0.0020 - val_loss: 0.0039 - val_mean_squared_error: 0.0039\n",
      "Epoch 7/50\n",
      "690/690 [==============================] - 12s 18ms/step - loss: 0.0020 - mean_squared_error: 0.0020 - val_loss: 0.0042 - val_mean_squared_error: 0.0042\n",
      "Epoch 8/50\n",
      "690/690 [==============================] - 12s 17ms/step - loss: 0.0020 - mean_squared_error: 0.0020 - val_loss: 0.0041 - val_mean_squared_error: 0.0041\n",
      "Epoch 9/50\n",
      "690/690 [==============================] - 12s 17ms/step - loss: 0.0020 - mean_squared_error: 0.0020 - val_loss: 0.0039 - val_mean_squared_error: 0.0039\n",
      "Epoch 10/50\n",
      "690/690 [==============================] - 12s 17ms/step - loss: 0.0020 - mean_squared_error: 0.0020 - val_loss: 0.0043 - val_mean_squared_error: 0.0043\n",
      "Epoch 11/50\n",
      "690/690 [==============================] - 12s 17ms/step - loss: 0.0020 - mean_squared_error: 0.0020 - val_loss: 0.0040 - val_mean_squared_error: 0.0040\n",
      "Epoch 12/50\n",
      "690/690 [==============================] - 11s 16ms/step - loss: 0.0020 - mean_squared_error: 0.0020 - val_loss: 0.0044 - val_mean_squared_error: 0.0044\n",
      "WARNING:tensorflow:Layers in a Sequential model should only have a single input tensor, but we receive a <class 'tuple'> input: (<tf.Tensor 'IteratorGetNext:0' shape=(None, 24, 6) dtype=float64>, <tf.Tensor 'IteratorGetNext:1' shape=(None, 8) dtype=float64>, <tf.Tensor 'IteratorGetNext:2' shape=(None, 2) dtype=float64>)\n",
      "Consider rewriting this model with the Functional API.\n",
      "RUN 8\n",
      "\n",
      "Epoch 1/50\n",
      "WARNING:tensorflow:Layers in a Sequential model should only have a single input tensor, but we receive a <class 'tuple'> input: (<tf.Tensor 'IteratorGetNext:0' shape=(None, 24, 6) dtype=float64>, <tf.Tensor 'IteratorGetNext:1' shape=(None, 8) dtype=float64>, <tf.Tensor 'IteratorGetNext:2' shape=(None, 2) dtype=float64>)\n",
      "Consider rewriting this model with the Functional API.\n",
      "WARNING:tensorflow:Layers in a Sequential model should only have a single input tensor, but we receive a <class 'tuple'> input: (<tf.Tensor 'IteratorGetNext:0' shape=(None, 24, 6) dtype=float64>, <tf.Tensor 'IteratorGetNext:1' shape=(None, 8) dtype=float64>, <tf.Tensor 'IteratorGetNext:2' shape=(None, 2) dtype=float64>)\n",
      "Consider rewriting this model with the Functional API.\n",
      "689/690 [============================>.] - ETA: 0s - loss: 0.0020 - mean_squared_error: 0.0020WARNING:tensorflow:Layers in a Sequential model should only have a single input tensor, but we receive a <class 'tuple'> input: (<tf.Tensor 'IteratorGetNext:0' shape=(None, 24, 6) dtype=float64>, <tf.Tensor 'IteratorGetNext:1' shape=(None, 8) dtype=float64>, <tf.Tensor 'IteratorGetNext:2' shape=(None, 2) dtype=float64>)\n",
      "Consider rewriting this model with the Functional API.\n",
      "690/690 [==============================] - 12s 17ms/step - loss: 0.0020 - mean_squared_error: 0.0020 - val_loss: 0.0041 - val_mean_squared_error: 0.0041\n",
      "Epoch 2/50\n",
      "690/690 [==============================] - 11s 16ms/step - loss: 0.0020 - mean_squared_error: 0.0020 - val_loss: 0.0044 - val_mean_squared_error: 0.0044\n",
      "Epoch 3/50\n",
      "690/690 [==============================] - 11s 16ms/step - loss: 0.0019 - mean_squared_error: 0.0019 - val_loss: 0.0042 - val_mean_squared_error: 0.0042\n",
      "Epoch 4/50\n",
      "690/690 [==============================] - 11s 16ms/step - loss: 0.0020 - mean_squared_error: 0.0020 - val_loss: 0.0041 - val_mean_squared_error: 0.0041\n",
      "Epoch 5/50\n",
      "690/690 [==============================] - 11s 16ms/step - loss: 0.0019 - mean_squared_error: 0.0019 - val_loss: 0.0045 - val_mean_squared_error: 0.0045\n",
      "Epoch 6/50\n",
      "690/690 [==============================] - 12s 17ms/step - loss: 0.0019 - mean_squared_error: 0.0019 - val_loss: 0.0041 - val_mean_squared_error: 0.0041\n",
      "Epoch 7/50\n",
      "690/690 [==============================] - 11s 16ms/step - loss: 0.0019 - mean_squared_error: 0.0019 - val_loss: 0.0040 - val_mean_squared_error: 0.0040\n",
      "Epoch 8/50\n",
      "690/690 [==============================] - 12s 17ms/step - loss: 0.0019 - mean_squared_error: 0.0019 - val_loss: 0.0044 - val_mean_squared_error: 0.0044\n",
      "Epoch 9/50\n",
      "690/690 [==============================] - 12s 18ms/step - loss: 0.0019 - mean_squared_error: 0.0019 - val_loss: 0.0044 - val_mean_squared_error: 0.0044\n",
      "Epoch 10/50\n"
     ]
    },
    {
     "name": "stdout",
     "output_type": "stream",
     "text": [
      "690/690 [==============================] - 12s 18ms/step - loss: 0.0019 - mean_squared_error: 0.0019 - val_loss: 0.0046 - val_mean_squared_error: 0.0046\n",
      "Epoch 11/50\n",
      "690/690 [==============================] - 12s 17ms/step - loss: 0.0019 - mean_squared_error: 0.0019 - val_loss: 0.0043 - val_mean_squared_error: 0.0043\n",
      "Epoch 12/50\n",
      "690/690 [==============================] - 12s 18ms/step - loss: 0.0019 - mean_squared_error: 0.0019 - val_loss: 0.0043 - val_mean_squared_error: 0.0043\n",
      "Epoch 13/50\n",
      "690/690 [==============================] - 12s 17ms/step - loss: 0.0019 - mean_squared_error: 0.0019 - val_loss: 0.0040 - val_mean_squared_error: 0.0040\n",
      "Epoch 14/50\n",
      "690/690 [==============================] - 11s 16ms/step - loss: 0.0019 - mean_squared_error: 0.0019 - val_loss: 0.0048 - val_mean_squared_error: 0.0048\n",
      "Epoch 15/50\n",
      "690/690 [==============================] - 11s 16ms/step - loss: 0.0019 - mean_squared_error: 0.0019 - val_loss: 0.0040 - val_mean_squared_error: 0.0040\n",
      "Epoch 16/50\n",
      "690/690 [==============================] - 12s 17ms/step - loss: 0.0019 - mean_squared_error: 0.0019 - val_loss: 0.0041 - val_mean_squared_error: 0.0041\n",
      "Epoch 17/50\n",
      "690/690 [==============================] - 11s 16ms/step - loss: 0.0019 - mean_squared_error: 0.0019 - val_loss: 0.0047 - val_mean_squared_error: 0.0047\n",
      "Epoch 18/50\n",
      "690/690 [==============================] - 11s 16ms/step - loss: 0.0019 - mean_squared_error: 0.0019 - val_loss: 0.0041 - val_mean_squared_error: 0.0041\n",
      "Epoch 19/50\n",
      "690/690 [==============================] - 11s 16ms/step - loss: 0.0019 - mean_squared_error: 0.0019 - val_loss: 0.0040 - val_mean_squared_error: 0.0040\n",
      "Epoch 20/50\n",
      "690/690 [==============================] - 11s 16ms/step - loss: 0.0019 - mean_squared_error: 0.0019 - val_loss: 0.0042 - val_mean_squared_error: 0.0042\n",
      "Epoch 21/50\n",
      "690/690 [==============================] - 12s 17ms/step - loss: 0.0019 - mean_squared_error: 0.0019 - val_loss: 0.0042 - val_mean_squared_error: 0.0042\n",
      "Epoch 22/50\n",
      "690/690 [==============================] - 11s 16ms/step - loss: 0.0019 - mean_squared_error: 0.0019 - val_loss: 0.0042 - val_mean_squared_error: 0.0042\n",
      "Epoch 23/50\n",
      "690/690 [==============================] - 11s 17ms/step - loss: 0.0019 - mean_squared_error: 0.0019 - val_loss: 0.0040 - val_mean_squared_error: 0.0040\n",
      "Epoch 24/50\n",
      "690/690 [==============================] - 11s 16ms/step - loss: 0.0019 - mean_squared_error: 0.0019 - val_loss: 0.0040 - val_mean_squared_error: 0.0040\n",
      "Epoch 25/50\n",
      "690/690 [==============================] - 11s 17ms/step - loss: 0.0018 - mean_squared_error: 0.0018 - val_loss: 0.0043 - val_mean_squared_error: 0.0043\n",
      "WARNING:tensorflow:Layers in a Sequential model should only have a single input tensor, but we receive a <class 'tuple'> input: (<tf.Tensor 'IteratorGetNext:0' shape=(None, 24, 6) dtype=float64>, <tf.Tensor 'IteratorGetNext:1' shape=(None, 8) dtype=float64>, <tf.Tensor 'IteratorGetNext:2' shape=(None, 2) dtype=float64>)\n",
      "Consider rewriting this model with the Functional API.\n",
      "RUN 9\n",
      "\n",
      "Epoch 1/50\n",
      "WARNING:tensorflow:Layers in a Sequential model should only have a single input tensor, but we receive a <class 'tuple'> input: (<tf.Tensor 'IteratorGetNext:0' shape=(None, 24, 6) dtype=float64>, <tf.Tensor 'IteratorGetNext:1' shape=(None, 8) dtype=float64>, <tf.Tensor 'IteratorGetNext:2' shape=(None, 2) dtype=float64>)\n",
      "Consider rewriting this model with the Functional API.\n",
      "WARNING:tensorflow:Layers in a Sequential model should only have a single input tensor, but we receive a <class 'tuple'> input: (<tf.Tensor 'IteratorGetNext:0' shape=(None, 24, 6) dtype=float64>, <tf.Tensor 'IteratorGetNext:1' shape=(None, 8) dtype=float64>, <tf.Tensor 'IteratorGetNext:2' shape=(None, 2) dtype=float64>)\n",
      "Consider rewriting this model with the Functional API.\n",
      "687/690 [============================>.] - ETA: 0s - loss: 0.0019 - mean_squared_error: 0.0019WARNING:tensorflow:Layers in a Sequential model should only have a single input tensor, but we receive a <class 'tuple'> input: (<tf.Tensor 'IteratorGetNext:0' shape=(None, 24, 6) dtype=float64>, <tf.Tensor 'IteratorGetNext:1' shape=(None, 8) dtype=float64>, <tf.Tensor 'IteratorGetNext:2' shape=(None, 2) dtype=float64>)\n",
      "Consider rewriting this model with the Functional API.\n",
      "690/690 [==============================] - 12s 17ms/step - loss: 0.0019 - mean_squared_error: 0.0019 - val_loss: 0.0045 - val_mean_squared_error: 0.0045\n",
      "Epoch 2/50\n",
      "690/690 [==============================] - 11s 16ms/step - loss: 0.0019 - mean_squared_error: 0.0019 - val_loss: 0.0043 - val_mean_squared_error: 0.0043\n",
      "Epoch 3/50\n",
      "690/690 [==============================] - 12s 17ms/step - loss: 0.0018 - mean_squared_error: 0.0018 - val_loss: 0.0043 - val_mean_squared_error: 0.0043\n",
      "Epoch 4/50\n",
      "690/690 [==============================] - 12s 17ms/step - loss: 0.0019 - mean_squared_error: 0.0019 - val_loss: 0.0038 - val_mean_squared_error: 0.0038\n",
      "Epoch 5/50\n",
      "690/690 [==============================] - 12s 17ms/step - loss: 0.0018 - mean_squared_error: 0.0018 - val_loss: 0.0041 - val_mean_squared_error: 0.0041\n",
      "Epoch 6/50\n",
      "690/690 [==============================] - 12s 17ms/step - loss: 0.0018 - mean_squared_error: 0.0018 - val_loss: 0.0041 - val_mean_squared_error: 0.0041\n",
      "Epoch 7/50\n",
      "690/690 [==============================] - 12s 18ms/step - loss: 0.0018 - mean_squared_error: 0.0018 - val_loss: 0.0043 - val_mean_squared_error: 0.0043\n",
      "Epoch 8/50\n",
      "690/690 [==============================] - 11s 16ms/step - loss: 0.0018 - mean_squared_error: 0.0018 - val_loss: 0.0046 - val_mean_squared_error: 0.0046\n",
      "Epoch 9/50\n",
      "690/690 [==============================] - 12s 17ms/step - loss: 0.0019 - mean_squared_error: 0.0019 - val_loss: 0.0046 - val_mean_squared_error: 0.0046\n",
      "Epoch 10/50\n",
      "690/690 [==============================] - 12s 18ms/step - loss: 0.0018 - mean_squared_error: 0.0018 - val_loss: 0.0042 - val_mean_squared_error: 0.0042\n",
      "Epoch 11/50\n",
      "690/690 [==============================] - 12s 18ms/step - loss: 0.0018 - mean_squared_error: 0.0018 - val_loss: 0.0043 - val_mean_squared_error: 0.0043\n",
      "Epoch 12/50\n",
      "690/690 [==============================] - 12s 18ms/step - loss: 0.0018 - mean_squared_error: 0.0018 - val_loss: 0.0043 - val_mean_squared_error: 0.0043\n",
      "Epoch 13/50\n",
      "690/690 [==============================] - 12s 17ms/step - loss: 0.0018 - mean_squared_error: 0.0018 - val_loss: 0.0044 - val_mean_squared_error: 0.0044\n",
      "Epoch 14/50\n",
      "690/690 [==============================] - 12s 17ms/step - loss: 0.0018 - mean_squared_error: 0.0018 - val_loss: 0.0044 - val_mean_squared_error: 0.0044\n",
      "WARNING:tensorflow:Layers in a Sequential model should only have a single input tensor, but we receive a <class 'tuple'> input: (<tf.Tensor 'IteratorGetNext:0' shape=(None, 24, 6) dtype=float64>, <tf.Tensor 'IteratorGetNext:1' shape=(None, 8) dtype=float64>, <tf.Tensor 'IteratorGetNext:2' shape=(None, 2) dtype=float64>)\n",
      "Consider rewriting this model with the Functional API.\n",
      "RUN 10\n",
      "\n"
     ]
    }
   ],
   "source": [
    "mape_performance['ConditionalRNN'] = []\n",
    "mse_performance['ConditionalRNN'] = []\n",
    "for i in range(1,11):\n",
    "    ConditionalRNN.compile(optimizer=tf.optimizers.Adam(), loss='mse', metrics=[tf.metrics.MeanSquaredError()])\n",
    "\n",
    "    early_stopping = tf.keras.callbacks.EarlyStopping(monitor='val_loss', patience=patience, mode='min')\n",
    "\n",
    "    history = ConditionalRNN.fit([train_inputs['X'],train_c1,train_c2], train_inputs['target'], batch_size=32, epochs=MAX_EPOCHS,\n",
    "                  validation_split=0.15,\n",
    "                  callbacks=[early_stopping], verbose=1)\n",
    "\n",
    "\n",
    "    #save_model(ConditionalRNN, i)\n",
    "    predictions = ConditionalRNN.predict([test_inputs['X'],test_c1,test_c2])\n",
    "    eval_df = create_evaluation_df(predictions, test_inputs, HORIZON, y_scaler)\n",
    "    mape = validation(eval_df['prediction'], eval_df['actual'], 'MAPE')\n",
    "    rmse = validation(eval_df['prediction'], eval_df['actual'], 'RMSE')\n",
    "    mape_performance['ConditionalRNN'].append(mape)\n",
    "    mse_performance['ConditionalRNN'].append(rmse)\n",
    "    print('RUN '+str(i)+'\\n')\n",
    "    metrics.loc[i] = pd.Series({'mape':mape, 'rmse':rmse})\n",
    "\n",
    "    file1 = open('./results/ERCOT_ConditionalRNN.txt', 'a') \n",
    "    file1.write('\\nRUN '+str(i)+':') \n",
    "    file1.writelines(['\\n'+str(mape), '\\n'+str(rmse)]) \n",
    "    file1.close()\n",
    "metrics.to_csv('./results/ERCOT_ConditionalRNN.csv')"
   ]
  },
  {
   "cell_type": "code",
   "execution_count": 61,
   "metadata": {},
   "outputs": [
    {
     "name": "stdout",
     "output_type": "stream",
     "text": [
      "Epoch 1/50\n",
      "WARNING:tensorflow:Layers in a Sequential model should only have a single input tensor, but we receive a <class 'tuple'> input: (<tf.Tensor 'IteratorGetNext:0' shape=(None, 24, 6) dtype=float64>, <tf.Tensor 'IteratorGetNext:1' shape=(None, 8) dtype=float64>, <tf.Tensor 'IteratorGetNext:2' shape=(None, 2) dtype=float64>)\n",
      "Consider rewriting this model with the Functional API.\n",
      "WARNING:tensorflow:Layer dense_4 is casting an input tensor from dtype float64 to the layer's dtype of float32, which is new behavior in TensorFlow 2.  The layer has dtype float32 because its dtype defaults to floatx.\n",
      "\n",
      "If you intended to run this layer in float32, you can safely ignore this warning. If in doubt, this warning is likely only an issue if you are porting a TensorFlow 1.X model to TensorFlow 2.\n",
      "\n",
      "To change all layers to have dtype float64 by default, call `tf.keras.backend.set_floatx('float64')`. To change just this layer, pass dtype='float64' to the layer constructor. If you are the author of this layer, you can disable autocasting by passing autocast=False to the base Layer constructor.\n",
      "\n",
      "WARNING:tensorflow:Layer dense_5 is casting an input tensor from dtype float64 to the layer's dtype of float32, which is new behavior in TensorFlow 2.  The layer has dtype float32 because its dtype defaults to floatx.\n",
      "\n",
      "If you intended to run this layer in float32, you can safely ignore this warning. If in doubt, this warning is likely only an issue if you are porting a TensorFlow 1.X model to TensorFlow 2.\n",
      "\n",
      "To change all layers to have dtype float64 by default, call `tf.keras.backend.set_floatx('float64')`. To change just this layer, pass dtype='float64' to the layer constructor. If you are the author of this layer, you can disable autocasting by passing autocast=False to the base Layer constructor.\n",
      "\n",
      "WARNING:tensorflow:Layer rnn is casting an input tensor from dtype float64 to the layer's dtype of float32, which is new behavior in TensorFlow 2.  The layer has dtype float32 because its dtype defaults to floatx.\n",
      "\n",
      "If you intended to run this layer in float32, you can safely ignore this warning. If in doubt, this warning is likely only an issue if you are porting a TensorFlow 1.X model to TensorFlow 2.\n",
      "\n",
      "To change all layers to have dtype float64 by default, call `tf.keras.backend.set_floatx('float64')`. To change just this layer, pass dtype='float64' to the layer constructor. If you are the author of this layer, you can disable autocasting by passing autocast=False to the base Layer constructor.\n",
      "\n",
      "WARNING:tensorflow:Layers in a Sequential model should only have a single input tensor, but we receive a <class 'tuple'> input: (<tf.Tensor 'IteratorGetNext:0' shape=(None, 24, 6) dtype=float64>, <tf.Tensor 'IteratorGetNext:1' shape=(None, 8) dtype=float64>, <tf.Tensor 'IteratorGetNext:2' shape=(None, 2) dtype=float64>)\n",
      "Consider rewriting this model with the Functional API.\n",
      "694/694 [==============================] - ETA: 0s - loss: 0.0172 - mean_squared_error: 0.0172WARNING:tensorflow:Layers in a Sequential model should only have a single input tensor, but we receive a <class 'tuple'> input: (<tf.Tensor 'IteratorGetNext:0' shape=(None, 24, 6) dtype=float64>, <tf.Tensor 'IteratorGetNext:1' shape=(None, 8) dtype=float64>, <tf.Tensor 'IteratorGetNext:2' shape=(None, 2) dtype=float64>)\n",
      "Consider rewriting this model with the Functional API.\n",
      "694/694 [==============================] - 12s 17ms/step - loss: 0.0172 - mean_squared_error: 0.0172 - val_loss: 0.0076 - val_mean_squared_error: 0.0076\n",
      "Epoch 2/50\n",
      "694/694 [==============================] - 11s 16ms/step - loss: 0.0066 - mean_squared_error: 0.0066 - val_loss: 0.0066 - val_mean_squared_error: 0.0066\n",
      "Epoch 3/50\n",
      "694/694 [==============================] - 10s 15ms/step - loss: 0.0059 - mean_squared_error: 0.0059 - val_loss: 0.0062 - val_mean_squared_error: 0.0062\n",
      "Epoch 4/50\n",
      "694/694 [==============================] - 11s 15ms/step - loss: 0.0054 - mean_squared_error: 0.0054 - val_loss: 0.0054 - val_mean_squared_error: 0.0054\n",
      "Epoch 5/50\n",
      "694/694 [==============================] - 10s 14ms/step - loss: 0.0050 - mean_squared_error: 0.0050 - val_loss: 0.0056 - val_mean_squared_error: 0.0056\n",
      "Epoch 6/50\n",
      "694/694 [==============================] - 11s 15ms/step - loss: 0.0046 - mean_squared_error: 0.0046 - val_loss: 0.0049 - val_mean_squared_error: 0.0049\n",
      "Epoch 7/50\n",
      "694/694 [==============================] - 11s 15ms/step - loss: 0.0043 - mean_squared_error: 0.0043 - val_loss: 0.0047 - val_mean_squared_error: 0.0047\n",
      "Epoch 8/50\n",
      "694/694 [==============================] - 11s 15ms/step - loss: 0.0041 - mean_squared_error: 0.0041 - val_loss: 0.0046 - val_mean_squared_error: 0.0046\n",
      "Epoch 9/50\n",
      "694/694 [==============================] - 11s 16ms/step - loss: 0.0040 - mean_squared_error: 0.0040 - val_loss: 0.0043 - val_mean_squared_error: 0.0043\n",
      "Epoch 10/50\n",
      "694/694 [==============================] - 11s 16ms/step - loss: 0.0039 - mean_squared_error: 0.0039 - val_loss: 0.0043 - val_mean_squared_error: 0.0043\n",
      "Epoch 11/50\n",
      "694/694 [==============================] - 11s 16ms/step - loss: 0.0039 - mean_squared_error: 0.0039 - val_loss: 0.0042 - val_mean_squared_error: 0.0042\n",
      "Epoch 12/50\n",
      "694/694 [==============================] - 11s 15ms/step - loss: 0.0038 - mean_squared_error: 0.0038 - val_loss: 0.0042 - val_mean_squared_error: 0.0042\n",
      "Epoch 13/50\n",
      "694/694 [==============================] - 11s 15ms/step - loss: 0.0038 - mean_squared_error: 0.0038 - val_loss: 0.0040 - val_mean_squared_error: 0.0040\n",
      "Epoch 14/50\n",
      "694/694 [==============================] - 11s 16ms/step - loss: 0.0037 - mean_squared_error: 0.0037 - val_loss: 0.0044 - val_mean_squared_error: 0.0044\n",
      "Epoch 15/50\n",
      "694/694 [==============================] - 11s 15ms/step - loss: 0.0037 - mean_squared_error: 0.0037 - val_loss: 0.0040 - val_mean_squared_error: 0.0040\n",
      "Epoch 16/50\n",
      "694/694 [==============================] - 11s 15ms/step - loss: 0.0037 - mean_squared_error: 0.0037 - val_loss: 0.0041 - val_mean_squared_error: 0.0041\n",
      "Epoch 17/50\n",
      "694/694 [==============================] - 11s 16ms/step - loss: 0.0036 - mean_squared_error: 0.0036 - val_loss: 0.0040 - val_mean_squared_error: 0.0040\n",
      "Epoch 18/50\n",
      "694/694 [==============================] - 10s 15ms/step - loss: 0.0036 - mean_squared_error: 0.0036 - val_loss: 0.0041 - val_mean_squared_error: 0.0041\n",
      "Epoch 19/50\n",
      "694/694 [==============================] - 11s 15ms/step - loss: 0.0035 - mean_squared_error: 0.0035 - val_loss: 0.0039 - val_mean_squared_error: 0.0039\n",
      "Epoch 20/50\n",
      "694/694 [==============================] - 11s 16ms/step - loss: 0.0035 - mean_squared_error: 0.0035 - val_loss: 0.0040 - val_mean_squared_error: 0.0040\n",
      "Epoch 21/50\n",
      "694/694 [==============================] - 11s 16ms/step - loss: 0.0035 - mean_squared_error: 0.0035 - val_loss: 0.0040 - val_mean_squared_error: 0.0040\n",
      "Epoch 22/50\n",
      "694/694 [==============================] - 10s 14ms/step - loss: 0.0034 - mean_squared_error: 0.0034 - val_loss: 0.0041 - val_mean_squared_error: 0.0041\n",
      "Epoch 23/50\n",
      "694/694 [==============================] - 10s 15ms/step - loss: 0.0034 - mean_squared_error: 0.0034 - val_loss: 0.0042 - val_mean_squared_error: 0.0042\n",
      "Epoch 24/50\n",
      "694/694 [==============================] - 11s 16ms/step - loss: 0.0034 - mean_squared_error: 0.0034 - val_loss: 0.0041 - val_mean_squared_error: 0.0041\n",
      "Epoch 25/50\n",
      "694/694 [==============================] - 10s 14ms/step - loss: 0.0033 - mean_squared_error: 0.0033 - val_loss: 0.0039 - val_mean_squared_error: 0.0039\n",
      "Epoch 26/50\n",
      "694/694 [==============================] - 10s 15ms/step - loss: 0.0033 - mean_squared_error: 0.0033 - val_loss: 0.0040 - val_mean_squared_error: 0.0040\n",
      "Epoch 27/50\n",
      "694/694 [==============================] - 10s 15ms/step - loss: 0.0033 - mean_squared_error: 0.0033 - val_loss: 0.0039 - val_mean_squared_error: 0.0039\n",
      "Epoch 28/50\n",
      "694/694 [==============================] - 11s 16ms/step - loss: 0.0032 - mean_squared_error: 0.0032 - val_loss: 0.0041 - val_mean_squared_error: 0.0041\n",
      "Epoch 29/50\n",
      "694/694 [==============================] - 11s 15ms/step - loss: 0.0032 - mean_squared_error: 0.0032 - val_loss: 0.0040 - val_mean_squared_error: 0.0040\n",
      "Epoch 30/50\n",
      "694/694 [==============================] - 11s 16ms/step - loss: 0.0032 - mean_squared_error: 0.0032 - val_loss: 0.0042 - val_mean_squared_error: 0.0042\n",
      "Epoch 31/50\n",
      "694/694 [==============================] - 10s 15ms/step - loss: 0.0031 - mean_squared_error: 0.0031 - val_loss: 0.0040 - val_mean_squared_error: 0.0040\n",
      "Epoch 32/50\n",
      "694/694 [==============================] - 11s 15ms/step - loss: 0.0031 - mean_squared_error: 0.0031 - val_loss: 0.0040 - val_mean_squared_error: 0.0040\n",
      "Epoch 33/50\n",
      "694/694 [==============================] - 11s 16ms/step - loss: 0.0031 - mean_squared_error: 0.0031 - val_loss: 0.0042 - val_mean_squared_error: 0.0042\n",
      "Epoch 34/50\n",
      "694/694 [==============================] - 11s 15ms/step - loss: 0.0031 - mean_squared_error: 0.0031 - val_loss: 0.0039 - val_mean_squared_error: 0.0039\n",
      "Epoch 35/50\n",
      "694/694 [==============================] - 11s 16ms/step - loss: 0.0030 - mean_squared_error: 0.0030 - val_loss: 0.0040 - val_mean_squared_error: 0.0040\n",
      "Epoch 36/50\n",
      "694/694 [==============================] - 11s 16ms/step - loss: 0.0030 - mean_squared_error: 0.0030 - val_loss: 0.0041 - val_mean_squared_error: 0.0041\n",
      "Epoch 37/50\n",
      "694/694 [==============================] - 11s 16ms/step - loss: 0.0030 - mean_squared_error: 0.0030 - val_loss: 0.0040 - val_mean_squared_error: 0.0040\n"
     ]
    }
   ],
   "source": [
    "early_stopping = tf.keras.callbacks.EarlyStopping(monitor='val_loss', patience=patience, mode='min')\n",
    "tf.keras.backend.set_floatx('float64')\n",
    "history = ConditionalRNN.fit([train_inputs['X'],train_c1,train_c2], train_inputs['target'], batch_size=32, epochs=MAX_EPOCHS,\n",
    "                  validation_split=0.15,\n",
    "                  callbacks=[early_stopping], verbose=1)"
   ]
  },
  {
   "cell_type": "code",
   "execution_count": 62,
   "metadata": {},
   "outputs": [
    {
     "data": {
      "image/png": "[encoded data removed]",
      "text/plain": [
       "<Figure size 576x432 with 1 Axes>"
      ]
     },
     "metadata": {
      "needs_background": "light"
     },
     "output_type": "display_data"
    }
   ],
   "source": [
    "plot_train_history(ConditionalRNN)"
   ]
  },
  {
   "cell_type": "code",
   "execution_count": 63,
   "metadata": {},
   "outputs": [],
   "source": [
    "performance['ConditionalRNN'] = ConditionalRNN.evaluate([test_inputs['X'],test_c1,test_c2],test_inputs['target'], verbose=0)"
   ]
  },
  {
   "cell_type": "code",
   "execution_count": 64,
   "metadata": {},
   "outputs": [
    {
     "name": "stdout",
     "output_type": "stream",
     "text": [
      "WARNING:tensorflow:Layers in a Sequential model should only have a single input tensor, but we receive a <class 'tuple'> input: (<tf.Tensor 'IteratorGetNext:0' shape=(None, 24, 6) dtype=float64>, <tf.Tensor 'IteratorGetNext:1' shape=(None, 8) dtype=float64>, <tf.Tensor 'IteratorGetNext:2' shape=(None, 2) dtype=float64>)\n",
      "Consider rewriting this model with the Functional API.\n"
     ]
    }
   ],
   "source": [
    "cpredictions = ConditionalRNN.predict([test_inputs['X'],test_c1,test_c2])\n",
    "ceval_df = create_evaluation_df(cpredictions, test_inputs, HORIZON, y_scaler)\n",
    "mape_performance['ConditionalRNN'] = mape(ceval_df['prediction'], ceval_df['actual'])"
   ]
  },
  {
   "cell_type": "code",
   "execution_count": 65,
   "metadata": {
    "scrolled": false
   },
   "outputs": [
    {
     "data": {
      "image/png": "[encoded data removed]",
      "text/plain": [
       "<Figure size 576x432 with 1 Axes>"
      ]
     },
     "metadata": {
      "needs_background": "light"
     },
     "output_type": "display_data"
    }
   ],
   "source": [
    "x = np.arange(len(performance))\n",
    "width = 0.3\n",
    "\n",
    "metric_name = 'mean_squared_error'\n",
    "metric_index = LSTMIMO.metrics_names.index('mean_squared_error')\n",
    "#val_mae = [v[metric_index] for v in val_performance.values()]\n",
    "test_mae = [v[metric_index] for v in performance.values()]\n",
    "\n",
    "#plt.bar(x - 0.17, val_mae, width, label='Validation')\n",
    "plt.bar(x + 0.17, test_mae, width, label='Test')\n",
    "plt.xticks(ticks=x, labels=performance.keys(),\n",
    "           rotation=45)\n",
    "plt.ylabel('MSE (average over all outputs)')\n",
    "_ = plt.legend()"
   ]
  },
  {
   "cell_type": "code",
   "execution_count": 302,
   "metadata": {},
   "outputs": [],
   "source": [
    "del mape_performance['Reference']"
   ]
  },
  {
   "cell_type": "code",
   "execution_count": 66,
   "metadata": {},
   "outputs": [],
   "source": [
    "mape_performance['Reference'] = 0.0559"
   ]
  },
  {
   "cell_type": "code",
   "execution_count": 67,
   "metadata": {},
   "outputs": [
    {
     "name": "stdout",
     "output_type": "stream",
     "text": [
      "[6.743083255234751, 4.701520647896263, 4.7548216747990795, 4.677669521818806, 4.552798989880857, 5.59]\n"
     ]
    },
    {
     "data": {
      "image/png": "[encoded data removed]",
      "text/plain": [
       "<Figure size 576x432 with 1 Axes>"
      ]
     },
     "metadata": {
      "needs_background": "light"
     },
     "output_type": "display_data"
    }
   ],
   "source": [
    "x = np.arange(len(mape_performance))\n",
    "width = 0.3\n",
    "\n",
    "metric_name = 'mean_average_percentage_error'\n",
    "#metric_index = LSTMIMO.metrics_names.index('mean_squared_error')\n",
    "#val_mae = [v[metric_index] for v in val_performance.values()]\n",
    "test_mape = []\n",
    "for i in mape_performance.values():\n",
    "    test_mape.append(100*i)\n",
    "#test_mape = mape_performance.values()\n",
    "print(test_mape)\n",
    "\n",
    "#plt.bar(x - 0.17, val_mae, width, label='Validation')\n",
    "plt.bar(x + 0.17, test_mape, width, label='Test', color=['green','green','green','green','green','black'])\n",
    "plt.xticks(ticks=x, labels=mape_performance.keys(),\n",
    "           rotation=45)\n",
    "plt.title('Comparison between model acccuracy for day-ahead load forecast\\n(ERCOT data 2012-2015)')\n",
    "plt.ylabel('MAPE (average over all outputs)')\n",
    "_ = plt.legend()"
   ]
  },
  {
   "cell_type": "code",
   "execution_count": 428,
   "metadata": {},
   "outputs": [],
   "source": [
    "df2 = df.merge(series_to_supervised(df), how='right', left_index=True, right_index=True)"
   ]
  },
  {
   "cell_type": "code",
   "execution_count": 46,
   "metadata": {},
   "outputs": [
    {
     "data": {
      "text/plain": [
       "Total window size: 48\n",
       "Input indices: [ 0  1  2  3  4  5  6  7  8  9 10 11 12 13 14 15 16 17 18 19 20 21 22 23]\n",
       "Label indices: [24 25 26 27 28 29 30 31 32 33 34 35 36 37 38 39 40 41 42 43 44 45 46 47]\n",
       "Label column name(s): ['value']"
      ]
     },
     "execution_count": 46,
     "metadata": {},
     "output_type": "execute_result"
    }
   ],
   "source": [
    "w2 = WindowGenerator(input_width=24, label_width=24, shift=24, train_df=train_df_short, test_df=test_df_short,\n",
    "                     label_columns=['value'])\n",
    "w2"
   ]
  },
  {
   "cell_type": "code",
   "execution_count": 51,
   "metadata": {},
   "outputs": [],
   "source": [
    "# Stack three slices, the length of the total window:\n",
    "example_window = tf.stack([np.array(train_df[:w2.total_window_size]),\n",
    "                           np.array(train_df[100:100+w2.total_window_size]),\n",
    "                           np.array(train_df[200:200+w2.total_window_size])])"
   ]
  },
  {
   "cell_type": "code",
   "execution_count": 374,
   "metadata": {},
   "outputs": [
    {
     "name": "stdout",
     "output_type": "stream",
     "text": [
      "All shapes are: (batch, time, features)\n",
      "Window shape: (3, 48, 14)\n",
      "Inputs shape: (3, 24, 14)\n",
      "labels shape: (3, 24, 1)\n"
     ]
    }
   ],
   "source": [
    "example_inputs, example_labels = w2.split_window(example_window)\n",
    "\n",
    "print('All shapes are: (batch, time, features)')\n",
    "print(f'Window shape: {example_window.shape}')\n",
    "print(f'Inputs shape: {example_inputs.shape}')\n",
    "print(f'labels shape: {example_labels.shape}')\n"
   ]
  },
  {
   "cell_type": "code",
   "execution_count": 375,
   "metadata": {},
   "outputs": [
    {
     "data": {
      "text/plain": [
       "(TensorSpec(shape=(None, 24, 14), dtype=tf.float32, name=None),\n",
       " TensorSpec(shape=(None, 24, 1), dtype=tf.float32, name=None))"
      ]
     },
     "execution_count": 375,
     "metadata": {},
     "output_type": "execute_result"
    }
   ],
   "source": [
    "w2.train.element_spec"
   ]
  },
  {
   "cell_type": "code",
   "execution_count": 376,
   "metadata": {},
   "outputs": [
    {
     "name": "stdout",
     "output_type": "stream",
     "text": [
      "Inputs shape (batch, time, features): (32, 24, 14)\n",
      "Labels shape (batch, time, features): (32, 24, 1)\n"
     ]
    }
   ],
   "source": [
    "for example_inputs, example_labels in w2.train.take(1):\n",
    "    print(f'Inputs shape (batch, time, features): {example_inputs.shape}')\n",
    "    print(f'Labels shape (batch, time, features): {example_labels.shape}')\n"
   ]
  },
  {
   "cell_type": "code",
   "execution_count": 58,
   "metadata": {},
   "outputs": [],
   "source": [
    "def validation(forecasted, real, parameter):\n",
    "    ''' \n",
    "    compute some important parameters to compare forecasting results\n",
    "    '''\n",
    "    value = 0\n",
    "    value_1 = 0\n",
    "    value_2 = 0\n",
    "\n",
    "    if parameter == 'SMAPE':\n",
    "        for i in range(len(forecasted)):\n",
    "            if real[i] + forecasted[i] == 0:\n",
    "                value += 0\n",
    "            else: \n",
    "                value += ((abs(real[i] - forecasted[i])) / (real[i] + forecasted[i])) * 100\n",
    "        final_value = value / len(forecasted)  \n",
    "\n",
    "    elif parameter == 'MAPE':\n",
    "        for i in range(len(forecasted)):\n",
    "            if real[i] == 0:\n",
    "                value += 0\n",
    "            else: \n",
    "                value += (abs(real[i] - forecasted[i]))/real[i]\n",
    "        final_value = value / len(forecasted) * 100\n",
    "\n",
    "    elif parameter == 'RMSE':\n",
    "        for i in range(len(forecasted)):\n",
    "            value += (real[i] - forecasted[i]) ** 2\n",
    "        final_value = (value / len(forecasted)) ** (1 / 2) \n",
    "\n",
    "    elif parameter == 'R':\n",
    "        for i in range(len(forecasted)):\n",
    "            value += (real[i] - np.mean(real)) * (forecasted[i] - np.mean(forecasted))\n",
    "            value_1 += (real[i] - np.mean(real)) ** 2\n",
    "            value_2 += (forecasted[i] - np.mean(forecasted)) ** 2\n",
    "\n",
    "        if value_1 == 0 or value_2 == 0:\n",
    "            final_value = 100\n",
    "        else:\n",
    "            final_value = (value / ((value_1 ** (1 / 2)) * (value_2 ** (1 / 2))))*100\n",
    "\n",
    "    return final_value"
   ]
  },
  {
   "cell_type": "code",
   "execution_count": 221,
   "metadata": {},
   "outputs": [],
   "source": [
    "def MAPE(model, window):\n",
    "    actual = []\n",
    "    forecasted = []\n",
    "    for inputs, labels in window.test:\n",
    "        yhat = y[0] in model.predict(inputs)\n",
    "        print(yhat.shape)\n",
    "        print(labels.shape)\n",
    "        labels = scaler.inverse_transform(np.array(labels).reshape(-1,1))\n",
    "        yhat = model.predict(inputs)\n",
    "        yhat = scaler.inverse_transform(yhat.reshape(-1,1))\n",
    "        actual.append(labels)\n",
    "        forecasted.append(yhat)\n",
    "    actual = itertools.chain(*actual)\n",
    "    forecasted = itertools.chain(*forecasted)\n",
    "    mape = validation(list(actual), list(forecasted), 'MAPE')\n",
    "    print('MAPE: %f %%' % mape)\n",
    "    return(mape)"
   ]
  },
  {
   "cell_type": "code",
   "execution_count": 316,
   "metadata": {},
   "outputs": [
    {
     "name": "stdout",
     "output_type": "stream",
     "text": [
      "(8713, 24, 1)\n",
      "(8713, 24, 14)\n",
      "(8713, 24, 1)\n",
      "[853.853, 820.3377, 802.64703, 793.2433, 805.04376]\n",
      "[815.1598, 859.4295, 864.9292, 881.81396, 895.4568]\n",
      "MAPE: 25.572377 %\n"
     ]
    }
   ],
   "source": [
    "plot_col = 'value'\n",
    "label_col_index = w2.label_columns_indices.get(plot_col, None)\n",
    "inputs = np.concatenate([x for x, y in w2.test], axis=0)\n",
    "labels = np.concatenate([y for x, y in w2.test], axis=0)\n",
    "yhat = lstm_model(inputs)[:,:,label_col_index]\n",
    "#yhat = scaler.inverse_transform()\n",
    "yhat = tf.reshape(yhat, [-1,24,1])\n",
    "print(yhat.shape)\n",
    "print(inputs.shape)\n",
    "print(labels.shape)\n",
    "#print(np.concatenate((inputs[:,:,1:],yhat),axis=2).shape)\n",
    "inv_yhat = np.concatenate((yhat,inputs[:,:,1:]),axis=2)\n",
    "inv_yhat = scaler.inverse_transform(inv_yhat.reshape(-1,14))\n",
    "pred = [i[0] for i in inv_yhat]\n",
    "inv_y = np.concatenate((labels,inputs[:,:,1:]),axis=2)\n",
    "inv_y = scaler.inverse_transform(inv_y.reshape(-1,14))\n",
    "act = [i[0] for i in inv_y]\n",
    "print(pred[:5])\n",
    "print(act[:5])\n",
    "mape = validation(pred, act, 'MAPE')\n",
    "print('MAPE: %f %%' % mape)"
   ]
  },
  {
   "cell_type": "code",
   "execution_count": 107,
   "metadata": {},
   "outputs": [],
   "source": [
    "MAX_EPOCHS = 10\n",
    "\n",
    "def compile_and_fit(model, window, patience=50):\n",
    "    early_stopping = tf.keras.callbacks.EarlyStopping(monitor='val_loss', patience=patience, mode='min')\n",
    "\n",
    "    model.compile(loss=tf.losses.MeanSquaredError(),\n",
    "                optimizer=tf.optimizers.Adam(),\n",
    "                metrics=[tf.metrics.MeanSquaredError()])\n",
    "\n",
    "    history = model.fit(window.train, epochs=MAX_EPOCHS,\n",
    "                      validation_data=window.val,\n",
    "                      callbacks=[early_stopping])\n",
    "    return history"
   ]
  },
  {
   "cell_type": "code",
   "execution_count": 250,
   "metadata": {
    "scrolled": true
   },
   "outputs": [
    {
     "name": "stdout",
     "output_type": "stream",
     "text": [
      "Epoch 1/10\n",
      "698/698 [==============================] - 12s 17ms/step - loss: 0.0174 - mean_squared_error: 0.0174 - val_loss: 0.0081 - val_mean_squared_error: 0.0081\n",
      "Epoch 2/10\n",
      "698/698 [==============================] - 12s 17ms/step - loss: 0.0063 - mean_squared_error: 0.0063 - val_loss: 0.0074 - val_mean_squared_error: 0.0074\n",
      "Epoch 3/10\n",
      "698/698 [==============================] - 11s 15ms/step - loss: 0.0060 - mean_squared_error: 0.0060 - val_loss: 0.0071 - val_mean_squared_error: 0.0071\n",
      "Epoch 4/10\n",
      "698/698 [==============================] - 12s 17ms/step - loss: 0.0059 - mean_squared_error: 0.0059 - val_loss: 0.0071 - val_mean_squared_error: 0.0071\n",
      "Epoch 5/10\n",
      "698/698 [==============================] - 11s 16ms/step - loss: 0.0058 - mean_squared_error: 0.0058 - val_loss: 0.0070 - val_mean_squared_error: 0.0070\n",
      "Epoch 6/10\n",
      "698/698 [==============================] - 11s 16ms/step - loss: 0.0058 - mean_squared_error: 0.0058 - val_loss: 0.0077 - val_mean_squared_error: 0.0077\n",
      "Epoch 7/10\n",
      "698/698 [==============================] - 11s 16ms/step - loss: 0.0058 - mean_squared_error: 0.0058 - val_loss: 0.0077 - val_mean_squared_error: 0.0077\n",
      "Epoch 8/10\n",
      "698/698 [==============================] - 11s 16ms/step - loss: 0.0057 - mean_squared_error: 0.0057 - val_loss: 0.0072 - val_mean_squared_error: 0.0072\n",
      "Epoch 9/10\n",
      "698/698 [==============================] - 11s 16ms/step - loss: 0.0057 - mean_squared_error: 0.0057 - val_loss: 0.0071 - val_mean_squared_error: 0.0071\n",
      "Epoch 10/10\n",
      "698/698 [==============================] - 11s 16ms/step - loss: 0.0057 - mean_squared_error: 0.0057 - val_loss: 0.0070 - val_mean_squared_error: 0.0070\n",
      "122/122 [==============================] - 1s 6ms/step - loss: 0.0070 - mean_squared_error: 0.0070\n"
     ]
    },
    {
     "ename": "NameError",
     "evalue": "name 'y' is not defined",
     "output_type": "error",
     "traceback": [
      "\u001b[0;31m---------------------------------------------------------------------------\u001b[0m",
      "\u001b[0;31mNameError\u001b[0m                                 Traceback (most recent call last)",
      "\u001b[0;32m<ipython-input-250-2842c7484142>\u001b[0m in \u001b[0;36m<module>\u001b[0;34m\u001b[0m\n\u001b[1;32m     11\u001b[0m \u001b[0mval_performance\u001b[0m\u001b[0;34m[\u001b[0m\u001b[0;34m'LSTM'\u001b[0m\u001b[0;34m]\u001b[0m \u001b[0;34m=\u001b[0m \u001b[0mlstm_model\u001b[0m\u001b[0;34m.\u001b[0m\u001b[0mevaluate\u001b[0m\u001b[0;34m(\u001b[0m \u001b[0mw2\u001b[0m\u001b[0;34m.\u001b[0m\u001b[0mval\u001b[0m\u001b[0;34m)\u001b[0m\u001b[0;34m\u001b[0m\u001b[0;34m\u001b[0m\u001b[0m\n\u001b[1;32m     12\u001b[0m \u001b[0mperformance\u001b[0m\u001b[0;34m[\u001b[0m\u001b[0;34m'LSTM'\u001b[0m\u001b[0;34m]\u001b[0m \u001b[0;34m=\u001b[0m \u001b[0mlstm_model\u001b[0m\u001b[0;34m.\u001b[0m\u001b[0mevaluate\u001b[0m\u001b[0;34m(\u001b[0m \u001b[0mw2\u001b[0m\u001b[0;34m.\u001b[0m\u001b[0mtest\u001b[0m\u001b[0;34m,\u001b[0m \u001b[0mverbose\u001b[0m\u001b[0;34m=\u001b[0m\u001b[0;36m0\u001b[0m\u001b[0;34m)\u001b[0m\u001b[0;34m\u001b[0m\u001b[0;34m\u001b[0m\u001b[0m\n\u001b[0;32m---> 13\u001b[0;31m \u001b[0mmape_performance\u001b[0m\u001b[0;34m[\u001b[0m\u001b[0;34m'LSTM'\u001b[0m\u001b[0;34m]\u001b[0m \u001b[0;34m=\u001b[0m \u001b[0mMAPE\u001b[0m\u001b[0;34m(\u001b[0m\u001b[0mlstm_model\u001b[0m\u001b[0;34m,\u001b[0m \u001b[0mw2\u001b[0m\u001b[0;34m)\u001b[0m\u001b[0;34m\u001b[0m\u001b[0;34m\u001b[0m\u001b[0m\n\u001b[0m\u001b[1;32m     14\u001b[0m \u001b[0;34m\u001b[0m\u001b[0m\n\u001b[1;32m     15\u001b[0m \u001b[0mprint\u001b[0m\u001b[0;34m(\u001b[0m\u001b[0;34m)\u001b[0m\u001b[0;34m\u001b[0m\u001b[0;34m\u001b[0m\u001b[0m\n",
      "\u001b[0;32m<ipython-input-221-e8b812653dc1>\u001b[0m in \u001b[0;36mMAPE\u001b[0;34m(model, window)\u001b[0m\n\u001b[1;32m      3\u001b[0m     \u001b[0mforecasted\u001b[0m \u001b[0;34m=\u001b[0m \u001b[0;34m[\u001b[0m\u001b[0;34m]\u001b[0m\u001b[0;34m\u001b[0m\u001b[0;34m\u001b[0m\u001b[0m\n\u001b[1;32m      4\u001b[0m     \u001b[0;32mfor\u001b[0m \u001b[0minputs\u001b[0m\u001b[0;34m,\u001b[0m \u001b[0mlabels\u001b[0m \u001b[0;32min\u001b[0m \u001b[0mwindow\u001b[0m\u001b[0;34m.\u001b[0m\u001b[0mtest\u001b[0m\u001b[0;34m:\u001b[0m\u001b[0;34m\u001b[0m\u001b[0;34m\u001b[0m\u001b[0m\n\u001b[0;32m----> 5\u001b[0;31m         \u001b[0myhat\u001b[0m \u001b[0;34m=\u001b[0m \u001b[0my\u001b[0m\u001b[0;34m[\u001b[0m\u001b[0;36m0\u001b[0m\u001b[0;34m]\u001b[0m \u001b[0;32min\u001b[0m \u001b[0mmodel\u001b[0m\u001b[0;34m.\u001b[0m\u001b[0mpredict\u001b[0m\u001b[0;34m(\u001b[0m\u001b[0minputs\u001b[0m\u001b[0;34m)\u001b[0m\u001b[0;34m\u001b[0m\u001b[0;34m\u001b[0m\u001b[0m\n\u001b[0m\u001b[1;32m      6\u001b[0m         \u001b[0mprint\u001b[0m\u001b[0;34m(\u001b[0m\u001b[0myhat\u001b[0m\u001b[0;34m.\u001b[0m\u001b[0mshape\u001b[0m\u001b[0;34m)\u001b[0m\u001b[0;34m\u001b[0m\u001b[0;34m\u001b[0m\u001b[0m\n\u001b[1;32m      7\u001b[0m         \u001b[0mprint\u001b[0m\u001b[0;34m(\u001b[0m\u001b[0mlabels\u001b[0m\u001b[0;34m.\u001b[0m\u001b[0mshape\u001b[0m\u001b[0;34m)\u001b[0m\u001b[0;34m\u001b[0m\u001b[0;34m\u001b[0m\u001b[0m\n",
      "\u001b[0;31mNameError\u001b[0m: name 'y' is not defined"
     ]
    }
   ],
   "source": [
    "lstm_model = tf.keras.models.Sequential([\n",
    "    # Shape [batch, time, features] => [batch, time, lstm_units]\n",
    "    tf.keras.layers.LSTM(32, return_sequences=True),\n",
    "    # Shape => [batch, time, features]\n",
    "    tf.keras.layers.Dense(units=num_features)\n",
    "])\n",
    "\n",
    "history = compile_and_fit(lstm_model, w2)\n",
    "\n",
    "#IPython.display.clear_output()\n",
    "val_performance['LSTM'] = lstm_model.evaluate( w2.val)\n",
    "performance['LSTM'] = lstm_model.evaluate( w2.test, verbose=0)\n",
    "mape_performance['LSTM'] = MAPE(lstm_model, w2)\n",
    "\n",
    "print()"
   ]
  },
  {
   "cell_type": "code",
   "execution_count": 194,
   "metadata": {},
   "outputs": [
    {
     "data": {
      "image/png": "[encoded data removed]",
      "text/plain": [
       "<Figure size 864x576 with 3 Axes>"
      ]
     },
     "metadata": {
      "needs_background": "light"
     },
     "output_type": "display_data"
    },
    {
     "data": {
      "image/png": "[encoded data removed]",
      "text/plain": [
       "<Figure size 864x576 with 3 Axes>"
      ]
     },
     "metadata": {
      "needs_background": "light"
     },
     "output_type": "display_data"
    }
   ],
   "source": [
    "w2.plot(lstm_model)\n",
    "w2.plot(baseline)"
   ]
  },
  {
   "cell_type": "code",
   "execution_count": 11,
   "metadata": {},
   "outputs": [],
   "source": [
    "def gradient_importance(seq, model):    \n",
    "    seq = tf.Variable(seq[np.newaxis,:,:], dtype=tf.float32)    \n",
    "    \n",
    "    with tf.GradientTape() as tape:\n",
    "        predictions = model(seq)    \n",
    "    grads = tape.gradient(predictions, seq)\n",
    "    grads = tf.reduce_mean(grads, axis=1).numpy()[0]\n",
    "    \n",
    "    return grads"
   ]
  },
  {
   "cell_type": "code",
   "execution_count": null,
   "metadata": {},
   "outputs": [],
   "source": [
    "cols = df.columns\n",
    "#datach = deep_learner.normalize(datach)\n",
    "#df = df.iloc[:,1:]\n",
    "df.shape"
   ]
  },
  {
   "cell_type": "code",
   "execution_count": null,
   "metadata": {},
   "outputs": [],
   "source": [
    "#features = cols[1:]\n",
    "features = cols\n",
    "importances = gradient_importance(np.array(df[:1000]), lstm_model)\n",
    "indices = np.argsort(importances)\n",
    "print(len(features))\n",
    "print(len(importances))\n",
    "\n",
    "plt.figure(figsize=(12, 8))\n",
    "plt.title('Feature Importances')\n",
    "plt.barh(range(len(indices)), importances[indices], color='b', align='center')\n",
    "plt.yticks(range(len(indices)), [features[i] for i in indices])\n",
    "plt.xlabel('Relative Importance')\n",
    "plt.show()"
   ]
  },
  {
   "cell_type": "code",
   "execution_count": null,
   "metadata": {},
   "outputs": [],
   "source": [
    "lstm_model2 = tf.keras.models.Sequential([\n",
    "    # Shape [batch, time, features] => [batch, time, lstm_units]\n",
    "    tf.keras.layers.LSTM(32, return_sequences=True),\n",
    "    tf.keras.layers.LSTM(32, return_sequences=True),\n",
    "    tf.keras.layers.Dropout(0.2),\n",
    "    # Shape => [batch, time, features]\n",
    "    tf.keras.layers.Dense(units=num_features)\n",
    "])\n",
    "\n",
    "history = compile_and_fit(lstm_model2, w2)\n",
    "\n",
    "#IPython.display.clear_output()\n",
    "val_performance['LSTM 2 layer'] = lstm_model.evaluate( w2.val)\n",
    "performance['LSTM 2 layer'] = lstm_model.evaluate( w2.test, verbose=0)\n",
    "\n",
    "print()\n"
   ]
  },
  {
   "cell_type": "code",
   "execution_count": null,
   "metadata": {},
   "outputs": [],
   "source": [
    "w2.plot(residual_lstm)"
   ]
  },
  {
   "cell_type": "code",
   "execution_count": null,
   "metadata": {},
   "outputs": [],
   "source": [
    "class ResidualWrapper(tf.keras.Model):\n",
    "    def __init__(self, model):\n",
    "        super().__init__()\n",
    "        self.model = model\n",
    "\n",
    "    def call(self, inputs, *args, **kwargs):\n",
    "        delta = self.model(inputs, *args, **kwargs)\n",
    "\n",
    "        # The prediction for each timestep is the input\n",
    "        # from the previous time step plus the delta\n",
    "        # calculated by the model.\n",
    "        return inputs + delta"
   ]
  },
  {
   "cell_type": "code",
   "execution_count": null,
   "metadata": {},
   "outputs": [],
   "source": [
    "%%time\n",
    "residual_lstm = ResidualWrapper(\n",
    "    tf.keras.Sequential([\n",
    "    tf.keras.layers.LSTM(32, return_sequences=True),\n",
    "    tf.keras.layers.Dense(\n",
    "        num_features,\n",
    "        # The predicted deltas should start small\n",
    "        # So initialize the output layer with zeros\n",
    "        kernel_initializer=tf.initializers.zeros)\n",
    "]))\n",
    "\n",
    "history = compile_and_fit(residual_lstm, w2)\n",
    "\n",
    "#IPython.display.clear_output()\n",
    "val_performance['Residual LSTM'] = residual_lstm.evaluate(w2.val)\n",
    "performance['Residual LSTM'] = residual_lstm.evaluate(w2.test, verbose=0)\n",
    "print()\n"
   ]
  },
  {
   "cell_type": "code",
   "execution_count": 188,
   "metadata": {},
   "outputs": [
    {
     "data": {
      "image/png": "[encoded data removed]",
      "text/plain": [
       "<Figure size 576x432 with 1 Axes>"
      ]
     },
     "metadata": {
      "needs_background": "light"
     },
     "output_type": "display_data"
    }
   ],
   "source": [
    "x = np.arange(len(mape_performance))\n",
    "width = 0.3\n",
    "\n",
    "metric_name = 'mean_average_performance_error'\n",
    "#metric_index = lstm_model.metrics_names.index('mape')\n",
    "test_mape = mape_performance.values()\n",
    "\n",
    "plt.bar(x, list(itertools.chain(*test_mape)), width, label='Test')\n",
    "plt.xticks(ticks=x, labels=performance.keys(),\n",
    "           rotation=45)\n",
    "plt.ylabel('MAPE (average over all outputs)')\n",
    "_ = plt.legend()"
   ]
  },
  {
   "cell_type": "code",
   "execution_count": 166,
   "metadata": {},
   "outputs": [
    {
     "data": {
      "text/plain": [
       "[23.450996430740464]"
      ]
     },
     "execution_count": 166,
     "metadata": {},
     "output_type": "execute_result"
    }
   ],
   "source": [
    "list(itertools.chain(*test_mape))"
   ]
  },
  {
   "cell_type": "code",
   "execution_count": null,
   "metadata": {},
   "outputs": [],
   "source": []
  }
 ],
 "metadata": {
  "kernelspec": {
   "display_name": "Python 3",
   "language": "python",
   "name": "python3"
  },
  "language_info": {
   "codemirror_mode": {
    "name": "ipython",
    "version": 3
   },
   "file_extension": ".py",
   "mimetype": "text/x-python",
   "name": "python",
   "nbconvert_exporter": "python",
   "pygments_lexer": "ipython3",
   "version": "3.8.6"
  }
 },
 "nbformat": 4,
 "nbformat_minor": 5
}
