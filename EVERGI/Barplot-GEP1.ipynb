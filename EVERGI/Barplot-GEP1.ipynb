{
 "cells": [
  {
   "cell_type": "code",
   "execution_count": 2,
   "metadata": {},
   "outputs": [],
   "source": [
    "import pandas as pd\n",
    "import matplotlib.pyplot as plt\n",
    "import seaborn as sns\n",
    "import numpy as np"
   ]
  },
  {
   "cell_type": "code",
   "execution_count": 20,
   "metadata": {},
   "outputs": [],
   "source": [
    "fram = pd.read_csv('results/GEP1_fram.csv', index_col=0)\n",
    "MIMO_full = pd.read_csv('results/GEP1_MIMO-full.csv', index_col=0)\n",
    "MIMO = pd.read_csv('results/GEP1_MIMO.csv', index_col=0)\n",
    "condRNN = pd.read_csv('results/GEP1_ConditionalRNN.csv', index_col=0)\n",
    "datasets = [MIMO, condRNN, MIMO_full, fram]"
   ]
  },
  {
   "cell_type": "code",
   "execution_count": 21,
   "metadata": {},
   "outputs": [],
   "source": [
    "means = []\n",
    "stds = []\n",
    "means.append(35.58681558224254)\n",
    "stds.append(0)\n",
    "for df in datasets:\n",
    "    means.append(df['rmse'].mean())\n",
    "    stds.append(df['rmse'].std())"
   ]
  },
  {
   "cell_type": "code",
   "execution_count": 22,
   "metadata": {},
   "outputs": [
    {
     "data": {
      "text/plain": [
       "[35.58681558224254,\n",
       " 28.272985503570794,\n",
       " 24.04665915765714,\n",
       " 22.688789792635596,\n",
       " 18.430930096396104]"
      ]
     },
     "execution_count": 22,
     "metadata": {},
     "output_type": "execute_result"
    }
   ],
   "source": [
    "means"
   ]
  },
  {
   "cell_type": "code",
   "execution_count": 24,
   "metadata": {},
   "outputs": [
    {
     "data": {
      "image/png": "[encoded data removed]",
      "text/plain": [
       "<Figure size 720x576 with 1 Axes>"
      ]
     },
     "metadata": {
      "needs_background": "light"
     },
     "output_type": "display_data"
    }
   ],
   "source": [
    "plt.rcParams['figure.figsize'] = (10, 8)\n",
    "colors=['blue',\"green\", \"green\", \"green\", \"green\"]\n",
    "labels = ['Reference','MIMO', 'ConditionalRNN', 'MIMO-full_data', 'LSTM-framework']\n",
    "plt.bar(range(len(means)), means, yerr=stds, align='center', alpha=0.5, color=colors)\n",
    "plt.xticks(ticks=range(len(means)), labels=labels,\n",
    "           rotation=45)\n",
    "plt.title('Comparison between model acccuracy for day-ahead load forecast\\n(GEP1 data 2014-2019)')\n",
    "plt.show()"
   ]
  },
  {
   "cell_type": "code",
   "execution_count": null,
   "metadata": {},
   "outputs": [],
   "source": [
    "colors=[\"red\", \"green\", \"blue\", \"purple\"]\n",
    "plt.axhline(y=100, zorder=0)\n",
    "plt.bar(range(4), value+np.abs(df.values.min()), bottom=df.values.min(), \n",
    "        yerr=std, align='center', alpha=0.5, color=colors)\n",
    "\n",
    "plt.xticks(range(len(df.columns)), df.columns)\n",
    "plt.ylabel('Stock price')\n",
    "plt.title('Something')\n",
    "plt.show()"
   ]
  },
  {
   "cell_type": "code",
   "execution_count": null,
   "metadata": {},
   "outputs": [],
   "source": []
  },
  {
   "cell_type": "code",
   "execution_count": null,
   "metadata": {},
   "outputs": [],
   "source": [
    "x = np.arange(len(mse_performance))\n",
    "width = 0.3\n",
    "\n",
    "metric_name = 'mean_squared_error'\n",
    "#metric_index = LSTMIMO.metrics_names.index('mean_squared_error')\n",
    "test_mse = mse_performance.values()\n",
    "\n",
    "#plt.bar(x - 0.17, val_mae, width, label='Validation')\n",
    "plt.bar(x + 0.17, test_mse, width, label='Test', color=['green','green','green','green','green', 'black'])\n",
    "plt.xticks(ticks=x, labels=mse_performance.keys(),\n",
    "           rotation=45)\n",
    "plt.ylabel('RMSE (average over all outputs)')\n",
    "plt.title('Comparison between model acccuracy for day-ahead load forecast\\n(GEFCOM2014 data 2005-2011)')\n",
    "_ = plt.legend()"
   ]
  }
 ],
 "metadata": {
  "kernelspec": {
   "display_name": "Python [conda env:evgeny] *",
   "language": "python",
   "name": "conda-env-evgeny-py"
  },
  "language_info": {
   "codemirror_mode": {
    "name": "ipython",
    "version": 3
   },
   "file_extension": ".py",
   "mimetype": "text/x-python",
   "name": "python",
   "nbconvert_exporter": "python",
   "pygments_lexer": "ipython3",
   "version": "3.8.6"
  }
 },
 "nbformat": 4,
 "nbformat_minor": 4
}
