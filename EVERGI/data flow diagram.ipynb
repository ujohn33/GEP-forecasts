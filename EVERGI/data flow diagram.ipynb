{
 "cells": [
  {
   "cell_type": "code",
   "execution_count": 4,
   "id": "decimal-celtic",
   "metadata": {},
   "outputs": [],
   "source": [
    "import datetime\n",
    "import sys\n",
    "import os\n",
    "\n",
    "import IPython\n",
    "import IPython.display\n",
    "import numpy as np\n",
    "import pandas as pd\n",
    "import tensorflow as tf\n",
    "from tensorflow.keras.layers import Dense\n",
    "from tensorflow.keras.models import Sequential\n",
    "from tensorflow.keras import Input, Model\n",
    "from sklearn.preprocessing import MinMaxScaler\n",
    "\n",
    "import src.preprocessing_3days\n",
    "from src.preprocessing_3days import series_to_supervised, preprocess\n",
    "from src.functions import load_data, TimeSeriesTensor, create_evaluation_df, plot_train_history, validation, save_model, load_model\n",
    "\n",
    "np.set_printoptions(threshold=sys.maxsize)\n",
    "pd.options.display.max_seq_items = 2000"
   ]
  },
  {
   "cell_type": "code",
   "execution_count": 5,
   "id": "mobile-american",
   "metadata": {},
   "outputs": [],
   "source": [
    "def train_test_split(df, n_test):\n",
    "    if len(df) < 8760:\n",
    "        n_test = round(len(df) * 0.2)\n",
    "    test_df = df.copy()[-(n_test+71):]\n",
    "    train_df = df.copy()[:-(len(test_df)-71)]\n",
    "    return train_df, test_df"
   ]
  },
  {
   "cell_type": "code",
   "execution_count": 6,
   "id": "canadian-improvement",
   "metadata": {},
   "outputs": [],
   "source": [
    "def MIMO_fulldata_preparation(df, n_test=4380, T=72, HORIZON=72):\n",
    "    df = df.merge(series_to_supervised(df), how='right', left_index=True, right_index=True)\n",
    "    df = preprocess(df, 'Belgium')\n",
    "    train_df, test_df = train_test_split(df, n_test)\n",
    "    y_scaler = MinMaxScaler()\n",
    "    y_scaler.fit(train_df[['value']])\n",
    "    long_scaler = MinMaxScaler()\n",
    "    test_df[test_df.columns] = long_scaler.fit_transform(test_df)\n",
    "    train_df[train_df.columns] = long_scaler.fit_transform(train_df)\n",
    "    print(train_df.columns)\n",
    "    #tensor_structure = {'X':(range(-T+1, 1), train_df.columns[:1]), 'X2':(range(1, 73), train_df.columns[1:6]), 'static':(None, train_df.columns[6:])}\n",
    "    tensor_structure = {'X':(range(-T+1, 1), train_df.columns[:1]), 'X2':(range(1, 73), train_df.columns[1:])}\n",
    "    #tensor_structure = {'X':(range(-T+1, 1), train_df.columns)}\n",
    "    #print(tensor_structure[0])\n",
    "    train_inputs = TimeSeriesTensor(train_df, 'value', HORIZON, tensor_structure)\n",
    "    test_inputs = TimeSeriesTensor(test_df, 'value', HORIZON, tensor_structure)\n",
    "    return train_inputs, test_inputs, y_scaler"
   ]
  },
  {
   "cell_type": "code",
   "execution_count": 7,
   "id": "knowing-subdivision",
   "metadata": {},
   "outputs": [],
   "source": [
    "GEP1 = pd.read_csv('../data/GEP/Consumption_1H.csv', index_col=0, header=0, names=['value'])\n",
    "GEP4 = pd.read_csv('../data/GEP/B4_Consumption_1H.csv', index_col=0, header=0, names=['value'])\n",
    "datasets = [GEP1, GEP4]\n",
    "names = ['GEP1', 'GEP4']"
   ]
  },
  {
   "cell_type": "code",
   "execution_count": 8,
   "id": "continental-sherman",
   "metadata": {},
   "outputs": [],
   "source": [
    "df = GEP4.merge(series_to_supervised(GEP4), how='right', left_index=True, right_index=True)\n",
    "df = preprocess(df, 'Belgium')"
   ]
  },
  {
   "cell_type": "code",
   "execution_count": 9,
   "id": "theoretical-algorithm",
   "metadata": {},
   "outputs": [
    {
     "data": {
      "text/html": [
       "<div>\n",
       "<style scoped>\n",
       "    .dataframe tbody tr th:only-of-type {\n",
       "        vertical-align: middle;\n",
       "    }\n",
       "\n",
       "    .dataframe tbody tr th {\n",
       "        vertical-align: top;\n",
       "    }\n",
       "\n",
       "    .dataframe thead th {\n",
       "        text-align: right;\n",
       "    }\n",
       "</style>\n",
       "<table border=\"1\" class=\"dataframe\">\n",
       "  <thead>\n",
       "    <tr style=\"text-align: right;\">\n",
       "      <th></th>\n",
       "      <th>value</th>\n",
       "      <th>value(t-168)</th>\n",
       "      <th>fractional hour_sin</th>\n",
       "      <th>fractional hour_cos</th>\n",
       "      <th>day of year_sin</th>\n",
       "      <th>day of year_cos</th>\n",
       "      <th>working day</th>\n",
       "      <th>week_1</th>\n",
       "      <th>week_2</th>\n",
       "      <th>week_3</th>\n",
       "      <th>week_4</th>\n",
       "      <th>week_5</th>\n",
       "      <th>week_6</th>\n",
       "      <th>week_7</th>\n",
       "    </tr>\n",
       "  </thead>\n",
       "  <tbody>\n",
       "    <tr>\n",
       "      <th>2018-05-12 00:00:00</th>\n",
       "      <td>22.910</td>\n",
       "      <td>16.378</td>\n",
       "      <td>0.000000</td>\n",
       "      <td>1.000000</td>\n",
       "      <td>0.006178</td>\n",
       "      <td>0.999981</td>\n",
       "      <td>0.0</td>\n",
       "      <td>0</td>\n",
       "      <td>0</td>\n",
       "      <td>0</td>\n",
       "      <td>0</td>\n",
       "      <td>0</td>\n",
       "      <td>1</td>\n",
       "      <td>0</td>\n",
       "    </tr>\n",
       "    <tr>\n",
       "      <th>2018-05-12 01:00:00</th>\n",
       "      <td>24.593</td>\n",
       "      <td>16.579</td>\n",
       "      <td>0.010908</td>\n",
       "      <td>0.999941</td>\n",
       "      <td>0.006178</td>\n",
       "      <td>0.999981</td>\n",
       "      <td>0.0</td>\n",
       "      <td>0</td>\n",
       "      <td>0</td>\n",
       "      <td>0</td>\n",
       "      <td>0</td>\n",
       "      <td>0</td>\n",
       "      <td>1</td>\n",
       "      <td>0</td>\n",
       "    </tr>\n",
       "    <tr>\n",
       "      <th>2018-05-12 02:00:00</th>\n",
       "      <td>24.769</td>\n",
       "      <td>16.454</td>\n",
       "      <td>0.021815</td>\n",
       "      <td>0.999762</td>\n",
       "      <td>0.006178</td>\n",
       "      <td>0.999981</td>\n",
       "      <td>0.0</td>\n",
       "      <td>0</td>\n",
       "      <td>0</td>\n",
       "      <td>0</td>\n",
       "      <td>0</td>\n",
       "      <td>0</td>\n",
       "      <td>1</td>\n",
       "      <td>0</td>\n",
       "    </tr>\n",
       "    <tr>\n",
       "      <th>2018-05-12 03:00:00</th>\n",
       "      <td>26.403</td>\n",
       "      <td>16.804</td>\n",
       "      <td>0.032719</td>\n",
       "      <td>0.999465</td>\n",
       "      <td>0.006178</td>\n",
       "      <td>0.999981</td>\n",
       "      <td>0.0</td>\n",
       "      <td>0</td>\n",
       "      <td>0</td>\n",
       "      <td>0</td>\n",
       "      <td>0</td>\n",
       "      <td>0</td>\n",
       "      <td>1</td>\n",
       "      <td>0</td>\n",
       "    </tr>\n",
       "    <tr>\n",
       "      <th>2018-05-12 04:00:00</th>\n",
       "      <td>26.126</td>\n",
       "      <td>16.955</td>\n",
       "      <td>0.043619</td>\n",
       "      <td>0.999048</td>\n",
       "      <td>0.006178</td>\n",
       "      <td>0.999981</td>\n",
       "      <td>0.0</td>\n",
       "      <td>0</td>\n",
       "      <td>0</td>\n",
       "      <td>0</td>\n",
       "      <td>0</td>\n",
       "      <td>0</td>\n",
       "      <td>1</td>\n",
       "      <td>0</td>\n",
       "    </tr>\n",
       "    <tr>\n",
       "      <th>...</th>\n",
       "      <td>...</td>\n",
       "      <td>...</td>\n",
       "      <td>...</td>\n",
       "      <td>...</td>\n",
       "      <td>...</td>\n",
       "      <td>...</td>\n",
       "      <td>...</td>\n",
       "      <td>...</td>\n",
       "      <td>...</td>\n",
       "      <td>...</td>\n",
       "      <td>...</td>\n",
       "      <td>...</td>\n",
       "      <td>...</td>\n",
       "      <td>...</td>\n",
       "    </tr>\n",
       "    <tr>\n",
       "      <th>2020-02-29 19:00:00</th>\n",
       "      <td>21.780</td>\n",
       "      <td>21.955</td>\n",
       "      <td>0.205777</td>\n",
       "      <td>0.978599</td>\n",
       "      <td>0.002783</td>\n",
       "      <td>0.999996</td>\n",
       "      <td>0.0</td>\n",
       "      <td>0</td>\n",
       "      <td>0</td>\n",
       "      <td>0</td>\n",
       "      <td>0</td>\n",
       "      <td>0</td>\n",
       "      <td>1</td>\n",
       "      <td>0</td>\n",
       "    </tr>\n",
       "    <tr>\n",
       "      <th>2020-02-29 20:00:00</th>\n",
       "      <td>22.181</td>\n",
       "      <td>22.382</td>\n",
       "      <td>0.216440</td>\n",
       "      <td>0.976296</td>\n",
       "      <td>0.002783</td>\n",
       "      <td>0.999996</td>\n",
       "      <td>0.0</td>\n",
       "      <td>0</td>\n",
       "      <td>0</td>\n",
       "      <td>0</td>\n",
       "      <td>0</td>\n",
       "      <td>0</td>\n",
       "      <td>1</td>\n",
       "      <td>0</td>\n",
       "    </tr>\n",
       "    <tr>\n",
       "      <th>2020-02-29 21:00:00</th>\n",
       "      <td>22.030</td>\n",
       "      <td>22.130</td>\n",
       "      <td>0.227076</td>\n",
       "      <td>0.973877</td>\n",
       "      <td>0.002783</td>\n",
       "      <td>0.999996</td>\n",
       "      <td>0.0</td>\n",
       "      <td>0</td>\n",
       "      <td>0</td>\n",
       "      <td>0</td>\n",
       "      <td>0</td>\n",
       "      <td>0</td>\n",
       "      <td>1</td>\n",
       "      <td>0</td>\n",
       "    </tr>\n",
       "    <tr>\n",
       "      <th>2020-02-29 22:00:00</th>\n",
       "      <td>21.503</td>\n",
       "      <td>22.030</td>\n",
       "      <td>0.237686</td>\n",
       "      <td>0.971342</td>\n",
       "      <td>0.002783</td>\n",
       "      <td>0.999996</td>\n",
       "      <td>0.0</td>\n",
       "      <td>0</td>\n",
       "      <td>0</td>\n",
       "      <td>0</td>\n",
       "      <td>0</td>\n",
       "      <td>0</td>\n",
       "      <td>1</td>\n",
       "      <td>0</td>\n",
       "    </tr>\n",
       "    <tr>\n",
       "      <th>2020-02-29 23:00:00</th>\n",
       "      <td>21.879</td>\n",
       "      <td>22.080</td>\n",
       "      <td>0.248267</td>\n",
       "      <td>0.968692</td>\n",
       "      <td>0.002783</td>\n",
       "      <td>0.999996</td>\n",
       "      <td>0.0</td>\n",
       "      <td>0</td>\n",
       "      <td>0</td>\n",
       "      <td>0</td>\n",
       "      <td>0</td>\n",
       "      <td>0</td>\n",
       "      <td>1</td>\n",
       "      <td>0</td>\n",
       "    </tr>\n",
       "  </tbody>\n",
       "</table>\n",
       "<p>15816 rows × 14 columns</p>\n",
       "</div>"
      ],
      "text/plain": [
       "                      value  value(t-168)  fractional hour_sin  \\\n",
       "2018-05-12 00:00:00  22.910        16.378             0.000000   \n",
       "2018-05-12 01:00:00  24.593        16.579             0.010908   \n",
       "2018-05-12 02:00:00  24.769        16.454             0.021815   \n",
       "2018-05-12 03:00:00  26.403        16.804             0.032719   \n",
       "2018-05-12 04:00:00  26.126        16.955             0.043619   \n",
       "...                     ...           ...                  ...   \n",
       "2020-02-29 19:00:00  21.780        21.955             0.205777   \n",
       "2020-02-29 20:00:00  22.181        22.382             0.216440   \n",
       "2020-02-29 21:00:00  22.030        22.130             0.227076   \n",
       "2020-02-29 22:00:00  21.503        22.030             0.237686   \n",
       "2020-02-29 23:00:00  21.879        22.080             0.248267   \n",
       "\n",
       "                     fractional hour_cos  day of year_sin  day of year_cos  \\\n",
       "2018-05-12 00:00:00             1.000000         0.006178         0.999981   \n",
       "2018-05-12 01:00:00             0.999941         0.006178         0.999981   \n",
       "2018-05-12 02:00:00             0.999762         0.006178         0.999981   \n",
       "2018-05-12 03:00:00             0.999465         0.006178         0.999981   \n",
       "2018-05-12 04:00:00             0.999048         0.006178         0.999981   \n",
       "...                                  ...              ...              ...   \n",
       "2020-02-29 19:00:00             0.978599         0.002783         0.999996   \n",
       "2020-02-29 20:00:00             0.976296         0.002783         0.999996   \n",
       "2020-02-29 21:00:00             0.973877         0.002783         0.999996   \n",
       "2020-02-29 22:00:00             0.971342         0.002783         0.999996   \n",
       "2020-02-29 23:00:00             0.968692         0.002783         0.999996   \n",
       "\n",
       "                     working day  week_1  week_2  week_3  week_4  week_5  \\\n",
       "2018-05-12 00:00:00          0.0       0       0       0       0       0   \n",
       "2018-05-12 01:00:00          0.0       0       0       0       0       0   \n",
       "2018-05-12 02:00:00          0.0       0       0       0       0       0   \n",
       "2018-05-12 03:00:00          0.0       0       0       0       0       0   \n",
       "2018-05-12 04:00:00          0.0       0       0       0       0       0   \n",
       "...                          ...     ...     ...     ...     ...     ...   \n",
       "2020-02-29 19:00:00          0.0       0       0       0       0       0   \n",
       "2020-02-29 20:00:00          0.0       0       0       0       0       0   \n",
       "2020-02-29 21:00:00          0.0       0       0       0       0       0   \n",
       "2020-02-29 22:00:00          0.0       0       0       0       0       0   \n",
       "2020-02-29 23:00:00          0.0       0       0       0       0       0   \n",
       "\n",
       "                     week_6  week_7  \n",
       "2018-05-12 00:00:00       1       0  \n",
       "2018-05-12 01:00:00       1       0  \n",
       "2018-05-12 02:00:00       1       0  \n",
       "2018-05-12 03:00:00       1       0  \n",
       "2018-05-12 04:00:00       1       0  \n",
       "...                     ...     ...  \n",
       "2020-02-29 19:00:00       1       0  \n",
       "2020-02-29 20:00:00       1       0  \n",
       "2020-02-29 21:00:00       1       0  \n",
       "2020-02-29 22:00:00       1       0  \n",
       "2020-02-29 23:00:00       1       0  \n",
       "\n",
       "[15816 rows x 14 columns]"
      ]
     },
     "execution_count": 9,
     "metadata": {},
     "output_type": "execute_result"
    }
   ],
   "source": [
    "df"
   ]
  },
  {
   "cell_type": "code",
   "execution_count": 41,
   "id": "monthly-radar",
   "metadata": {},
   "outputs": [
    {
     "data": {
      "text/plain": [
       "Index(['value', 'value(t-168)', 'fractional hour_sin', 'fractional hour_cos',\n",
       "       'day of year_sin', 'day of year_cos', 'working day', 'week_1', 'week_2',\n",
       "       'week_3', 'week_4', 'week_5', 'week_6', 'week_7'],\n",
       "      dtype='object')"
      ]
     },
     "execution_count": 41,
     "metadata": {},
     "output_type": "execute_result"
    }
   ],
   "source": [
    "df.columns"
   ]
  },
  {
   "cell_type": "code",
   "execution_count": 79,
   "id": "cross-announcement",
   "metadata": {},
   "outputs": [
    {
     "data": {
      "image/png": "[encoded data removed]",
      "text/plain": [
       "<Figure size 360x72 with 1 Axes>"
      ]
     },
     "metadata": {},
     "output_type": "display_data"
    }
   ],
   "source": [
    "df.iloc[336:(336+72),0].plot(color='black')\n",
    "plt.tick_params(\n",
    "    axis='x',          # changes apply to the x-axis\n",
    "    which='both',      # both major and minor ticks are affected\n",
    "    bottom=False,      # ticks along the bottom edge are off\n",
    "    top=False,         # ticks along the top edge are off\n",
    "    labelbottom=False) # labels along the bottom edge are off\n",
    "plt.style.use('seaborn')#change the style sheets here\n",
    "plt.rcParams['figure.figsize'] = (5, 1)\n",
    "plt.show()"
   ]
  },
  {
   "cell_type": "code",
   "execution_count": 83,
   "id": "geological-specific",
   "metadata": {},
   "outputs": [
    {
     "data": {
      "image/png": "[encoded data removed]",
      "text/plain": [
       "<Figure size 360x72 with 1 Axes>"
      ]
     },
     "metadata": {},
     "output_type": "display_data"
    }
   ],
   "source": [
    "df.iloc[(168-72):168,0].plot(color='darkgrey')\n",
    "plt.style.use('seaborn')#change the style sheets here\n",
    "plt.rcParams['figure.figsize'] = (5, 1)\n",
    "plt.tick_params(\n",
    "    axis='x',          # changes apply to the x-axis\n",
    "    which='both',      # both major and minor ticks are affected\n",
    "    bottom=False,      # ticks along the bottom edge are off\n",
    "    top=False,         # ticks along the top edge are off\n",
    "    labelbottom=False) # labels along the bottom edge are off\n",
    "plt.show()"
   ]
  },
  {
   "cell_type": "code",
   "execution_count": 84,
   "id": "accurate-software",
   "metadata": {},
   "outputs": [
    {
     "data": {
      "image/png": "[encoded data removed]",
      "text/plain": [
       "<Figure size 360x72 with 1 Axes>"
      ]
     },
     "metadata": {},
     "output_type": "display_data"
    }
   ],
   "source": [
    "df.iloc[:72,0].plot(color='darkgrey')\n",
    "plt.style.use('seaborn')#change the style sheets here\n",
    "plt.tick_params(\n",
    "    axis='x',          # changes apply to the x-axis\n",
    "    which='both',      # both major and minor ticks are affected\n",
    "    bottom=False,      # ticks along the bottom edge are off\n",
    "    top=False,         # ticks along the top edge are off\n",
    "    labelbottom=False) # labels along the bottom edge are off\n",
    "plt.rcParams['figure.figsize'] = (5, 1)\n",
    "plt.show()"
   ]
  },
  {
   "cell_type": "code",
   "execution_count": 81,
   "id": "ordered-updating",
   "metadata": {
    "scrolled": false
   },
   "outputs": [
    {
     "data": {
      "image/png": "[encoded data removed]",
      "text/plain": [
       "<Figure size 360x72 with 1 Axes>"
      ]
     },
     "metadata": {},
     "output_type": "display_data"
    },
    {
     "data": {
      "image/png": "[encoded data removed]",
      "text/plain": [
       "<Figure size 360x72 with 1 Axes>"
      ]
     },
     "metadata": {},
     "output_type": "display_data"
    },
    {
     "data": {
      "image/png": "[encoded data removed]",
      "text/plain": [
       "<Figure size 360x72 with 1 Axes>"
      ]
     },
     "metadata": {},
     "output_type": "display_data"
    },
    {
     "data": {
      "image/png": "[encoded data removed]",
      "text/plain": [
       "<Figure size 360x72 with 1 Axes>"
      ]
     },
     "metadata": {},
     "output_type": "display_data"
    },
    {
     "data": {
      "image/png": "[encoded data removed]",
      "text/plain": [
       "<Figure size 360x72 with 1 Axes>"
      ]
     },
     "metadata": {},
     "output_type": "display_data"
    },
    {
     "data": {
      "image/png": "[encoded data removed]",
      "text/plain": [
       "<Figure size 360x72 with 1 Axes>"
      ]
     },
     "metadata": {},
     "output_type": "display_data"
    },
    {
     "data": {
      "image/png": "[encoded data removed]",
      "text/plain": [
       "<Figure size 360x72 with 1 Axes>"
      ]
     },
     "metadata": {},
     "output_type": "display_data"
    },
    {
     "data": {
      "image/png": "[encoded data removed]",
      "text/plain": [
       "<Figure size 360x72 with 1 Axes>"
      ]
     },
     "metadata": {},
     "output_type": "display_data"
    },
    {
     "data": {
      "image/png": "[encoded data removed]",
      "text/plain": [
       "<Figure size 360x72 with 1 Axes>"
      ]
     },
     "metadata": {},
     "output_type": "display_data"
    },
    {
     "data": {
      "image/png": "[encoded data removed]",
      "text/plain": [
       "<Figure size 360x72 with 1 Axes>"
      ]
     },
     "metadata": {},
     "output_type": "display_data"
    },
    {
     "data": {
      "image/png": "[encoded data removed]",
      "text/plain": [
       "<Figure size 360x72 with 1 Axes>"
      ]
     },
     "metadata": {},
     "output_type": "display_data"
    },
    {
     "data": {
      "image/png": "[encoded data removed]",
      "text/plain": [
       "<Figure size 360x72 with 1 Axes>"
      ]
     },
     "metadata": {},
     "output_type": "display_data"
    }
   ],
   "source": [
    "for i in range(2,len(df.columns)):\n",
    "    df.iloc[168:(168+72),i].plot(color='darkgrey')\n",
    "    plt.style.use('seaborn')#change the style sheets here\n",
    "    plt.rcParams['figure.figsize'] = (5, 1)\n",
    "    plt.tick_params(\n",
    "    axis='x',          # changes apply to the x-axis\n",
    "    which='both',      # both major and minor ticks are affected\n",
    "    bottom=False,      # ticks along the bottom edge are off\n",
    "    top=False,         # ticks along the top edge are off\n",
    "    labelbottom=False) # labels along the bottom edge are off\n",
    "    plt.show()"
   ]
  },
  {
   "cell_type": "code",
   "execution_count": 35,
   "id": "democratic-serial",
   "metadata": {},
   "outputs": [
    {
     "data": {
      "text/plain": [
       "14"
      ]
     },
     "execution_count": 35,
     "metadata": {},
     "output_type": "execute_result"
    }
   ],
   "source": [
    "len(df.columns)"
   ]
  },
  {
   "cell_type": "code",
   "execution_count": null,
   "id": "varying-pointer",
   "metadata": {},
   "outputs": [],
   "source": []
  }
 ],
 "metadata": {
  "kernelspec": {
   "display_name": "Python 3",
   "language": "python",
   "name": "python3"
  },
  "language_info": {
   "codemirror_mode": {
    "name": "ipython",
    "version": 3
   },
   "file_extension": ".py",
   "mimetype": "text/x-python",
   "name": "python",
   "nbconvert_exporter": "python",
   "pygments_lexer": "ipython3",
   "version": "3.7.5"
  }
 },
 "nbformat": 4,
 "nbformat_minor": 5
}
