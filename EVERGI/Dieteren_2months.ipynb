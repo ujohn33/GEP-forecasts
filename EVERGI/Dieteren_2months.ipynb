{
 "cells": [
  {
   "cell_type": "code",
   "execution_count": 1,
   "metadata": {},
   "outputs": [],
   "source": [
    "import pandas as pd\n",
    "import matplotlib.pyplot as plt\n",
    "import seaborn as sns\n",
    "import numpy as np"
   ]
  },
  {
   "cell_type": "code",
   "execution_count": 24,
   "metadata": {},
   "outputs": [],
   "source": [
    "Dieteren = pd.read_csv('Dieteren-forecast_2months.csv', index_col='timestamp', usecols=['timestamp','h', 'prediction'])"
   ]
  },
  {
   "cell_type": "code",
   "execution_count": 25,
   "metadata": {},
   "outputs": [],
   "source": [
    "Dieteren['h'] = Dieteren['h'].str.extract('(\\d+)', expand=False).astype(int)"
   ]
  },
  {
   "cell_type": "code",
   "execution_count": 26,
   "metadata": {},
   "outputs": [
    {
     "data": {
      "text/html": [
       "<div>\n",
       "<style scoped>\n",
       "    .dataframe tbody tr th:only-of-type {\n",
       "        vertical-align: middle;\n",
       "    }\n",
       "\n",
       "    .dataframe tbody tr th {\n",
       "        vertical-align: top;\n",
       "    }\n",
       "\n",
       "    .dataframe thead th {\n",
       "        text-align: right;\n",
       "    }\n",
       "</style>\n",
       "<table border=\"1\" class=\"dataframe\">\n",
       "  <thead>\n",
       "    <tr style=\"text-align: right;\">\n",
       "      <th></th>\n",
       "      <th>h</th>\n",
       "      <th>prediction</th>\n",
       "    </tr>\n",
       "    <tr>\n",
       "      <th>timestamp</th>\n",
       "      <th></th>\n",
       "      <th></th>\n",
       "    </tr>\n",
       "  </thead>\n",
       "  <tbody>\n",
       "    <tr>\n",
       "      <th>2016-07-03 12:00:00</th>\n",
       "      <td>1</td>\n",
       "      <td>844.855295</td>\n",
       "    </tr>\n",
       "    <tr>\n",
       "      <th>2016-07-03 13:00:00</th>\n",
       "      <td>1</td>\n",
       "      <td>835.339528</td>\n",
       "    </tr>\n",
       "    <tr>\n",
       "      <th>2016-07-03 14:00:00</th>\n",
       "      <td>1</td>\n",
       "      <td>828.146197</td>\n",
       "    </tr>\n",
       "    <tr>\n",
       "      <th>2016-07-03 15:00:00</th>\n",
       "      <td>1</td>\n",
       "      <td>802.227366</td>\n",
       "    </tr>\n",
       "    <tr>\n",
       "      <th>2016-07-03 16:00:00</th>\n",
       "      <td>1</td>\n",
       "      <td>786.392133</td>\n",
       "    </tr>\n",
       "    <tr>\n",
       "      <th>...</th>\n",
       "      <td>...</td>\n",
       "      <td>...</td>\n",
       "    </tr>\n",
       "    <tr>\n",
       "      <th>2016-12-30 20:00:00</th>\n",
       "      <td>24</td>\n",
       "      <td>261.292253</td>\n",
       "    </tr>\n",
       "    <tr>\n",
       "      <th>2016-12-30 21:00:00</th>\n",
       "      <td>24</td>\n",
       "      <td>268.182466</td>\n",
       "    </tr>\n",
       "    <tr>\n",
       "      <th>2016-12-30 22:00:00</th>\n",
       "      <td>24</td>\n",
       "      <td>279.920844</td>\n",
       "    </tr>\n",
       "    <tr>\n",
       "      <th>2016-12-30 23:00:00</th>\n",
       "      <td>24</td>\n",
       "      <td>293.353390</td>\n",
       "    </tr>\n",
       "    <tr>\n",
       "      <th>2016-12-31 00:00:00</th>\n",
       "      <td>24</td>\n",
       "      <td>286.206442</td>\n",
       "    </tr>\n",
       "  </tbody>\n",
       "</table>\n",
       "<p>103992 rows × 2 columns</p>\n",
       "</div>"
      ],
      "text/plain": [
       "                      h  prediction\n",
       "timestamp                          \n",
       "2016-07-03 12:00:00   1  844.855295\n",
       "2016-07-03 13:00:00   1  835.339528\n",
       "2016-07-03 14:00:00   1  828.146197\n",
       "2016-07-03 15:00:00   1  802.227366\n",
       "2016-07-03 16:00:00   1  786.392133\n",
       "...                  ..         ...\n",
       "2016-12-30 20:00:00  24  261.292253\n",
       "2016-12-30 21:00:00  24  268.182466\n",
       "2016-12-30 22:00:00  24  279.920844\n",
       "2016-12-30 23:00:00  24  293.353390\n",
       "2016-12-31 00:00:00  24  286.206442\n",
       "\n",
       "[103992 rows x 2 columns]"
      ]
     },
     "execution_count": 26,
     "metadata": {},
     "output_type": "execute_result"
    }
   ],
   "source": [
    "Dieteren"
   ]
  },
  {
   "cell_type": "code",
   "execution_count": 33,
   "metadata": {},
   "outputs": [],
   "source": [
    "pivot = pd.pivot_table(Dieteren, values='prediction', index=['timestamp'], columns=['h'])"
   ]
  },
  {
   "cell_type": "code",
   "execution_count": 38,
   "metadata": {},
   "outputs": [],
   "source": [
    "pivot = pivot.add_prefix('Consumer_0_forec_h_')"
   ]
  },
  {
   "cell_type": "code",
   "execution_count": 39,
   "metadata": {},
   "outputs": [],
   "source": [
    "pivot.to_csv('Dieteren_forecast.csv')"
   ]
  },
  {
   "cell_type": "code",
   "execution_count": null,
   "metadata": {},
   "outputs": [],
   "source": []
  }
 ],
 "metadata": {
  "kernelspec": {
   "display_name": "Python [conda env:evgeny] *",
   "language": "python",
   "name": "conda-env-evgeny-py"
  },
  "language_info": {
   "codemirror_mode": {
    "name": "ipython",
    "version": 3
   },
   "file_extension": ".py",
   "mimetype": "text/x-python",
   "name": "python",
   "nbconvert_exporter": "python",
   "pygments_lexer": "ipython3",
   "version": "3.8.6"
  }
 },
 "nbformat": 4,
 "nbformat_minor": 4
}
