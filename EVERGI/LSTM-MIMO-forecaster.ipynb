{
 "cells": [
  {
   "cell_type": "code",
   "execution_count": 1174,
   "metadata": {},
   "outputs": [],
   "source": [
    "import datetime\n",
    "import sys\n",
    "import os\n",
    "\n",
    "import IPython\n",
    "import IPython.display\n",
    "import matplotlib as mpl\n",
    "import matplotlib.pyplot as plt\n",
    "import numpy as np\n",
    "import pandas as pd\n",
    "import seaborn as sns\n",
    "import tensorflow as tf\n",
    "import itertools\n",
    "from workalendar.usa import Texas\n",
    "from tensorflow.keras.layers import Dense\n",
    "from tensorflow.keras.models import Sequential\n",
    "from cond_rnn import ConditionalRNN\n",
    "from sklearn.preprocessing import MinMaxScaler\n",
    "from collections import UserDict\n",
    "\n",
    "from src.functions import load_data, mape, TimeSeriesTensor, create_evaluation_df, series_to_supervised\n",
    "\n",
    "np.set_printoptions(threshold=sys.maxsize)\n",
    "mpl.rcParams['figure.figsize'] = (8, 6)\n",
    "mpl.rcParams['axes.grid'] = False\n",
    "DAYS_IN_YEAR = 365\n",
    "HOURS_IN_DAY = 24\n",
    "DAYS_OF_WEEK = ['week_1','week_2','week_3','week_4','week_5','week_6','week_7']\n",
    "MINUTES_IN_HOUR = 60\n",
    "SECONDS_IN_MINUTE = 60\n",
    "MINUTES_IN_DAY = MINUTES_IN_HOUR * HOURS_IN_DAY"
   ]
  },
  {
   "cell_type": "code",
   "execution_count": 768,
   "metadata": {},
   "outputs": [],
   "source": [
    "def get_fractional_hour_from_series(series: pd.Series) -> pd.Series:\n",
    "    \"\"\"\n",
    "    Return fractional hour in range 0-24, e.g. 12h30m --> 12.5.\n",
    "    Accurate to 1 minute.\n",
    "    \"\"\"\n",
    "    hour = series.hour\n",
    "    minute = series.minute\n",
    "    return hour + minute / MINUTES_IN_HOUR\n",
    "\n",
    "def get_fractional_day_from_series(series: pd.Series) -> pd.Series:\n",
    "    \"\"\"\n",
    "    Return fractional day in range 0-1, e.g. 12h30m --> 0.521.\n",
    "    Accurate to 1 minute\n",
    "    \"\"\"\n",
    "    fractional_hours = get_fractional_hour_from_series(series)\n",
    "    return fractional_hours / HOURS_IN_DAY\n",
    "\n",
    "def get_fractional_year_from_series(series: pd.Series) -> pd.Series:\n",
    "    \"\"\"\n",
    "    Return fractional year in range 0-1.\n",
    "    Accurate to 1 day\n",
    "    \"\"\"\n",
    "    return (series.dayofyear - 1) / DAYS_IN_YEAR\n",
    "\n",
    "def normalize(self, tensor):\n",
    "    self.scaler = MinMaxScaler(feature_range=(0, 1))\n",
    "    tensor = self.scaler.fit_transform(tensor)\n",
    "    return tensor\n",
    "\n",
    "def preprocess(dataframe):\n",
    "    dataframe.index = pd.to_datetime(dataframe.index)\n",
    "    # Removing duplicates\n",
    "    dataframe = dataframe[~dataframe.index.duplicated()]\n",
    "\n",
    "    #Filling NaN values\n",
    "    dataframe = dataframe.interpolate()\n",
    "\n",
    "    # Setting the calendar holidats\n",
    "    cal = Texas()\n",
    "    years = list(range(2014, 2025))\n",
    "    holidays = []\n",
    "    for year in years:\n",
    "        holidays.extend(cal.holidays(year))\n",
    "\n",
    "    dataframe = dataframe.sort_index()\n",
    "\n",
    "    #print('preprocess:')\n",
    "    #print(dataframe.columns)\n",
    "    # Rename the target column to 'Valeur' for convenience\n",
    "    dataframe.rename(columns={dataframe.columns[0]: 'value'}, inplace=True)\n",
    "\n",
    "    # Logarithmic transform add 1 for non-negative data (zeros in the series)\n",
    "    #dataframe[self.Y_var] = log(dataframe[self.Y_var] + 1)\n",
    "\n",
    "    #working day {0,1}\n",
    "    dataframe['working day'] = dataframe.index.map(cal.is_working_day).astype(np.float32)\n",
    "\n",
    "    #fractional hour [0,1]\n",
    "    dataframe['fractional hour'] = get_fractional_day_from_series(dataframe.index)\n",
    "\n",
    "    # day of week one-hot encoded\n",
    "    dataframe['day of week'] = dataframe.index.dayofweek + 1\n",
    "    dataframe['day of week'] = pd.Categorical(dataframe['day of week'], categories=[1,2,3,4,5,6,7], ordered=True)\n",
    "    dataframe = pd.get_dummies(dataframe,prefix=['week'], columns = ['day of week'], drop_first=False)\n",
    "    #dataframe = pd.concat([dataframe, pd.DataFrame(columns=DAYS_OF_WEEK)]).fillna(0)\n",
    "\n",
    "\n",
    "    # fractional day of year\n",
    "    dataframe['day of year'] = get_fractional_year_from_series(dataframe.index)\n",
    "\n",
    "    # we encode cynical data into two dimensions using a sine and cosine transformations\n",
    "    def encode(data, col, max_val):\n",
    "        data[col + '_sin'] = np.sin(2 * np.pi * data[col]/max_val)\n",
    "        data[col + '_cos'] = np.cos(2 * np.pi * data[col]/max_val)\n",
    "        return data\n",
    "    dataframe = encode(dataframe, 'fractional hour', HOURS_IN_DAY)\n",
    "    dataframe = encode(dataframe, 'day of year', DAYS_IN_YEAR)\n",
    "    # dropping original columns\n",
    "    dataframe = dataframe.drop(['fractional hour','day of year'], axis=1)\n",
    "    return dataframe"
   ]
  },
  {
   "cell_type": "code",
   "execution_count": 1142,
   "metadata": {},
   "outputs": [],
   "source": [
    "csv_path = '../data/ERCOT/ercot_data.csv'\n",
    "df = pd.read_csv(csv_path, index_col=0)"
   ]
  },
  {
   "cell_type": "code",
   "execution_count": 1143,
   "metadata": {},
   "outputs": [],
   "source": [
    "df = preprocess(df)"
   ]
  },
  {
   "cell_type": "code",
   "execution_count": 1144,
   "metadata": {},
   "outputs": [],
   "source": [
    "df\n",
    "c1 = df.iloc[:,2:10]\n",
    "c2 = series_to_supervised(df)\n",
    "df = df.iloc[:,[0,1,-4,-3,-2,-1]].copy()\n",
    "c1 = c1.loc[c2.index]\n",
    "df = df['2012-01-07 02:00:00':]"
   ]
  },
  {
   "cell_type": "code",
   "execution_count": 1145,
   "metadata": {},
   "outputs": [
    {
     "name": "stdout",
     "output_type": "stream",
     "text": [
      "(34892, 8)\n",
      "(34892, 2)\n",
      "(34915, 6)\n"
     ]
    }
   ],
   "source": [
    "print(c1.shape)\n",
    "print(c2.shape)\n",
    "print(df.shape)"
   ]
  },
  {
   "cell_type": "code",
   "execution_count": 1146,
   "metadata": {},
   "outputs": [],
   "source": [
    "test_df = df.copy()['2015':]\n",
    "test_c1 = c1.copy()['2015':]\n",
    "test_c2 = c2.copy()['2015':]\n",
    "\n",
    "n_test = len(test_df)\n",
    "index = len(df) - n_test\n",
    "train_val_split = 0\n",
    "\n",
    "train_df = df.copy()[:int(index * (1-train_val_split))]\n",
    "train_c1 = c1.copy()[:int(index * (1-train_val_split))]\n",
    "train_c2 = c2.copy()[:int(index * (1-train_val_split))]\n",
    "\n",
    "val_df = df.copy()[int(index * (1-train_val_split)):index]\n",
    "val_c1 = c1.copy()[:int(index * (1-train_val_split))]\n",
    "val_c2 = c2.copy()[:int(index * (1-train_val_split))]\n",
    "\n",
    "num_features = df.shape[1]"
   ]
  },
  {
   "cell_type": "code",
   "execution_count": 1147,
   "metadata": {},
   "outputs": [
    {
     "data": {
      "text/plain": [
       "MinMaxScaler()"
      ]
     },
     "execution_count": 1147,
     "metadata": {},
     "output_type": "execute_result"
    }
   ],
   "source": [
    "y_scaler = MinMaxScaler()\n",
    "y_scaler.fit(train_df[['value']])"
   ]
  },
  {
   "cell_type": "code",
   "execution_count": 1148,
   "metadata": {},
   "outputs": [],
   "source": [
    "train_c2[['value(t-24)']] = y_scaler.fit_transform(train_c2[['value(t-24)']])"
   ]
  },
  {
   "cell_type": "code",
   "execution_count": 1149,
   "metadata": {},
   "outputs": [],
   "source": [
    "train_c2[['value(t-168)']] = y_scaler.fit_transform(train_c2[['value(t-168)']])"
   ]
  },
  {
   "cell_type": "code",
   "execution_count": 1150,
   "metadata": {},
   "outputs": [],
   "source": [
    "X_scaler = MinMaxScaler()\n",
    "train_df[train_df.columns] = X_scaler.fit_transform(train_df)\n",
    "test_df[train_df.columns] = X_scaler.fit_transform(test_df)"
   ]
  },
  {
   "cell_type": "code",
   "execution_count": 1151,
   "metadata": {},
   "outputs": [],
   "source": [
    "T = 24\n",
    "HORIZON = 24\n",
    "tensor_structure = {'X':(range(-T+1, 1), ['value', 'Temperatures (°C)','fractional hour_sin','fractional hour_cos','day of year_sin','day of year_cos'])}\n",
    "train_inputs = TimeSeriesTensor(train_df, 'value', HORIZON, tensor_structure)"
   ]
  },
  {
   "cell_type": "code",
   "execution_count": 1152,
   "metadata": {},
   "outputs": [],
   "source": [
    "test_inputs = TimeSeriesTensor(test_df, 'value', HORIZON, tensor_structure)"
   ]
  },
  {
   "cell_type": "code",
   "execution_count": 1153,
   "metadata": {},
   "outputs": [
    {
     "name": "stdout",
     "output_type": "stream",
     "text": [
      "(25967, 168)\n",
      "(34892, 8)\n",
      "(34892, 2)\n"
     ]
    }
   ],
   "source": [
    "print(train_inputs.dataframe.shape)\n",
    "print(c1.shape)\n",
    "print(c2.shape)"
   ]
  },
  {
   "cell_type": "code",
   "execution_count": 1162,
   "metadata": {},
   "outputs": [],
   "source": [
    "train_c1 = c1.reindex(train_inputs.dataframe.index)\n",
    "train_c2 = c2.reindex(train_inputs.dataframe.index)"
   ]
  },
  {
   "cell_type": "code",
   "execution_count": 1167,
   "metadata": {},
   "outputs": [
    {
     "name": "stdout",
     "output_type": "stream",
     "text": [
      "(25967, 168)\n",
      "(25967, 8)\n",
      "(25967, 2)\n"
     ]
    }
   ],
   "source": [
    "print(train_inputs.dataframe.shape)\n",
    "print(train_c1.shape)\n",
    "print(train_c2.shape)"
   ]
  },
  {
   "cell_type": "code",
   "execution_count": 1173,
   "metadata": {},
   "outputs": [
    {
     "data": {
      "text/html": [
       "<div>\n",
       "<style scoped>\n",
       "    .dataframe tbody tr th:only-of-type {\n",
       "        vertical-align: middle;\n",
       "    }\n",
       "\n",
       "    .dataframe tbody tr th {\n",
       "        vertical-align: top;\n",
       "    }\n",
       "\n",
       "    .dataframe thead tr th {\n",
       "        text-align: left;\n",
       "    }\n",
       "</style>\n",
       "<table border=\"1\" class=\"dataframe\">\n",
       "  <thead>\n",
       "    <tr>\n",
       "      <th>tensor</th>\n",
       "      <th colspan=\"10\" halign=\"left\">target</th>\n",
       "      <th>...</th>\n",
       "      <th colspan=\"10\" halign=\"left\">X</th>\n",
       "    </tr>\n",
       "    <tr>\n",
       "      <th>feature</th>\n",
       "      <th colspan=\"10\" halign=\"left\">y</th>\n",
       "      <th>...</th>\n",
       "      <th colspan=\"10\" halign=\"left\">day of year_cos</th>\n",
       "    </tr>\n",
       "    <tr>\n",
       "      <th>time step</th>\n",
       "      <th>t+1</th>\n",
       "      <th>t+2</th>\n",
       "      <th>t+3</th>\n",
       "      <th>t+4</th>\n",
       "      <th>t+5</th>\n",
       "      <th>t+6</th>\n",
       "      <th>t+7</th>\n",
       "      <th>t+8</th>\n",
       "      <th>t+9</th>\n",
       "      <th>t+10</th>\n",
       "      <th>...</th>\n",
       "      <th>t-9</th>\n",
       "      <th>t-8</th>\n",
       "      <th>t-7</th>\n",
       "      <th>t-6</th>\n",
       "      <th>t-5</th>\n",
       "      <th>t-4</th>\n",
       "      <th>t-3</th>\n",
       "      <th>t-2</th>\n",
       "      <th>t-1</th>\n",
       "      <th>t</th>\n",
       "    </tr>\n",
       "  </thead>\n",
       "  <tbody>\n",
       "  </tbody>\n",
       "</table>\n",
       "<p>0 rows × 168 columns</p>\n",
       "</div>"
      ],
      "text/plain": [
       "Empty DataFrame\n",
       "Columns: [(target, y, t+1), (target, y, t+2), (target, y, t+3), (target, y, t+4), (target, y, t+5), (target, y, t+6), (target, y, t+7), (target, y, t+8), (target, y, t+9), (target, y, t+10), (target, y, t+11), (target, y, t+12), (target, y, t+13), (target, y, t+14), (target, y, t+15), (target, y, t+16), (target, y, t+17), (target, y, t+18), (target, y, t+19), (target, y, t+20), (target, y, t+21), (target, y, t+22), (target, y, t+23), (target, y, t+24), (X, value, t-23), (X, value, t-22), (X, value, t-21), (X, value, t-20), (X, value, t-19), (X, value, t-18), (X, value, t-17), (X, value, t-16), (X, value, t-15), (X, value, t-14), (X, value, t-13), (X, value, t-12), (X, value, t-11), (X, value, t-10), (X, value, t-9), (X, value, t-8), (X, value, t-7), (X, value, t-6), (X, value, t-5), (X, value, t-4), (X, value, t-3), (X, value, t-2), (X, value, t-1), (X, value, t), (X, Temperatures (°C), t-23), (X, Temperatures (°C), t-22), (X, Temperatures (°C), t-21), (X, Temperatures (°C), t-20), (X, Temperatures (°C), t-19), (X, Temperatures (°C), t-18), (X, Temperatures (°C), t-17), (X, Temperatures (°C), t-16), (X, Temperatures (°C), t-15), (X, Temperatures (°C), t-14), (X, Temperatures (°C), t-13), (X, Temperatures (°C), t-12), (X, Temperatures (°C), t-11), (X, Temperatures (°C), t-10), (X, Temperatures (°C), t-9), (X, Temperatures (°C), t-8), (X, Temperatures (°C), t-7), (X, Temperatures (°C), t-6), (X, Temperatures (°C), t-5), (X, Temperatures (°C), t-4), (X, Temperatures (°C), t-3), (X, Temperatures (°C), t-2), (X, Temperatures (°C), t-1), (X, Temperatures (°C), t), (X, fractional hour_sin, t-23), (X, fractional hour_sin, t-22), (X, fractional hour_sin, t-21), (X, fractional hour_sin, t-20), (X, fractional hour_sin, t-19), (X, fractional hour_sin, t-18), (X, fractional hour_sin, t-17), (X, fractional hour_sin, t-16), (X, fractional hour_sin, t-15), (X, fractional hour_sin, t-14), (X, fractional hour_sin, t-13), (X, fractional hour_sin, t-12), (X, fractional hour_sin, t-11), (X, fractional hour_sin, t-10), (X, fractional hour_sin, t-9), (X, fractional hour_sin, t-8), (X, fractional hour_sin, t-7), (X, fractional hour_sin, t-6), (X, fractional hour_sin, t-5), (X, fractional hour_sin, t-4), (X, fractional hour_sin, t-3), (X, fractional hour_sin, t-2), (X, fractional hour_sin, t-1), (X, fractional hour_sin, t), (X, fractional hour_cos, t-23), (X, fractional hour_cos, t-22), (X, fractional hour_cos, t-21), (X, fractional hour_cos, t-20), ...]\n",
       "Index: []\n",
       "\n",
       "[0 rows x 168 columns]"
      ]
     },
     "execution_count": 1173,
     "metadata": {},
     "output_type": "execute_result"
    }
   ],
   "source": [
    "train_inputs.dataframe[train_inputs.dataframe.isna().any(axis=1)]"
   ]
  },
  {
   "cell_type": "code",
   "execution_count": 867,
   "metadata": {},
   "outputs": [
    {
     "name": "stdout",
     "output_type": "stream",
     "text": [
      "[('target', 'y', 't+1') ('target', 'y', 't+2') ('target', 'y', 't+3')\n",
      " ('target', 'y', 't+4') ('target', 'y', 't+5') ('target', 'y', 't+6')\n",
      " ('target', 'y', 't+7') ('target', 'y', 't+8') ('target', 'y', 't+9')\n",
      " ('target', 'y', 't+10') ('target', 'y', 't+11') ('target', 'y', 't+12')\n",
      " ('target', 'y', 't+13') ('target', 'y', 't+14') ('target', 'y', 't+15')\n",
      " ('target', 'y', 't+16') ('target', 'y', 't+17') ('target', 'y', 't+18')\n",
      " ('target', 'y', 't+19') ('target', 'y', 't+20') ('target', 'y', 't+21')\n",
      " ('target', 'y', 't+22') ('target', 'y', 't+23') ('target', 'y', 't+24')\n",
      " ('X', 'value', 't-23') ('X', 'value', 't-22') ('X', 'value', 't-21')\n",
      " ('X', 'value', 't-20') ('X', 'value', 't-19') ('X', 'value', 't-18')\n",
      " ('X', 'value', 't-17') ('X', 'value', 't-16') ('X', 'value', 't-15')\n",
      " ('X', 'value', 't-14') ('X', 'value', 't-13') ('X', 'value', 't-12')\n",
      " ('X', 'value', 't-11') ('X', 'value', 't-10') ('X', 'value', 't-9')\n",
      " ('X', 'value', 't-8') ('X', 'value', 't-7') ('X', 'value', 't-6')\n",
      " ('X', 'value', 't-5') ('X', 'value', 't-4') ('X', 'value', 't-3')\n",
      " ('X', 'value', 't-2') ('X', 'value', 't-1') ('X', 'value', 't')\n",
      " ('X', 'Temperatures (°C)', 't-23') ('X', 'Temperatures (°C)', 't-22')\n",
      " ('X', 'Temperatures (°C)', 't-21') ('X', 'Temperatures (°C)', 't-20')\n",
      " ('X', 'Temperatures (°C)', 't-19') ('X', 'Temperatures (°C)', 't-18')\n",
      " ('X', 'Temperatures (°C)', 't-17') ('X', 'Temperatures (°C)', 't-16')\n",
      " ('X', 'Temperatures (°C)', 't-15') ('X', 'Temperatures (°C)', 't-14')\n",
      " ('X', 'Temperatures (°C)', 't-13') ('X', 'Temperatures (°C)', 't-12')\n",
      " ('X', 'Temperatures (°C)', 't-11') ('X', 'Temperatures (°C)', 't-10')\n",
      " ('X', 'Temperatures (°C)', 't-9') ('X', 'Temperatures (°C)', 't-8')\n",
      " ('X', 'Temperatures (°C)', 't-7') ('X', 'Temperatures (°C)', 't-6')\n",
      " ('X', 'Temperatures (°C)', 't-5') ('X', 'Temperatures (°C)', 't-4')\n",
      " ('X', 'Temperatures (°C)', 't-3') ('X', 'Temperatures (°C)', 't-2')\n",
      " ('X', 'Temperatures (°C)', 't-1') ('X', 'Temperatures (°C)', 't')\n",
      " ('X', 'fractional hour_sin', 't-23') ('X', 'fractional hour_sin', 't-22')\n",
      " ('X', 'fractional hour_sin', 't-21') ('X', 'fractional hour_sin', 't-20')\n",
      " ('X', 'fractional hour_sin', 't-19') ('X', 'fractional hour_sin', 't-18')\n",
      " ('X', 'fractional hour_sin', 't-17') ('X', 'fractional hour_sin', 't-16')\n",
      " ('X', 'fractional hour_sin', 't-15') ('X', 'fractional hour_sin', 't-14')\n",
      " ('X', 'fractional hour_sin', 't-13') ('X', 'fractional hour_sin', 't-12')\n",
      " ('X', 'fractional hour_sin', 't-11') ('X', 'fractional hour_sin', 't-10')\n",
      " ('X', 'fractional hour_sin', 't-9') ('X', 'fractional hour_sin', 't-8')\n",
      " ('X', 'fractional hour_sin', 't-7') ('X', 'fractional hour_sin', 't-6')\n",
      " ('X', 'fractional hour_sin', 't-5') ('X', 'fractional hour_sin', 't-4')\n",
      " ('X', 'fractional hour_sin', 't-3') ('X', 'fractional hour_sin', 't-2')\n",
      " ('X', 'fractional hour_sin', 't-1') ('X', 'fractional hour_sin', 't')\n",
      " ('X', 'fractional hour_cos', 't-23') ('X', 'fractional hour_cos', 't-22')\n",
      " ('X', 'fractional hour_cos', 't-21') ('X', 'fractional hour_cos', 't-20')\n",
      " ('X', 'fractional hour_cos', 't-19') ('X', 'fractional hour_cos', 't-18')\n",
      " ('X', 'fractional hour_cos', 't-17') ('X', 'fractional hour_cos', 't-16')\n",
      " ('X', 'fractional hour_cos', 't-15') ('X', 'fractional hour_cos', 't-14')\n",
      " ('X', 'fractional hour_cos', 't-13') ('X', 'fractional hour_cos', 't-12')\n",
      " ('X', 'fractional hour_cos', 't-11') ('X', 'fractional hour_cos', 't-10')\n",
      " ('X', 'fractional hour_cos', 't-9') ('X', 'fractional hour_cos', 't-8')\n",
      " ('X', 'fractional hour_cos', 't-7') ('X', 'fractional hour_cos', 't-6')\n",
      " ('X', 'fractional hour_cos', 't-5') ('X', 'fractional hour_cos', 't-4')\n",
      " ('X', 'fractional hour_cos', 't-3') ('X', 'fractional hour_cos', 't-2')\n",
      " ('X', 'fractional hour_cos', 't-1') ('X', 'fractional hour_cos', 't')\n",
      " ('X', 'day of year_sin', 't-23') ('X', 'day of year_sin', 't-22')\n",
      " ('X', 'day of year_sin', 't-21') ('X', 'day of year_sin', 't-20')\n",
      " ('X', 'day of year_sin', 't-19') ('X', 'day of year_sin', 't-18')\n",
      " ('X', 'day of year_sin', 't-17') ('X', 'day of year_sin', 't-16')\n",
      " ('X', 'day of year_sin', 't-15') ('X', 'day of year_sin', 't-14')\n",
      " ('X', 'day of year_sin', 't-13') ('X', 'day of year_sin', 't-12')\n",
      " ('X', 'day of year_sin', 't-11') ('X', 'day of year_sin', 't-10')\n",
      " ('X', 'day of year_sin', 't-9') ('X', 'day of year_sin', 't-8')\n",
      " ('X', 'day of year_sin', 't-7') ('X', 'day of year_sin', 't-6')\n",
      " ('X', 'day of year_sin', 't-5') ('X', 'day of year_sin', 't-4')\n",
      " ('X', 'day of year_sin', 't-3') ('X', 'day of year_sin', 't-2')\n",
      " ('X', 'day of year_sin', 't-1') ('X', 'day of year_sin', 't')\n",
      " ('X', 'day of year_cos', 't-23') ('X', 'day of year_cos', 't-22')\n",
      " ('X', 'day of year_cos', 't-21') ('X', 'day of year_cos', 't-20')\n",
      " ('X', 'day of year_cos', 't-19') ('X', 'day of year_cos', 't-18')\n",
      " ('X', 'day of year_cos', 't-17') ('X', 'day of year_cos', 't-16')\n",
      " ('X', 'day of year_cos', 't-15') ('X', 'day of year_cos', 't-14')\n",
      " ('X', 'day of year_cos', 't-13') ('X', 'day of year_cos', 't-12')\n",
      " ('X', 'day of year_cos', 't-11') ('X', 'day of year_cos', 't-10')\n",
      " ('X', 'day of year_cos', 't-9') ('X', 'day of year_cos', 't-8')\n",
      " ('X', 'day of year_cos', 't-7') ('X', 'day of year_cos', 't-6')\n",
      " ('X', 'day of year_cos', 't-5') ('X', 'day of year_cos', 't-4')\n",
      " ('X', 'day of year_cos', 't-3') ('X', 'day of year_cos', 't-2')\n",
      " ('X', 'day of year_cos', 't-1') ('X', 'day of year_cos', 't')]\n"
     ]
    }
   ],
   "source": [
    "print(train_inputs.dataframe.columns.to_numpy())"
   ]
  },
  {
   "cell_type": "code",
   "execution_count": 905,
   "metadata": {},
   "outputs": [],
   "source": [
    "MAX_EPOCHS = 25\n",
    "BATCHSIZE = 10\n",
    "patience = 100\n",
    "\n",
    "LSTMIMO = tf.keras.models.Sequential([\n",
    "    # Shape [batch, time, features] => [batch, time, lstm_units]\n",
    "    tf.keras.layers.LSTM(32, input_shape=(24, 6), return_sequences=True),\n",
    "    # Shape => [batch, time, features]\n",
    "    tf.keras.layers.Dense(1)\n",
    "])"
   ]
  },
  {
   "cell_type": "code",
   "execution_count": 906,
   "metadata": {},
   "outputs": [],
   "source": [
    "LSTMIMO.compile(optimizer=tf.optimizers.Adam(), loss='mse', metrics=[tf.metrics.MeanSquaredError()])"
   ]
  },
  {
   "cell_type": "code",
   "execution_count": 907,
   "metadata": {},
   "outputs": [
    {
     "name": "stdout",
     "output_type": "stream",
     "text": [
      "Model: \"sequential_26\"\n",
      "_________________________________________________________________\n",
      "Layer (type)                 Output Shape              Param #   \n",
      "=================================================================\n",
      "lstm_22 (LSTM)               (None, 24, 32)            4992      \n",
      "_________________________________________________________________\n",
      "dense_86 (Dense)             (None, 24, 1)             33        \n",
      "=================================================================\n",
      "Total params: 5,025\n",
      "Trainable params: 5,025\n",
      "Non-trainable params: 0\n",
      "_________________________________________________________________\n"
     ]
    }
   ],
   "source": [
    "LSTMIMO.summary()"
   ]
  },
  {
   "cell_type": "code",
   "execution_count": 912,
   "metadata": {},
   "outputs": [
    {
     "name": "stdout",
     "output_type": "stream",
     "text": [
      "Epoch 1/25\n",
      "690/690 [==============================] - 11s 16ms/step - loss: 0.0053 - mean_squared_error: 0.0053 - val_loss: 0.0063 - val_mean_squared_error: 0.0063\n",
      "Epoch 2/25\n",
      "690/690 [==============================] - 11s 16ms/step - loss: 0.0053 - mean_squared_error: 0.0053 - val_loss: 0.0059 - val_mean_squared_error: 0.0059\n",
      "Epoch 3/25\n",
      "690/690 [==============================] - 11s 16ms/step - loss: 0.0053 - mean_squared_error: 0.0053 - val_loss: 0.0058 - val_mean_squared_error: 0.0058\n",
      "Epoch 4/25\n",
      "690/690 [==============================] - 11s 16ms/step - loss: 0.0053 - mean_squared_error: 0.0053 - val_loss: 0.0063 - val_mean_squared_error: 0.0063\n",
      "Epoch 5/25\n",
      "690/690 [==============================] - 11s 16ms/step - loss: 0.0053 - mean_squared_error: 0.0053 - val_loss: 0.0061 - val_mean_squared_error: 0.0061\n",
      "Epoch 6/25\n",
      "690/690 [==============================] - 11s 16ms/step - loss: 0.0052 - mean_squared_error: 0.0052 - val_loss: 0.0074 - val_mean_squared_error: 0.0074\n",
      "Epoch 7/25\n",
      "690/690 [==============================] - 10s 15ms/step - loss: 0.0052 - mean_squared_error: 0.0052 - val_loss: 0.0060 - val_mean_squared_error: 0.0060\n",
      "Epoch 8/25\n",
      "690/690 [==============================] - 9s 13ms/step - loss: 0.0052 - mean_squared_error: 0.0052 - val_loss: 0.0058 - val_mean_squared_error: 0.0058\n",
      "Epoch 9/25\n",
      "690/690 [==============================] - 9s 13ms/step - loss: 0.0052 - mean_squared_error: 0.0052 - val_loss: 0.0060 - val_mean_squared_error: 0.0060\n",
      "Epoch 10/25\n",
      "690/690 [==============================] - 9s 13ms/step - loss: 0.0052 - mean_squared_error: 0.0052 - val_loss: 0.0064 - val_mean_squared_error: 0.0064\n",
      "Epoch 11/25\n",
      "690/690 [==============================] - 10s 15ms/step - loss: 0.0052 - mean_squared_error: 0.0052 - val_loss: 0.0058 - val_mean_squared_error: 0.0058\n",
      "Epoch 12/25\n",
      "690/690 [==============================] - 11s 16ms/step - loss: 0.0052 - mean_squared_error: 0.0052 - val_loss: 0.0059 - val_mean_squared_error: 0.0059\n",
      "Epoch 13/25\n",
      "690/690 [==============================] - 11s 16ms/step - loss: 0.0051 - mean_squared_error: 0.0051 - val_loss: 0.0060 - val_mean_squared_error: 0.0060\n",
      "Epoch 14/25\n",
      "690/690 [==============================] - 10s 15ms/step - loss: 0.0052 - mean_squared_error: 0.0052 - val_loss: 0.0061 - val_mean_squared_error: 0.0061\n",
      "Epoch 15/25\n",
      "690/690 [==============================] - 11s 16ms/step - loss: 0.0051 - mean_squared_error: 0.0051 - val_loss: 0.0061 - val_mean_squared_error: 0.0061\n",
      "Epoch 16/25\n",
      "690/690 [==============================] - 11s 16ms/step - loss: 0.0051 - mean_squared_error: 0.0051 - val_loss: 0.0063 - val_mean_squared_error: 0.0063\n",
      "Epoch 17/25\n",
      "690/690 [==============================] - 11s 15ms/step - loss: 0.0051 - mean_squared_error: 0.0051 - val_loss: 0.0061 - val_mean_squared_error: 0.0061\n",
      "Epoch 18/25\n",
      "690/690 [==============================] - 9s 14ms/step - loss: 0.0051 - mean_squared_error: 0.0051 - val_loss: 0.0059 - val_mean_squared_error: 0.0059\n",
      "Epoch 19/25\n",
      "690/690 [==============================] - 9s 14ms/step - loss: 0.0051 - mean_squared_error: 0.0051 - val_loss: 0.0064 - val_mean_squared_error: 0.0064\n",
      "Epoch 20/25\n",
      "690/690 [==============================] - 11s 17ms/step - loss: 0.0050 - mean_squared_error: 0.0050 - val_loss: 0.0061 - val_mean_squared_error: 0.0061\n",
      "Epoch 21/25\n",
      "690/690 [==============================] - 11s 15ms/step - loss: 0.0050 - mean_squared_error: 0.0050 - val_loss: 0.0066 - val_mean_squared_error: 0.0066\n",
      "Epoch 22/25\n",
      "690/690 [==============================] - 9s 13ms/step - loss: 0.0050 - mean_squared_error: 0.0050 - val_loss: 0.0061 - val_mean_squared_error: 0.0061\n",
      "Epoch 23/25\n",
      "690/690 [==============================] - 9s 13ms/step - loss: 0.0050 - mean_squared_error: 0.0050 - val_loss: 0.0062 - val_mean_squared_error: 0.0062\n",
      "Epoch 24/25\n",
      "690/690 [==============================] - 9s 13ms/step - loss: 0.0050 - mean_squared_error: 0.0050 - val_loss: 0.0061 - val_mean_squared_error: 0.0061\n",
      "Epoch 25/25\n",
      "690/690 [==============================] - 9s 13ms/step - loss: 0.0050 - mean_squared_error: 0.0050 - val_loss: 0.0063 - val_mean_squared_error: 0.0063\n"
     ]
    }
   ],
   "source": [
    "early_stopping = tf.keras.callbacks.EarlyStopping(monitor='val_loss', patience=patience, mode='min')\n",
    "\n",
    "history = LSTMIMO.fit(train_inputs['X'], train_inputs['target'].reshape(-1,24,1), batch_size=32, epochs=MAX_EPOCHS,\n",
    "                  validation_split=0.15,\n",
    "                  callbacks=[early_stopping], verbose=1)"
   ]
  },
  {
   "cell_type": "code",
   "execution_count": 913,
   "metadata": {},
   "outputs": [],
   "source": [
    "def plot_train_history(model):\n",
    "    '''\n",
    "    Convergence plots to have an idea on how the training performs\n",
    "    '''\n",
    "    loss = model.history.history['loss']\n",
    "    val_loss = model.history.history['val_loss']\n",
    "    plt.figure()\n",
    "    plt.plot(range(len(loss)), loss, 'b', label='Training loss')\n",
    "    plt.plot(range(len(val_loss)), val_loss, 'r', label='Validation loss')\n",
    "    #plt.yscale(\"log\")\n",
    "    plt.xlabel('Epochs')\n",
    "    plt.ylabel('Losses')\n",
    "    plt.title('Training and validation losses')\n",
    "    plt.legend()\n",
    "    plt.show() "
   ]
  },
  {
   "cell_type": "code",
   "execution_count": 914,
   "metadata": {},
   "outputs": [
    {
     "data": {
      "image/png": "[encoded data removed]",
      "text/plain": [
       "<Figure size 576x432 with 1 Axes>"
      ]
     },
     "metadata": {
      "needs_background": "light"
     },
     "output_type": "display_data"
    }
   ],
   "source": [
    "plot_train_history(LSTMIMO)"
   ]
  },
  {
   "cell_type": "code",
   "execution_count": 1187,
   "metadata": {},
   "outputs": [],
   "source": [
    "class Baseline(tf.keras.Model):\n",
    "    def __init__(self, label_index=None):\n",
    "        super().__init__()\n",
    "        self.label_index = label_index\n",
    "\n",
    "    def call(self, inputs):\n",
    "        if self.label_index is None:\n",
    "            return inputs\n",
    "        result = inputs[:, :, self.label_index]\n",
    "        return result[:, :, tf.newaxis]"
   ]
  },
  {
   "cell_type": "code",
   "execution_count": 1188,
   "metadata": {},
   "outputs": [],
   "source": [
    "baseline = Baseline(label_index = 0)\n",
    "\n",
    "baseline.compile(loss=tf.losses.MeanSquaredError(), metrics=[tf.metrics.MeanSquaredError()])\n",
    "\n",
    "performance['Baseline'] = baseline.evaluate(test_inputs['target'].reshape(-1,24,1), verbose=0)"
   ]
  },
  {
   "cell_type": "code",
   "execution_count": 1189,
   "metadata": {},
   "outputs": [
    {
     "data": {
      "text/plain": [
       "0.06743083253596528"
      ]
     },
     "execution_count": 1189,
     "metadata": {},
     "output_type": "execute_result"
    }
   ],
   "source": [
    "predictions_B = baseline.predict(test_inputs['X'])\n",
    "eval_df_B = create_evaluation_df(predictions_B.reshape(-1,24), test_inputs, HORIZON, y_scaler)\n",
    "mape(eval_df_B['prediction'], eval_df_B['actual'])"
   ]
  },
  {
   "cell_type": "code",
   "execution_count": 1181,
   "metadata": {},
   "outputs": [
    {
     "data": {
      "text/plain": [
       "[]"
      ]
     },
     "execution_count": 1181,
     "metadata": {},
     "output_type": "execute_result"
    },
    {
     "data": {
      "image/png": "[encoded data removed]",
      "text/plain": [
       "<Figure size 576x432 with 1 Axes>"
      ]
     },
     "metadata": {
      "needs_background": "light"
     },
     "output_type": "display_data"
    }
   ],
   "source": [
    "import random\n",
    "i = random.randint(1,8740)\n",
    "plt.plot(y_scaler.inverse_transform(test_inputs.dataframe.loc[:,'target'])[i].reshape(24,-1), label='target')\n",
    "plt.plot(y_scaler.inverse_transform(predictions_B.reshape(-1,24))[i], label='baseline')\n",
    "plt.plot(y_scaler.inverse_transform(predictions.reshape(-1,24))[i], label='LSTM')\n",
    "plt.legend()\n",
    "[]"
   ]
  },
  {
   "cell_type": "code",
   "execution_count": 960,
   "metadata": {},
   "outputs": [
    {
     "data": {
      "text/plain": [
       "array([1302.90134965, 1263.01115434, 1245.23993228, 1234.03319732,\n",
       "       1229.0868185 , 1242.63234953, 1282.87105111, 1340.57221562,\n",
       "       1389.61922675, 1416.99283621, 1449.5631594 , 1468.04174211,\n",
       "       1463.25077609, 1444.11148536, 1424.2370775 , 1409.97785442,\n",
       "       1398.62701022, 1399.04496706, 1422.74186493, 1445.8555856 ,\n",
       "       1425.22780972, 1380.93905543, 1326.4974681 , 1252.69754853])"
      ]
     },
     "execution_count": 960,
     "metadata": {},
     "output_type": "execute_result"
    }
   ],
   "source": [
    "y_scaler.inverse_transform(test_inputs.dataframe.loc[:,'target'])[0]"
   ]
  },
  {
   "cell_type": "code",
   "execution_count": 482,
   "metadata": {},
   "outputs": [
    {
     "data": {
      "text/plain": [
       "h\n",
       "t+1     0.067245\n",
       "t+2     0.067253\n",
       "t+3     0.067263\n",
       "t+4     0.067280\n",
       "t+5     0.067306\n",
       "t+6     0.067336\n",
       "t+7     0.067362\n",
       "t+8     0.067385\n",
       "t+9     0.067404\n",
       "t+10    0.067422\n",
       "t+11    0.067440\n",
       "t+12    0.067460\n",
       "t+13    0.067475\n",
       "t+14    0.067485\n",
       "t+15    0.067496\n",
       "t+16    0.067504\n",
       "t+17    0.067511\n",
       "t+18    0.067514\n",
       "t+19    0.067519\n",
       "t+20    0.067525\n",
       "t+21    0.067529\n",
       "t+22    0.067536\n",
       "t+23    0.067542\n",
       "t+24    0.067548\n",
       "Name: APE, dtype: float64"
      ]
     },
     "execution_count": 482,
     "metadata": {},
     "output_type": "execute_result"
    }
   ],
   "source": [
    "eval_df_B['APE'] = (eval_df_B['prediction'] - eval_df_B['actual']).abs() / eval_df_B['actual']\n",
    "df = eval_df_B.groupby('h')['APE'].mean()\n",
    "df.reindex(['t+1', 't+2', 't+3', 't+4', 't+5', 't+6', 't+7', 't+8', 't+9', 't+10', 't+11', 't+12', 't+13', 't+14', 't+15', 't+16', 't+17', 't+18', 't+19', 't+20', 't+21', 't+22', 't+23', 't+24'])"
   ]
  },
  {
   "cell_type": "code",
   "execution_count": 1182,
   "metadata": {},
   "outputs": [],
   "source": [
    "val_performance = {}\n",
    "performance = {}\n",
    "mape_performance = {}\n",
    "performance['LSTM-MIMO'] = LSTMIMO.evaluate(test_inputs['X'],test_inputs['target'].reshape(-1,24,1), verbose=0)"
   ]
  },
  {
   "cell_type": "code",
   "execution_count": 1183,
   "metadata": {},
   "outputs": [],
   "source": [
    "predictions = LSTMIMO.predict(test_inputs['X'])"
   ]
  },
  {
   "cell_type": "code",
   "execution_count": 1184,
   "metadata": {},
   "outputs": [
    {
     "data": {
      "text/html": [
       "<div>\n",
       "<style scoped>\n",
       "    .dataframe tbody tr th:only-of-type {\n",
       "        vertical-align: middle;\n",
       "    }\n",
       "\n",
       "    .dataframe tbody tr th {\n",
       "        vertical-align: top;\n",
       "    }\n",
       "\n",
       "    .dataframe thead th {\n",
       "        text-align: right;\n",
       "    }\n",
       "</style>\n",
       "<table border=\"1\" class=\"dataframe\">\n",
       "  <thead>\n",
       "    <tr style=\"text-align: right;\">\n",
       "      <th></th>\n",
       "      <th>timestamp</th>\n",
       "      <th>h</th>\n",
       "      <th>prediction</th>\n",
       "      <th>actual</th>\n",
       "    </tr>\n",
       "  </thead>\n",
       "  <tbody>\n",
       "    <tr>\n",
       "      <th>0</th>\n",
       "      <td>2015-01-01 23:00:00</td>\n",
       "      <td>t+1</td>\n",
       "      <td>1338.967973</td>\n",
       "      <td>1302.901350</td>\n",
       "    </tr>\n",
       "    <tr>\n",
       "      <th>1</th>\n",
       "      <td>2015-01-02 00:00:00</td>\n",
       "      <td>t+1</td>\n",
       "      <td>1320.540553</td>\n",
       "      <td>1263.011154</td>\n",
       "    </tr>\n",
       "    <tr>\n",
       "      <th>2</th>\n",
       "      <td>2015-01-02 01:00:00</td>\n",
       "      <td>t+1</td>\n",
       "      <td>1304.271103</td>\n",
       "      <td>1245.239932</td>\n",
       "    </tr>\n",
       "    <tr>\n",
       "      <th>3</th>\n",
       "      <td>2015-01-02 02:00:00</td>\n",
       "      <td>t+1</td>\n",
       "      <td>1302.918578</td>\n",
       "      <td>1234.033197</td>\n",
       "    </tr>\n",
       "    <tr>\n",
       "      <th>4</th>\n",
       "      <td>2015-01-02 03:00:00</td>\n",
       "      <td>t+1</td>\n",
       "      <td>1304.207368</td>\n",
       "      <td>1229.086818</td>\n",
       "    </tr>\n",
       "    <tr>\n",
       "      <th>5</th>\n",
       "      <td>2015-01-02 04:00:00</td>\n",
       "      <td>t+1</td>\n",
       "      <td>1314.316958</td>\n",
       "      <td>1242.632350</td>\n",
       "    </tr>\n",
       "    <tr>\n",
       "      <th>6</th>\n",
       "      <td>2015-01-02 05:00:00</td>\n",
       "      <td>t+1</td>\n",
       "      <td>1335.590179</td>\n",
       "      <td>1282.871051</td>\n",
       "    </tr>\n",
       "    <tr>\n",
       "      <th>7</th>\n",
       "      <td>2015-01-02 06:00:00</td>\n",
       "      <td>t+1</td>\n",
       "      <td>1366.861790</td>\n",
       "      <td>1340.572216</td>\n",
       "    </tr>\n",
       "    <tr>\n",
       "      <th>8</th>\n",
       "      <td>2015-01-02 07:00:00</td>\n",
       "      <td>t+1</td>\n",
       "      <td>1391.501585</td>\n",
       "      <td>1389.619227</td>\n",
       "    </tr>\n",
       "    <tr>\n",
       "      <th>9</th>\n",
       "      <td>2015-01-02 08:00:00</td>\n",
       "      <td>t+1</td>\n",
       "      <td>1415.470752</td>\n",
       "      <td>1416.992836</td>\n",
       "    </tr>\n",
       "    <tr>\n",
       "      <th>10</th>\n",
       "      <td>2015-01-02 09:00:00</td>\n",
       "      <td>t+1</td>\n",
       "      <td>1437.498040</td>\n",
       "      <td>1449.563159</td>\n",
       "    </tr>\n",
       "    <tr>\n",
       "      <th>11</th>\n",
       "      <td>2015-01-02 10:00:00</td>\n",
       "      <td>t+1</td>\n",
       "      <td>1446.911870</td>\n",
       "      <td>1468.041742</td>\n",
       "    </tr>\n",
       "    <tr>\n",
       "      <th>12</th>\n",
       "      <td>2015-01-02 11:00:00</td>\n",
       "      <td>t+1</td>\n",
       "      <td>1450.018970</td>\n",
       "      <td>1463.250776</td>\n",
       "    </tr>\n",
       "    <tr>\n",
       "      <th>13</th>\n",
       "      <td>2015-01-02 12:00:00</td>\n",
       "      <td>t+1</td>\n",
       "      <td>1439.003090</td>\n",
       "      <td>1444.111485</td>\n",
       "    </tr>\n",
       "    <tr>\n",
       "      <th>14</th>\n",
       "      <td>2015-01-02 13:00:00</td>\n",
       "      <td>t+1</td>\n",
       "      <td>1417.614549</td>\n",
       "      <td>1424.237078</td>\n",
       "    </tr>\n",
       "    <tr>\n",
       "      <th>15</th>\n",
       "      <td>2015-01-02 14:00:00</td>\n",
       "      <td>t+1</td>\n",
       "      <td>1394.971004</td>\n",
       "      <td>1409.977854</td>\n",
       "    </tr>\n",
       "    <tr>\n",
       "      <th>16</th>\n",
       "      <td>2015-01-02 15:00:00</td>\n",
       "      <td>t+1</td>\n",
       "      <td>1378.190104</td>\n",
       "      <td>1398.627010</td>\n",
       "    </tr>\n",
       "    <tr>\n",
       "      <th>17</th>\n",
       "      <td>2015-01-02 16:00:00</td>\n",
       "      <td>t+1</td>\n",
       "      <td>1379.028289</td>\n",
       "      <td>1399.044967</td>\n",
       "    </tr>\n",
       "    <tr>\n",
       "      <th>18</th>\n",
       "      <td>2015-01-02 17:00:00</td>\n",
       "      <td>t+1</td>\n",
       "      <td>1402.166486</td>\n",
       "      <td>1422.741865</td>\n",
       "    </tr>\n",
       "    <tr>\n",
       "      <th>19</th>\n",
       "      <td>2015-01-02 18:00:00</td>\n",
       "      <td>t+1</td>\n",
       "      <td>1425.495499</td>\n",
       "      <td>1445.855586</td>\n",
       "    </tr>\n",
       "    <tr>\n",
       "      <th>20</th>\n",
       "      <td>2015-01-02 19:00:00</td>\n",
       "      <td>t+1</td>\n",
       "      <td>1398.962123</td>\n",
       "      <td>1425.227810</td>\n",
       "    </tr>\n",
       "    <tr>\n",
       "      <th>21</th>\n",
       "      <td>2015-01-02 20:00:00</td>\n",
       "      <td>t+1</td>\n",
       "      <td>1362.164164</td>\n",
       "      <td>1380.939055</td>\n",
       "    </tr>\n",
       "    <tr>\n",
       "      <th>22</th>\n",
       "      <td>2015-01-02 21:00:00</td>\n",
       "      <td>t+1</td>\n",
       "      <td>1318.819513</td>\n",
       "      <td>1326.497468</td>\n",
       "    </tr>\n",
       "    <tr>\n",
       "      <th>23</th>\n",
       "      <td>2015-01-02 22:00:00</td>\n",
       "      <td>t+1</td>\n",
       "      <td>1262.486307</td>\n",
       "      <td>1252.697549</td>\n",
       "    </tr>\n",
       "    <tr>\n",
       "      <th>24</th>\n",
       "      <td>2015-01-02 23:00:00</td>\n",
       "      <td>t+1</td>\n",
       "      <td>1219.180354</td>\n",
       "      <td>1191.675783</td>\n",
       "    </tr>\n",
       "    <tr>\n",
       "      <th>25</th>\n",
       "      <td>2015-01-03 00:00:00</td>\n",
       "      <td>t+1</td>\n",
       "      <td>1196.925101</td>\n",
       "      <td>1144.769488</td>\n",
       "    </tr>\n",
       "    <tr>\n",
       "      <th>26</th>\n",
       "      <td>2015-01-03 01:00:00</td>\n",
       "      <td>t+1</td>\n",
       "      <td>1190.272768</td>\n",
       "      <td>1118.407313</td>\n",
       "    </tr>\n",
       "    <tr>\n",
       "      <th>27</th>\n",
       "      <td>2015-01-03 02:00:00</td>\n",
       "      <td>t+1</td>\n",
       "      <td>1188.226653</td>\n",
       "      <td>1112.206132</td>\n",
       "    </tr>\n",
       "    <tr>\n",
       "      <th>28</th>\n",
       "      <td>2015-01-03 03:00:00</td>\n",
       "      <td>t+1</td>\n",
       "      <td>1190.617023</td>\n",
       "      <td>1113.386299</td>\n",
       "    </tr>\n",
       "  </tbody>\n",
       "</table>\n",
       "</div>"
      ],
      "text/plain": [
       "             timestamp    h   prediction       actual\n",
       "0  2015-01-01 23:00:00  t+1  1338.967973  1302.901350\n",
       "1  2015-01-02 00:00:00  t+1  1320.540553  1263.011154\n",
       "2  2015-01-02 01:00:00  t+1  1304.271103  1245.239932\n",
       "3  2015-01-02 02:00:00  t+1  1302.918578  1234.033197\n",
       "4  2015-01-02 03:00:00  t+1  1304.207368  1229.086818\n",
       "5  2015-01-02 04:00:00  t+1  1314.316958  1242.632350\n",
       "6  2015-01-02 05:00:00  t+1  1335.590179  1282.871051\n",
       "7  2015-01-02 06:00:00  t+1  1366.861790  1340.572216\n",
       "8  2015-01-02 07:00:00  t+1  1391.501585  1389.619227\n",
       "9  2015-01-02 08:00:00  t+1  1415.470752  1416.992836\n",
       "10 2015-01-02 09:00:00  t+1  1437.498040  1449.563159\n",
       "11 2015-01-02 10:00:00  t+1  1446.911870  1468.041742\n",
       "12 2015-01-02 11:00:00  t+1  1450.018970  1463.250776\n",
       "13 2015-01-02 12:00:00  t+1  1439.003090  1444.111485\n",
       "14 2015-01-02 13:00:00  t+1  1417.614549  1424.237078\n",
       "15 2015-01-02 14:00:00  t+1  1394.971004  1409.977854\n",
       "16 2015-01-02 15:00:00  t+1  1378.190104  1398.627010\n",
       "17 2015-01-02 16:00:00  t+1  1379.028289  1399.044967\n",
       "18 2015-01-02 17:00:00  t+1  1402.166486  1422.741865\n",
       "19 2015-01-02 18:00:00  t+1  1425.495499  1445.855586\n",
       "20 2015-01-02 19:00:00  t+1  1398.962123  1425.227810\n",
       "21 2015-01-02 20:00:00  t+1  1362.164164  1380.939055\n",
       "22 2015-01-02 21:00:00  t+1  1318.819513  1326.497468\n",
       "23 2015-01-02 22:00:00  t+1  1262.486307  1252.697549\n",
       "24 2015-01-02 23:00:00  t+1  1219.180354  1191.675783\n",
       "25 2015-01-03 00:00:00  t+1  1196.925101  1144.769488\n",
       "26 2015-01-03 01:00:00  t+1  1190.272768  1118.407313\n",
       "27 2015-01-03 02:00:00  t+1  1188.226653  1112.206132\n",
       "28 2015-01-03 03:00:00  t+1  1190.617023  1113.386299"
      ]
     },
     "execution_count": 1184,
     "metadata": {},
     "output_type": "execute_result"
    }
   ],
   "source": [
    "eval_df = create_evaluation_df(predictions.reshape(-1,24), test_inputs, HORIZON, y_scaler)\n",
    "eval_df.head(29)"
   ]
  },
  {
   "cell_type": "code",
   "execution_count": 1185,
   "metadata": {},
   "outputs": [
    {
     "data": {
      "text/plain": [
       "h\n",
       "t+1     0.067027\n",
       "t+2     0.068320\n",
       "t+3     0.068509\n",
       "t+4     0.068498\n",
       "t+5     0.068760\n",
       "t+6     0.069136\n",
       "t+7     0.069575\n",
       "t+8     0.069941\n",
       "t+9     0.070182\n",
       "t+10    0.070257\n",
       "t+11    0.070223\n",
       "t+12    0.070129\n",
       "t+13    0.070036\n",
       "t+14    0.070021\n",
       "t+15    0.070085\n",
       "t+16    0.070186\n",
       "t+17    0.070312\n",
       "t+18    0.070463\n",
       "t+19    0.070642\n",
       "t+20    0.070873\n",
       "t+21    0.071147\n",
       "t+22    0.071430\n",
       "t+23    0.071658\n",
       "t+24    0.071828\n",
       "Name: APE, dtype: float64"
      ]
     },
     "execution_count": 1185,
     "metadata": {},
     "output_type": "execute_result"
    }
   ],
   "source": [
    "eval_df['APE'] = (eval_df['prediction'] - eval_df['actual']).abs() / eval_df['actual']\n",
    "df = eval_df.groupby('h')['APE'].mean()\n",
    "df.reindex(['t+1', 't+2', 't+3', 't+4', 't+5', 't+6', 't+7', 't+8', 't+9', 't+10', 't+11', 't+12', 't+13', 't+14', 't+15', 't+16', 't+17', 't+18', 't+19', 't+20', 't+21', 't+22', 't+23', 't+24'])"
   ]
  },
  {
   "cell_type": "code",
   "execution_count": 1186,
   "metadata": {},
   "outputs": [
    {
     "data": {
      "text/plain": [
       "0.06996815887512287"
      ]
     },
     "execution_count": 1186,
     "metadata": {},
     "output_type": "execute_result"
    }
   ],
   "source": [
    "mape(eval_df['prediction'], eval_df['actual'])"
   ]
  },
  {
   "cell_type": "code",
   "execution_count": 1175,
   "metadata": {},
   "outputs": [],
   "source": [
    "MAX_EPOCHS = 100\n",
    "BATCHSIZE = 32\n",
    "patience = 100\n",
    "\n",
    "ConditionalRNN = Sequential(layers=[ConditionalRNN(32, cell='LSTM', return_sequences=True),\n",
    "                                    Dense(1)])"
   ]
  },
  {
   "cell_type": "code",
   "execution_count": 1176,
   "metadata": {},
   "outputs": [],
   "source": [
    "ConditionalRNN.compile(optimizer=tf.optimizers.Adam(), loss='mse', metrics=[tf.metrics.MeanSquaredError()])"
   ]
  },
  {
   "cell_type": "code",
   "execution_count": 985,
   "metadata": {},
   "outputs": [
    {
     "ename": "ValueError",
     "evalue": "This model has not yet been built. Build the model first by calling `build()` or calling `fit()` with some data, or specify an `input_shape` argument in the first layer(s) for automatic build.",
     "output_type": "error",
     "traceback": [
      "\u001b[0;31m---------------------------------------------------------------------------\u001b[0m",
      "\u001b[0;31mValueError\u001b[0m                                Traceback (most recent call last)",
      "\u001b[0;32m<ipython-input-985-2ba3275328eb>\u001b[0m in \u001b[0;36m<module>\u001b[0;34m\u001b[0m\n\u001b[0;32m----> 1\u001b[0;31m \u001b[0mConditionalRNN\u001b[0m\u001b[0;34m.\u001b[0m\u001b[0msummary\u001b[0m\u001b[0;34m(\u001b[0m\u001b[0;34m)\u001b[0m\u001b[0;34m\u001b[0m\u001b[0;34m\u001b[0m\u001b[0m\n\u001b[0m",
      "\u001b[0;32m~/anaconda3/envs/evgeny/lib/python3.8/site-packages/tensorflow/python/keras/engine/training.py\u001b[0m in \u001b[0;36msummary\u001b[0;34m(self, line_length, positions, print_fn)\u001b[0m\n\u001b[1;32m   2349\u001b[0m     \"\"\"\n\u001b[1;32m   2350\u001b[0m     \u001b[0;32mif\u001b[0m \u001b[0;32mnot\u001b[0m \u001b[0mself\u001b[0m\u001b[0;34m.\u001b[0m\u001b[0mbuilt\u001b[0m\u001b[0;34m:\u001b[0m\u001b[0;34m\u001b[0m\u001b[0;34m\u001b[0m\u001b[0m\n\u001b[0;32m-> 2351\u001b[0;31m       raise ValueError('This model has not yet been built. '\n\u001b[0m\u001b[1;32m   2352\u001b[0m                        \u001b[0;34m'Build the model first by calling `build()` or calling '\u001b[0m\u001b[0;34m\u001b[0m\u001b[0;34m\u001b[0m\u001b[0m\n\u001b[1;32m   2353\u001b[0m                        \u001b[0;34m'`fit()` with some data, or specify '\u001b[0m\u001b[0;34m\u001b[0m\u001b[0;34m\u001b[0m\u001b[0m\n",
      "\u001b[0;31mValueError\u001b[0m: This model has not yet been built. Build the model first by calling `build()` or calling `fit()` with some data, or specify an `input_shape` argument in the first layer(s) for automatic build."
     ]
    }
   ],
   "source": [
    "ConditionalRNN.summary()"
   ]
  },
  {
   "cell_type": "code",
   "execution_count": 1177,
   "metadata": {},
   "outputs": [
    {
     "name": "stdout",
     "output_type": "stream",
     "text": [
      "Epoch 1/100\n",
      "WARNING:tensorflow:Layers in a Sequential model should only have a single input tensor, but we receive a <class 'tuple'> input: (<tf.Tensor 'IteratorGetNext:0' shape=(None, 24, 6) dtype=float64>, <tf.Tensor 'IteratorGetNext:1' shape=(None, 8) dtype=float64>, <tf.Tensor 'IteratorGetNext:2' shape=(None, 2) dtype=float64>)\n",
      "Consider rewriting this model with the Functional API.\n",
      "WARNING:tensorflow:Layers in a Sequential model should only have a single input tensor, but we receive a <class 'tuple'> input: (<tf.Tensor 'IteratorGetNext:0' shape=(None, 24, 6) dtype=float64>, <tf.Tensor 'IteratorGetNext:1' shape=(None, 8) dtype=float64>, <tf.Tensor 'IteratorGetNext:2' shape=(None, 2) dtype=float64>)\n",
      "Consider rewriting this model with the Functional API.\n",
      "689/690 [============================>.] - ETA: 0s - loss: 0.0114 - mean_squared_error: 0.0114WARNING:tensorflow:Layers in a Sequential model should only have a single input tensor, but we receive a <class 'tuple'> input: (<tf.Tensor 'IteratorGetNext:0' shape=(None, 24, 6) dtype=float64>, <tf.Tensor 'IteratorGetNext:1' shape=(None, 8) dtype=float64>, <tf.Tensor 'IteratorGetNext:2' shape=(None, 2) dtype=float64>)\n",
      "Consider rewriting this model with the Functional API.\n",
      "690/690 [==============================] - 12s 17ms/step - loss: 0.0114 - mean_squared_error: 0.0114 - val_loss: 0.0071 - val_mean_squared_error: 0.0071\n",
      "Epoch 2/100\n",
      "690/690 [==============================] - 12s 17ms/step - loss: 0.0064 - mean_squared_error: 0.0064 - val_loss: 0.0066 - val_mean_squared_error: 0.0066\n",
      "Epoch 3/100\n",
      "690/690 [==============================] - 11s 16ms/step - loss: 0.0061 - mean_squared_error: 0.0061 - val_loss: 0.0060 - val_mean_squared_error: 0.0060\n",
      "Epoch 4/100\n",
      "690/690 [==============================] - 10s 15ms/step - loss: 0.0060 - mean_squared_error: 0.0060 - val_loss: 0.0059 - val_mean_squared_error: 0.0059\n",
      "Epoch 5/100\n",
      "690/690 [==============================] - 11s 17ms/step - loss: 0.0059 - mean_squared_error: 0.0059 - val_loss: 0.0058 - val_mean_squared_error: 0.0058\n",
      "Epoch 6/100\n",
      "690/690 [==============================] - 11s 17ms/step - loss: 0.0057 - mean_squared_error: 0.0057 - val_loss: 0.0059 - val_mean_squared_error: 0.0059\n",
      "Epoch 7/100\n",
      "690/690 [==============================] - 11s 17ms/step - loss: 0.0057 - mean_squared_error: 0.0057 - val_loss: 0.0058 - val_mean_squared_error: 0.0058\n",
      "Epoch 8/100\n",
      "690/690 [==============================] - 12s 17ms/step - loss: 0.0056 - mean_squared_error: 0.0056 - val_loss: 0.0060 - val_mean_squared_error: 0.0060\n",
      "Epoch 9/100\n",
      "690/690 [==============================] - 11s 16ms/step - loss: 0.0056 - mean_squared_error: 0.0056 - val_loss: 0.0055 - val_mean_squared_error: 0.0055\n",
      "Epoch 10/100\n",
      "690/690 [==============================] - 11s 16ms/step - loss: 0.0055 - mean_squared_error: 0.0055 - val_loss: 0.0063 - val_mean_squared_error: 0.0063\n",
      "Epoch 11/100\n",
      "690/690 [==============================] - 11s 15ms/step - loss: 0.0055 - mean_squared_error: 0.0055 - val_loss: 0.0057 - val_mean_squared_error: 0.0057\n",
      "Epoch 12/100\n",
      "690/690 [==============================] - 9s 13ms/step - loss: 0.0055 - mean_squared_error: 0.0055 - val_loss: 0.0058 - val_mean_squared_error: 0.0058\n",
      "Epoch 13/100\n",
      "690/690 [==============================] - 9s 13ms/step - loss: 0.0054 - mean_squared_error: 0.0054 - val_loss: 0.0057 - val_mean_squared_error: 0.0057\n",
      "Epoch 14/100\n",
      "690/690 [==============================] - 9s 13ms/step - loss: 0.0054 - mean_squared_error: 0.0054 - val_loss: 0.0058 - val_mean_squared_error: 0.0058\n",
      "Epoch 15/100\n",
      "690/690 [==============================] - 9s 13ms/step - loss: 0.0054 - mean_squared_error: 0.0054 - val_loss: 0.0056 - val_mean_squared_error: 0.0056\n",
      "Epoch 16/100\n",
      "690/690 [==============================] - 9s 13ms/step - loss: 0.0053 - mean_squared_error: 0.0053 - val_loss: 0.0056 - val_mean_squared_error: 0.0056\n",
      "Epoch 17/100\n",
      "690/690 [==============================] - 9s 13ms/step - loss: 0.0052 - mean_squared_error: 0.0052 - val_loss: 0.0061 - val_mean_squared_error: 0.0061\n",
      "Epoch 18/100\n",
      "690/690 [==============================] - 9s 13ms/step - loss: 0.0052 - mean_squared_error: 0.0052 - val_loss: 0.0058 - val_mean_squared_error: 0.0058\n",
      "Epoch 19/100\n",
      "690/690 [==============================] - 9s 13ms/step - loss: 0.0051 - mean_squared_error: 0.0051 - val_loss: 0.0057 - val_mean_squared_error: 0.0057\n",
      "Epoch 20/100\n",
      "690/690 [==============================] - 11s 15ms/step - loss: 0.0051 - mean_squared_error: 0.0051 - val_loss: 0.0061 - val_mean_squared_error: 0.0061\n",
      "Epoch 21/100\n",
      "690/690 [==============================] - 10s 14ms/step - loss: 0.0051 - mean_squared_error: 0.0051 - val_loss: 0.0057 - val_mean_squared_error: 0.0057\n",
      "Epoch 22/100\n",
      "690/690 [==============================] - 9s 14ms/step - loss: 0.0050 - mean_squared_error: 0.0050 - val_loss: 0.0060 - val_mean_squared_error: 0.0060\n",
      "Epoch 23/100\n",
      "690/690 [==============================] - 12s 17ms/step - loss: 0.0050 - mean_squared_error: 0.0050 - val_loss: 0.0060 - val_mean_squared_error: 0.0060\n",
      "Epoch 24/100\n",
      "690/690 [==============================] - 12s 17ms/step - loss: 0.0049 - mean_squared_error: 0.0049 - val_loss: 0.0057 - val_mean_squared_error: 0.0057\n",
      "Epoch 25/100\n",
      "690/690 [==============================] - 12s 17ms/step - loss: 0.0049 - mean_squared_error: 0.0049 - val_loss: 0.0059 - val_mean_squared_error: 0.0059\n",
      "Epoch 26/100\n",
      "690/690 [==============================] - 12s 17ms/step - loss: 0.0048 - mean_squared_error: 0.0048 - val_loss: 0.0058 - val_mean_squared_error: 0.0058\n",
      "Epoch 27/100\n",
      "690/690 [==============================] - 11s 15ms/step - loss: 0.0048 - mean_squared_error: 0.0048 - val_loss: 0.0059 - val_mean_squared_error: 0.0059\n",
      "Epoch 28/100\n",
      "690/690 [==============================] - 9s 13ms/step - loss: 0.0047 - mean_squared_error: 0.0047 - val_loss: 0.0055 - val_mean_squared_error: 0.0055\n",
      "Epoch 29/100\n",
      "690/690 [==============================] - 9s 13ms/step - loss: 0.0047 - mean_squared_error: 0.0047 - val_loss: 0.0056 - val_mean_squared_error: 0.0056\n",
      "Epoch 30/100\n",
      "690/690 [==============================] - 10s 15ms/step - loss: 0.0047 - mean_squared_error: 0.0047 - val_loss: 0.0067 - val_mean_squared_error: 0.0067\n",
      "Epoch 31/100\n",
      "690/690 [==============================] - 9s 13ms/step - loss: 0.0046 - mean_squared_error: 0.0046 - val_loss: 0.0058 - val_mean_squared_error: 0.0058\n",
      "Epoch 32/100\n",
      "690/690 [==============================] - 9s 13ms/step - loss: 0.0046 - mean_squared_error: 0.0046 - val_loss: 0.0059 - val_mean_squared_error: 0.0059\n",
      "Epoch 33/100\n",
      "690/690 [==============================] - 9s 13ms/step - loss: 0.0046 - mean_squared_error: 0.0046 - val_loss: 0.0061 - val_mean_squared_error: 0.0061\n",
      "Epoch 34/100\n",
      "690/690 [==============================] - 9s 13ms/step - loss: 0.0045 - mean_squared_error: 0.0045 - val_loss: 0.0061 - val_mean_squared_error: 0.0061\n",
      "Epoch 35/100\n",
      "690/690 [==============================] - 9s 13ms/step - loss: 0.0045 - mean_squared_error: 0.0045 - val_loss: 0.0058 - val_mean_squared_error: 0.0058\n",
      "Epoch 36/100\n",
      "690/690 [==============================] - 9s 13ms/step - loss: 0.0045 - mean_squared_error: 0.0045 - val_loss: 0.0062 - val_mean_squared_error: 0.0062\n",
      "Epoch 37/100\n",
      "690/690 [==============================] - 9s 13ms/step - loss: 0.0044 - mean_squared_error: 0.0044 - val_loss: 0.0062 - val_mean_squared_error: 0.0062\n",
      "Epoch 38/100\n",
      "690/690 [==============================] - 9s 13ms/step - loss: 0.0044 - mean_squared_error: 0.0044 - val_loss: 0.0059 - val_mean_squared_error: 0.0059\n",
      "Epoch 39/100\n",
      "690/690 [==============================] - 9s 13ms/step - loss: 0.0044 - mean_squared_error: 0.0044 - val_loss: 0.0058 - val_mean_squared_error: 0.0058\n",
      "Epoch 40/100\n",
      "690/690 [==============================] - 9s 13ms/step - loss: 0.0043 - mean_squared_error: 0.0043 - val_loss: 0.0059 - val_mean_squared_error: 0.0059\n",
      "Epoch 41/100\n",
      "690/690 [==============================] - 9s 13ms/step - loss: 0.0043 - mean_squared_error: 0.0043 - val_loss: 0.0066 - val_mean_squared_error: 0.0066\n",
      "Epoch 42/100\n",
      "690/690 [==============================] - 9s 13ms/step - loss: 0.0043 - mean_squared_error: 0.0043 - val_loss: 0.0058 - val_mean_squared_error: 0.0058\n",
      "Epoch 43/100\n"
     ]
    },
    {
     "name": "stdout",
     "output_type": "stream",
     "text": [
      "690/690 [==============================] - 9s 13ms/step - loss: 0.0042 - mean_squared_error: 0.0042 - val_loss: 0.0062 - val_mean_squared_error: 0.0062\n",
      "Epoch 44/100\n",
      "690/690 [==============================] - 11s 17ms/step - loss: 0.0042 - mean_squared_error: 0.0042 - val_loss: 0.0068 - val_mean_squared_error: 0.0068\n",
      "Epoch 45/100\n",
      "690/690 [==============================] - 11s 16ms/step - loss: 0.0042 - mean_squared_error: 0.0042 - val_loss: 0.0059 - val_mean_squared_error: 0.0059\n",
      "Epoch 46/100\n",
      "690/690 [==============================] - 11s 16ms/step - loss: 0.0042 - mean_squared_error: 0.0042 - val_loss: 0.0061 - val_mean_squared_error: 0.0061\n",
      "Epoch 47/100\n",
      "690/690 [==============================] - 10s 15ms/step - loss: 0.0041 - mean_squared_error: 0.0041 - val_loss: 0.0062 - val_mean_squared_error: 0.0062\n",
      "Epoch 48/100\n",
      "690/690 [==============================] - 11s 16ms/step - loss: 0.0041 - mean_squared_error: 0.0041 - val_loss: 0.0059 - val_mean_squared_error: 0.0059\n",
      "Epoch 49/100\n",
      "690/690 [==============================] - 11s 16ms/step - loss: 0.0041 - mean_squared_error: 0.0041 - val_loss: 0.0062 - val_mean_squared_error: 0.0062\n",
      "Epoch 50/100\n",
      "690/690 [==============================] - 11s 16ms/step - loss: 0.0041 - mean_squared_error: 0.0041 - val_loss: 0.0061 - val_mean_squared_error: 0.0061\n",
      "Epoch 51/100\n",
      "690/690 [==============================] - 10s 15ms/step - loss: 0.0041 - mean_squared_error: 0.0041 - val_loss: 0.0062 - val_mean_squared_error: 0.0062\n",
      "Epoch 52/100\n",
      "690/690 [==============================] - 9s 14ms/step - loss: 0.0041 - mean_squared_error: 0.0041 - val_loss: 0.0059 - val_mean_squared_error: 0.0059\n",
      "Epoch 53/100\n",
      "690/690 [==============================] - 9s 13ms/step - loss: 0.0041 - mean_squared_error: 0.0041 - val_loss: 0.0061 - val_mean_squared_error: 0.0061\n",
      "Epoch 54/100\n",
      "690/690 [==============================] - 9s 13ms/step - loss: 0.0040 - mean_squared_error: 0.0040 - val_loss: 0.0064 - val_mean_squared_error: 0.0064\n",
      "Epoch 55/100\n",
      "690/690 [==============================] - 9s 13ms/step - loss: 0.0040 - mean_squared_error: 0.0040 - val_loss: 0.0062 - val_mean_squared_error: 0.0062\n",
      "Epoch 56/100\n",
      "690/690 [==============================] - 9s 13ms/step - loss: 0.0040 - mean_squared_error: 0.0040 - val_loss: 0.0063 - val_mean_squared_error: 0.0063\n",
      "Epoch 57/100\n",
      "690/690 [==============================] - 9s 13ms/step - loss: 0.0039 - mean_squared_error: 0.0039 - val_loss: 0.0065 - val_mean_squared_error: 0.0065\n",
      "Epoch 58/100\n",
      "690/690 [==============================] - 9s 13ms/step - loss: 0.0039 - mean_squared_error: 0.0039 - val_loss: 0.0066 - val_mean_squared_error: 0.0066\n",
      "Epoch 59/100\n",
      "690/690 [==============================] - 10s 14ms/step - loss: 0.0038 - mean_squared_error: 0.0038 - val_loss: 0.0065 - val_mean_squared_error: 0.0065\n",
      "Epoch 60/100\n",
      "690/690 [==============================] - 9s 13ms/step - loss: 0.0039 - mean_squared_error: 0.0039 - val_loss: 0.0059 - val_mean_squared_error: 0.0059\n",
      "Epoch 61/100\n",
      "690/690 [==============================] - 9s 13ms/step - loss: 0.0039 - mean_squared_error: 0.0039 - val_loss: 0.0063 - val_mean_squared_error: 0.0063\n",
      "Epoch 62/100\n",
      "690/690 [==============================] - 9s 13ms/step - loss: 0.0039 - mean_squared_error: 0.0039 - val_loss: 0.0060 - val_mean_squared_error: 0.0060\n",
      "Epoch 63/100\n",
      "690/690 [==============================] - 9s 13ms/step - loss: 0.0038 - mean_squared_error: 0.0038 - val_loss: 0.0061 - val_mean_squared_error: 0.0061\n",
      "Epoch 64/100\n",
      "690/690 [==============================] - 9s 13ms/step - loss: 0.0038 - mean_squared_error: 0.0038 - val_loss: 0.0061 - val_mean_squared_error: 0.0061\n",
      "Epoch 65/100\n",
      "690/690 [==============================] - 9s 13ms/step - loss: 0.0038 - mean_squared_error: 0.0038 - val_loss: 0.0060 - val_mean_squared_error: 0.0060\n",
      "Epoch 66/100\n",
      "690/690 [==============================] - 10s 14ms/step - loss: 0.0038 - mean_squared_error: 0.0038 - val_loss: 0.0064 - val_mean_squared_error: 0.0064\n",
      "Epoch 67/100\n",
      "690/690 [==============================] - 9s 14ms/step - loss: 0.0038 - mean_squared_error: 0.0038 - val_loss: 0.0064 - val_mean_squared_error: 0.0064\n",
      "Epoch 68/100\n",
      "690/690 [==============================] - 9s 13ms/step - loss: 0.0038 - mean_squared_error: 0.0038 - val_loss: 0.0061 - val_mean_squared_error: 0.0061\n",
      "Epoch 69/100\n",
      "690/690 [==============================] - 9s 13ms/step - loss: 0.0037 - mean_squared_error: 0.0037 - val_loss: 0.0062 - val_mean_squared_error: 0.0062\n",
      "Epoch 70/100\n",
      "690/690 [==============================] - 9s 13ms/step - loss: 0.0037 - mean_squared_error: 0.0037 - val_loss: 0.0061 - val_mean_squared_error: 0.0061\n",
      "Epoch 71/100\n",
      "690/690 [==============================] - 9s 13ms/step - loss: 0.0038 - mean_squared_error: 0.0038 - val_loss: 0.0062 - val_mean_squared_error: 0.0062\n",
      "Epoch 72/100\n",
      "690/690 [==============================] - 9s 13ms/step - loss: 0.0037 - mean_squared_error: 0.0037 - val_loss: 0.0064 - val_mean_squared_error: 0.0064\n",
      "Epoch 73/100\n",
      "690/690 [==============================] - 9s 13ms/step - loss: 0.0037 - mean_squared_error: 0.0037 - val_loss: 0.0063 - val_mean_squared_error: 0.0063\n",
      "Epoch 74/100\n",
      "690/690 [==============================] - 9s 13ms/step - loss: 0.0037 - mean_squared_error: 0.0037 - val_loss: 0.0060 - val_mean_squared_error: 0.0060\n",
      "Epoch 75/100\n",
      "690/690 [==============================] - 9s 13ms/step - loss: 0.0036 - mean_squared_error: 0.0036 - val_loss: 0.0062 - val_mean_squared_error: 0.0062\n",
      "Epoch 76/100\n",
      "690/690 [==============================] - 9s 13ms/step - loss: 0.0036 - mean_squared_error: 0.0036 - val_loss: 0.0062 - val_mean_squared_error: 0.0062\n",
      "Epoch 77/100\n",
      "690/690 [==============================] - 9s 13ms/step - loss: 0.0036 - mean_squared_error: 0.0036 - val_loss: 0.0063 - val_mean_squared_error: 0.0063\n",
      "Epoch 78/100\n",
      "690/690 [==============================] - 9s 13ms/step - loss: 0.0036 - mean_squared_error: 0.0036 - val_loss: 0.0067 - val_mean_squared_error: 0.0067\n",
      "Epoch 79/100\n",
      "690/690 [==============================] - 9s 13ms/step - loss: 0.0036 - mean_squared_error: 0.0036 - val_loss: 0.0066 - val_mean_squared_error: 0.0066\n",
      "Epoch 80/100\n",
      "690/690 [==============================] - 9s 13ms/step - loss: 0.0036 - mean_squared_error: 0.0036 - val_loss: 0.0064 - val_mean_squared_error: 0.0064\n",
      "Epoch 81/100\n",
      "690/690 [==============================] - 9s 13ms/step - loss: 0.0036 - mean_squared_error: 0.0036 - val_loss: 0.0065 - val_mean_squared_error: 0.0065\n",
      "Epoch 82/100\n",
      "690/690 [==============================] - 9s 13ms/step - loss: 0.0036 - mean_squared_error: 0.0036 - val_loss: 0.0066 - val_mean_squared_error: 0.0066\n",
      "Epoch 83/100\n",
      "690/690 [==============================] - 9s 13ms/step - loss: 0.0036 - mean_squared_error: 0.0036 - val_loss: 0.0064 - val_mean_squared_error: 0.0064\n",
      "Epoch 84/100\n",
      "690/690 [==============================] - 9s 13ms/step - loss: 0.0035 - mean_squared_error: 0.0035 - val_loss: 0.0063 - val_mean_squared_error: 0.0063\n",
      "Epoch 85/100\n",
      "690/690 [==============================] - 9s 13ms/step - loss: 0.0035 - mean_squared_error: 0.0035 - val_loss: 0.0065 - val_mean_squared_error: 0.0065\n",
      "Epoch 86/100\n",
      "690/690 [==============================] - 9s 13ms/step - loss: 0.0035 - mean_squared_error: 0.0035 - val_loss: 0.0063 - val_mean_squared_error: 0.0063\n",
      "Epoch 87/100\n",
      "690/690 [==============================] - 10s 15ms/step - loss: 0.0035 - mean_squared_error: 0.0035 - val_loss: 0.0061 - val_mean_squared_error: 0.0061\n",
      "Epoch 88/100\n",
      "690/690 [==============================] - 11s 16ms/step - loss: 0.0035 - mean_squared_error: 0.0035 - val_loss: 0.0064 - val_mean_squared_error: 0.0064\n",
      "Epoch 89/100\n",
      "690/690 [==============================] - 11s 16ms/step - loss: 0.0035 - mean_squared_error: 0.0035 - val_loss: 0.0062 - val_mean_squared_error: 0.0062\n",
      "Epoch 90/100\n",
      "690/690 [==============================] - 11s 16ms/step - loss: 0.0036 - mean_squared_error: 0.0036 - val_loss: 0.0067 - val_mean_squared_error: 0.0067\n",
      "Epoch 91/100\n",
      "690/690 [==============================] - 11s 16ms/step - loss: 0.0035 - mean_squared_error: 0.0035 - val_loss: 0.0063 - val_mean_squared_error: 0.0063\n",
      "Epoch 92/100\n"
     ]
    },
    {
     "name": "stdout",
     "output_type": "stream",
     "text": [
      "690/690 [==============================] - 11s 16ms/step - loss: 0.0034 - mean_squared_error: 0.0034 - val_loss: 0.0065 - val_mean_squared_error: 0.0065\n",
      "Epoch 93/100\n",
      "690/690 [==============================] - 11s 17ms/step - loss: 0.0034 - mean_squared_error: 0.0034 - val_loss: 0.0061 - val_mean_squared_error: 0.0061\n",
      "Epoch 94/100\n",
      "690/690 [==============================] - 12s 17ms/step - loss: 0.0035 - mean_squared_error: 0.0035 - val_loss: 0.0062 - val_mean_squared_error: 0.0062\n",
      "Epoch 95/100\n",
      "690/690 [==============================] - 11s 16ms/step - loss: 0.0034 - mean_squared_error: 0.0034 - val_loss: 0.0065 - val_mean_squared_error: 0.0065\n",
      "Epoch 96/100\n",
      "690/690 [==============================] - 11s 16ms/step - loss: 0.0034 - mean_squared_error: 0.0034 - val_loss: 0.0063 - val_mean_squared_error: 0.0063\n",
      "Epoch 97/100\n",
      "690/690 [==============================] - 11s 16ms/step - loss: 0.0035 - mean_squared_error: 0.0035 - val_loss: 0.0064 - val_mean_squared_error: 0.0064\n",
      "Epoch 98/100\n",
      "690/690 [==============================] - 11s 17ms/step - loss: 0.0034 - mean_squared_error: 0.0034 - val_loss: 0.0062 - val_mean_squared_error: 0.0062\n",
      "Epoch 99/100\n",
      "690/690 [==============================] - 12s 17ms/step - loss: 0.0033 - mean_squared_error: 0.0033 - val_loss: 0.0062 - val_mean_squared_error: 0.0062\n",
      "Epoch 100/100\n",
      "690/690 [==============================] - 10s 14ms/step - loss: 0.0033 - mean_squared_error: 0.0033 - val_loss: 0.0065 - val_mean_squared_error: 0.0065\n"
     ]
    }
   ],
   "source": [
    "early_stopping = tf.keras.callbacks.EarlyStopping(monitor='val_loss', patience=patience, mode='min')\n",
    "tf.keras.backend.set_floatx('float64')\n",
    "history = ConditionalRNN.fit([train_inputs['X'],train_c1,train_c2], train_inputs['target'].reshape(-1,24,1), batch_size=32, epochs=MAX_EPOCHS,\n",
    "                  validation_split=0.15,\n",
    "                  callbacks=[early_stopping], verbose=1)"
   ]
  },
  {
   "cell_type": "code",
   "execution_count": 1178,
   "metadata": {},
   "outputs": [
    {
     "data": {
      "image/png": "[encoded data removed]",
      "text/plain": [
       "<Figure size 576x432 with 1 Axes>"
      ]
     },
     "metadata": {
      "needs_background": "light"
     },
     "output_type": "display_data"
    }
   ],
   "source": [
    "plot_train_history(ConditionalRNN)"
   ]
  },
  {
   "cell_type": "code",
   "execution_count": 741,
   "metadata": {},
   "outputs": [
    {
     "data": {
      "text/html": [
       "<div>\n",
       "<style scoped>\n",
       "    .dataframe tbody tr th:only-of-type {\n",
       "        vertical-align: middle;\n",
       "    }\n",
       "\n",
       "    .dataframe tbody tr th {\n",
       "        vertical-align: top;\n",
       "    }\n",
       "\n",
       "    .dataframe thead th {\n",
       "        text-align: right;\n",
       "    }\n",
       "</style>\n",
       "<table border=\"1\" class=\"dataframe\">\n",
       "  <thead>\n",
       "    <tr style=\"text-align: right;\">\n",
       "      <th></th>\n",
       "      <th>value(t-24)</th>\n",
       "      <th>value(t-168)</th>\n",
       "    </tr>\n",
       "  </thead>\n",
       "  <tbody>\n",
       "    <tr>\n",
       "      <th>2012-01-09 00:00:00</th>\n",
       "      <td>0.242102</td>\n",
       "      <td>0.310261</td>\n",
       "    </tr>\n",
       "    <tr>\n",
       "      <th>2012-01-09 01:00:00</th>\n",
       "      <td>0.222242</td>\n",
       "      <td>0.297814</td>\n",
       "    </tr>\n",
       "  </tbody>\n",
       "</table>\n",
       "</div>"
      ],
      "text/plain": [
       "                     value(t-24)  value(t-168)\n",
       "2012-01-09 00:00:00     0.242102      0.310261\n",
       "2012-01-09 01:00:00     0.222242      0.297814"
      ]
     },
     "execution_count": 741,
     "metadata": {},
     "output_type": "execute_result"
    }
   ],
   "source": [
    "train_c2.iloc[24:26]"
   ]
  },
  {
   "cell_type": "code",
   "execution_count": 742,
   "metadata": {},
   "outputs": [
    {
     "data": {
      "text/html": [
       "<div>\n",
       "<style scoped>\n",
       "    .dataframe tbody tr th:only-of-type {\n",
       "        vertical-align: middle;\n",
       "    }\n",
       "\n",
       "    .dataframe tbody tr th {\n",
       "        vertical-align: top;\n",
       "    }\n",
       "\n",
       "    .dataframe thead tr th {\n",
       "        text-align: left;\n",
       "    }\n",
       "</style>\n",
       "<table border=\"1\" class=\"dataframe\">\n",
       "  <thead>\n",
       "    <tr>\n",
       "      <th>feature</th>\n",
       "      <th colspan=\"21\" halign=\"left\">y</th>\n",
       "    </tr>\n",
       "    <tr>\n",
       "      <th>time step</th>\n",
       "      <th>t+1</th>\n",
       "      <th>t+2</th>\n",
       "      <th>t+3</th>\n",
       "      <th>t+4</th>\n",
       "      <th>t+5</th>\n",
       "      <th>t+6</th>\n",
       "      <th>t+7</th>\n",
       "      <th>t+8</th>\n",
       "      <th>t+9</th>\n",
       "      <th>t+10</th>\n",
       "      <th>...</th>\n",
       "      <th>t+15</th>\n",
       "      <th>t+16</th>\n",
       "      <th>t+17</th>\n",
       "      <th>t+18</th>\n",
       "      <th>t+19</th>\n",
       "      <th>t+20</th>\n",
       "      <th>t+21</th>\n",
       "      <th>t+22</th>\n",
       "      <th>t+23</th>\n",
       "      <th>t+24</th>\n",
       "    </tr>\n",
       "  </thead>\n",
       "  <tbody>\n",
       "    <tr>\n",
       "      <th>2012-01-08 00:00:00</th>\n",
       "      <td>0.222242</td>\n",
       "      <td>0.212580</td>\n",
       "      <td>0.213599</td>\n",
       "      <td>0.224284</td>\n",
       "      <td>0.236913</td>\n",
       "      <td>0.262734</td>\n",
       "      <td>0.295024</td>\n",
       "      <td>0.333978</td>\n",
       "      <td>0.361023</td>\n",
       "      <td>0.361988</td>\n",
       "      <td>...</td>\n",
       "      <td>0.273947</td>\n",
       "      <td>0.266290</td>\n",
       "      <td>0.270527</td>\n",
       "      <td>0.300126</td>\n",
       "      <td>0.348581</td>\n",
       "      <td>0.351598</td>\n",
       "      <td>0.340260</td>\n",
       "      <td>0.313293</td>\n",
       "      <td>0.271941</td>\n",
       "      <td>0.227715</td>\n",
       "    </tr>\n",
       "    <tr>\n",
       "      <th>2012-01-08 01:00:00</th>\n",
       "      <td>0.212580</td>\n",
       "      <td>0.213599</td>\n",
       "      <td>0.224284</td>\n",
       "      <td>0.236913</td>\n",
       "      <td>0.262734</td>\n",
       "      <td>0.295024</td>\n",
       "      <td>0.333978</td>\n",
       "      <td>0.361023</td>\n",
       "      <td>0.361988</td>\n",
       "      <td>0.341180</td>\n",
       "      <td>...</td>\n",
       "      <td>0.266290</td>\n",
       "      <td>0.270527</td>\n",
       "      <td>0.300126</td>\n",
       "      <td>0.348581</td>\n",
       "      <td>0.351598</td>\n",
       "      <td>0.340260</td>\n",
       "      <td>0.313293</td>\n",
       "      <td>0.271941</td>\n",
       "      <td>0.227715</td>\n",
       "      <td>0.206421</td>\n",
       "    </tr>\n",
       "  </tbody>\n",
       "</table>\n",
       "<p>2 rows × 24 columns</p>\n",
       "</div>"
      ],
      "text/plain": [
       "feature                     y                                          \\\n",
       "time step                 t+1       t+2       t+3       t+4       t+5   \n",
       "2012-01-08 00:00:00  0.222242  0.212580  0.213599  0.224284  0.236913   \n",
       "2012-01-08 01:00:00  0.212580  0.213599  0.224284  0.236913  0.262734   \n",
       "\n",
       "feature                                                                ...  \\\n",
       "time step                 t+6       t+7       t+8       t+9      t+10  ...   \n",
       "2012-01-08 00:00:00  0.262734  0.295024  0.333978  0.361023  0.361988  ...   \n",
       "2012-01-08 01:00:00  0.295024  0.333978  0.361023  0.361988  0.341180  ...   \n",
       "\n",
       "feature                                                                \\\n",
       "time step                t+15      t+16      t+17      t+18      t+19   \n",
       "2012-01-08 00:00:00  0.273947  0.266290  0.270527  0.300126  0.348581   \n",
       "2012-01-08 01:00:00  0.266290  0.270527  0.300126  0.348581  0.351598   \n",
       "\n",
       "feature                                                                \n",
       "time step                t+20      t+21      t+22      t+23      t+24  \n",
       "2012-01-08 00:00:00  0.351598  0.340260  0.313293  0.271941  0.227715  \n",
       "2012-01-08 01:00:00  0.340260  0.313293  0.271941  0.227715  0.206421  \n",
       "\n",
       "[2 rows x 24 columns]"
      ]
     },
     "execution_count": 742,
     "metadata": {},
     "output_type": "execute_result"
    }
   ],
   "source": [
    "train_inputs.dataframe.head(2)['target']"
   ]
  },
  {
   "cell_type": "code",
   "execution_count": 428,
   "metadata": {},
   "outputs": [],
   "source": [
    "df2 = df.merge(series_to_supervised(df), how='right', left_index=True, right_index=True)"
   ]
  },
  {
   "cell_type": "code",
   "execution_count": 46,
   "metadata": {},
   "outputs": [
    {
     "data": {
      "text/plain": [
       "Total window size: 48\n",
       "Input indices: [ 0  1  2  3  4  5  6  7  8  9 10 11 12 13 14 15 16 17 18 19 20 21 22 23]\n",
       "Label indices: [24 25 26 27 28 29 30 31 32 33 34 35 36 37 38 39 40 41 42 43 44 45 46 47]\n",
       "Label column name(s): ['value']"
      ]
     },
     "execution_count": 46,
     "metadata": {},
     "output_type": "execute_result"
    }
   ],
   "source": [
    "w2 = WindowGenerator(input_width=24, label_width=24, shift=24, train_df=train_df_short, test_df=test_df_short,\n",
    "                     label_columns=['value'])\n",
    "w2"
   ]
  },
  {
   "cell_type": "code",
   "execution_count": 51,
   "metadata": {},
   "outputs": [],
   "source": [
    "# Stack three slices, the length of the total window:\n",
    "example_window = tf.stack([np.array(train_df[:w2.total_window_size]),\n",
    "                           np.array(train_df[100:100+w2.total_window_size]),\n",
    "                           np.array(train_df[200:200+w2.total_window_size])])"
   ]
  },
  {
   "cell_type": "code",
   "execution_count": 374,
   "metadata": {},
   "outputs": [
    {
     "name": "stdout",
     "output_type": "stream",
     "text": [
      "All shapes are: (batch, time, features)\n",
      "Window shape: (3, 48, 14)\n",
      "Inputs shape: (3, 24, 14)\n",
      "labels shape: (3, 24, 1)\n"
     ]
    }
   ],
   "source": [
    "example_inputs, example_labels = w2.split_window(example_window)\n",
    "\n",
    "print('All shapes are: (batch, time, features)')\n",
    "print(f'Window shape: {example_window.shape}')\n",
    "print(f'Inputs shape: {example_inputs.shape}')\n",
    "print(f'labels shape: {example_labels.shape}')\n"
   ]
  },
  {
   "cell_type": "code",
   "execution_count": 375,
   "metadata": {},
   "outputs": [
    {
     "data": {
      "text/plain": [
       "(TensorSpec(shape=(None, 24, 14), dtype=tf.float32, name=None),\n",
       " TensorSpec(shape=(None, 24, 1), dtype=tf.float32, name=None))"
      ]
     },
     "execution_count": 375,
     "metadata": {},
     "output_type": "execute_result"
    }
   ],
   "source": [
    "w2.train.element_spec"
   ]
  },
  {
   "cell_type": "code",
   "execution_count": 376,
   "metadata": {},
   "outputs": [
    {
     "name": "stdout",
     "output_type": "stream",
     "text": [
      "Inputs shape (batch, time, features): (32, 24, 14)\n",
      "Labels shape (batch, time, features): (32, 24, 1)\n"
     ]
    }
   ],
   "source": [
    "for example_inputs, example_labels in w2.train.take(1):\n",
    "    print(f'Inputs shape (batch, time, features): {example_inputs.shape}')\n",
    "    print(f'Labels shape (batch, time, features): {example_labels.shape}')\n"
   ]
  },
  {
   "cell_type": "code",
   "execution_count": 58,
   "metadata": {},
   "outputs": [],
   "source": [
    "def validation(forecasted, real, parameter):\n",
    "    ''' \n",
    "    compute some important parameters to compare forecasting results\n",
    "    '''\n",
    "    value = 0\n",
    "    value_1 = 0\n",
    "    value_2 = 0\n",
    "\n",
    "    if parameter == 'SMAPE':\n",
    "        for i in range(len(forecasted)):\n",
    "            if real[i] + forecasted[i] == 0:\n",
    "                value += 0\n",
    "            else: \n",
    "                value += ((abs(real[i] - forecasted[i])) / (real[i] + forecasted[i])) * 100\n",
    "        final_value = value / len(forecasted)  \n",
    "\n",
    "    elif parameter == 'MAPE':\n",
    "        for i in range(len(forecasted)):\n",
    "            if real[i] == 0:\n",
    "                value += 0\n",
    "            else: \n",
    "                value += (abs(real[i] - forecasted[i]))/real[i]\n",
    "        final_value = value / len(forecasted) * 100\n",
    "\n",
    "    elif parameter == 'RMSE':\n",
    "        for i in range(len(forecasted)):\n",
    "            value += (real[i] - forecasted[i]) ** 2\n",
    "        final_value = (value / len(forecasted)) ** (1 / 2) \n",
    "\n",
    "    elif parameter == 'R':\n",
    "        for i in range(len(forecasted)):\n",
    "            value += (real[i] - np.mean(real)) * (forecasted[i] - np.mean(forecasted))\n",
    "            value_1 += (real[i] - np.mean(real)) ** 2\n",
    "            value_2 += (forecasted[i] - np.mean(forecasted)) ** 2\n",
    "\n",
    "        if value_1 == 0 or value_2 == 0:\n",
    "            final_value = 100\n",
    "        else:\n",
    "            final_value = (value / ((value_1 ** (1 / 2)) * (value_2 ** (1 / 2))))*100\n",
    "\n",
    "    return final_value"
   ]
  },
  {
   "cell_type": "code",
   "execution_count": 221,
   "metadata": {},
   "outputs": [],
   "source": [
    "def MAPE(model, window):\n",
    "    actual = []\n",
    "    forecasted = []\n",
    "    for inputs, labels in window.test:\n",
    "        yhat = y[0] in model.predict(inputs)\n",
    "        print(yhat.shape)\n",
    "        print(labels.shape)\n",
    "        labels = scaler.inverse_transform(np.array(labels).reshape(-1,1))\n",
    "        yhat = model.predict(inputs)\n",
    "        yhat = scaler.inverse_transform(yhat.reshape(-1,1))\n",
    "        actual.append(labels)\n",
    "        forecasted.append(yhat)\n",
    "    actual = itertools.chain(*actual)\n",
    "    forecasted = itertools.chain(*forecasted)\n",
    "    mape = validation(list(actual), list(forecasted), 'MAPE')\n",
    "    print('MAPE: %f %%' % mape)\n",
    "    return(mape)"
   ]
  },
  {
   "cell_type": "code",
   "execution_count": 316,
   "metadata": {},
   "outputs": [
    {
     "name": "stdout",
     "output_type": "stream",
     "text": [
      "(8713, 24, 1)\n",
      "(8713, 24, 14)\n",
      "(8713, 24, 1)\n",
      "[853.853, 820.3377, 802.64703, 793.2433, 805.04376]\n",
      "[815.1598, 859.4295, 864.9292, 881.81396, 895.4568]\n",
      "MAPE: 25.572377 %\n"
     ]
    }
   ],
   "source": [
    "plot_col = 'value'\n",
    "label_col_index = w2.label_columns_indices.get(plot_col, None)\n",
    "inputs = np.concatenate([x for x, y in w2.test], axis=0)\n",
    "labels = np.concatenate([y for x, y in w2.test], axis=0)\n",
    "yhat = lstm_model(inputs)[:,:,label_col_index]\n",
    "#yhat = scaler.inverse_transform()\n",
    "yhat = tf.reshape(yhat, [-1,24,1])\n",
    "print(yhat.shape)\n",
    "print(inputs.shape)\n",
    "print(labels.shape)\n",
    "#print(np.concatenate((inputs[:,:,1:],yhat),axis=2).shape)\n",
    "inv_yhat = np.concatenate((yhat,inputs[:,:,1:]),axis=2)\n",
    "inv_yhat = scaler.inverse_transform(inv_yhat.reshape(-1,14))\n",
    "pred = [i[0] for i in inv_yhat]\n",
    "inv_y = np.concatenate((labels,inputs[:,:,1:]),axis=2)\n",
    "inv_y = scaler.inverse_transform(inv_y.reshape(-1,14))\n",
    "act = [i[0] for i in inv_y]\n",
    "print(pred[:5])\n",
    "print(act[:5])\n",
    "mape = validation(pred, act, 'MAPE')\n",
    "print('MAPE: %f %%' % mape)"
   ]
  },
  {
   "cell_type": "code",
   "execution_count": 107,
   "metadata": {},
   "outputs": [],
   "source": [
    "MAX_EPOCHS = 10\n",
    "\n",
    "def compile_and_fit(model, window, patience=50):\n",
    "    early_stopping = tf.keras.callbacks.EarlyStopping(monitor='val_loss', patience=patience, mode='min')\n",
    "\n",
    "    model.compile(loss=tf.losses.MeanSquaredError(),\n",
    "                optimizer=tf.optimizers.Adam(),\n",
    "                metrics=[tf.metrics.MeanSquaredError()])\n",
    "\n",
    "    history = model.fit(window.train, epochs=MAX_EPOCHS,\n",
    "                      validation_data=window.val,\n",
    "                      callbacks=[early_stopping])\n",
    "    return history"
   ]
  },
  {
   "cell_type": "code",
   "execution_count": 250,
   "metadata": {
    "scrolled": true
   },
   "outputs": [
    {
     "name": "stdout",
     "output_type": "stream",
     "text": [
      "Epoch 1/10\n",
      "698/698 [==============================] - 12s 17ms/step - loss: 0.0174 - mean_squared_error: 0.0174 - val_loss: 0.0081 - val_mean_squared_error: 0.0081\n",
      "Epoch 2/10\n",
      "698/698 [==============================] - 12s 17ms/step - loss: 0.0063 - mean_squared_error: 0.0063 - val_loss: 0.0074 - val_mean_squared_error: 0.0074\n",
      "Epoch 3/10\n",
      "698/698 [==============================] - 11s 15ms/step - loss: 0.0060 - mean_squared_error: 0.0060 - val_loss: 0.0071 - val_mean_squared_error: 0.0071\n",
      "Epoch 4/10\n",
      "698/698 [==============================] - 12s 17ms/step - loss: 0.0059 - mean_squared_error: 0.0059 - val_loss: 0.0071 - val_mean_squared_error: 0.0071\n",
      "Epoch 5/10\n",
      "698/698 [==============================] - 11s 16ms/step - loss: 0.0058 - mean_squared_error: 0.0058 - val_loss: 0.0070 - val_mean_squared_error: 0.0070\n",
      "Epoch 6/10\n",
      "698/698 [==============================] - 11s 16ms/step - loss: 0.0058 - mean_squared_error: 0.0058 - val_loss: 0.0077 - val_mean_squared_error: 0.0077\n",
      "Epoch 7/10\n",
      "698/698 [==============================] - 11s 16ms/step - loss: 0.0058 - mean_squared_error: 0.0058 - val_loss: 0.0077 - val_mean_squared_error: 0.0077\n",
      "Epoch 8/10\n",
      "698/698 [==============================] - 11s 16ms/step - loss: 0.0057 - mean_squared_error: 0.0057 - val_loss: 0.0072 - val_mean_squared_error: 0.0072\n",
      "Epoch 9/10\n",
      "698/698 [==============================] - 11s 16ms/step - loss: 0.0057 - mean_squared_error: 0.0057 - val_loss: 0.0071 - val_mean_squared_error: 0.0071\n",
      "Epoch 10/10\n",
      "698/698 [==============================] - 11s 16ms/step - loss: 0.0057 - mean_squared_error: 0.0057 - val_loss: 0.0070 - val_mean_squared_error: 0.0070\n",
      "122/122 [==============================] - 1s 6ms/step - loss: 0.0070 - mean_squared_error: 0.0070\n"
     ]
    },
    {
     "ename": "NameError",
     "evalue": "name 'y' is not defined",
     "output_type": "error",
     "traceback": [
      "\u001b[0;31m---------------------------------------------------------------------------\u001b[0m",
      "\u001b[0;31mNameError\u001b[0m                                 Traceback (most recent call last)",
      "\u001b[0;32m<ipython-input-250-2842c7484142>\u001b[0m in \u001b[0;36m<module>\u001b[0;34m\u001b[0m\n\u001b[1;32m     11\u001b[0m \u001b[0mval_performance\u001b[0m\u001b[0;34m[\u001b[0m\u001b[0;34m'LSTM'\u001b[0m\u001b[0;34m]\u001b[0m \u001b[0;34m=\u001b[0m \u001b[0mlstm_model\u001b[0m\u001b[0;34m.\u001b[0m\u001b[0mevaluate\u001b[0m\u001b[0;34m(\u001b[0m \u001b[0mw2\u001b[0m\u001b[0;34m.\u001b[0m\u001b[0mval\u001b[0m\u001b[0;34m)\u001b[0m\u001b[0;34m\u001b[0m\u001b[0;34m\u001b[0m\u001b[0m\n\u001b[1;32m     12\u001b[0m \u001b[0mperformance\u001b[0m\u001b[0;34m[\u001b[0m\u001b[0;34m'LSTM'\u001b[0m\u001b[0;34m]\u001b[0m \u001b[0;34m=\u001b[0m \u001b[0mlstm_model\u001b[0m\u001b[0;34m.\u001b[0m\u001b[0mevaluate\u001b[0m\u001b[0;34m(\u001b[0m \u001b[0mw2\u001b[0m\u001b[0;34m.\u001b[0m\u001b[0mtest\u001b[0m\u001b[0;34m,\u001b[0m \u001b[0mverbose\u001b[0m\u001b[0;34m=\u001b[0m\u001b[0;36m0\u001b[0m\u001b[0;34m)\u001b[0m\u001b[0;34m\u001b[0m\u001b[0;34m\u001b[0m\u001b[0m\n\u001b[0;32m---> 13\u001b[0;31m \u001b[0mmape_performance\u001b[0m\u001b[0;34m[\u001b[0m\u001b[0;34m'LSTM'\u001b[0m\u001b[0;34m]\u001b[0m \u001b[0;34m=\u001b[0m \u001b[0mMAPE\u001b[0m\u001b[0;34m(\u001b[0m\u001b[0mlstm_model\u001b[0m\u001b[0;34m,\u001b[0m \u001b[0mw2\u001b[0m\u001b[0;34m)\u001b[0m\u001b[0;34m\u001b[0m\u001b[0;34m\u001b[0m\u001b[0m\n\u001b[0m\u001b[1;32m     14\u001b[0m \u001b[0;34m\u001b[0m\u001b[0m\n\u001b[1;32m     15\u001b[0m \u001b[0mprint\u001b[0m\u001b[0;34m(\u001b[0m\u001b[0;34m)\u001b[0m\u001b[0;34m\u001b[0m\u001b[0;34m\u001b[0m\u001b[0m\n",
      "\u001b[0;32m<ipython-input-221-e8b812653dc1>\u001b[0m in \u001b[0;36mMAPE\u001b[0;34m(model, window)\u001b[0m\n\u001b[1;32m      3\u001b[0m     \u001b[0mforecasted\u001b[0m \u001b[0;34m=\u001b[0m \u001b[0;34m[\u001b[0m\u001b[0;34m]\u001b[0m\u001b[0;34m\u001b[0m\u001b[0;34m\u001b[0m\u001b[0m\n\u001b[1;32m      4\u001b[0m     \u001b[0;32mfor\u001b[0m \u001b[0minputs\u001b[0m\u001b[0;34m,\u001b[0m \u001b[0mlabels\u001b[0m \u001b[0;32min\u001b[0m \u001b[0mwindow\u001b[0m\u001b[0;34m.\u001b[0m\u001b[0mtest\u001b[0m\u001b[0;34m:\u001b[0m\u001b[0;34m\u001b[0m\u001b[0;34m\u001b[0m\u001b[0m\n\u001b[0;32m----> 5\u001b[0;31m         \u001b[0myhat\u001b[0m \u001b[0;34m=\u001b[0m \u001b[0my\u001b[0m\u001b[0;34m[\u001b[0m\u001b[0;36m0\u001b[0m\u001b[0;34m]\u001b[0m \u001b[0;32min\u001b[0m \u001b[0mmodel\u001b[0m\u001b[0;34m.\u001b[0m\u001b[0mpredict\u001b[0m\u001b[0;34m(\u001b[0m\u001b[0minputs\u001b[0m\u001b[0;34m)\u001b[0m\u001b[0;34m\u001b[0m\u001b[0;34m\u001b[0m\u001b[0m\n\u001b[0m\u001b[1;32m      6\u001b[0m         \u001b[0mprint\u001b[0m\u001b[0;34m(\u001b[0m\u001b[0myhat\u001b[0m\u001b[0;34m.\u001b[0m\u001b[0mshape\u001b[0m\u001b[0;34m)\u001b[0m\u001b[0;34m\u001b[0m\u001b[0;34m\u001b[0m\u001b[0m\n\u001b[1;32m      7\u001b[0m         \u001b[0mprint\u001b[0m\u001b[0;34m(\u001b[0m\u001b[0mlabels\u001b[0m\u001b[0;34m.\u001b[0m\u001b[0mshape\u001b[0m\u001b[0;34m)\u001b[0m\u001b[0;34m\u001b[0m\u001b[0;34m\u001b[0m\u001b[0m\n",
      "\u001b[0;31mNameError\u001b[0m: name 'y' is not defined"
     ]
    }
   ],
   "source": [
    "lstm_model = tf.keras.models.Sequential([\n",
    "    # Shape [batch, time, features] => [batch, time, lstm_units]\n",
    "    tf.keras.layers.LSTM(32, return_sequences=True),\n",
    "    # Shape => [batch, time, features]\n",
    "    tf.keras.layers.Dense(units=num_features)\n",
    "])\n",
    "\n",
    "history = compile_and_fit(lstm_model, w2)\n",
    "\n",
    "#IPython.display.clear_output()\n",
    "val_performance['LSTM'] = lstm_model.evaluate( w2.val)\n",
    "performance['LSTM'] = lstm_model.evaluate( w2.test, verbose=0)\n",
    "mape_performance['LSTM'] = MAPE(lstm_model, w2)\n",
    "\n",
    "print()"
   ]
  },
  {
   "cell_type": "code",
   "execution_count": 194,
   "metadata": {},
   "outputs": [
    {
     "data": {
      "image/png": "[encoded data removed]",
      "text/plain": [
       "<Figure size 864x576 with 3 Axes>"
      ]
     },
     "metadata": {
      "needs_background": "light"
     },
     "output_type": "display_data"
    },
    {
     "data": {
      "image/png": "[encoded data removed]",
      "text/plain": [
       "<Figure size 864x576 with 3 Axes>"
      ]
     },
     "metadata": {
      "needs_background": "light"
     },
     "output_type": "display_data"
    }
   ],
   "source": [
    "w2.plot(lstm_model)\n",
    "w2.plot(baseline)"
   ]
  },
  {
   "cell_type": "code",
   "execution_count": 11,
   "metadata": {},
   "outputs": [],
   "source": [
    "def gradient_importance(seq, model):    \n",
    "    seq = tf.Variable(seq[np.newaxis,:,:], dtype=tf.float32)    \n",
    "    \n",
    "    with tf.GradientTape() as tape:\n",
    "        predictions = model(seq)    \n",
    "    grads = tape.gradient(predictions, seq)\n",
    "    grads = tf.reduce_mean(grads, axis=1).numpy()[0]\n",
    "    \n",
    "    return grads"
   ]
  },
  {
   "cell_type": "code",
   "execution_count": null,
   "metadata": {},
   "outputs": [],
   "source": [
    "cols = df.columns\n",
    "#datach = deep_learner.normalize(datach)\n",
    "#df = df.iloc[:,1:]\n",
    "df.shape"
   ]
  },
  {
   "cell_type": "code",
   "execution_count": null,
   "metadata": {},
   "outputs": [],
   "source": [
    "#features = cols[1:]\n",
    "features = cols\n",
    "importances = gradient_importance(np.array(df[:1000]), lstm_model)\n",
    "indices = np.argsort(importances)\n",
    "print(len(features))\n",
    "print(len(importances))\n",
    "\n",
    "plt.figure(figsize=(12, 8))\n",
    "plt.title('Feature Importances')\n",
    "plt.barh(range(len(indices)), importances[indices], color='b', align='center')\n",
    "plt.yticks(range(len(indices)), [features[i] for i in indices])\n",
    "plt.xlabel('Relative Importance')\n",
    "plt.show()"
   ]
  },
  {
   "cell_type": "code",
   "execution_count": null,
   "metadata": {},
   "outputs": [],
   "source": [
    "lstm_model2 = tf.keras.models.Sequential([\n",
    "    # Shape [batch, time, features] => [batch, time, lstm_units]\n",
    "    tf.keras.layers.LSTM(32, return_sequences=True),\n",
    "    tf.keras.layers.LSTM(32, return_sequences=True),\n",
    "    tf.keras.layers.Dropout(0.2),\n",
    "    # Shape => [batch, time, features]\n",
    "    tf.keras.layers.Dense(units=num_features)\n",
    "])\n",
    "\n",
    "history = compile_and_fit(lstm_model2, w2)\n",
    "\n",
    "#IPython.display.clear_output()\n",
    "val_performance['LSTM 2 layer'] = lstm_model.evaluate( w2.val)\n",
    "performance['LSTM 2 layer'] = lstm_model.evaluate( w2.test, verbose=0)\n",
    "\n",
    "print()\n"
   ]
  },
  {
   "cell_type": "code",
   "execution_count": null,
   "metadata": {},
   "outputs": [],
   "source": [
    "w2.plot(residual_lstm)"
   ]
  },
  {
   "cell_type": "code",
   "execution_count": null,
   "metadata": {},
   "outputs": [],
   "source": [
    "class ResidualWrapper(tf.keras.Model):\n",
    "    def __init__(self, model):\n",
    "        super().__init__()\n",
    "        self.model = model\n",
    "\n",
    "    def call(self, inputs, *args, **kwargs):\n",
    "        delta = self.model(inputs, *args, **kwargs)\n",
    "\n",
    "        # The prediction for each timestep is the input\n",
    "        # from the previous time step plus the delta\n",
    "        # calculated by the model.\n",
    "        return inputs + delta"
   ]
  },
  {
   "cell_type": "code",
   "execution_count": null,
   "metadata": {},
   "outputs": [],
   "source": [
    "%%time\n",
    "residual_lstm = ResidualWrapper(\n",
    "    tf.keras.Sequential([\n",
    "    tf.keras.layers.LSTM(32, return_sequences=True),\n",
    "    tf.keras.layers.Dense(\n",
    "        num_features,\n",
    "        # The predicted deltas should start small\n",
    "        # So initialize the output layer with zeros\n",
    "        kernel_initializer=tf.initializers.zeros)\n",
    "]))\n",
    "\n",
    "history = compile_and_fit(residual_lstm, w2)\n",
    "\n",
    "#IPython.display.clear_output()\n",
    "val_performance['Residual LSTM'] = residual_lstm.evaluate(w2.val)\n",
    "performance['Residual LSTM'] = residual_lstm.evaluate(w2.test, verbose=0)\n",
    "print()\n"
   ]
  },
  {
   "cell_type": "code",
   "execution_count": 179,
   "metadata": {},
   "outputs": [
    {
     "data": {
      "image/png": "[encoded data removed]",
      "text/plain": [
       "<Figure size 576x432 with 1 Axes>"
      ]
     },
     "metadata": {
      "needs_background": "light"
     },
     "output_type": "display_data"
    }
   ],
   "source": [
    "x = np.arange(len(performance))\n",
    "width = 0.3\n",
    "\n",
    "metric_name = 'mean_squared_error'\n",
    "metric_index = lstm_model.metrics_names.index('mean_squared_error')\n",
    "val_mae = [v[metric_index] for v in val_performance.values()]\n",
    "test_mae = [v[metric_index] for v in performance.values()]\n",
    "\n",
    "plt.bar(x - 0.17, val_mae, width, label='Validation')\n",
    "plt.bar(x + 0.17, test_mae, width, label='Test')\n",
    "plt.xticks(ticks=x, labels=performance.keys(),\n",
    "           rotation=45)\n",
    "plt.ylabel('MSE (average over all outputs)')\n",
    "_ = plt.legend()"
   ]
  },
  {
   "cell_type": "code",
   "execution_count": 188,
   "metadata": {},
   "outputs": [
    {
     "data": {
      "image/png": "[encoded data removed]",
      "text/plain": [
       "<Figure size 576x432 with 1 Axes>"
      ]
     },
     "metadata": {
      "needs_background": "light"
     },
     "output_type": "display_data"
    }
   ],
   "source": [
    "x = np.arange(len(mape_performance))\n",
    "width = 0.3\n",
    "\n",
    "metric_name = 'mean_average_performance_error'\n",
    "#metric_index = lstm_model.metrics_names.index('mape')\n",
    "test_mape = mape_performance.values()\n",
    "\n",
    "plt.bar(x, list(itertools.chain(*test_mape)), width, label='Test')\n",
    "plt.xticks(ticks=x, labels=performance.keys(),\n",
    "           rotation=45)\n",
    "plt.ylabel('MAPE (average over all outputs)')\n",
    "_ = plt.legend()"
   ]
  },
  {
   "cell_type": "code",
   "execution_count": 166,
   "metadata": {},
   "outputs": [
    {
     "data": {
      "text/plain": [
       "[23.450996430740464]"
      ]
     },
     "execution_count": 166,
     "metadata": {},
     "output_type": "execute_result"
    }
   ],
   "source": [
    "list(itertools.chain(*test_mape))"
   ]
  },
  {
   "cell_type": "code",
   "execution_count": null,
   "metadata": {},
   "outputs": [],
   "source": []
  }
 ],
 "metadata": {
  "kernelspec": {
   "display_name": "Python 3",
   "language": "python",
   "name": "python3"
  },
  "language_info": {
   "codemirror_mode": {
    "name": "ipython",
    "version": 3
   },
   "file_extension": ".py",
   "mimetype": "text/x-python",
   "name": "python",
   "nbconvert_exporter": "python",
   "pygments_lexer": "ipython3",
   "version": "3.8.6"
  }
 },
 "nbformat": 4,
 "nbformat_minor": 5
}
