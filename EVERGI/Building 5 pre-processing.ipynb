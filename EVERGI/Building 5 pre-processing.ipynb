{
 "cells": [
  {
   "cell_type": "code",
   "execution_count": 9,
   "metadata": {},
   "outputs": [],
   "source": [
    "import pandas as pd\n",
    "import numpy as np\n",
    "import matplotlib as mpl\n",
    "import matplotlib.pyplot as plt\n",
    "import seaborn as sns\n",
    "import datetime as dt\n",
    "import pickle"
   ]
  },
  {
   "cell_type": "code",
   "execution_count": 10,
   "metadata": {},
   "outputs": [],
   "source": [
    "# Create a df with holidays\n",
    "from workalendar.europe import Belgium\n",
    "cal = Belgium()"
   ]
  },
  {
   "cell_type": "code",
   "execution_count": 11,
   "metadata": {},
   "outputs": [
    {
     "data": {
      "text/html": [
       "<div>\n",
       "<style scoped>\n",
       "    .dataframe tbody tr th:only-of-type {\n",
       "        vertical-align: middle;\n",
       "    }\n",
       "\n",
       "    .dataframe tbody tr th {\n",
       "        vertical-align: top;\n",
       "    }\n",
       "\n",
       "    .dataframe thead th {\n",
       "        text-align: right;\n",
       "    }\n",
       "</style>\n",
       "<table border=\"1\" class=\"dataframe\">\n",
       "  <thead>\n",
       "    <tr style=\"text-align: right;\">\n",
       "      <th></th>\n",
       "      <th>Valeur</th>\n",
       "      <th>Datetime</th>\n",
       "    </tr>\n",
       "    <tr>\n",
       "      <th>Date</th>\n",
       "      <th></th>\n",
       "      <th></th>\n",
       "    </tr>\n",
       "  </thead>\n",
       "  <tbody>\n",
       "    <tr>\n",
       "      <th>2014-01-06 02:00:00</th>\n",
       "      <td>0.0</td>\n",
       "      <td>2014-01-06 02:00:00</td>\n",
       "    </tr>\n",
       "    <tr>\n",
       "      <th>2014-01-06 02:15:00</th>\n",
       "      <td>0.0</td>\n",
       "      <td>2014-01-06 02:15:00</td>\n",
       "    </tr>\n",
       "    <tr>\n",
       "      <th>2014-01-06 02:30:00</th>\n",
       "      <td>0.0</td>\n",
       "      <td>2014-01-06 02:30:00</td>\n",
       "    </tr>\n",
       "    <tr>\n",
       "      <th>2014-01-06 02:45:00</th>\n",
       "      <td>0.0</td>\n",
       "      <td>2014-01-06 02:45:00</td>\n",
       "    </tr>\n",
       "    <tr>\n",
       "      <th>2014-01-06 03:00:00</th>\n",
       "      <td>0.0</td>\n",
       "      <td>2014-01-06 03:00:00</td>\n",
       "    </tr>\n",
       "    <tr>\n",
       "      <th>...</th>\n",
       "      <td>...</td>\n",
       "      <td>...</td>\n",
       "    </tr>\n",
       "    <tr>\n",
       "      <th>2020-06-30 23:00:00</th>\n",
       "      <td>0.0</td>\n",
       "      <td>2020-06-30 23:00:00</td>\n",
       "    </tr>\n",
       "    <tr>\n",
       "      <th>2020-06-30 23:15:00</th>\n",
       "      <td>0.0</td>\n",
       "      <td>2020-06-30 23:15:00</td>\n",
       "    </tr>\n",
       "    <tr>\n",
       "      <th>2020-06-30 23:30:00</th>\n",
       "      <td>0.0</td>\n",
       "      <td>2020-06-30 23:30:00</td>\n",
       "    </tr>\n",
       "    <tr>\n",
       "      <th>2020-06-30 23:45:00</th>\n",
       "      <td>0.0</td>\n",
       "      <td>2020-06-30 23:45:00</td>\n",
       "    </tr>\n",
       "    <tr>\n",
       "      <th>2020-01-07 00:00:00</th>\n",
       "      <td>0.0</td>\n",
       "      <td>2020-01-07 00:00:00</td>\n",
       "    </tr>\n",
       "  </tbody>\n",
       "</table>\n",
       "<p>213305 rows × 2 columns</p>\n",
       "</div>"
      ],
      "text/plain": [
       "                     Valeur            Datetime\n",
       "Date                                           \n",
       "2014-01-06 02:00:00     0.0 2014-01-06 02:00:00\n",
       "2014-01-06 02:15:00     0.0 2014-01-06 02:15:00\n",
       "2014-01-06 02:30:00     0.0 2014-01-06 02:30:00\n",
       "2014-01-06 02:45:00     0.0 2014-01-06 02:45:00\n",
       "2014-01-06 03:00:00     0.0 2014-01-06 03:00:00\n",
       "...                     ...                 ...\n",
       "2020-06-30 23:00:00     0.0 2020-06-30 23:00:00\n",
       "2020-06-30 23:15:00     0.0 2020-06-30 23:15:00\n",
       "2020-06-30 23:30:00     0.0 2020-06-30 23:30:00\n",
       "2020-06-30 23:45:00     0.0 2020-06-30 23:45:00\n",
       "2020-01-07 00:00:00     0.0 2020-01-07 00:00:00\n",
       "\n",
       "[213305 rows x 2 columns]"
      ]
     },
     "execution_count": 11,
     "metadata": {},
     "output_type": "execute_result"
    }
   ],
   "source": [
    "data5 = pd.read_pickle('Building-5-Copro VZW/building_5_cnsumptions.pkl')\n",
    "data5.index = pd.to_datetime(data5.index)\n",
    "data5['Datetime'] = data5.index\n",
    "data5"
   ]
  },
  {
   "cell_type": "code",
   "execution_count": 12,
   "metadata": {},
   "outputs": [
    {
     "data": {
      "text/html": [
       "<div>\n",
       "<style scoped>\n",
       "    .dataframe tbody tr th:only-of-type {\n",
       "        vertical-align: middle;\n",
       "    }\n",
       "\n",
       "    .dataframe tbody tr th {\n",
       "        vertical-align: top;\n",
       "    }\n",
       "\n",
       "    .dataframe thead th {\n",
       "        text-align: right;\n",
       "    }\n",
       "</style>\n",
       "<table border=\"1\" class=\"dataframe\">\n",
       "  <thead>\n",
       "    <tr style=\"text-align: right;\">\n",
       "      <th></th>\n",
       "      <th>Valeur</th>\n",
       "      <th>Datetime</th>\n",
       "      <th>working day</th>\n",
       "    </tr>\n",
       "    <tr>\n",
       "      <th>Date</th>\n",
       "      <th></th>\n",
       "      <th></th>\n",
       "      <th></th>\n",
       "    </tr>\n",
       "  </thead>\n",
       "  <tbody>\n",
       "    <tr>\n",
       "      <th>2014-01-06 02:00:00</th>\n",
       "      <td>0.0</td>\n",
       "      <td>2014-01-06 02:00:00</td>\n",
       "      <td>True</td>\n",
       "    </tr>\n",
       "    <tr>\n",
       "      <th>2014-01-06 02:15:00</th>\n",
       "      <td>0.0</td>\n",
       "      <td>2014-01-06 02:15:00</td>\n",
       "      <td>True</td>\n",
       "    </tr>\n",
       "    <tr>\n",
       "      <th>2014-01-06 02:30:00</th>\n",
       "      <td>0.0</td>\n",
       "      <td>2014-01-06 02:30:00</td>\n",
       "      <td>True</td>\n",
       "    </tr>\n",
       "    <tr>\n",
       "      <th>2014-01-06 02:45:00</th>\n",
       "      <td>0.0</td>\n",
       "      <td>2014-01-06 02:45:00</td>\n",
       "      <td>True</td>\n",
       "    </tr>\n",
       "    <tr>\n",
       "      <th>2014-01-06 03:00:00</th>\n",
       "      <td>0.0</td>\n",
       "      <td>2014-01-06 03:00:00</td>\n",
       "      <td>True</td>\n",
       "    </tr>\n",
       "    <tr>\n",
       "      <th>...</th>\n",
       "      <td>...</td>\n",
       "      <td>...</td>\n",
       "      <td>...</td>\n",
       "    </tr>\n",
       "    <tr>\n",
       "      <th>2020-06-30 23:00:00</th>\n",
       "      <td>0.0</td>\n",
       "      <td>2020-06-30 23:00:00</td>\n",
       "      <td>True</td>\n",
       "    </tr>\n",
       "    <tr>\n",
       "      <th>2020-06-30 23:15:00</th>\n",
       "      <td>0.0</td>\n",
       "      <td>2020-06-30 23:15:00</td>\n",
       "      <td>True</td>\n",
       "    </tr>\n",
       "    <tr>\n",
       "      <th>2020-06-30 23:30:00</th>\n",
       "      <td>0.0</td>\n",
       "      <td>2020-06-30 23:30:00</td>\n",
       "      <td>True</td>\n",
       "    </tr>\n",
       "    <tr>\n",
       "      <th>2020-06-30 23:45:00</th>\n",
       "      <td>0.0</td>\n",
       "      <td>2020-06-30 23:45:00</td>\n",
       "      <td>True</td>\n",
       "    </tr>\n",
       "    <tr>\n",
       "      <th>2020-01-07 00:00:00</th>\n",
       "      <td>0.0</td>\n",
       "      <td>2020-01-07 00:00:00</td>\n",
       "      <td>True</td>\n",
       "    </tr>\n",
       "  </tbody>\n",
       "</table>\n",
       "<p>213305 rows × 3 columns</p>\n",
       "</div>"
      ],
      "text/plain": [
       "                     Valeur            Datetime  working day\n",
       "Date                                                        \n",
       "2014-01-06 02:00:00     0.0 2014-01-06 02:00:00         True\n",
       "2014-01-06 02:15:00     0.0 2014-01-06 02:15:00         True\n",
       "2014-01-06 02:30:00     0.0 2014-01-06 02:30:00         True\n",
       "2014-01-06 02:45:00     0.0 2014-01-06 02:45:00         True\n",
       "2014-01-06 03:00:00     0.0 2014-01-06 03:00:00         True\n",
       "...                     ...                 ...          ...\n",
       "2020-06-30 23:00:00     0.0 2020-06-30 23:00:00         True\n",
       "2020-06-30 23:15:00     0.0 2020-06-30 23:15:00         True\n",
       "2020-06-30 23:30:00     0.0 2020-06-30 23:30:00         True\n",
       "2020-06-30 23:45:00     0.0 2020-06-30 23:45:00         True\n",
       "2020-01-07 00:00:00     0.0 2020-01-07 00:00:00         True\n",
       "\n",
       "[213305 rows x 3 columns]"
      ]
     },
     "execution_count": 12,
     "metadata": {},
     "output_type": "execute_result"
    }
   ],
   "source": [
    "data5['working day'] =  data5['Datetime'].apply(cal.is_working_day)\n",
    "data5"
   ]
  },
  {
   "cell_type": "code",
   "execution_count": 13,
   "metadata": {},
   "outputs": [
    {
     "data": {
      "text/html": [
       "<div>\n",
       "<style scoped>\n",
       "    .dataframe tbody tr th:only-of-type {\n",
       "        vertical-align: middle;\n",
       "    }\n",
       "\n",
       "    .dataframe tbody tr th {\n",
       "        vertical-align: top;\n",
       "    }\n",
       "\n",
       "    .dataframe thead th {\n",
       "        text-align: right;\n",
       "    }\n",
       "</style>\n",
       "<table border=\"1\" class=\"dataframe\">\n",
       "  <thead>\n",
       "    <tr style=\"text-align: right;\">\n",
       "      <th></th>\n",
       "      <th>Valeur</th>\n",
       "      <th>Datetime</th>\n",
       "      <th>working day</th>\n",
       "    </tr>\n",
       "    <tr>\n",
       "      <th>Date</th>\n",
       "      <th></th>\n",
       "      <th></th>\n",
       "      <th></th>\n",
       "    </tr>\n",
       "  </thead>\n",
       "  <tbody>\n",
       "    <tr>\n",
       "      <th>2020-06-30 23:00:00</th>\n",
       "      <td>0.0</td>\n",
       "      <td>2020-06-30 23:00:00</td>\n",
       "      <td>True</td>\n",
       "    </tr>\n",
       "    <tr>\n",
       "      <th>2020-06-30 23:15:00</th>\n",
       "      <td>0.0</td>\n",
       "      <td>2020-06-30 23:15:00</td>\n",
       "      <td>True</td>\n",
       "    </tr>\n",
       "    <tr>\n",
       "      <th>2020-06-30 23:30:00</th>\n",
       "      <td>0.0</td>\n",
       "      <td>2020-06-30 23:30:00</td>\n",
       "      <td>True</td>\n",
       "    </tr>\n",
       "    <tr>\n",
       "      <th>2020-06-30 23:45:00</th>\n",
       "      <td>0.0</td>\n",
       "      <td>2020-06-30 23:45:00</td>\n",
       "      <td>True</td>\n",
       "    </tr>\n",
       "    <tr>\n",
       "      <th>2020-01-07 00:00:00</th>\n",
       "      <td>0.0</td>\n",
       "      <td>2020-01-07 00:00:00</td>\n",
       "      <td>True</td>\n",
       "    </tr>\n",
       "  </tbody>\n",
       "</table>\n",
       "</div>"
      ],
      "text/plain": [
       "                     Valeur            Datetime  working day\n",
       "Date                                                        \n",
       "2020-06-30 23:00:00     0.0 2020-06-30 23:00:00         True\n",
       "2020-06-30 23:15:00     0.0 2020-06-30 23:15:00         True\n",
       "2020-06-30 23:30:00     0.0 2020-06-30 23:30:00         True\n",
       "2020-06-30 23:45:00     0.0 2020-06-30 23:45:00         True\n",
       "2020-01-07 00:00:00     0.0 2020-01-07 00:00:00         True"
      ]
     },
     "execution_count": 13,
     "metadata": {},
     "output_type": "execute_result"
    }
   ],
   "source": [
    "data5.to_pickle('./building5_holidays.pkl')\n",
    "data5.tail()"
   ]
  },
  {
   "cell_type": "code",
   "execution_count": 17,
   "metadata": {},
   "outputs": [
    {
     "data": {
      "image/png": "[encoded data removed]",
      "text/plain": [
       "<Figure size 1280x960 with 1 Axes>"
      ]
     },
     "metadata": {
      "needs_background": "light"
     },
     "output_type": "display_data"
    }
   ],
   "source": [
    "years = data5.index.year.unique()\n",
    "\n",
    "# Prep Colors\n",
    "np.random.seed(100)\n",
    "mycolors = np.random.choice(list(mpl.colors.XKCD_COLORS.keys()), len(years), replace=False) \n",
    "\n",
    "# Draw Plot\n",
    "fig, ax = plt.subplots(figsize=(16,12), dpi= 80)\n",
    "for i,year in enumerate(years):\n",
    "        data_temp=data5.loc[data5.index.year==year, :]\n",
    "        data_temp.plot(y='Valeur', use_index=True, color=mycolors[i], label = year, ax=ax, alpha=0.5)\n",
    "\n",
    "# Decoration\n",
    "plt.gca().set(ylabel='Consumption [kWh]', xlabel='# measurement')\n",
    "plt.yticks(fontsize=12, alpha=.7)\n",
    "plt.title(\"Consumption in building 5 by year\", fontsize=20)\n",
    "plt.show()"
   ]
  },
  {
   "cell_type": "code",
   "execution_count": 16,
   "metadata": {},
   "outputs": [
    {
     "data": {
      "text/plain": [
       "<AxesSubplot:xlabel='Date'>"
      ]
     },
     "execution_count": 16,
     "metadata": {},
     "output_type": "execute_result"
    },
    {
     "data": {
      "image/png": "[encoded data removed]",
      "text/plain": [
       "<Figure size 1280x960 with 1 Axes>"
      ]
     },
     "metadata": {
      "needs_background": "light"
     },
     "output_type": "display_data"
    }
   ],
   "source": [
    "fig, ax = plt.subplots(figsize=(16,12), dpi= 80)\n",
    "data_temp=data5.loc[data5.index.year==2014, :]\n",
    "data_temp.plot(y='Valeur', use_index=True, color='b', ax=ax, alpha=0.5)\n"
   ]
  },
  {
   "cell_type": "code",
   "execution_count": null,
   "metadata": {},
   "outputs": [],
   "source": []
  }
 ],
 "metadata": {
  "kernelspec": {
   "display_name": "Python 3",
   "language": "python",
   "name": "python3"
  },
  "language_info": {
   "codemirror_mode": {
    "name": "ipython",
    "version": 3
   },
   "file_extension": ".py",
   "mimetype": "text/x-python",
   "name": "python",
   "nbconvert_exporter": "python",
   "pygments_lexer": "ipython3",
   "version": "3.8.5"
  }
 },
 "nbformat": 4,
 "nbformat_minor": 4
}
