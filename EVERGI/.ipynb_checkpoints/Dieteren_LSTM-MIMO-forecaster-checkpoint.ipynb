{
 "cells": [
  {
   "cell_type": "code",
   "execution_count": 20,
   "metadata": {},
   "outputs": [],
   "source": [
    "import datetime\n",
    "import sys\n",
    "import os\n",
    "\n",
    "import matplotlib as mpl\n",
    "import matplotlib.pyplot as plt\n",
    "import numpy as np\n",
    "import pandas as pd\n",
    "import seaborn as sns\n",
    "import tensorflow as tf\n",
    "import itertools\n",
    "from tensorflow.keras.layers import Dense\n",
    "from tensorflow.keras.models import Sequential\n",
    "from tensorflow.keras import Input, Model\n",
    "from cond_rnn import ConditionalRNN\n",
    "from sklearn.preprocessing import MinMaxScaler\n",
    "from pmdarima.arima import auto_arima\n",
    "\n",
    "import src.preprocessing\n",
    "from src.functions import load_data, mape, TimeSeriesTensor, create_evaluation_df, series_to_supervised, plot_train_history, validation\n",
    "\n",
    "np.set_printoptions(threshold=sys.maxsize)\n",
    "mpl.rcParams['figure.figsize'] = (8, 6)\n",
    "mpl.rcParams['axes.grid'] = False"
   ]
  },
  {
   "cell_type": "code",
   "execution_count": 23,
   "metadata": {},
   "outputs": [],
   "source": [
    "csv_path = '../data/Dieteren_case/Consumption_15min.csv'\n",
    "df = pd.read_csv(csv_path, index_col=0)"
   ]
  },
  {
   "cell_type": "code",
   "execution_count": 24,
   "metadata": {},
   "outputs": [],
   "source": [
    "df.index = pd.to_datetime(df.index)\n",
    "df = df.resample('H').mean()"
   ]
  },
  {
   "cell_type": "code",
   "execution_count": 25,
   "metadata": {},
   "outputs": [],
   "source": [
    "def train_test_split(df, n_test):\n",
    "    test_df = df.copy()[-n_test:]\n",
    "    train_df = df.copy()[:len(test_df)]\n",
    "    return train_df, test_df"
   ]
  },
  {
   "cell_type": "code",
   "execution_count": 26,
   "metadata": {},
   "outputs": [],
   "source": [
    "def ConditionalRNN_data_preparation(df, n_test=4380, T=24, HORIZON=24):\n",
    "    df = src.preprocessing.preprocess(df, 'Belgium')\n",
    "    c2 = series_to_supervised(df)\n",
    "    c1 = df.iloc[:,1:9]\n",
    "    c1 = c1.loc[c2.index]\n",
    "    short_df = df.iloc[:,[0,1,-4,-3,-2,-1]].copy()\n",
    "    #check how to formulate more correctly\n",
    "    short_df = short_df[146:]\n",
    "    train_df, test_df = train_test_split(short_df, n_test)\n",
    "    train_c1, test_c1 = train_test_split(c1, n_test)\n",
    "    train_c2, test_c2 = train_test_split(c2, n_test)\n",
    "    y_scaler = MinMaxScaler()\n",
    "    y_scaler.fit(train_df[['value']])\n",
    "    train_c2[['value(t-24)']] = y_scaler.fit_transform(train_c2[['value(t-24)']])\n",
    "    train_c2[['value(t-168)']] = y_scaler.fit_transform(train_c2[['value(t-168)']])\n",
    "    X_scaler = MinMaxScaler()\n",
    "    train_df[train_df.columns] = X_scaler.fit_transform(train_df)\n",
    "    test_df[train_df.columns] = X_scaler.fit_transform(test_df)\n",
    "    tensor_structure = {'X':(range(-T+1, 1), ['value','fractional hour_sin','fractional hour_cos','day of year_sin','day of year_cos'])}\n",
    "    train_inputs = TimeSeriesTensor(train_df, 'value', HORIZON, tensor_structure)\n",
    "    test_inputs = TimeSeriesTensor(test_df, 'value', HORIZON, tensor_structure)\n",
    "    train_c1 = c1.reindex(train_inputs.dataframe.index)\n",
    "    train_c2 = c2.reindex(train_inputs.dataframe.index)\n",
    "    test_c1 = c1.reindex(test_inputs.dataframe.index)\n",
    "    test_c2 = c2.reindex(test_inputs.dataframe.index)\n",
    "    return train_inputs, test_inputs, train_c1, test_c1, train_c2, test_c2, y_scaler"
   ]
  },
  {
   "cell_type": "code",
   "execution_count": 27,
   "metadata": {},
   "outputs": [],
   "source": [
    "def MIMO_fulldata_preparation(df, n_test=4380, T=24, HORIZON=24):\n",
    "    df = src.preprocessing.preprocess(df, 'Belgium')\n",
    "    df = df.merge(series_to_supervised(df), how='right', left_index=True, right_index=True)\n",
    "    train_df, test_df = train_test_split(df, n_test)\n",
    "    y_scaler = MinMaxScaler()\n",
    "    y_scaler.fit(train_df[['value']])\n",
    "    long_scaler = MinMaxScaler()\n",
    "    test_df[test_df.columns] = long_scaler.fit_transform(test_df)\n",
    "    train_df[train_df.columns] = long_scaler.fit_transform(train_df)\n",
    "    tensor_structure = {'X':(range(-T+1, 1), train_df.columns)}\n",
    "    train_inputs = TimeSeriesTensor(train_df, 'value', HORIZON, tensor_structure)\n",
    "    test_inputs = TimeSeriesTensor(test_df, 'value', HORIZON, tensor_structure)\n",
    "    return train_inputs, test_inputs, y_scaler"
   ]
  },
  {
   "cell_type": "code",
   "execution_count": 18,
   "metadata": {},
   "outputs": [
    {
     "name": "stdout",
     "output_type": "stream",
     "text": [
      "Model: \"functional_1\"\n",
      "__________________________________________________________________________________________________\n",
      "Layer (type)                    Output Shape         Param #     Connected to                     \n",
      "==================================================================================================\n",
      "one-hot (InputLayer)            [(None, 8)]          0                                            \n",
      "__________________________________________________________________________________________________\n",
      "lags-as-features (InputLayer)   [(None, 2)]          0                                            \n",
      "__________________________________________________________________________________________________\n",
      "tf_op_layer_ExpandDims (TensorF [(1, None, 8)]       0           one-hot[0][0]                    \n",
      "__________________________________________________________________________________________________\n",
      "tf_op_layer_ExpandDims_1 (Tenso [(1, None, 2)]       0           lags-as-features[0][0]           \n",
      "__________________________________________________________________________________________________\n",
      "tf_op_layer_Tile (TensorFlowOpL [(2, None, 8)]       0           tf_op_layer_ExpandDims[0][0]     \n",
      "__________________________________________________________________________________________________\n",
      "tf_op_layer_Tile_1 (TensorFlowO [(2, None, 2)]       0           tf_op_layer_ExpandDims_1[0][0]   \n",
      "__________________________________________________________________________________________________\n",
      "dense_14 (Dense)                (2, None, 32)        288         tf_op_layer_Tile[0][0]           \n",
      "__________________________________________________________________________________________________\n",
      "dense_15 (Dense)                (2, None, 32)        96          tf_op_layer_Tile_1[0][0]         \n",
      "__________________________________________________________________________________________________\n",
      "tf_op_layer_stack (TensorFlowOp [(2, None, 32, 2)]   0           dense_14[0][0]                   \n",
      "                                                                 dense_15[0][0]                   \n",
      "__________________________________________________________________________________________________\n",
      "dense_24 (Dense)                (2, None, 32, 1)     3           tf_op_layer_stack[0][0]          \n",
      "__________________________________________________________________________________________________\n",
      "tf_op_layer_Squeeze (TensorFlow [(2, None, 32)]      0           dense_24[0][0]                   \n",
      "__________________________________________________________________________________________________\n",
      "time-series (InputLayer)        [(None, 24, 5)]      0                                            \n",
      "__________________________________________________________________________________________________\n",
      "tf_op_layer_unstack (TensorFlow [(None, 32), (None,  0           tf_op_layer_Squeeze[0][0]        \n",
      "__________________________________________________________________________________________________\n",
      "rnn_1 (RNN)                     (None, 32)           4864        time-series[0][0]                \n",
      "                                                                 tf_op_layer_unstack[0][0]        \n",
      "                                                                 tf_op_layer_unstack[0][1]        \n",
      "__________________________________________________________________________________________________\n",
      "dense_25 (Dense)                (None, 24)           792         rnn_1[0][0]                      \n",
      "==================================================================================================\n",
      "Total params: 6,043\n",
      "Trainable params: 6,043\n",
      "Non-trainable params: 0\n",
      "__________________________________________________________________________________________________\n"
     ]
    }
   ],
   "source": [
    "#conditional_rnn.build(batch_input_shape)\n",
    "ConditionalRNN.summary()"
   ]
  },
  {
   "cell_type": "code",
   "execution_count": 16,
   "metadata": {},
   "outputs": [
    {
     "name": "stdout",
     "output_type": "stream",
     "text": [
      "Epoch 1/100\n",
      "38/38 [==============================] - 1s 21ms/step - loss: 0.1869 - mean_squared_error: 0.1869 - val_loss: 0.0752 - val_mean_squared_error: 0.0752\n",
      "Epoch 2/100\n",
      "38/38 [==============================] - 1s 15ms/step - loss: 0.0579 - mean_squared_error: 0.0579 - val_loss: 0.0594 - val_mean_squared_error: 0.0594\n",
      "Epoch 3/100\n",
      "38/38 [==============================] - 1s 14ms/step - loss: 0.0514 - mean_squared_error: 0.0514 - val_loss: 0.0583 - val_mean_squared_error: 0.0583\n",
      "Epoch 4/100\n",
      "38/38 [==============================] - 1s 14ms/step - loss: 0.0481 - mean_squared_error: 0.0481 - val_loss: 0.0597 - val_mean_squared_error: 0.0597\n",
      "Epoch 5/100\n",
      "38/38 [==============================] - 1s 15ms/step - loss: 0.0434 - mean_squared_error: 0.0434 - val_loss: 0.0587 - val_mean_squared_error: 0.0587\n",
      "Epoch 6/100\n",
      "38/38 [==============================] - 1s 14ms/step - loss: 0.0368 - mean_squared_error: 0.0368 - val_loss: 0.0597 - val_mean_squared_error: 0.0597\n",
      "Epoch 7/100\n",
      "38/38 [==============================] - 1s 13ms/step - loss: 0.0300 - mean_squared_error: 0.0300 - val_loss: 0.0590 - val_mean_squared_error: 0.0590\n",
      "Epoch 8/100\n",
      "38/38 [==============================] - 1s 14ms/step - loss: 0.0265 - mean_squared_error: 0.0265 - val_loss: 0.0607 - val_mean_squared_error: 0.0607\n",
      "Epoch 9/100\n",
      "38/38 [==============================] - 1s 15ms/step - loss: 0.0243 - mean_squared_error: 0.0243 - val_loss: 0.0593 - val_mean_squared_error: 0.0593\n",
      "Epoch 10/100\n",
      "38/38 [==============================] - 1s 14ms/step - loss: 0.0227 - mean_squared_error: 0.0227 - val_loss: 0.0582 - val_mean_squared_error: 0.0582\n",
      "Epoch 11/100\n",
      "38/38 [==============================] - 1s 14ms/step - loss: 0.0214 - mean_squared_error: 0.0214 - val_loss: 0.0602 - val_mean_squared_error: 0.0602\n",
      "Epoch 12/100\n",
      "38/38 [==============================] - 0s 13ms/step - loss: 0.0206 - mean_squared_error: 0.0206 - val_loss: 0.0633 - val_mean_squared_error: 0.0633\n",
      "Epoch 13/100\n",
      "38/38 [==============================] - 0s 13ms/step - loss: 0.0204 - mean_squared_error: 0.0204 - val_loss: 0.0640 - val_mean_squared_error: 0.0640\n",
      "Epoch 14/100\n",
      "38/38 [==============================] - 1s 13ms/step - loss: 0.0191 - mean_squared_error: 0.0191 - val_loss: 0.0593 - val_mean_squared_error: 0.0593\n",
      "Epoch 15/100\n",
      "38/38 [==============================] - 1s 13ms/step - loss: 0.0183 - mean_squared_error: 0.0183 - val_loss: 0.0618 - val_mean_squared_error: 0.0618\n",
      "Epoch 16/100\n",
      "38/38 [==============================] - 0s 13ms/step - loss: 0.0179 - mean_squared_error: 0.0179 - val_loss: 0.0593 - val_mean_squared_error: 0.0593\n",
      "Epoch 17/100\n",
      "38/38 [==============================] - 0s 13ms/step - loss: 0.0173 - mean_squared_error: 0.0173 - val_loss: 0.0603 - val_mean_squared_error: 0.0603\n",
      "Epoch 18/100\n",
      "38/38 [==============================] - 0s 13ms/step - loss: 0.0171 - mean_squared_error: 0.0171 - val_loss: 0.0600 - val_mean_squared_error: 0.0600\n",
      "Epoch 19/100\n",
      "38/38 [==============================] - 0s 12ms/step - loss: 0.0168 - mean_squared_error: 0.0168 - val_loss: 0.0614 - val_mean_squared_error: 0.0614\n",
      "Epoch 20/100\n",
      "38/38 [==============================] - 1s 15ms/step - loss: 0.0164 - mean_squared_error: 0.0164 - val_loss: 0.0624 - val_mean_squared_error: 0.0624\n"
     ]
    }
   ],
   "source": [
    "NUM_CELLS = 32\n",
    "MAX_EPOCHS = 100\n",
    "BATCHSIZE = 32\n",
    "patience = 10\n",
    "HORIZON = 24\n",
    "# ConditionalRNN with the functional API.\n",
    "i = Input(shape=[HORIZON, 5], name='time-series')\n",
    "c1 = Input(shape=[8], name='one-hot')\n",
    "c2 = Input(shape=[2], name='lags-as-features')\n",
    "# add the condition tensor here.\n",
    "x = ConditionalRNN(NUM_CELLS, cell='LSTM', name='cond_rnn_0')([i, c1, c2])\n",
    "# Dense layer to output\n",
    "x = Dense(HORIZON)(x)\n",
    "ConditionalRNN = Model(inputs=[i, c1, c2], outputs=[x])\n",
    "\n",
    "#ConditionalRNN = Sequential(layers=[ConditionalRNN(NUM_CELLS, cell='LSTM'),\n",
    "#                                    Dense(HORIZON)])\n",
    "\n",
    "\n",
    "train_inputs, test_inputs, train_c1, test_c1, train_c2, test_c2, y_scaler = ConditionalRNN_data_preparation(df, n_test=1465)\n",
    "# full data LSTM MIMO compilation and fit\n",
    "ConditionalRNN.compile(optimizer=tf.optimizers.Adam(), loss='mse', metrics=[tf.metrics.MeanSquaredError()])\n",
    "early_stopping = tf.keras.callbacks.EarlyStopping(monitor='val_loss', patience=patience, mode='min')\n",
    "\n",
    "history = ConditionalRNN.fit([train_inputs['X'],train_c1,train_c2], train_inputs['target'], batch_size=32, epochs=MAX_EPOCHS,\n",
    "              validation_split=0.15,\n",
    "              callbacks=[early_stopping], verbose=1)\n",
    "\n",
    "#save_model(ConditionalRNN, i)\n",
    "predictions = ConditionalRNN.predict([test_inputs['X'],test_c1,test_c2])\n",
    "eval_df = create_evaluation_df(predictions, test_inputs, HORIZON, y_scaler)\n",
    "mae = validation(eval_df['prediction'], eval_df['actual'], 'MAE')\n",
    "rmse = validation(eval_df['prediction'], eval_df['actual'], 'RMSE')"
   ]
  },
  {
   "cell_type": "code",
   "execution_count": 21,
   "metadata": {},
   "outputs": [
    {
     "name": "stdout",
     "output_type": "stream",
     "text": [
      "Epoch 1/100\n",
      "WARNING:tensorflow:Layers in a Sequential model should only have a single input tensor, but we receive a <class 'tuple'> input: (<tf.Tensor 'IteratorGetNext:0' shape=(None, 24, 5) dtype=float32>, <tf.Tensor 'IteratorGetNext:1' shape=(None, 8) dtype=float64>, <tf.Tensor 'IteratorGetNext:2' shape=(None, 2) dtype=float64>)\n",
      "Consider rewriting this model with the Functional API.\n",
      "WARNING:tensorflow:Layer dense_27 is casting an input tensor from dtype float64 to the layer's dtype of float32, which is new behavior in TensorFlow 2.  The layer has dtype float32 because its dtype defaults to floatx.\n",
      "\n",
      "If you intended to run this layer in float32, you can safely ignore this warning. If in doubt, this warning is likely only an issue if you are porting a TensorFlow 1.X model to TensorFlow 2.\n",
      "\n",
      "To change all layers to have dtype float64 by default, call `tf.keras.backend.set_floatx('float64')`. To change just this layer, pass dtype='float64' to the layer constructor. If you are the author of this layer, you can disable autocasting by passing autocast=False to the base Layer constructor.\n",
      "\n",
      "WARNING:tensorflow:Layer dense_28 is casting an input tensor from dtype float64 to the layer's dtype of float32, which is new behavior in TensorFlow 2.  The layer has dtype float32 because its dtype defaults to floatx.\n",
      "\n",
      "If you intended to run this layer in float32, you can safely ignore this warning. If in doubt, this warning is likely only an issue if you are porting a TensorFlow 1.X model to TensorFlow 2.\n",
      "\n",
      "To change all layers to have dtype float64 by default, call `tf.keras.backend.set_floatx('float64')`. To change just this layer, pass dtype='float64' to the layer constructor. If you are the author of this layer, you can disable autocasting by passing autocast=False to the base Layer constructor.\n",
      "\n",
      "WARNING:tensorflow:Layers in a Sequential model should only have a single input tensor, but we receive a <class 'tuple'> input: (<tf.Tensor 'IteratorGetNext:0' shape=(None, 24, 5) dtype=float32>, <tf.Tensor 'IteratorGetNext:1' shape=(None, 8) dtype=float64>, <tf.Tensor 'IteratorGetNext:2' shape=(None, 2) dtype=float64>)\n",
      "Consider rewriting this model with the Functional API.\n",
      "36/38 [===========================>..] - ETA: 0s - loss: 0.1319 - mean_squared_error: 0.1319WARNING:tensorflow:Layers in a Sequential model should only have a single input tensor, but we receive a <class 'tuple'> input: (<tf.Tensor 'IteratorGetNext:0' shape=(None, 24, 5) dtype=float32>, <tf.Tensor 'IteratorGetNext:1' shape=(None, 8) dtype=float64>, <tf.Tensor 'IteratorGetNext:2' shape=(None, 2) dtype=float64>)\n",
      "Consider rewriting this model with the Functional API.\n",
      "38/38 [==============================] - 1s 23ms/step - loss: 0.1285 - mean_squared_error: 0.1285 - val_loss: 0.0627 - val_mean_squared_error: 0.0627\n",
      "Epoch 2/100\n",
      "38/38 [==============================] - 1s 16ms/step - loss: 0.0539 - mean_squared_error: 0.0539 - val_loss: 0.0586 - val_mean_squared_error: 0.0586\n",
      "Epoch 3/100\n",
      "38/38 [==============================] - 1s 14ms/step - loss: 0.0498 - mean_squared_error: 0.0498 - val_loss: 0.0569 - val_mean_squared_error: 0.0569\n",
      "Epoch 4/100\n",
      "38/38 [==============================] - 1s 13ms/step - loss: 0.0451 - mean_squared_error: 0.0451 - val_loss: 0.0553 - val_mean_squared_error: 0.0553\n",
      "Epoch 5/100\n",
      "38/38 [==============================] - 1s 13ms/step - loss: 0.0402 - mean_squared_error: 0.0402 - val_loss: 0.0589 - val_mean_squared_error: 0.0589\n",
      "Epoch 6/100\n",
      "38/38 [==============================] - 1s 16ms/step - loss: 0.0366 - mean_squared_error: 0.0366 - val_loss: 0.0560 - val_mean_squared_error: 0.0560\n",
      "Epoch 7/100\n",
      "38/38 [==============================] - 1s 15ms/step - loss: 0.0345 - mean_squared_error: 0.0345 - val_loss: 0.0580 - val_mean_squared_error: 0.0580\n",
      "Epoch 8/100\n",
      "38/38 [==============================] - 1s 14ms/step - loss: 0.0325 - mean_squared_error: 0.0325 - val_loss: 0.0583 - val_mean_squared_error: 0.0583\n",
      "Epoch 9/100\n",
      "38/38 [==============================] - 1s 15ms/step - loss: 0.0316 - mean_squared_error: 0.0316 - val_loss: 0.0555 - val_mean_squared_error: 0.0555\n",
      "Epoch 10/100\n",
      "38/38 [==============================] - 1s 15ms/step - loss: 0.0307 - mean_squared_error: 0.0307 - val_loss: 0.0553 - val_mean_squared_error: 0.0553\n",
      "Epoch 11/100\n",
      "38/38 [==============================] - 1s 15ms/step - loss: 0.0294 - mean_squared_error: 0.0294 - val_loss: 0.0606 - val_mean_squared_error: 0.0606\n",
      "Epoch 12/100\n",
      "38/38 [==============================] - 1s 16ms/step - loss: 0.0272 - mean_squared_error: 0.0272 - val_loss: 0.0574 - val_mean_squared_error: 0.0574\n",
      "Epoch 13/100\n",
      "38/38 [==============================] - 1s 14ms/step - loss: 0.0263 - mean_squared_error: 0.0263 - val_loss: 0.0610 - val_mean_squared_error: 0.0610\n",
      "Epoch 14/100\n",
      "38/38 [==============================] - 1s 15ms/step - loss: 0.0245 - mean_squared_error: 0.0245 - val_loss: 0.0599 - val_mean_squared_error: 0.0599\n",
      "WARNING:tensorflow:Layers in a Sequential model should only have a single input tensor, but we receive a <class 'tuple'> input: (<tf.Tensor 'IteratorGetNext:0' shape=(None, 24, 5) dtype=float32>, <tf.Tensor 'IteratorGetNext:1' shape=(None, 8) dtype=float64>, <tf.Tensor 'IteratorGetNext:2' shape=(None, 2) dtype=float64>)\n",
      "Consider rewriting this model with the Functional API.\n"
     ]
    }
   ],
   "source": [
    "NUM_CELLS = 32\n",
    "MAX_EPOCHS = 100\n",
    "BATCHSIZE = 32\n",
    "patience = 10\n",
    "HORIZON = 24\n",
    "# ConditionalRNN with the functional API.\n",
    "#i = Input(shape=[HORIZON, 5], name='time-series')\n",
    "#c1 = Input(shape=[8], name='one-hot')\n",
    "#c2 = Input(shape=[2], name='lags-as-features')\n",
    "# add the condition tensor here.\n",
    "#x = ConditionalRNN(NUM_CELLS, cell='LSTM', name='cond_rnn_0')([i, c1, c2])\n",
    "# Dense layer to output\n",
    "#x = Dense(HORIZON)(x)\n",
    "#ConditionalRNN = Model(inputs=[i, c1, c2], outputs=[x])\n",
    "\n",
    "ConditionalRNN = Sequential(layers=[ConditionalRNN(NUM_CELLS, cell='LSTM'),\n",
    "                                    Dense(HORIZON)])\n",
    "\n",
    "\n",
    "train_inputs, test_inputs, train_c1, test_c1, train_c2, test_c2, y_scaler = ConditionalRNN_data_preparation(df, n_test=1465)\n",
    "# full data LSTM MIMO compilation and fit\n",
    "ConditionalRNN.compile(optimizer=tf.optimizers.Adam(), loss='mse', metrics=[tf.metrics.MeanSquaredError()])\n",
    "early_stopping = tf.keras.callbacks.EarlyStopping(monitor='val_loss', patience=patience, mode='min')\n",
    "\n",
    "history = ConditionalRNN.fit([train_inputs['X'],train_c1,train_c2], train_inputs['target'], batch_size=32, epochs=MAX_EPOCHS,\n",
    "              validation_split=0.15,\n",
    "              callbacks=[early_stopping], verbose=1)\n",
    "\n",
    "#save_model(ConditionalRNN, i)\n",
    "predictions = ConditionalRNN.predict([test_inputs['X'],test_c1,test_c2])\n",
    "eval_df = create_evaluation_df(predictions, test_inputs, HORIZON, y_scaler)\n",
    "mae = validation(eval_df['prediction'], eval_df['actual'], 'MAE')\n",
    "rmse = validation(eval_df['prediction'], eval_df['actual'], 'RMSE')"
   ]
  },
  {
   "cell_type": "code",
   "execution_count": 32,
   "metadata": {},
   "outputs": [
    {
     "name": "stdout",
     "output_type": "stream",
     "text": [
      "rmse 144.85390394635806\n",
      "mae 99.88938762305449\n"
     ]
    }
   ],
   "source": [
    "print('rmse {}'.format(rmse))\n",
    "print('mae {}'.format(mae))"
   ]
  },
  {
   "cell_type": "code",
   "execution_count": 36,
   "metadata": {},
   "outputs": [],
   "source": [
    "eval_df.to_csv('Dieteren-forecast_2months.csv')"
   ]
  },
  {
   "cell_type": "code",
   "execution_count": 28,
   "metadata": {},
   "outputs": [],
   "source": [
    "train_inputs, test_inputs, y_scaler = MIMO_fulldata_preparation(df)"
   ]
  },
  {
   "cell_type": "code",
   "execution_count": 35,
   "metadata": {},
   "outputs": [
    {
     "data": {
      "text/plain": [
       "(4333, 24, 15)"
      ]
     },
     "execution_count": 35,
     "metadata": {},
     "output_type": "execute_result"
    }
   ],
   "source": [
    "train_inputs['X'].shape"
   ]
  },
  {
   "cell_type": "code",
   "execution_count": 39,
   "metadata": {},
   "outputs": [
    {
     "name": "stdout",
     "output_type": "stream",
     "text": [
      "Epoch 1/100\n",
      "116/116 [==============================] - 2s 17ms/step - loss: 0.0908 - mean_squared_error: 0.0908 - val_loss: 0.0495 - val_mean_squared_error: 0.0495\n",
      "Epoch 2/100\n",
      "116/116 [==============================] - 1s 13ms/step - loss: 0.0444 - mean_squared_error: 0.0444 - val_loss: 0.0440 - val_mean_squared_error: 0.0440\n",
      "Epoch 3/100\n",
      "116/116 [==============================] - 1s 13ms/step - loss: 0.0371 - mean_squared_error: 0.0371 - val_loss: 0.0371 - val_mean_squared_error: 0.0371\n",
      "Epoch 4/100\n",
      "116/116 [==============================] - 1s 12ms/step - loss: 0.0281 - mean_squared_error: 0.0281 - val_loss: 0.0329 - val_mean_squared_error: 0.0329\n",
      "Epoch 5/100\n",
      "116/116 [==============================] - 1s 13ms/step - loss: 0.0253 - mean_squared_error: 0.0253 - val_loss: 0.0328 - val_mean_squared_error: 0.0328\n",
      "Epoch 6/100\n",
      "116/116 [==============================] - 1s 12ms/step - loss: 0.0241 - mean_squared_error: 0.0241 - val_loss: 0.0297 - val_mean_squared_error: 0.0297\n",
      "Epoch 7/100\n",
      "116/116 [==============================] - 1s 12ms/step - loss: 0.0228 - mean_squared_error: 0.0228 - val_loss: 0.0336 - val_mean_squared_error: 0.0336\n",
      "Epoch 8/100\n",
      "116/116 [==============================] - 1s 12ms/step - loss: 0.0219 - mean_squared_error: 0.0219 - val_loss: 0.0314 - val_mean_squared_error: 0.0314\n",
      "Epoch 9/100\n",
      "116/116 [==============================] - 1s 12ms/step - loss: 0.0211 - mean_squared_error: 0.0211 - val_loss: 0.0326 - val_mean_squared_error: 0.0326\n",
      "Epoch 10/100\n",
      "116/116 [==============================] - 1s 13ms/step - loss: 0.0205 - mean_squared_error: 0.0205 - val_loss: 0.0426 - val_mean_squared_error: 0.0426\n",
      "Epoch 11/100\n",
      "116/116 [==============================] - 1s 12ms/step - loss: 0.0201 - mean_squared_error: 0.0201 - val_loss: 0.0329 - val_mean_squared_error: 0.0329\n",
      "Epoch 12/100\n",
      "116/116 [==============================] - 1s 12ms/step - loss: 0.0194 - mean_squared_error: 0.0194 - val_loss: 0.0359 - val_mean_squared_error: 0.0359\n",
      "Epoch 13/100\n",
      "116/116 [==============================] - 1s 13ms/step - loss: 0.0192 - mean_squared_error: 0.0192 - val_loss: 0.0406 - val_mean_squared_error: 0.0406\n",
      "Epoch 14/100\n",
      "116/116 [==============================] - 1s 12ms/step - loss: 0.0185 - mean_squared_error: 0.0185 - val_loss: 0.0341 - val_mean_squared_error: 0.0341\n",
      "Epoch 15/100\n",
      "116/116 [==============================] - 1s 12ms/step - loss: 0.0183 - mean_squared_error: 0.0183 - val_loss: 0.0314 - val_mean_squared_error: 0.0314\n",
      "Epoch 16/100\n",
      "116/116 [==============================] - 1s 12ms/step - loss: 0.0180 - mean_squared_error: 0.0180 - val_loss: 0.0355 - val_mean_squared_error: 0.0355\n"
     ]
    }
   ],
   "source": [
    "NUM_CELLS = 32\n",
    "MAX_EPOCHS = 100\n",
    "BATCHSIZE = 32\n",
    "patience = 10\n",
    "HORIZON = 24\n",
    "\n",
    "LSTMIMO = tf.keras.models.Sequential([\n",
    "    # Shape [batch, time, features] => [batch, time, lstm_units]\n",
    "    tf.keras.layers.LSTM(32, input_shape=(24, 15)),\n",
    "    # Shape => [batch, time, features]\n",
    "    tf.keras.layers.Dense(HORIZON)\n",
    "])\n",
    "\n",
    "train_inputs, test_inputs, y_scaler = MIMO_fulldata_preparation(df)\n",
    "# full data LSTM MIMO compilation and fit\n",
    "LSTMIMO.compile(optimizer=tf.optimizers.Adam(), loss='mse', metrics=[tf.metrics.MeanSquaredError()])\n",
    "early_stopping = tf.keras.callbacks.EarlyStopping(monitor='val_loss', patience=patience, mode='min')\n",
    "\n",
    "history = LSTMIMO.fit(train_inputs['X'], train_inputs['target'], batch_size=32, epochs=MAX_EPOCHS, validation_split=0.15,\n",
    "                      callbacks=[early_stopping], verbose=1)\n",
    "\n",
    "predictions = LSTMIMO.predict(test_inputs['X'])\n",
    "eval_df = create_evaluation_df(predictions, test_inputs, HORIZON, y_scaler)\n",
    "mae = validation(eval_df['prediction'], eval_df['actual'], 'MAE')\n",
    "rmse = validation(eval_df['prediction'], eval_df['actual'], 'RMSE')"
   ]
  },
  {
   "cell_type": "code",
   "execution_count": 40,
   "metadata": {},
   "outputs": [
    {
     "name": "stdout",
     "output_type": "stream",
     "text": [
      "rmse 144.90271518363247\n",
      "mae 99.66371330971452\n"
     ]
    }
   ],
   "source": [
    "print('rmse {}'.format(rmse))\n",
    "print('mae {}'.format(mae))"
   ]
  },
  {
   "cell_type": "code",
   "execution_count": null,
   "metadata": {},
   "outputs": [],
   "source": []
  }
 ],
 "metadata": {
  "kernelspec": {
   "display_name": "Python [conda env:evgeny] *",
   "language": "python",
   "name": "conda-env-evgeny-py"
  },
  "language_info": {
   "codemirror_mode": {
    "name": "ipython",
    "version": 3
   },
   "file_extension": ".py",
   "mimetype": "text/x-python",
   "name": "python",
   "nbconvert_exporter": "python",
   "pygments_lexer": "ipython3",
   "version": "3.8.6"
  }
 },
 "nbformat": 4,
 "nbformat_minor": 5
}
