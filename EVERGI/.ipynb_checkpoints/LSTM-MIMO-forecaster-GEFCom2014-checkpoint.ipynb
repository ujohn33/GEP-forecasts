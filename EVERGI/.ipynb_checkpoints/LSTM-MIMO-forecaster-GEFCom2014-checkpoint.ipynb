{
 "cells": [
  {
   "cell_type": "code",
   "execution_count": 188,
   "metadata": {},
   "outputs": [],
   "source": [
    "import datetime\n",
    "import sys\n",
    "import os\n",
    "\n",
    "import IPython\n",
    "import IPython.display\n",
    "import matplotlib as mpl\n",
    "import matplotlib.pyplot as plt\n",
    "import numpy as np\n",
    "import pandas as pd\n",
    "import seaborn as sns\n",
    "import tensorflow as tf\n",
    "import itertools\n",
    "from workalendar.usa import Texas\n",
    "from tensorflow.keras.layers import Dense\n",
    "from tensorflow.keras.models import Sequential\n",
    "from cond_rnn import ConditionalRNN\n",
    "from sklearn.preprocessing import MinMaxScaler\n",
    "from collections import UserDict\n",
    "from sklearn.metrics import mean_squared_error\n",
    "\n",
    "from src.functions import load_data, mape, TimeSeriesTensor, create_evaluation_df, series_to_supervised\n",
    "\n",
    "np.set_printoptions(threshold=sys.maxsize)\n",
    "mpl.rcParams['figure.figsize'] = (8, 6)\n",
    "mpl.rcParams['axes.grid'] = False\n",
    "DAYS_IN_YEAR = 365\n",
    "HOURS_IN_DAY = 24\n",
    "DAYS_OF_WEEK = ['week_1','week_2','week_3','week_4','week_5','week_6','week_7']\n",
    "MINUTES_IN_HOUR = 60\n",
    "SECONDS_IN_MINUTE = 60\n",
    "MINUTES_IN_DAY = MINUTES_IN_HOUR * HOURS_IN_DAY"
   ]
  },
  {
   "cell_type": "code",
   "execution_count": 2,
   "metadata": {},
   "outputs": [],
   "source": [
    "def get_fractional_hour_from_series(series: pd.Series) -> pd.Series:\n",
    "    \"\"\"\n",
    "    Return fractional hour in range 0-24, e.g. 12h30m --> 12.5.\n",
    "    Accurate to 1 minute.\n",
    "    \"\"\"\n",
    "    hour = series.hour\n",
    "    minute = series.minute\n",
    "    return hour + minute / MINUTES_IN_HOUR\n",
    "\n",
    "def get_fractional_day_from_series(series: pd.Series) -> pd.Series:\n",
    "    \"\"\"\n",
    "    Return fractional day in range 0-1, e.g. 12h30m --> 0.521.\n",
    "    Accurate to 1 minute\n",
    "    \"\"\"\n",
    "    fractional_hours = get_fractional_hour_from_series(series)\n",
    "    return fractional_hours / HOURS_IN_DAY\n",
    "\n",
    "def get_fractional_year_from_series(series: pd.Series) -> pd.Series:\n",
    "    \"\"\"\n",
    "    Return fractional year in range 0-1.\n",
    "    Accurate to 1 day\n",
    "    \"\"\"\n",
    "    return (series.dayofyear - 1) / DAYS_IN_YEAR\n",
    "\n",
    "def normalize(self, tensor):\n",
    "    self.scaler = MinMaxScaler(feature_range=(0, 1))\n",
    "    tensor = self.scaler.fit_transform(tensor)\n",
    "    return tensor\n",
    "\n",
    "def preprocess(dataframe):\n",
    "    dataframe.index = pd.to_datetime(dataframe.index)\n",
    "    # Removing duplicates\n",
    "    dataframe = dataframe[~dataframe.index.duplicated()]\n",
    "\n",
    "    #Filling NaN values\n",
    "    dataframe = dataframe.interpolate()\n",
    "\n",
    "    # Setting the calendar holidats\n",
    "    cal = Texas()\n",
    "    years = list(range(2014, 2025))\n",
    "    holidays = []\n",
    "    for year in years:\n",
    "        holidays.extend(cal.holidays(year))\n",
    "\n",
    "    dataframe = dataframe.sort_index()\n",
    "\n",
    "    #print('preprocess:')\n",
    "    #print(dataframe.columns)\n",
    "    # Rename the target column to 'Valeur' for convenience\n",
    "    dataframe.rename(columns={dataframe.columns[0]: 'value'}, inplace=True)\n",
    "\n",
    "    # Logarithmic transform add 1 for non-negative data (zeros in the series)\n",
    "    #dataframe[self.Y_var] = log(dataframe[self.Y_var] + 1)\n",
    "\n",
    "    #working day {0,1}\n",
    "    dataframe['working day'] = dataframe.index.map(cal.is_working_day).astype(np.float32)\n",
    "\n",
    "    #fractional hour [0,1]\n",
    "    dataframe['fractional hour'] = get_fractional_day_from_series(dataframe.index)\n",
    "\n",
    "    # day of week one-hot encoded\n",
    "    dataframe['day of week'] = dataframe.index.dayofweek + 1\n",
    "    dataframe['day of week'] = pd.Categorical(dataframe['day of week'], categories=[1,2,3,4,5,6,7], ordered=True)\n",
    "    dataframe = pd.get_dummies(dataframe,prefix=['week'], columns = ['day of week'], drop_first=False)\n",
    "    #dataframe = pd.concat([dataframe, pd.DataFrame(columns=DAYS_OF_WEEK)]).fillna(0)\n",
    "\n",
    "\n",
    "    # fractional day of year\n",
    "    dataframe['day of year'] = get_fractional_year_from_series(dataframe.index)\n",
    "\n",
    "    # we encode cynical data into two dimensions using a sine and cosine transformations\n",
    "    def encode(data, col, max_val):\n",
    "        data[col + '_sin'] = np.sin(2 * np.pi * data[col]/max_val)\n",
    "        data[col + '_cos'] = np.cos(2 * np.pi * data[col]/max_val)\n",
    "        return data\n",
    "    dataframe = encode(dataframe, 'fractional hour', HOURS_IN_DAY)\n",
    "    dataframe = encode(dataframe, 'day of year', DAYS_IN_YEAR)\n",
    "    # dropping original columns\n",
    "    dataframe = dataframe.drop(['fractional hour','day of year'], axis=1)\n",
    "    return dataframe"
   ]
  },
  {
   "cell_type": "code",
   "execution_count": 137,
   "metadata": {},
   "outputs": [],
   "source": [
    "csv_path = '../data/GEFCom2014/gefcom2014.csv'\n",
    "df = pd.read_csv(csv_path, index_col=0)"
   ]
  },
  {
   "cell_type": "code",
   "execution_count": 138,
   "metadata": {},
   "outputs": [],
   "source": [
    "df = preprocess(df)"
   ]
  },
  {
   "cell_type": "code",
   "execution_count": 139,
   "metadata": {},
   "outputs": [
    {
     "data": {
      "text/html": [
       "<div>\n",
       "<style scoped>\n",
       "    .dataframe tbody tr th:only-of-type {\n",
       "        vertical-align: middle;\n",
       "    }\n",
       "\n",
       "    .dataframe tbody tr th {\n",
       "        vertical-align: top;\n",
       "    }\n",
       "\n",
       "    .dataframe thead th {\n",
       "        text-align: right;\n",
       "    }\n",
       "</style>\n",
       "<table border=\"1\" class=\"dataframe\">\n",
       "  <thead>\n",
       "    <tr style=\"text-align: right;\">\n",
       "      <th></th>\n",
       "      <th>value</th>\n",
       "      <th>working day</th>\n",
       "      <th>week_1</th>\n",
       "      <th>week_2</th>\n",
       "      <th>week_3</th>\n",
       "      <th>week_4</th>\n",
       "      <th>week_5</th>\n",
       "      <th>week_6</th>\n",
       "      <th>week_7</th>\n",
       "      <th>fractional hour_sin</th>\n",
       "      <th>fractional hour_cos</th>\n",
       "      <th>day of year_sin</th>\n",
       "      <th>day of year_cos</th>\n",
       "    </tr>\n",
       "    <tr>\n",
       "      <th>datetime</th>\n",
       "      <th></th>\n",
       "      <th></th>\n",
       "      <th></th>\n",
       "      <th></th>\n",
       "      <th></th>\n",
       "      <th></th>\n",
       "      <th></th>\n",
       "      <th></th>\n",
       "      <th></th>\n",
       "      <th></th>\n",
       "      <th></th>\n",
       "      <th></th>\n",
       "      <th></th>\n",
       "    </tr>\n",
       "  </thead>\n",
       "  <tbody>\n",
       "    <tr>\n",
       "      <th>2005-01-01 01:00:00</th>\n",
       "      <td>125.8</td>\n",
       "      <td>0.0</td>\n",
       "      <td>0</td>\n",
       "      <td>0</td>\n",
       "      <td>0</td>\n",
       "      <td>0</td>\n",
       "      <td>0</td>\n",
       "      <td>1</td>\n",
       "      <td>0</td>\n",
       "      <td>0.010908</td>\n",
       "      <td>0.999941</td>\n",
       "      <td>0.000000</td>\n",
       "      <td>1.000000</td>\n",
       "    </tr>\n",
       "    <tr>\n",
       "      <th>2005-01-01 02:00:00</th>\n",
       "      <td>121.8</td>\n",
       "      <td>0.0</td>\n",
       "      <td>0</td>\n",
       "      <td>0</td>\n",
       "      <td>0</td>\n",
       "      <td>0</td>\n",
       "      <td>0</td>\n",
       "      <td>1</td>\n",
       "      <td>0</td>\n",
       "      <td>0.021815</td>\n",
       "      <td>0.999762</td>\n",
       "      <td>0.000000</td>\n",
       "      <td>1.000000</td>\n",
       "    </tr>\n",
       "    <tr>\n",
       "      <th>2005-01-01 03:00:00</th>\n",
       "      <td>117.0</td>\n",
       "      <td>0.0</td>\n",
       "      <td>0</td>\n",
       "      <td>0</td>\n",
       "      <td>0</td>\n",
       "      <td>0</td>\n",
       "      <td>0</td>\n",
       "      <td>1</td>\n",
       "      <td>0</td>\n",
       "      <td>0.032719</td>\n",
       "      <td>0.999465</td>\n",
       "      <td>0.000000</td>\n",
       "      <td>1.000000</td>\n",
       "    </tr>\n",
       "    <tr>\n",
       "      <th>2005-01-01 04:00:00</th>\n",
       "      <td>114.4</td>\n",
       "      <td>0.0</td>\n",
       "      <td>0</td>\n",
       "      <td>0</td>\n",
       "      <td>0</td>\n",
       "      <td>0</td>\n",
       "      <td>0</td>\n",
       "      <td>1</td>\n",
       "      <td>0</td>\n",
       "      <td>0.043619</td>\n",
       "      <td>0.999048</td>\n",
       "      <td>0.000000</td>\n",
       "      <td>1.000000</td>\n",
       "    </tr>\n",
       "    <tr>\n",
       "      <th>2005-01-01 05:00:00</th>\n",
       "      <td>113.6</td>\n",
       "      <td>0.0</td>\n",
       "      <td>0</td>\n",
       "      <td>0</td>\n",
       "      <td>0</td>\n",
       "      <td>0</td>\n",
       "      <td>0</td>\n",
       "      <td>1</td>\n",
       "      <td>0</td>\n",
       "      <td>0.054515</td>\n",
       "      <td>0.998513</td>\n",
       "      <td>0.000000</td>\n",
       "      <td>1.000000</td>\n",
       "    </tr>\n",
       "    <tr>\n",
       "      <th>...</th>\n",
       "      <td>...</td>\n",
       "      <td>...</td>\n",
       "      <td>...</td>\n",
       "      <td>...</td>\n",
       "      <td>...</td>\n",
       "      <td>...</td>\n",
       "      <td>...</td>\n",
       "      <td>...</td>\n",
       "      <td>...</td>\n",
       "      <td>...</td>\n",
       "      <td>...</td>\n",
       "      <td>...</td>\n",
       "      <td>...</td>\n",
       "    </tr>\n",
       "    <tr>\n",
       "      <th>2011-11-30 20:00:00</th>\n",
       "      <td>183.3</td>\n",
       "      <td>1.0</td>\n",
       "      <td>0</td>\n",
       "      <td>0</td>\n",
       "      <td>1</td>\n",
       "      <td>0</td>\n",
       "      <td>0</td>\n",
       "      <td>0</td>\n",
       "      <td>0</td>\n",
       "      <td>0.216440</td>\n",
       "      <td>0.976296</td>\n",
       "      <td>0.015704</td>\n",
       "      <td>0.999877</td>\n",
       "    </tr>\n",
       "    <tr>\n",
       "      <th>2011-11-30 21:00:00</th>\n",
       "      <td>183.3</td>\n",
       "      <td>1.0</td>\n",
       "      <td>0</td>\n",
       "      <td>0</td>\n",
       "      <td>1</td>\n",
       "      <td>0</td>\n",
       "      <td>0</td>\n",
       "      <td>0</td>\n",
       "      <td>0</td>\n",
       "      <td>0.227076</td>\n",
       "      <td>0.973877</td>\n",
       "      <td>0.015704</td>\n",
       "      <td>0.999877</td>\n",
       "    </tr>\n",
       "    <tr>\n",
       "      <th>2011-11-30 22:00:00</th>\n",
       "      <td>178.3</td>\n",
       "      <td>1.0</td>\n",
       "      <td>0</td>\n",
       "      <td>0</td>\n",
       "      <td>1</td>\n",
       "      <td>0</td>\n",
       "      <td>0</td>\n",
       "      <td>0</td>\n",
       "      <td>0</td>\n",
       "      <td>0.237686</td>\n",
       "      <td>0.971342</td>\n",
       "      <td>0.015704</td>\n",
       "      <td>0.999877</td>\n",
       "    </tr>\n",
       "    <tr>\n",
       "      <th>2011-11-30 23:00:00</th>\n",
       "      <td>166.4</td>\n",
       "      <td>1.0</td>\n",
       "      <td>0</td>\n",
       "      <td>0</td>\n",
       "      <td>1</td>\n",
       "      <td>0</td>\n",
       "      <td>0</td>\n",
       "      <td>0</td>\n",
       "      <td>0</td>\n",
       "      <td>0.248267</td>\n",
       "      <td>0.968692</td>\n",
       "      <td>0.015704</td>\n",
       "      <td>0.999877</td>\n",
       "    </tr>\n",
       "    <tr>\n",
       "      <th>2011-12-01 00:00:00</th>\n",
       "      <td>154.9</td>\n",
       "      <td>1.0</td>\n",
       "      <td>0</td>\n",
       "      <td>0</td>\n",
       "      <td>0</td>\n",
       "      <td>1</td>\n",
       "      <td>0</td>\n",
       "      <td>0</td>\n",
       "      <td>0</td>\n",
       "      <td>0.000000</td>\n",
       "      <td>1.000000</td>\n",
       "      <td>0.015752</td>\n",
       "      <td>0.999876</td>\n",
       "    </tr>\n",
       "  </tbody>\n",
       "</table>\n",
       "<p>60600 rows × 13 columns</p>\n",
       "</div>"
      ],
      "text/plain": [
       "                     value  working day  week_1  week_2  week_3  week_4  \\\n",
       "datetime                                                                  \n",
       "2005-01-01 01:00:00  125.8          0.0       0       0       0       0   \n",
       "2005-01-01 02:00:00  121.8          0.0       0       0       0       0   \n",
       "2005-01-01 03:00:00  117.0          0.0       0       0       0       0   \n",
       "2005-01-01 04:00:00  114.4          0.0       0       0       0       0   \n",
       "2005-01-01 05:00:00  113.6          0.0       0       0       0       0   \n",
       "...                    ...          ...     ...     ...     ...     ...   \n",
       "2011-11-30 20:00:00  183.3          1.0       0       0       1       0   \n",
       "2011-11-30 21:00:00  183.3          1.0       0       0       1       0   \n",
       "2011-11-30 22:00:00  178.3          1.0       0       0       1       0   \n",
       "2011-11-30 23:00:00  166.4          1.0       0       0       1       0   \n",
       "2011-12-01 00:00:00  154.9          1.0       0       0       0       1   \n",
       "\n",
       "                     week_5  week_6  week_7  fractional hour_sin  \\\n",
       "datetime                                                           \n",
       "2005-01-01 01:00:00       0       1       0             0.010908   \n",
       "2005-01-01 02:00:00       0       1       0             0.021815   \n",
       "2005-01-01 03:00:00       0       1       0             0.032719   \n",
       "2005-01-01 04:00:00       0       1       0             0.043619   \n",
       "2005-01-01 05:00:00       0       1       0             0.054515   \n",
       "...                     ...     ...     ...                  ...   \n",
       "2011-11-30 20:00:00       0       0       0             0.216440   \n",
       "2011-11-30 21:00:00       0       0       0             0.227076   \n",
       "2011-11-30 22:00:00       0       0       0             0.237686   \n",
       "2011-11-30 23:00:00       0       0       0             0.248267   \n",
       "2011-12-01 00:00:00       0       0       0             0.000000   \n",
       "\n",
       "                     fractional hour_cos  day of year_sin  day of year_cos  \n",
       "datetime                                                                    \n",
       "2005-01-01 01:00:00             0.999941         0.000000         1.000000  \n",
       "2005-01-01 02:00:00             0.999762         0.000000         1.000000  \n",
       "2005-01-01 03:00:00             0.999465         0.000000         1.000000  \n",
       "2005-01-01 04:00:00             0.999048         0.000000         1.000000  \n",
       "2005-01-01 05:00:00             0.998513         0.000000         1.000000  \n",
       "...                                  ...              ...              ...  \n",
       "2011-11-30 20:00:00             0.976296         0.015704         0.999877  \n",
       "2011-11-30 21:00:00             0.973877         0.015704         0.999877  \n",
       "2011-11-30 22:00:00             0.971342         0.015704         0.999877  \n",
       "2011-11-30 23:00:00             0.968692         0.015704         0.999877  \n",
       "2011-12-01 00:00:00             1.000000         0.015752         0.999876  \n",
       "\n",
       "[60600 rows x 13 columns]"
      ]
     },
     "execution_count": 139,
     "metadata": {},
     "output_type": "execute_result"
    }
   ],
   "source": [
    "df"
   ]
  },
  {
   "cell_type": "code",
   "execution_count": 140,
   "metadata": {},
   "outputs": [],
   "source": [
    "c1 = df.iloc[:,1:9]\n",
    "c2 = series_to_supervised(df)\n",
    "short_df = df.iloc[:,[0,1,-4,-3,-2,-1]].copy()\n",
    "c1 = c1.loc[c2.index]\n",
    "short_df = short_df['2005-01-07 02:00:00':]"
   ]
  },
  {
   "cell_type": "code",
   "execution_count": 141,
   "metadata": {},
   "outputs": [],
   "source": [
    "test_df = short_df.copy()[-8928:]\n",
    "test_c1 = c1.copy()[-8928:]\n",
    "test_c2 = c2.copy()[-8928:]\n",
    "\n",
    "n_test = len(test_df)\n",
    "index = len(df) - n_test\n",
    "train_val_split = 0\n",
    "\n",
    "train_df = short_df.copy()[:int(index * (1-train_val_split))]\n",
    "train_c1 = c1.copy()[:int(index * (1-train_val_split))]\n",
    "train_c2 = c2.copy()[:int(index * (1-train_val_split))]\n",
    "\n",
    "val_df = short_df.copy()[int(index * (1-train_val_split)):index]\n",
    "val_c1 = c1.copy()[:int(index * (1-train_val_split))]\n",
    "val_c2 = c2.copy()[:int(index * (1-train_val_split))]\n",
    "\n",
    "num_features = df.shape[1]"
   ]
  },
  {
   "cell_type": "code",
   "execution_count": 142,
   "metadata": {},
   "outputs": [
    {
     "data": {
      "text/plain": [
       "MinMaxScaler()"
      ]
     },
     "execution_count": 142,
     "metadata": {},
     "output_type": "execute_result"
    }
   ],
   "source": [
    "y_scaler = MinMaxScaler()\n",
    "y_scaler.fit(train_df[['value']])"
   ]
  },
  {
   "cell_type": "code",
   "execution_count": 143,
   "metadata": {},
   "outputs": [],
   "source": [
    "train_c2[['value(t-24)']] = y_scaler.fit_transform(train_c2[['value(t-24)']])"
   ]
  },
  {
   "cell_type": "code",
   "execution_count": 144,
   "metadata": {},
   "outputs": [],
   "source": [
    "train_c2[['value(t-168)']] = y_scaler.fit_transform(train_c2[['value(t-168)']])"
   ]
  },
  {
   "cell_type": "code",
   "execution_count": 145,
   "metadata": {},
   "outputs": [],
   "source": [
    "X_scaler = MinMaxScaler()\n",
    "train_df[train_df.columns] = X_scaler.fit_transform(train_df)\n",
    "test_df[train_df.columns] = X_scaler.fit_transform(test_df)"
   ]
  },
  {
   "cell_type": "code",
   "execution_count": 146,
   "metadata": {},
   "outputs": [],
   "source": [
    "T = 24\n",
    "HORIZON = 24\n",
    "tensor_structure = {'X':(range(-T+1, 1), ['value','fractional hour_sin','fractional hour_cos','day of year_sin','day of year_cos'])}\n",
    "train_inputs = TimeSeriesTensor(train_df, 'value', HORIZON, tensor_structure)"
   ]
  },
  {
   "cell_type": "code",
   "execution_count": 147,
   "metadata": {},
   "outputs": [],
   "source": [
    "test_inputs = TimeSeriesTensor(test_df, 'value', HORIZON, tensor_structure)"
   ]
  },
  {
   "cell_type": "code",
   "execution_count": 148,
   "metadata": {},
   "outputs": [
    {
     "name": "stdout",
     "output_type": "stream",
     "text": [
      "(51625, 144)\n",
      "(60432, 8)\n",
      "(60432, 2)\n"
     ]
    }
   ],
   "source": [
    "print(train_inputs.dataframe.shape)\n",
    "print(c1.shape)\n",
    "print(c2.shape)"
   ]
  },
  {
   "cell_type": "code",
   "execution_count": 149,
   "metadata": {},
   "outputs": [],
   "source": [
    "train_c1 = c1.reindex(train_inputs.dataframe.index)\n",
    "train_c2 = c2.reindex(train_inputs.dataframe.index)"
   ]
  },
  {
   "cell_type": "code",
   "execution_count": 150,
   "metadata": {},
   "outputs": [],
   "source": [
    "test_c1 = c1.reindex(test_inputs.dataframe.index)\n",
    "test_c2 = c2.reindex(test_inputs.dataframe.index)"
   ]
  },
  {
   "cell_type": "code",
   "execution_count": 151,
   "metadata": {},
   "outputs": [
    {
     "name": "stdout",
     "output_type": "stream",
     "text": [
      "(51625, 144)\n",
      "(51625, 8)\n",
      "(51625, 2)\n"
     ]
    }
   ],
   "source": [
    "print(train_inputs.dataframe.shape)\n",
    "print(train_c1.shape)\n",
    "print(train_c2.shape)"
   ]
  },
  {
   "cell_type": "code",
   "execution_count": null,
   "metadata": {},
   "outputs": [],
   "source": []
  },
  {
   "cell_type": "code",
   "execution_count": 262,
   "metadata": {},
   "outputs": [],
   "source": [
    "# FULL DATA\n",
    "longer_df = df.copy()\n",
    "#longer_df = longer_df['2012-01-07 02:00:00':]\n",
    "longer_df = longer_df.merge(series_to_supervised(longer_df), how='right', left_index=True, right_index=True)"
   ]
  },
  {
   "cell_type": "code",
   "execution_count": 263,
   "metadata": {},
   "outputs": [],
   "source": [
    "# FULL DATA\n",
    "test_longer_df = longer_df[-8928:].copy()\n",
    "train_longer_df = longer_df[:-len(test_longer_df)].copy()"
   ]
  },
  {
   "cell_type": "code",
   "execution_count": 264,
   "metadata": {},
   "outputs": [],
   "source": [
    "# FULL DATA\n",
    "long_scaler = MinMaxScaler()\n",
    "test_longer_df[test_longer_df.columns] = X_scaler.fit_transform(test_longer_df)\n",
    "train_longer_df[train_longer_df.columns] = X_scaler.fit_transform(train_longer_df)"
   ]
  },
  {
   "cell_type": "code",
   "execution_count": 265,
   "metadata": {},
   "outputs": [],
   "source": [
    "# FULL DATA\n",
    "T = 24\n",
    "HORIZON = 24\n",
    "tensor_structure = {'X':(range(-T+1, 1), train_longer_df.columns)}\n",
    "train_longer_inputs = TimeSeriesTensor(train_longer_df, 'value', HORIZON, tensor_structure)\n",
    "test_longer_inputs = TimeSeriesTensor(test_longer_df, 'value', HORIZON, tensor_structure)"
   ]
  },
  {
   "cell_type": "code",
   "execution_count": null,
   "metadata": {},
   "outputs": [],
   "source": []
  },
  {
   "cell_type": "code",
   "execution_count": 234,
   "metadata": {},
   "outputs": [],
   "source": [
    "df_lags = short_df.merge(series_to_supervised(df), how='right', left_index=True, right_index=True)"
   ]
  },
  {
   "cell_type": "code",
   "execution_count": 235,
   "metadata": {},
   "outputs": [],
   "source": [
    "test_df_lags = df_lags[-8928:].copy()\n",
    "train_df_lags = df_lags[:-len(test_df_lags)].copy()"
   ]
  },
  {
   "cell_type": "code",
   "execution_count": 236,
   "metadata": {},
   "outputs": [],
   "source": [
    "train_Y_df_lags = train_df_lags.iloc[:,0]\n",
    "test_Y_df_lags = test_df_lags.iloc[:,0]"
   ]
  },
  {
   "cell_type": "code",
   "execution_count": 237,
   "metadata": {},
   "outputs": [],
   "source": [
    "X_lags_scaler = MinMaxScaler()\n",
    "train_df_lags[train_df_lags.columns] = X_lags_scaler.fit_transform(train_df_lags)\n",
    "test_df_lags[test_df_lags.columns] = X_lags_scaler.fit_transform(test_df_lags)"
   ]
  },
  {
   "cell_type": "code",
   "execution_count": 238,
   "metadata": {},
   "outputs": [],
   "source": [
    "train_X_df_lags = train_df_lags.iloc[:,1:]\n",
    "test_X_df_lags = test_df_lags.iloc[:,1:]"
   ]
  },
  {
   "cell_type": "code",
   "execution_count": 239,
   "metadata": {},
   "outputs": [],
   "source": [
    "train_Y1_df_lags = train_df_lags.iloc[:,0]\n",
    "test_Y1_df_lags = test_df_lags.iloc[:,0]"
   ]
  },
  {
   "cell_type": "code",
   "execution_count": 240,
   "metadata": {},
   "outputs": [],
   "source": [
    "train_X_df_lags = np.asarray(train_X_df_lags).reshape((train_X_df_lags.shape[0], 1, train_X_df_lags.shape[1]))\n",
    "test_X_df_lags = np.asarray(test_X_df_lags).reshape((test_X_df_lags.shape[0], 1, test_X_df_lags.shape[1]))"
   ]
  },
  {
   "cell_type": "code",
   "execution_count": 31,
   "metadata": {},
   "outputs": [
    {
     "name": "stdout",
     "output_type": "stream",
     "text": [
      "[('target', 'y', 't+1') ('target', 'y', 't+2') ('target', 'y', 't+3')\n",
      " ('target', 'y', 't+4') ('target', 'y', 't+5') ('target', 'y', 't+6')\n",
      " ('target', 'y', 't+7') ('target', 'y', 't+8') ('target', 'y', 't+9')\n",
      " ('target', 'y', 't+10') ('target', 'y', 't+11') ('target', 'y', 't+12')\n",
      " ('target', 'y', 't+13') ('target', 'y', 't+14') ('target', 'y', 't+15')\n",
      " ('target', 'y', 't+16') ('target', 'y', 't+17') ('target', 'y', 't+18')\n",
      " ('target', 'y', 't+19') ('target', 'y', 't+20') ('target', 'y', 't+21')\n",
      " ('target', 'y', 't+22') ('target', 'y', 't+23') ('target', 'y', 't+24')\n",
      " ('X', 'value', 't-23') ('X', 'value', 't-22') ('X', 'value', 't-21')\n",
      " ('X', 'value', 't-20') ('X', 'value', 't-19') ('X', 'value', 't-18')\n",
      " ('X', 'value', 't-17') ('X', 'value', 't-16') ('X', 'value', 't-15')\n",
      " ('X', 'value', 't-14') ('X', 'value', 't-13') ('X', 'value', 't-12')\n",
      " ('X', 'value', 't-11') ('X', 'value', 't-10') ('X', 'value', 't-9')\n",
      " ('X', 'value', 't-8') ('X', 'value', 't-7') ('X', 'value', 't-6')\n",
      " ('X', 'value', 't-5') ('X', 'value', 't-4') ('X', 'value', 't-3')\n",
      " ('X', 'value', 't-2') ('X', 'value', 't-1') ('X', 'value', 't')\n",
      " ('X', 'fractional hour_sin', 't-23') ('X', 'fractional hour_sin', 't-22')\n",
      " ('X', 'fractional hour_sin', 't-21') ('X', 'fractional hour_sin', 't-20')\n",
      " ('X', 'fractional hour_sin', 't-19') ('X', 'fractional hour_sin', 't-18')\n",
      " ('X', 'fractional hour_sin', 't-17') ('X', 'fractional hour_sin', 't-16')\n",
      " ('X', 'fractional hour_sin', 't-15') ('X', 'fractional hour_sin', 't-14')\n",
      " ('X', 'fractional hour_sin', 't-13') ('X', 'fractional hour_sin', 't-12')\n",
      " ('X', 'fractional hour_sin', 't-11') ('X', 'fractional hour_sin', 't-10')\n",
      " ('X', 'fractional hour_sin', 't-9') ('X', 'fractional hour_sin', 't-8')\n",
      " ('X', 'fractional hour_sin', 't-7') ('X', 'fractional hour_sin', 't-6')\n",
      " ('X', 'fractional hour_sin', 't-5') ('X', 'fractional hour_sin', 't-4')\n",
      " ('X', 'fractional hour_sin', 't-3') ('X', 'fractional hour_sin', 't-2')\n",
      " ('X', 'fractional hour_sin', 't-1') ('X', 'fractional hour_sin', 't')\n",
      " ('X', 'fractional hour_cos', 't-23') ('X', 'fractional hour_cos', 't-22')\n",
      " ('X', 'fractional hour_cos', 't-21') ('X', 'fractional hour_cos', 't-20')\n",
      " ('X', 'fractional hour_cos', 't-19') ('X', 'fractional hour_cos', 't-18')\n",
      " ('X', 'fractional hour_cos', 't-17') ('X', 'fractional hour_cos', 't-16')\n",
      " ('X', 'fractional hour_cos', 't-15') ('X', 'fractional hour_cos', 't-14')\n",
      " ('X', 'fractional hour_cos', 't-13') ('X', 'fractional hour_cos', 't-12')\n",
      " ('X', 'fractional hour_cos', 't-11') ('X', 'fractional hour_cos', 't-10')\n",
      " ('X', 'fractional hour_cos', 't-9') ('X', 'fractional hour_cos', 't-8')\n",
      " ('X', 'fractional hour_cos', 't-7') ('X', 'fractional hour_cos', 't-6')\n",
      " ('X', 'fractional hour_cos', 't-5') ('X', 'fractional hour_cos', 't-4')\n",
      " ('X', 'fractional hour_cos', 't-3') ('X', 'fractional hour_cos', 't-2')\n",
      " ('X', 'fractional hour_cos', 't-1') ('X', 'fractional hour_cos', 't')\n",
      " ('X', 'day of year_sin', 't-23') ('X', 'day of year_sin', 't-22')\n",
      " ('X', 'day of year_sin', 't-21') ('X', 'day of year_sin', 't-20')\n",
      " ('X', 'day of year_sin', 't-19') ('X', 'day of year_sin', 't-18')\n",
      " ('X', 'day of year_sin', 't-17') ('X', 'day of year_sin', 't-16')\n",
      " ('X', 'day of year_sin', 't-15') ('X', 'day of year_sin', 't-14')\n",
      " ('X', 'day of year_sin', 't-13') ('X', 'day of year_sin', 't-12')\n",
      " ('X', 'day of year_sin', 't-11') ('X', 'day of year_sin', 't-10')\n",
      " ('X', 'day of year_sin', 't-9') ('X', 'day of year_sin', 't-8')\n",
      " ('X', 'day of year_sin', 't-7') ('X', 'day of year_sin', 't-6')\n",
      " ('X', 'day of year_sin', 't-5') ('X', 'day of year_sin', 't-4')\n",
      " ('X', 'day of year_sin', 't-3') ('X', 'day of year_sin', 't-2')\n",
      " ('X', 'day of year_sin', 't-1') ('X', 'day of year_sin', 't')\n",
      " ('X', 'day of year_cos', 't-23') ('X', 'day of year_cos', 't-22')\n",
      " ('X', 'day of year_cos', 't-21') ('X', 'day of year_cos', 't-20')\n",
      " ('X', 'day of year_cos', 't-19') ('X', 'day of year_cos', 't-18')\n",
      " ('X', 'day of year_cos', 't-17') ('X', 'day of year_cos', 't-16')\n",
      " ('X', 'day of year_cos', 't-15') ('X', 'day of year_cos', 't-14')\n",
      " ('X', 'day of year_cos', 't-13') ('X', 'day of year_cos', 't-12')\n",
      " ('X', 'day of year_cos', 't-11') ('X', 'day of year_cos', 't-10')\n",
      " ('X', 'day of year_cos', 't-9') ('X', 'day of year_cos', 't-8')\n",
      " ('X', 'day of year_cos', 't-7') ('X', 'day of year_cos', 't-6')\n",
      " ('X', 'day of year_cos', 't-5') ('X', 'day of year_cos', 't-4')\n",
      " ('X', 'day of year_cos', 't-3') ('X', 'day of year_cos', 't-2')\n",
      " ('X', 'day of year_cos', 't-1') ('X', 'day of year_cos', 't')]\n"
     ]
    }
   ],
   "source": [
    "print(train_inputs.dataframe.columns.to_numpy())"
   ]
  },
  {
   "cell_type": "code",
   "execution_count": 241,
   "metadata": {},
   "outputs": [],
   "source": [
    "MAX_EPOCHS = 25\n",
    "BATCHSIZE = 10\n",
    "patience = 10\n",
    "\n",
    "LSTM_framework = tf.keras.models.Sequential([\n",
    "    # Shape [batch, time, features] => [batch, time, lstm_units]\n",
    "    tf.keras.layers.LSTM(32, activation='relu', return_sequences=True, input_shape=(train_X_df_lags.shape[1],train_X_df_lags.shape[2])),\n",
    "    tf.keras.layers.LSTM(32, activation='relu'),\n",
    "    tf.keras.layers.Dropout(0.2),\n",
    "    tf.keras.layers.Dense(1)\n",
    "])"
   ]
  },
  {
   "cell_type": "code",
   "execution_count": 242,
   "metadata": {},
   "outputs": [],
   "source": [
    "LSTM_framework.compile(optimizer=tf.optimizers.Adam(), loss='mse', metrics=[tf.metrics.MeanSquaredError()])"
   ]
  },
  {
   "cell_type": "code",
   "execution_count": 243,
   "metadata": {},
   "outputs": [
    {
     "name": "stdout",
     "output_type": "stream",
     "text": [
      "Model: \"sequential_10\"\n",
      "_________________________________________________________________\n",
      "Layer (type)                 Output Shape              Param #   \n",
      "=================================================================\n",
      "lstm_9 (LSTM)                (None, 1, 32)             5120      \n",
      "_________________________________________________________________\n",
      "lstm_10 (LSTM)               (None, 32)                8320      \n",
      "_________________________________________________________________\n",
      "dropout_3 (Dropout)          (None, 32)                0         \n",
      "_________________________________________________________________\n",
      "dense_58 (Dense)             (None, 1)                 33        \n",
      "=================================================================\n",
      "Total params: 13,473\n",
      "Trainable params: 13,473\n",
      "Non-trainable params: 0\n",
      "_________________________________________________________________\n"
     ]
    }
   ],
   "source": [
    "LSTM_framework.summary()"
   ]
  },
  {
   "cell_type": "code",
   "execution_count": 244,
   "metadata": {},
   "outputs": [
    {
     "name": "stdout",
     "output_type": "stream",
     "text": [
      "Epoch 1/25\n",
      "1369/1369 [==============================] - 3s 3ms/step - loss: 0.0132 - mean_squared_error: 0.0132 - val_loss: 0.0060 - val_mean_squared_error: 0.0060\n",
      "Epoch 2/25\n",
      "1369/1369 [==============================] - 3s 3ms/step - loss: 0.0077 - mean_squared_error: 0.0077 - val_loss: 0.0060 - val_mean_squared_error: 0.0060\n",
      "Epoch 3/25\n",
      "1369/1369 [==============================] - 4s 3ms/step - loss: 0.0072 - mean_squared_error: 0.0072 - val_loss: 0.0060 - val_mean_squared_error: 0.0060\n",
      "Epoch 4/25\n",
      "1369/1369 [==============================] - 4s 3ms/step - loss: 0.0071 - mean_squared_error: 0.0071 - val_loss: 0.0070 - val_mean_squared_error: 0.0070\n",
      "Epoch 5/25\n",
      "1369/1369 [==============================] - 4s 3ms/step - loss: 0.0071 - mean_squared_error: 0.0071 - val_loss: 0.0060 - val_mean_squared_error: 0.0060\n",
      "Epoch 6/25\n",
      "1369/1369 [==============================] - 4s 3ms/step - loss: 0.0071 - mean_squared_error: 0.0071 - val_loss: 0.0059 - val_mean_squared_error: 0.0059\n",
      "Epoch 7/25\n",
      "1369/1369 [==============================] - 3s 2ms/step - loss: 0.0070 - mean_squared_error: 0.0070 - val_loss: 0.0059 - val_mean_squared_error: 0.0059\n",
      "Epoch 8/25\n",
      "1369/1369 [==============================] - 3s 3ms/step - loss: 0.0070 - mean_squared_error: 0.0070 - val_loss: 0.0058 - val_mean_squared_error: 0.0058\n",
      "Epoch 9/25\n",
      "1369/1369 [==============================] - 3s 2ms/step - loss: 0.0070 - mean_squared_error: 0.0070 - val_loss: 0.0063 - val_mean_squared_error: 0.0063\n",
      "Epoch 10/25\n",
      "1369/1369 [==============================] - 4s 3ms/step - loss: 0.0069 - mean_squared_error: 0.0069 - val_loss: 0.0059 - val_mean_squared_error: 0.0059\n",
      "Epoch 11/25\n",
      "1369/1369 [==============================] - 3s 3ms/step - loss: 0.0070 - mean_squared_error: 0.0070 - val_loss: 0.0060 - val_mean_squared_error: 0.0060\n",
      "Epoch 12/25\n",
      "1369/1369 [==============================] - 4s 3ms/step - loss: 0.0070 - mean_squared_error: 0.0070 - val_loss: 0.0059 - val_mean_squared_error: 0.0059\n",
      "Epoch 13/25\n",
      "1369/1369 [==============================] - 3s 3ms/step - loss: 0.0069 - mean_squared_error: 0.0069 - val_loss: 0.0063 - val_mean_squared_error: 0.0063\n",
      "Epoch 14/25\n",
      "1369/1369 [==============================] - 4s 3ms/step - loss: 0.0069 - mean_squared_error: 0.0069 - val_loss: 0.0060 - val_mean_squared_error: 0.0060\n",
      "Epoch 15/25\n",
      "1369/1369 [==============================] - 4s 3ms/step - loss: 0.0069 - mean_squared_error: 0.0069 - val_loss: 0.0064 - val_mean_squared_error: 0.0064\n",
      "Epoch 16/25\n",
      "1369/1369 [==============================] - 3s 2ms/step - loss: 0.0069 - mean_squared_error: 0.0069 - val_loss: 0.0061 - val_mean_squared_error: 0.0061\n",
      "Epoch 17/25\n",
      "1369/1369 [==============================] - 3s 2ms/step - loss: 0.0069 - mean_squared_error: 0.0069 - val_loss: 0.0059 - val_mean_squared_error: 0.0059\n",
      "Epoch 18/25\n",
      "1369/1369 [==============================] - 3s 2ms/step - loss: 0.0069 - mean_squared_error: 0.0069 - val_loss: 0.0061 - val_mean_squared_error: 0.0061\n"
     ]
    }
   ],
   "source": [
    "early_stopping = tf.keras.callbacks.EarlyStopping(monitor='val_loss', patience=patience, mode='min')\n",
    "\n",
    "history = LSTM_framework.fit(train_X_df_lags, train_Y1_df_lags, batch_size=32, epochs=MAX_EPOCHS,\n",
    "                  validation_split=0.15,\n",
    "                  callbacks=[early_stopping], verbose=1)"
   ]
  },
  {
   "cell_type": "code",
   "execution_count": 245,
   "metadata": {},
   "outputs": [],
   "source": [
    "performance['LSTM framework'] = LSTM_framework.evaluate(test_X_df_lags, y_scaler.fit_transform(np.array(test_Y_df_lags).reshape(-1,1)).reshape(-1,1,1), verbose=0)"
   ]
  },
  {
   "cell_type": "code",
   "execution_count": 246,
   "metadata": {},
   "outputs": [],
   "source": [
    "fpredictions = LSTM_framework.predict(test_X_df_lags)\n",
    "fpredictions = y_scaler.inverse_transform(fpredictions)\n",
    "mape_performance['LSTM_framework'] = mape(fpredictions.reshape(-1), test_Y_df_lags)\n",
    "mse_performance['LSTM_framework'] = validation(fpredictions.reshape(-1), test_Y_df_lags, 'RMSE')"
   ]
  },
  {
   "cell_type": "code",
   "execution_count": null,
   "metadata": {},
   "outputs": [],
   "source": []
  },
  {
   "cell_type": "code",
   "execution_count": 271,
   "metadata": {},
   "outputs": [],
   "source": [
    "MAX_EPOCHS = 50\n",
    "BATCHSIZE = 10\n",
    "patience = 10\n",
    "\n",
    "FULL_LSTMIMO = tf.keras.models.Sequential([\n",
    "    # Shape [batch, time, features] => [batch, time, lstm_units]\n",
    "    tf.keras.layers.LSTM(32, input_shape=(24, 15)),\n",
    "    # Shape => [batch, time, features]\n",
    "    tf.keras.layers.Dense(HORIZON)\n",
    "])"
   ]
  },
  {
   "cell_type": "code",
   "execution_count": 272,
   "metadata": {},
   "outputs": [],
   "source": [
    "FULL_LSTMIMO.compile(optimizer=tf.optimizers.Adam(), loss='mse', metrics=[tf.metrics.MeanSquaredError()])"
   ]
  },
  {
   "cell_type": "code",
   "execution_count": 273,
   "metadata": {
    "scrolled": true
   },
   "outputs": [
    {
     "name": "stdout",
     "output_type": "stream",
     "text": [
      "Model: \"sequential_15\"\n",
      "_________________________________________________________________\n",
      "Layer (type)                 Output Shape              Param #   \n",
      "=================================================================\n",
      "lstm_15 (LSTM)               (None, 32)                6144      \n",
      "_________________________________________________________________\n",
      "dense_63 (Dense)             (None, 24)                792       \n",
      "=================================================================\n",
      "Total params: 6,936\n",
      "Trainable params: 6,936\n",
      "Non-trainable params: 0\n",
      "_________________________________________________________________\n"
     ]
    }
   ],
   "source": [
    "FULL_LSTMIMO.summary()"
   ]
  },
  {
   "cell_type": "code",
   "execution_count": 274,
   "metadata": {},
   "outputs": [
    {
     "name": "stdout",
     "output_type": "stream",
     "text": [
      "Epoch 1/50\n",
      "1367/1367 [==============================] - 24s 18ms/step - loss: 0.0134 - mean_squared_error: 0.0134 - val_loss: 0.0070 - val_mean_squared_error: 0.0070\n",
      "Epoch 2/50\n",
      "1367/1367 [==============================] - 23s 17ms/step - loss: 0.0063 - mean_squared_error: 0.0063 - val_loss: 0.0054 - val_mean_squared_error: 0.0054\n",
      "Epoch 3/50\n",
      "1367/1367 [==============================] - 22s 16ms/step - loss: 0.0050 - mean_squared_error: 0.0050 - val_loss: 0.0056 - val_mean_squared_error: 0.0056\n",
      "Epoch 4/50\n",
      "1367/1367 [==============================] - 22s 16ms/step - loss: 0.0047 - mean_squared_error: 0.0047 - val_loss: 0.0046 - val_mean_squared_error: 0.0046\n",
      "Epoch 5/50\n",
      "1367/1367 [==============================] - 21s 16ms/step - loss: 0.0045 - mean_squared_error: 0.0045 - val_loss: 0.0050 - val_mean_squared_error: 0.0050\n",
      "Epoch 6/50\n",
      "1367/1367 [==============================] - 21s 15ms/step - loss: 0.0043 - mean_squared_error: 0.0043 - val_loss: 0.0044 - val_mean_squared_error: 0.0044\n",
      "Epoch 7/50\n",
      "1367/1367 [==============================] - 21s 15ms/step - loss: 0.0042 - mean_squared_error: 0.0042 - val_loss: 0.0045 - val_mean_squared_error: 0.0045\n",
      "Epoch 8/50\n",
      "1367/1367 [==============================] - 21s 15ms/step - loss: 0.0041 - mean_squared_error: 0.0041 - val_loss: 0.0042 - val_mean_squared_error: 0.0042\n",
      "Epoch 9/50\n",
      "1367/1367 [==============================] - 22s 16ms/step - loss: 0.0040 - mean_squared_error: 0.0040 - val_loss: 0.0045 - val_mean_squared_error: 0.0045\n",
      "Epoch 10/50\n",
      "1367/1367 [==============================] - 18s 13ms/step - loss: 0.0039 - mean_squared_error: 0.0039 - val_loss: 0.0043 - val_mean_squared_error: 0.0043\n",
      "Epoch 11/50\n",
      "1367/1367 [==============================] - 17s 13ms/step - loss: 0.0039 - mean_squared_error: 0.0039 - val_loss: 0.0044 - val_mean_squared_error: 0.0044\n",
      "Epoch 12/50\n",
      "1367/1367 [==============================] - 21s 16ms/step - loss: 0.0038 - mean_squared_error: 0.0038 - val_loss: 0.0044 - val_mean_squared_error: 0.0044\n",
      "Epoch 13/50\n",
      "1367/1367 [==============================] - 18s 13ms/step - loss: 0.0038 - mean_squared_error: 0.0038 - val_loss: 0.0043 - val_mean_squared_error: 0.0043\n",
      "Epoch 14/50\n",
      "1367/1367 [==============================] - 17s 12ms/step - loss: 0.0037 - mean_squared_error: 0.0037 - val_loss: 0.0042 - val_mean_squared_error: 0.0042\n",
      "Epoch 15/50\n",
      "1367/1367 [==============================] - 17s 12ms/step - loss: 0.0037 - mean_squared_error: 0.0037 - val_loss: 0.0044 - val_mean_squared_error: 0.0044\n",
      "Epoch 16/50\n",
      "1367/1367 [==============================] - 17s 12ms/step - loss: 0.0036 - mean_squared_error: 0.0036 - val_loss: 0.0040 - val_mean_squared_error: 0.0040\n",
      "Epoch 17/50\n",
      "1367/1367 [==============================] - 17s 12ms/step - loss: 0.0036 - mean_squared_error: 0.0036 - val_loss: 0.0044 - val_mean_squared_error: 0.0044\n",
      "Epoch 18/50\n",
      "1367/1367 [==============================] - 17s 12ms/step - loss: 0.0036 - mean_squared_error: 0.0036 - val_loss: 0.0042 - val_mean_squared_error: 0.0042\n",
      "Epoch 19/50\n",
      "1367/1367 [==============================] - 17s 12ms/step - loss: 0.0035 - mean_squared_error: 0.0035 - val_loss: 0.0040 - val_mean_squared_error: 0.0040\n",
      "Epoch 20/50\n",
      "1367/1367 [==============================] - 17s 12ms/step - loss: 0.0035 - mean_squared_error: 0.0035 - val_loss: 0.0041 - val_mean_squared_error: 0.0041\n",
      "Epoch 21/50\n",
      "1367/1367 [==============================] - 17s 12ms/step - loss: 0.0034 - mean_squared_error: 0.0034 - val_loss: 0.0044 - val_mean_squared_error: 0.0044\n",
      "Epoch 22/50\n",
      "1367/1367 [==============================] - 17s 12ms/step - loss: 0.0034 - mean_squared_error: 0.0034 - val_loss: 0.0041 - val_mean_squared_error: 0.0041\n",
      "Epoch 23/50\n",
      "1367/1367 [==============================] - 17s 12ms/step - loss: 0.0034 - mean_squared_error: 0.0034 - val_loss: 0.0043 - val_mean_squared_error: 0.0043\n",
      "Epoch 24/50\n",
      "1367/1367 [==============================] - 17s 12ms/step - loss: 0.0034 - mean_squared_error: 0.0034 - val_loss: 0.0041 - val_mean_squared_error: 0.0041\n",
      "Epoch 25/50\n",
      "1367/1367 [==============================] - 17s 12ms/step - loss: 0.0033 - mean_squared_error: 0.0033 - val_loss: 0.0044 - val_mean_squared_error: 0.0044\n",
      "Epoch 26/50\n",
      "1367/1367 [==============================] - 17s 12ms/step - loss: 0.0033 - mean_squared_error: 0.0033 - val_loss: 0.0045 - val_mean_squared_error: 0.0045\n",
      "Epoch 27/50\n",
      "1367/1367 [==============================] - 17s 12ms/step - loss: 0.0033 - mean_squared_error: 0.0033 - val_loss: 0.0043 - val_mean_squared_error: 0.0043\n",
      "Epoch 28/50\n",
      "1367/1367 [==============================] - 17s 12ms/step - loss: 0.0033 - mean_squared_error: 0.0033 - val_loss: 0.0042 - val_mean_squared_error: 0.0042\n",
      "Epoch 29/50\n",
      "1367/1367 [==============================] - 17s 13ms/step - loss: 0.0032 - mean_squared_error: 0.0032 - val_loss: 0.0042 - val_mean_squared_error: 0.0042\n"
     ]
    }
   ],
   "source": [
    "early_stopping = tf.keras.callbacks.EarlyStopping(monitor='val_loss', patience=patience, mode='min')\n",
    "\n",
    "history = FULL_LSTMIMO.fit(train_longer_inputs['X'], train_longer_inputs['target'], batch_size=32, epochs=MAX_EPOCHS,\n",
    "                  validation_split=0.15,\n",
    "                  callbacks=[early_stopping], verbose=1)"
   ]
  },
  {
   "cell_type": "code",
   "execution_count": 275,
   "metadata": {},
   "outputs": [
    {
     "data": {
      "image/png": "[encoded data removed]",
      "text/plain": [
       "<Figure size 576x432 with 1 Axes>"
      ]
     },
     "metadata": {
      "needs_background": "light"
     },
     "output_type": "display_data"
    }
   ],
   "source": [
    "# FULL DATA \n",
    "plot_train_history(FULL_LSTMIMO)"
   ]
  },
  {
   "cell_type": "code",
   "execution_count": 277,
   "metadata": {},
   "outputs": [],
   "source": [
    "FD_predictions = FULL_LSTMIMO.predict(test_longer_inputs['X'])\n",
    "FD_eval_df = create_evaluation_df(FD_predictions, test_longer_inputs, HORIZON, y_scaler)\n",
    "#performance['LSTM-MIMO-full-data'] = FULL_LSTMIMO.evaluate(test_inputs['X'],test_inputs['target'], verbose=0)\n",
    "mape_performance['LSTM-MIMO-full-data'] = mape(eval_df['prediction'], eval_df['actual'])\n",
    "mse_performance['LSTM-MIMO-full-data'] = validation(eval_df['prediction'], eval_df['actual'], 'RMSE')"
   ]
  },
  {
   "cell_type": "code",
   "execution_count": null,
   "metadata": {},
   "outputs": [],
   "source": []
  },
  {
   "cell_type": "code",
   "execution_count": 283,
   "metadata": {},
   "outputs": [],
   "source": [
    "MAX_EPOCHS = 50\n",
    "BATCHSIZE = 10\n",
    "patience = 10\n",
    "\n",
    "LSTMIMO = tf.keras.models.Sequential([\n",
    "    # Shape [batch, time, features] => [batch, time, lstm_units]\n",
    "    tf.keras.layers.LSTM(32, input_shape=(24, 5)),\n",
    "    # Shape => [batch, time, features]\n",
    "    tf.keras.layers.Dense(HORIZON)\n",
    "])"
   ]
  },
  {
   "cell_type": "code",
   "execution_count": 284,
   "metadata": {},
   "outputs": [],
   "source": [
    "LSTMIMO.compile(optimizer=tf.optimizers.Adam(), loss='mse', metrics=[tf.metrics.MeanSquaredError()])"
   ]
  },
  {
   "cell_type": "code",
   "execution_count": 285,
   "metadata": {
    "scrolled": true
   },
   "outputs": [
    {
     "name": "stdout",
     "output_type": "stream",
     "text": [
      "Model: \"sequential_16\"\n",
      "_________________________________________________________________\n",
      "Layer (type)                 Output Shape              Param #   \n",
      "=================================================================\n",
      "lstm_16 (LSTM)               (None, 32)                4864      \n",
      "_________________________________________________________________\n",
      "dense_64 (Dense)             (None, 24)                792       \n",
      "=================================================================\n",
      "Total params: 5,656\n",
      "Trainable params: 5,656\n",
      "Non-trainable params: 0\n",
      "_________________________________________________________________\n"
     ]
    }
   ],
   "source": [
    "LSTMIMO.summary()"
   ]
  },
  {
   "cell_type": "code",
   "execution_count": 286,
   "metadata": {},
   "outputs": [
    {
     "name": "stdout",
     "output_type": "stream",
     "text": [
      "Epoch 1/50\n",
      "1372/1372 [==============================] - 18s 13ms/step - loss: 0.0117 - mean_squared_error: 0.0117 - val_loss: 0.0065 - val_mean_squared_error: 0.0065\n",
      "Epoch 2/50\n",
      "1372/1372 [==============================] - 17s 12ms/step - loss: 0.0063 - mean_squared_error: 0.0063 - val_loss: 0.0052 - val_mean_squared_error: 0.0052\n",
      "Epoch 3/50\n",
      "1372/1372 [==============================] - 17s 13ms/step - loss: 0.0051 - mean_squared_error: 0.0051 - val_loss: 0.0048 - val_mean_squared_error: 0.0048\n",
      "Epoch 4/50\n",
      "1372/1372 [==============================] - 17s 12ms/step - loss: 0.0048 - mean_squared_error: 0.0048 - val_loss: 0.0046 - val_mean_squared_error: 0.0046\n",
      "Epoch 5/50\n",
      "1372/1372 [==============================] - 18s 13ms/step - loss: 0.0046 - mean_squared_error: 0.0046 - val_loss: 0.0046 - val_mean_squared_error: 0.0046\n",
      "Epoch 6/50\n",
      "1372/1372 [==============================] - 22s 16ms/step - loss: 0.0045 - mean_squared_error: 0.0045 - val_loss: 0.0045 - val_mean_squared_error: 0.0045\n",
      "Epoch 7/50\n",
      "1372/1372 [==============================] - 18s 13ms/step - loss: 0.0045 - mean_squared_error: 0.0045 - val_loss: 0.0043 - val_mean_squared_error: 0.0043\n",
      "Epoch 8/50\n",
      "1372/1372 [==============================] - 17s 12ms/step - loss: 0.0044 - mean_squared_error: 0.0044 - val_loss: 0.0044 - val_mean_squared_error: 0.0044\n",
      "Epoch 9/50\n",
      "1372/1372 [==============================] - 17s 12ms/step - loss: 0.0043 - mean_squared_error: 0.0043 - val_loss: 0.0043 - val_mean_squared_error: 0.0043\n",
      "Epoch 10/50\n",
      "1372/1372 [==============================] - 17s 13ms/step - loss: 0.0042 - mean_squared_error: 0.0042 - val_loss: 0.0042 - val_mean_squared_error: 0.0042\n",
      "Epoch 11/50\n",
      "1372/1372 [==============================] - 17s 13ms/step - loss: 0.0042 - mean_squared_error: 0.0042 - val_loss: 0.0043 - val_mean_squared_error: 0.0043\n",
      "Epoch 12/50\n",
      "1372/1372 [==============================] - 17s 13ms/step - loss: 0.0041 - mean_squared_error: 0.0041 - val_loss: 0.0040 - val_mean_squared_error: 0.0040\n",
      "Epoch 13/50\n",
      "1372/1372 [==============================] - 17s 13ms/step - loss: 0.0041 - mean_squared_error: 0.0041 - val_loss: 0.0041 - val_mean_squared_error: 0.0041\n",
      "Epoch 14/50\n",
      "1372/1372 [==============================] - 19s 14ms/step - loss: 0.0040 - mean_squared_error: 0.0040 - val_loss: 0.0040 - val_mean_squared_error: 0.0040\n",
      "Epoch 15/50\n",
      "1372/1372 [==============================] - 19s 14ms/step - loss: 0.0040 - mean_squared_error: 0.0040 - val_loss: 0.0040 - val_mean_squared_error: 0.0040\n",
      "Epoch 16/50\n",
      "1372/1372 [==============================] - 19s 14ms/step - loss: 0.0040 - mean_squared_error: 0.0040 - val_loss: 0.0045 - val_mean_squared_error: 0.0045\n",
      "Epoch 17/50\n",
      "1372/1372 [==============================] - 18s 13ms/step - loss: 0.0039 - mean_squared_error: 0.0039 - val_loss: 0.0039 - val_mean_squared_error: 0.0039\n",
      "Epoch 18/50\n",
      "1372/1372 [==============================] - 20s 15ms/step - loss: 0.0039 - mean_squared_error: 0.0039 - val_loss: 0.0041 - val_mean_squared_error: 0.0041\n",
      "Epoch 19/50\n",
      "1372/1372 [==============================] - 20s 14ms/step - loss: 0.0039 - mean_squared_error: 0.0039 - val_loss: 0.0041 - val_mean_squared_error: 0.0041\n",
      "Epoch 20/50\n",
      "1372/1372 [==============================] - 22s 16ms/step - loss: 0.0038 - mean_squared_error: 0.0038 - val_loss: 0.0040 - val_mean_squared_error: 0.0040\n",
      "Epoch 21/50\n",
      "1372/1372 [==============================] - 22s 16ms/step - loss: 0.0038 - mean_squared_error: 0.0038 - val_loss: 0.0041 - val_mean_squared_error: 0.0041\n",
      "Epoch 22/50\n",
      "1372/1372 [==============================] - 21s 15ms/step - loss: 0.0038 - mean_squared_error: 0.0038 - val_loss: 0.0042 - val_mean_squared_error: 0.0042\n",
      "Epoch 23/50\n",
      "1372/1372 [==============================] - 21s 15ms/step - loss: 0.0038 - mean_squared_error: 0.0038 - val_loss: 0.0039 - val_mean_squared_error: 0.0039\n",
      "Epoch 24/50\n",
      "1372/1372 [==============================] - 23s 17ms/step - loss: 0.0038 - mean_squared_error: 0.0038 - val_loss: 0.0040 - val_mean_squared_error: 0.0040\n",
      "Epoch 25/50\n",
      "1372/1372 [==============================] - 23s 17ms/step - loss: 0.0038 - mean_squared_error: 0.0038 - val_loss: 0.0039 - val_mean_squared_error: 0.0039\n",
      "Epoch 26/50\n",
      "1372/1372 [==============================] - 22s 16ms/step - loss: 0.0037 - mean_squared_error: 0.0037 - val_loss: 0.0041 - val_mean_squared_error: 0.0041\n",
      "Epoch 27/50\n",
      "1372/1372 [==============================] - 21s 15ms/step - loss: 0.0037 - mean_squared_error: 0.0037 - val_loss: 0.0039 - val_mean_squared_error: 0.0039\n",
      "Epoch 28/50\n",
      "1372/1372 [==============================] - 21s 15ms/step - loss: 0.0037 - mean_squared_error: 0.0037 - val_loss: 0.0038 - val_mean_squared_error: 0.0038\n",
      "Epoch 29/50\n",
      "1372/1372 [==============================] - 22s 16ms/step - loss: 0.0037 - mean_squared_error: 0.0037 - val_loss: 0.0038 - val_mean_squared_error: 0.0038\n",
      "Epoch 30/50\n",
      "1372/1372 [==============================] - 20s 15ms/step - loss: 0.0037 - mean_squared_error: 0.0037 - val_loss: 0.0038 - val_mean_squared_error: 0.0038\n",
      "Epoch 31/50\n",
      "1372/1372 [==============================] - 20s 15ms/step - loss: 0.0037 - mean_squared_error: 0.0037 - val_loss: 0.0039 - val_mean_squared_error: 0.0039\n",
      "Epoch 32/50\n",
      "1372/1372 [==============================] - 21s 15ms/step - loss: 0.0037 - mean_squared_error: 0.0037 - val_loss: 0.0038 - val_mean_squared_error: 0.0038\n",
      "Epoch 33/50\n",
      "1372/1372 [==============================] - 22s 16ms/step - loss: 0.0037 - mean_squared_error: 0.0037 - val_loss: 0.0037 - val_mean_squared_error: 0.0037\n",
      "Epoch 34/50\n",
      "1372/1372 [==============================] - 21s 16ms/step - loss: 0.0036 - mean_squared_error: 0.0036 - val_loss: 0.0037 - val_mean_squared_error: 0.0037\n",
      "Epoch 35/50\n",
      "1372/1372 [==============================] - 21s 15ms/step - loss: 0.0036 - mean_squared_error: 0.0036 - val_loss: 0.0038 - val_mean_squared_error: 0.0038\n",
      "Epoch 36/50\n",
      "1372/1372 [==============================] - 21s 15ms/step - loss: 0.0036 - mean_squared_error: 0.0036 - val_loss: 0.0037 - val_mean_squared_error: 0.0037\n",
      "Epoch 37/50\n",
      "1372/1372 [==============================] - 21s 15ms/step - loss: 0.0036 - mean_squared_error: 0.0036 - val_loss: 0.0037 - val_mean_squared_error: 0.0037\n",
      "Epoch 38/50\n",
      "1372/1372 [==============================] - 20s 15ms/step - loss: 0.0036 - mean_squared_error: 0.0036 - val_loss: 0.0037 - val_mean_squared_error: 0.0037\n",
      "Epoch 39/50\n",
      "1372/1372 [==============================] - 21s 15ms/step - loss: 0.0036 - mean_squared_error: 0.0036 - val_loss: 0.0037 - val_mean_squared_error: 0.0037\n",
      "Epoch 40/50\n",
      "1372/1372 [==============================] - 21s 16ms/step - loss: 0.0036 - mean_squared_error: 0.0036 - val_loss: 0.0037 - val_mean_squared_error: 0.0037\n",
      "Epoch 41/50\n",
      "1372/1372 [==============================] - 21s 15ms/step - loss: 0.0036 - mean_squared_error: 0.0036 - val_loss: 0.0037 - val_mean_squared_error: 0.0037\n",
      "Epoch 42/50\n",
      "1372/1372 [==============================] - 22s 16ms/step - loss: 0.0036 - mean_squared_error: 0.0036 - val_loss: 0.0036 - val_mean_squared_error: 0.0036\n",
      "Epoch 43/50\n",
      "1372/1372 [==============================] - 22s 16ms/step - loss: 0.0036 - mean_squared_error: 0.0036 - val_loss: 0.0038 - val_mean_squared_error: 0.0038\n",
      "Epoch 44/50\n",
      "1372/1372 [==============================] - 19s 14ms/step - loss: 0.0036 - mean_squared_error: 0.0036 - val_loss: 0.0037 - val_mean_squared_error: 0.0037\n",
      "Epoch 45/50\n",
      "1372/1372 [==============================] - 21s 15ms/step - loss: 0.0036 - mean_squared_error: 0.0036 - val_loss: 0.0037 - val_mean_squared_error: 0.0037\n",
      "Epoch 46/50\n",
      "1372/1372 [==============================] - 22s 16ms/step - loss: 0.0035 - mean_squared_error: 0.0035 - val_loss: 0.0038 - val_mean_squared_error: 0.0038\n",
      "Epoch 47/50\n",
      "1372/1372 [==============================] - 18s 13ms/step - loss: 0.0035 - mean_squared_error: 0.0035 - val_loss: 0.0038 - val_mean_squared_error: 0.0038\n",
      "Epoch 48/50\n",
      "1372/1372 [==============================] - 17s 13ms/step - loss: 0.0035 - mean_squared_error: 0.0035 - val_loss: 0.0038 - val_mean_squared_error: 0.0038\n",
      "Epoch 49/50\n",
      "1372/1372 [==============================] - 17s 13ms/step - loss: 0.0035 - mean_squared_error: 0.0035 - val_loss: 0.0040 - val_mean_squared_error: 0.0040\n",
      "Epoch 50/50\n"
     ]
    },
    {
     "name": "stdout",
     "output_type": "stream",
     "text": [
      "1372/1372 [==============================] - 17s 13ms/step - loss: 0.0035 - mean_squared_error: 0.0035 - val_loss: 0.0037 - val_mean_squared_error: 0.0037\n"
     ]
    }
   ],
   "source": [
    "early_stopping = tf.keras.callbacks.EarlyStopping(monitor='val_loss', patience=patience, mode='min')\n",
    "\n",
    "history = LSTMIMO.fit(train_inputs['X'], train_inputs['target'], batch_size=32, epochs=MAX_EPOCHS,\n",
    "                  validation_split=0.15,\n",
    "                  callbacks=[early_stopping], verbose=1)"
   ]
  },
  {
   "cell_type": "code",
   "execution_count": 287,
   "metadata": {},
   "outputs": [],
   "source": [
    "def plot_train_history(model):\n",
    "    '''\n",
    "    Convergence plots to have an idea on how the training performs\n",
    "    '''\n",
    "    loss = model.history.history['loss']\n",
    "    val_loss = model.history.history['val_loss']\n",
    "    plt.figure()\n",
    "    plt.plot(range(len(loss)), loss, 'b', label='Training loss')\n",
    "    plt.plot(range(len(val_loss)), val_loss, 'r', label='Validation loss')\n",
    "    #plt.yscale(\"log\")\n",
    "    plt.xlabel('Epochs')\n",
    "    plt.ylabel('Losses')\n",
    "    plt.title('Training and validation losses')\n",
    "    plt.legend()\n",
    "    plt.show() "
   ]
  },
  {
   "cell_type": "code",
   "execution_count": 288,
   "metadata": {},
   "outputs": [
    {
     "data": {
      "image/png": "[encoded data removed]",
      "text/plain": [
       "<Figure size 576x432 with 1 Axes>"
      ]
     },
     "metadata": {
      "needs_background": "light"
     },
     "output_type": "display_data"
    }
   ],
   "source": [
    "plot_train_history(LSTMIMO)"
   ]
  },
  {
   "cell_type": "code",
   "execution_count": 289,
   "metadata": {},
   "outputs": [],
   "source": [
    "predictions = LSTMIMO.predict(test_inputs['X'])\n",
    "eval_df = create_evaluation_df(predictions, test_inputs, HORIZON, y_scaler)\n",
    "performance['LSTM-MIMO'] = LSTMIMO.evaluate(test_inputs['X'],test_inputs['target'], verbose=0)\n",
    "mape_performance['LSTM-MIMO'] = mape(eval_df['prediction'], eval_df['actual'])\n",
    "mse_performance['LSTM-MIMO'] = validation(eval_df['prediction'], eval_df['actual'], 'RMSE')"
   ]
  },
  {
   "cell_type": "code",
   "execution_count": 124,
   "metadata": {},
   "outputs": [],
   "source": [
    "class Baseline(tf.keras.Model):\n",
    "    def __init__(self, label_index=None):\n",
    "        super().__init__()\n",
    "        self.label_index = label_index\n",
    "\n",
    "    def call(self, inputs):\n",
    "        if self.label_index is None:\n",
    "            return inputs\n",
    "        result = inputs[:, :, self.label_index]\n",
    "        return result[:, :, tf.newaxis]"
   ]
  },
  {
   "cell_type": "code",
   "execution_count": 218,
   "metadata": {},
   "outputs": [],
   "source": [
    "val_performance = {}\n",
    "performance = {}\n",
    "mape_performance = {}\n",
    "mse_performance = {}\n",
    "\n",
    "baseline = Baseline(label_index = 0)\n",
    "\n",
    "baseline.compile(loss=tf.losses.MeanSquaredError(), metrics=[tf.metrics.MeanSquaredError()])\n",
    "\n",
    "predictions_B = baseline.predict(test_inputs['X'])\n",
    "eval_df_B = create_evaluation_df(predictions_B.reshape(-1,24), test_inputs, HORIZON, y_scaler)\n",
    "\n",
    "performance['Baseline'] = baseline.evaluate(test_inputs['X'],test_inputs['target'], verbose=0)\n",
    "mape_performance['Baseline'] = mape(eval_df_B['prediction'], eval_df_B['actual'])\n",
    "mse_performance['Baseline'] = validation(eval_df_B['prediction'], eval_df_B['actual'], 'RMSE')"
   ]
  },
  {
   "cell_type": "code",
   "execution_count": 1181,
   "metadata": {},
   "outputs": [
    {
     "data": {
      "text/plain": [
       "[]"
      ]
     },
     "execution_count": 1181,
     "metadata": {},
     "output_type": "execute_result"
    },
    {
     "data": {
      "image/png": "[encoded data removed]",
      "text/plain": [
       "<Figure size 576x432 with 1 Axes>"
      ]
     },
     "metadata": {
      "needs_background": "light"
     },
     "output_type": "display_data"
    }
   ],
   "source": [
    "import random\n",
    "i = random.randint(1,8740)\n",
    "plt.plot(y_scaler.inverse_transform(test_inputs.dataframe.loc[:,'target'])[i].reshape(24,-1), label='target')\n",
    "plt.plot(y_scaler.inverse_transform(predictions_B.reshape(-1,24))[i], label='baseline')\n",
    "plt.plot(y_scaler.inverse_transform(predictions.reshape(-1,24))[i], label='LSTM')\n",
    "plt.legend()\n",
    "[]"
   ]
  },
  {
   "cell_type": "code",
   "execution_count": 482,
   "metadata": {},
   "outputs": [
    {
     "data": {
      "text/plain": [
       "h\n",
       "t+1     0.067245\n",
       "t+2     0.067253\n",
       "t+3     0.067263\n",
       "t+4     0.067280\n",
       "t+5     0.067306\n",
       "t+6     0.067336\n",
       "t+7     0.067362\n",
       "t+8     0.067385\n",
       "t+9     0.067404\n",
       "t+10    0.067422\n",
       "t+11    0.067440\n",
       "t+12    0.067460\n",
       "t+13    0.067475\n",
       "t+14    0.067485\n",
       "t+15    0.067496\n",
       "t+16    0.067504\n",
       "t+17    0.067511\n",
       "t+18    0.067514\n",
       "t+19    0.067519\n",
       "t+20    0.067525\n",
       "t+21    0.067529\n",
       "t+22    0.067536\n",
       "t+23    0.067542\n",
       "t+24    0.067548\n",
       "Name: APE, dtype: float64"
      ]
     },
     "execution_count": 482,
     "metadata": {},
     "output_type": "execute_result"
    }
   ],
   "source": [
    "eval_df_B['APE'] = (eval_df_B['prediction'] - eval_df_B['actual']).abs() / eval_df_B['actual']\n",
    "df = eval_df_B.groupby('h')['APE'].mean()\n",
    "df.reindex(['t+1', 't+2', 't+3', 't+4', 't+5', 't+6', 't+7', 't+8', 't+9', 't+10', 't+11', 't+12', 't+13', 't+14', 't+15', 't+16', 't+17', 't+18', 't+19', 't+20', 't+21', 't+22', 't+23', 't+24'])"
   ]
  },
  {
   "cell_type": "code",
   "execution_count": 87,
   "metadata": {},
   "outputs": [
    {
     "data": {
      "text/plain": [
       "h\n",
       "t+1     0.019531\n",
       "t+2     0.029312\n",
       "t+3     0.038580\n",
       "t+4     0.046155\n",
       "t+5     0.054342\n",
       "t+6     0.062579\n",
       "t+7     0.068258\n",
       "t+8     0.071058\n",
       "t+9     0.072713\n",
       "t+10    0.074915\n",
       "t+11    0.077820\n",
       "t+12    0.080415\n",
       "t+13    0.082707\n",
       "t+14    0.084041\n",
       "t+15    0.085838\n",
       "t+16    0.088431\n",
       "t+17    0.090745\n",
       "t+18    0.092750\n",
       "t+19    0.094793\n",
       "t+20    0.095774\n",
       "t+21    0.096127\n",
       "t+22    0.096086\n",
       "t+23    0.096086\n",
       "t+24    0.094595\n",
       "Name: APE, dtype: float64"
      ]
     },
     "execution_count": 87,
     "metadata": {},
     "output_type": "execute_result"
    }
   ],
   "source": [
    "eval_df['APE'] = (eval_df['prediction'] - eval_df['actual']).abs() / eval_df['actual']\n",
    "df = eval_df.groupby('h')['APE'].mean()\n",
    "df.reindex(['t+1', 't+2', 't+3', 't+4', 't+5', 't+6', 't+7', 't+8', 't+9', 't+10', 't+11', 't+12', 't+13', 't+14', 't+15', 't+16', 't+17', 't+18', 't+19', 't+20', 't+21', 't+22', 't+23', 't+24'])"
   ]
  },
  {
   "cell_type": "code",
   "execution_count": 196,
   "metadata": {},
   "outputs": [],
   "source": [
    "MAX_EPOCHS = 50\n",
    "BATCHSIZE = 32\n",
    "patience = 10\n",
    "\n",
    "ConditionalRNN = Sequential(layers=[ConditionalRNN(32, cell='LSTM'),\n",
    "                                    Dense(HORIZON)])"
   ]
  },
  {
   "cell_type": "code",
   "execution_count": 197,
   "metadata": {},
   "outputs": [],
   "source": [
    "ConditionalRNN.compile(optimizer=tf.optimizers.Adam(), loss='mse', metrics=[tf.metrics.MeanSquaredError()])"
   ]
  },
  {
   "cell_type": "code",
   "execution_count": 198,
   "metadata": {},
   "outputs": [
    {
     "ename": "ValueError",
     "evalue": "This model has not yet been built. Build the model first by calling `build()` or calling `fit()` with some data, or specify an `input_shape` argument in the first layer(s) for automatic build.",
     "output_type": "error",
     "traceback": [
      "\u001b[0;31m---------------------------------------------------------------------------\u001b[0m",
      "\u001b[0;31mValueError\u001b[0m                                Traceback (most recent call last)",
      "\u001b[0;32m<ipython-input-198-2ba3275328eb>\u001b[0m in \u001b[0;36m<module>\u001b[0;34m\u001b[0m\n\u001b[0;32m----> 1\u001b[0;31m \u001b[0mConditionalRNN\u001b[0m\u001b[0;34m.\u001b[0m\u001b[0msummary\u001b[0m\u001b[0;34m(\u001b[0m\u001b[0;34m)\u001b[0m\u001b[0;34m\u001b[0m\u001b[0;34m\u001b[0m\u001b[0m\n\u001b[0m",
      "\u001b[0;32m~/anaconda3/envs/evgeny/lib/python3.8/site-packages/tensorflow/python/keras/engine/training.py\u001b[0m in \u001b[0;36msummary\u001b[0;34m(self, line_length, positions, print_fn)\u001b[0m\n\u001b[1;32m   2349\u001b[0m     \"\"\"\n\u001b[1;32m   2350\u001b[0m     \u001b[0;32mif\u001b[0m \u001b[0;32mnot\u001b[0m \u001b[0mself\u001b[0m\u001b[0;34m.\u001b[0m\u001b[0mbuilt\u001b[0m\u001b[0;34m:\u001b[0m\u001b[0;34m\u001b[0m\u001b[0;34m\u001b[0m\u001b[0m\n\u001b[0;32m-> 2351\u001b[0;31m       raise ValueError('This model has not yet been built. '\n\u001b[0m\u001b[1;32m   2352\u001b[0m                        \u001b[0;34m'Build the model first by calling `build()` or calling '\u001b[0m\u001b[0;34m\u001b[0m\u001b[0;34m\u001b[0m\u001b[0m\n\u001b[1;32m   2353\u001b[0m                        \u001b[0;34m'`fit()` with some data, or specify '\u001b[0m\u001b[0;34m\u001b[0m\u001b[0;34m\u001b[0m\u001b[0m\n",
      "\u001b[0;31mValueError\u001b[0m: This model has not yet been built. Build the model first by calling `build()` or calling `fit()` with some data, or specify an `input_shape` argument in the first layer(s) for automatic build."
     ]
    }
   ],
   "source": [
    "ConditionalRNN.summary()"
   ]
  },
  {
   "cell_type": "code",
   "execution_count": 199,
   "metadata": {},
   "outputs": [
    {
     "name": "stdout",
     "output_type": "stream",
     "text": [
      "Epoch 1/50\n",
      "WARNING:tensorflow:Layers in a Sequential model should only have a single input tensor, but we receive a <class 'tuple'> input: (<tf.Tensor 'IteratorGetNext:0' shape=(None, 24, 5) dtype=float64>, <tf.Tensor 'IteratorGetNext:1' shape=(None, 8) dtype=float64>, <tf.Tensor 'IteratorGetNext:2' shape=(None, 2) dtype=float64>)\n",
      "Consider rewriting this model with the Functional API.\n",
      "WARNING:tensorflow:Layers in a Sequential model should only have a single input tensor, but we receive a <class 'tuple'> input: (<tf.Tensor 'IteratorGetNext:0' shape=(None, 24, 5) dtype=float64>, <tf.Tensor 'IteratorGetNext:1' shape=(None, 8) dtype=float64>, <tf.Tensor 'IteratorGetNext:2' shape=(None, 2) dtype=float64>)\n",
      "Consider rewriting this model with the Functional API.\n",
      "1371/1372 [============================>.] - ETA: 0s - loss: 0.0121 - mean_squared_error: 0.0121WARNING:tensorflow:Layers in a Sequential model should only have a single input tensor, but we receive a <class 'tuple'> input: (<tf.Tensor 'IteratorGetNext:0' shape=(32, 24, 5) dtype=float64>, <tf.Tensor 'IteratorGetNext:1' shape=(32, 8) dtype=float64>, <tf.Tensor 'IteratorGetNext:2' shape=(32, 2) dtype=float64>)\n",
      "Consider rewriting this model with the Functional API.\n",
      "1372/1372 [==============================] - 33s 24ms/step - loss: 0.0121 - mean_squared_error: 0.0121 - val_loss: 0.0070 - val_mean_squared_error: 0.0070\n",
      "Epoch 2/50\n",
      "1372/1372 [==============================] - 31s 23ms/step - loss: 0.0067 - mean_squared_error: 0.0067 - val_loss: 0.0058 - val_mean_squared_error: 0.0058\n",
      "Epoch 3/50\n",
      "1372/1372 [==============================] - 31s 22ms/step - loss: 0.0055 - mean_squared_error: 0.0055 - val_loss: 0.0053 - val_mean_squared_error: 0.0053\n",
      "Epoch 4/50\n",
      "1372/1372 [==============================] - 31s 23ms/step - loss: 0.0051 - mean_squared_error: 0.0051 - val_loss: 0.0048 - val_mean_squared_error: 0.0048\n",
      "Epoch 5/50\n",
      "1372/1372 [==============================] - 31s 22ms/step - loss: 0.0050 - mean_squared_error: 0.0050 - val_loss: 0.0050 - val_mean_squared_error: 0.0050\n",
      "Epoch 6/50\n",
      "1372/1372 [==============================] - 31s 23ms/step - loss: 0.0048 - mean_squared_error: 0.0048 - val_loss: 0.0049 - val_mean_squared_error: 0.0049\n",
      "Epoch 7/50\n",
      "1372/1372 [==============================] - 31s 22ms/step - loss: 0.0047 - mean_squared_error: 0.0047 - val_loss: 0.0051 - val_mean_squared_error: 0.0051\n",
      "Epoch 8/50\n",
      "1372/1372 [==============================] - 31s 22ms/step - loss: 0.0046 - mean_squared_error: 0.0046 - val_loss: 0.0048 - val_mean_squared_error: 0.0048\n",
      "Epoch 9/50\n",
      "1372/1372 [==============================] - 31s 23ms/step - loss: 0.0045 - mean_squared_error: 0.0045 - val_loss: 0.0045 - val_mean_squared_error: 0.0045\n",
      "Epoch 10/50\n",
      "1372/1372 [==============================] - 31s 23ms/step - loss: 0.0044 - mean_squared_error: 0.0044 - val_loss: 0.0045 - val_mean_squared_error: 0.0045\n",
      "Epoch 11/50\n",
      "1372/1372 [==============================] - 32s 23ms/step - loss: 0.0043 - mean_squared_error: 0.0043 - val_loss: 0.0043 - val_mean_squared_error: 0.0043\n",
      "Epoch 12/50\n",
      "1372/1372 [==============================] - 31s 23ms/step - loss: 0.0043 - mean_squared_error: 0.0043 - val_loss: 0.0045 - val_mean_squared_error: 0.0045\n",
      "Epoch 13/50\n",
      "1372/1372 [==============================] - 33s 24ms/step - loss: 0.0042 - mean_squared_error: 0.0042 - val_loss: 0.0043 - val_mean_squared_error: 0.0043\n",
      "Epoch 14/50\n",
      "1372/1372 [==============================] - 30s 22ms/step - loss: 0.0042 - mean_squared_error: 0.0042 - val_loss: 0.0047 - val_mean_squared_error: 0.0047\n",
      "Epoch 15/50\n",
      "1372/1372 [==============================] - 32s 23ms/step - loss: 0.0041 - mean_squared_error: 0.0041 - val_loss: 0.0043 - val_mean_squared_error: 0.0043\n",
      "Epoch 16/50\n",
      "1372/1372 [==============================] - 31s 23ms/step - loss: 0.0041 - mean_squared_error: 0.0041 - val_loss: 0.0043 - val_mean_squared_error: 0.0043\n",
      "Epoch 17/50\n",
      "1372/1372 [==============================] - 32s 23ms/step - loss: 0.0040 - mean_squared_error: 0.0040 - val_loss: 0.0043 - val_mean_squared_error: 0.0043\n",
      "Epoch 18/50\n",
      "1372/1372 [==============================] - 32s 23ms/step - loss: 0.0040 - mean_squared_error: 0.0040 - val_loss: 0.0042 - val_mean_squared_error: 0.0042\n",
      "Epoch 19/50\n",
      "1372/1372 [==============================] - 32s 23ms/step - loss: 0.0040 - mean_squared_error: 0.0040 - val_loss: 0.0041 - val_mean_squared_error: 0.0041\n",
      "Epoch 20/50\n",
      "1372/1372 [==============================] - 31s 23ms/step - loss: 0.0039 - mean_squared_error: 0.0039 - val_loss: 0.0042 - val_mean_squared_error: 0.0042\n",
      "Epoch 21/50\n",
      "1372/1372 [==============================] - 32s 23ms/step - loss: 0.0039 - mean_squared_error: 0.0039 - val_loss: 0.0042 - val_mean_squared_error: 0.0042\n",
      "Epoch 22/50\n",
      "1372/1372 [==============================] - 32s 23ms/step - loss: 0.0038 - mean_squared_error: 0.0038 - val_loss: 0.0042 - val_mean_squared_error: 0.0042\n",
      "Epoch 23/50\n",
      "1372/1372 [==============================] - 31s 23ms/step - loss: 0.0038 - mean_squared_error: 0.0038 - val_loss: 0.0040 - val_mean_squared_error: 0.0040\n",
      "Epoch 24/50\n",
      "1372/1372 [==============================] - 32s 24ms/step - loss: 0.0038 - mean_squared_error: 0.0038 - val_loss: 0.0042 - val_mean_squared_error: 0.0042\n",
      "Epoch 25/50\n",
      "1372/1372 [==============================] - 32s 23ms/step - loss: 0.0038 - mean_squared_error: 0.0038 - val_loss: 0.0039 - val_mean_squared_error: 0.0039\n",
      "Epoch 26/50\n",
      "1372/1372 [==============================] - 31s 22ms/step - loss: 0.0037 - mean_squared_error: 0.0037 - val_loss: 0.0043 - val_mean_squared_error: 0.0043\n",
      "Epoch 27/50\n",
      "1372/1372 [==============================] - 31s 23ms/step - loss: 0.0037 - mean_squared_error: 0.0037 - val_loss: 0.0041 - val_mean_squared_error: 0.0041\n",
      "Epoch 28/50\n",
      "1372/1372 [==============================] - 31s 22ms/step - loss: 0.0037 - mean_squared_error: 0.0037 - val_loss: 0.0041 - val_mean_squared_error: 0.0041\n",
      "Epoch 29/50\n",
      "1372/1372 [==============================] - 31s 23ms/step - loss: 0.0037 - mean_squared_error: 0.0037 - val_loss: 0.0040 - val_mean_squared_error: 0.0040\n",
      "Epoch 30/50\n",
      "1372/1372 [==============================] - 30s 22ms/step - loss: 0.0037 - mean_squared_error: 0.0037 - val_loss: 0.0040 - val_mean_squared_error: 0.0040\n",
      "Epoch 31/50\n",
      "1372/1372 [==============================] - 32s 23ms/step - loss: 0.0036 - mean_squared_error: 0.0036 - val_loss: 0.0041 - val_mean_squared_error: 0.0041\n",
      "Epoch 32/50\n",
      "1372/1372 [==============================] - 32s 23ms/step - loss: 0.0036 - mean_squared_error: 0.0036 - val_loss: 0.0040 - val_mean_squared_error: 0.0040\n",
      "Epoch 33/50\n",
      "1372/1372 [==============================] - 32s 23ms/step - loss: 0.0036 - mean_squared_error: 0.0036 - val_loss: 0.0038 - val_mean_squared_error: 0.0038\n",
      "Epoch 34/50\n",
      "1372/1372 [==============================] - 32s 23ms/step - loss: 0.0036 - mean_squared_error: 0.0036 - val_loss: 0.0042 - val_mean_squared_error: 0.0042\n",
      "Epoch 35/50\n",
      "1372/1372 [==============================] - 32s 23ms/step - loss: 0.0036 - mean_squared_error: 0.0036 - val_loss: 0.0038 - val_mean_squared_error: 0.0038\n",
      "Epoch 36/50\n",
      "1372/1372 [==============================] - 32s 23ms/step - loss: 0.0036 - mean_squared_error: 0.0036 - val_loss: 0.0039 - val_mean_squared_error: 0.0039\n",
      "Epoch 37/50\n",
      "1372/1372 [==============================] - 32s 23ms/step - loss: 0.0036 - mean_squared_error: 0.0036 - val_loss: 0.0039 - val_mean_squared_error: 0.0039\n",
      "Epoch 38/50\n",
      "1372/1372 [==============================] - 32s 23ms/step - loss: 0.0035 - mean_squared_error: 0.0035 - val_loss: 0.0039 - val_mean_squared_error: 0.0039\n",
      "Epoch 39/50\n",
      "1372/1372 [==============================] - 31s 23ms/step - loss: 0.0035 - mean_squared_error: 0.0035 - val_loss: 0.0042 - val_mean_squared_error: 0.0042\n",
      "Epoch 40/50\n",
      "1372/1372 [==============================] - 32s 23ms/step - loss: 0.0035 - mean_squared_error: 0.0035 - val_loss: 0.0040 - val_mean_squared_error: 0.0040\n",
      "Epoch 41/50\n",
      "1372/1372 [==============================] - 31s 23ms/step - loss: 0.0035 - mean_squared_error: 0.0035 - val_loss: 0.0043 - val_mean_squared_error: 0.0043\n",
      "Epoch 42/50\n",
      "1372/1372 [==============================] - 32s 23ms/step - loss: 0.0035 - mean_squared_error: 0.0035 - val_loss: 0.0038 - val_mean_squared_error: 0.0038\n"
     ]
    },
    {
     "name": "stdout",
     "output_type": "stream",
     "text": [
      "Epoch 43/50\n",
      "1372/1372 [==============================] - 31s 22ms/step - loss: 0.0034 - mean_squared_error: 0.0034 - val_loss: 0.0040 - val_mean_squared_error: 0.0040\n",
      "Epoch 44/50\n",
      "1372/1372 [==============================] - 32s 23ms/step - loss: 0.0034 - mean_squared_error: 0.0034 - val_loss: 0.0039 - val_mean_squared_error: 0.0039\n",
      "Epoch 45/50\n",
      "1372/1372 [==============================] - 32s 23ms/step - loss: 0.0034 - mean_squared_error: 0.0034 - val_loss: 0.0039 - val_mean_squared_error: 0.0039\n"
     ]
    }
   ],
   "source": [
    "early_stopping = tf.keras.callbacks.EarlyStopping(monitor='val_loss', patience=patience, mode='min')\n",
    "tf.keras.backend.set_floatx('float64')\n",
    "history = ConditionalRNN.fit([train_inputs['X'],train_c1,train_c2], train_inputs['target'], batch_size=32, epochs=MAX_EPOCHS,\n",
    "                  validation_split=0.15,\n",
    "                  callbacks=[early_stopping], verbose=1)"
   ]
  },
  {
   "cell_type": "code",
   "execution_count": 200,
   "metadata": {},
   "outputs": [
    {
     "data": {
      "image/png": "[encoded data removed]",
      "text/plain": [
       "<Figure size 576x432 with 1 Axes>"
      ]
     },
     "metadata": {
      "needs_background": "light"
     },
     "output_type": "display_data"
    }
   ],
   "source": [
    "plot_train_history(ConditionalRNN)"
   ]
  },
  {
   "cell_type": "code",
   "execution_count": 201,
   "metadata": {},
   "outputs": [
    {
     "name": "stdout",
     "output_type": "stream",
     "text": [
      "WARNING:tensorflow:Layers in a Sequential model should only have a single input tensor, but we receive a <class 'tuple'> input: (<tf.Tensor 'IteratorGetNext:0' shape=(None, 24, 5) dtype=float64>, <tf.Tensor 'IteratorGetNext:1' shape=(None, 8) dtype=float64>, <tf.Tensor 'IteratorGetNext:2' shape=(None, 2) dtype=float64>)\n",
      "Consider rewriting this model with the Functional API.\n"
     ]
    }
   ],
   "source": [
    "performance['ConditionalRNN'] = ConditionalRNN.evaluate([test_inputs['X'],test_c1,test_c2],test_inputs['target'], verbose=0)"
   ]
  },
  {
   "cell_type": "code",
   "execution_count": 221,
   "metadata": {},
   "outputs": [],
   "source": [
    "cpredictions = ConditionalRNN.predict([test_inputs['X'],test_c1,test_c2])\n",
    "ceval_df = create_evaluation_df(cpredictions, test_inputs, HORIZON, y_scaler)\n",
    "mape_performance['ConditionalRNN'] = mape(ceval_df['prediction'], ceval_df['actual'])\n",
    "mse_performance['ConditionalRNN'] = validation(ceval_df['prediction'], ceval_df['actual'], 'RMSE')"
   ]
  },
  {
   "cell_type": "code",
   "execution_count": 187,
   "metadata": {
    "scrolled": false
   },
   "outputs": [
    {
     "data": {
      "image/png": "[encoded data removed]",
      "text/plain": [
       "<Figure size 576x432 with 1 Axes>"
      ]
     },
     "metadata": {
      "needs_background": "light"
     },
     "output_type": "display_data"
    }
   ],
   "source": [
    "x = np.arange(len(performance))\n",
    "width = 0.3\n",
    "\n",
    "metric_name = 'mean_squared_error'\n",
    "metric_index = LSTMIMO.metrics_names.index('mean_squared_error')\n",
    "#val_mae = [v[metric_index] for v in val_performance.values()]\n",
    "test_mae = [v[metric_index] for v in performance.values()]\n",
    "\n",
    "#plt.bar(x - 0.17, val_mae, width, label='Validation')\n",
    "plt.bar(x + 0.17, test_mae, width, label='Test')\n",
    "plt.xticks(ticks=x, labels=performance.keys(),\n",
    "           rotation=45)\n",
    "plt.ylabel('MSE (average over all outputs)')\n",
    "_ = plt.legend()"
   ]
  },
  {
   "cell_type": "code",
   "execution_count": 209,
   "metadata": {},
   "outputs": [
    {
     "data": {
      "text/plain": [
       "318.8997836354382"
      ]
     },
     "execution_count": 209,
     "metadata": {},
     "output_type": "execute_result"
    }
   ],
   "source": [
    "mean_squared_error(ceval_df['prediction'], ceval_df['actual'])"
   ]
  },
  {
   "cell_type": "code",
   "execution_count": 215,
   "metadata": {},
   "outputs": [
    {
     "data": {
      "text/plain": [
       "17.857765359513447"
      ]
     },
     "execution_count": 215,
     "metadata": {},
     "output_type": "execute_result"
    }
   ],
   "source": [
    "validation(ceval_df['prediction'], ceval_df['actual'], 'RMSE')"
   ]
  },
  {
   "cell_type": "code",
   "execution_count": 186,
   "metadata": {},
   "outputs": [
    {
     "data": {
      "image/png": "[encoded data removed]",
      "text/plain": [
       "<Figure size 576x432 with 1 Axes>"
      ]
     },
     "metadata": {
      "needs_background": "light"
     },
     "output_type": "display_data"
    }
   ],
   "source": [
    "x = np.arange(len(mape_performance))\n",
    "width = 0.3\n",
    "\n",
    "metric_name = 'mean_average_percentage_error'\n",
    "#metric_index = LSTMIMO.metrics_names.index('mean_squared_error')\n",
    "test_mape = []\n",
    "for i in mape_performance.values():\n",
    "    test_mape.append(100*i)\n",
    "\n",
    "#plt.bar(x - 0.17, val_mae, width, label='Validation')\n",
    "plt.bar(x + 0.17, test_mape, width, label='Test', color=['green','green','green','green','black'])\n",
    "plt.xticks(ticks=x, labels=mape_performance.keys(),\n",
    "           rotation=45)\n",
    "plt.ylabel('MAPE (average over all outputs)')\n",
    "_ = plt.legend()"
   ]
  },
  {
   "cell_type": "code",
   "execution_count": 291,
   "metadata": {},
   "outputs": [],
   "source": [
    "#del mse_performance[\"Paper\"]\n",
    "mse_performance['Reference'] = 19.0"
   ]
  },
  {
   "cell_type": "code",
   "execution_count": 294,
   "metadata": {},
   "outputs": [
    {
     "data": {
      "image/png": "[encoded data removed]",
      "text/plain": [
       "<Figure size 576x432 with 1 Axes>"
      ]
     },
     "metadata": {
      "needs_background": "light"
     },
     "output_type": "display_data"
    }
   ],
   "source": [
    "x = np.arange(len(mse_performance))\n",
    "width = 0.3\n",
    "\n",
    "metric_name = 'mean_squared_error'\n",
    "#metric_index = LSTMIMO.metrics_names.index('mean_squared_error')\n",
    "test_mse = mse_performance.values()\n",
    "\n",
    "#plt.bar(x - 0.17, val_mae, width, label='Validation')\n",
    "plt.bar(x + 0.17, test_mse, width, label='Test', color=['green','green','green','green','green', 'black'])\n",
    "plt.xticks(ticks=x, labels=mse_performance.keys(),\n",
    "           rotation=45)\n",
    "plt.ylabel('RMSE (average over all outputs)')\n",
    "plt.title('Comparison between model acccuracy for day-ahead load forecast\\n(GEFCOM2014 data 2005-2011)')\n",
    "_ = plt.legend()"
   ]
  },
  {
   "cell_type": "code",
   "execution_count": 212,
   "metadata": {},
   "outputs": [],
   "source": [
    "def validation(forecasted, real, parameter):\n",
    "    ''' \n",
    "    compute some important parameters to compare forecasting results\n",
    "    '''\n",
    "    value = 0\n",
    "    value_1 = 0\n",
    "    value_2 = 0\n",
    "\n",
    "    if parameter == 'SMAPE':\n",
    "        for i in range(len(forecasted)):\n",
    "            if real[i] + forecasted[i] == 0:\n",
    "                value += 0\n",
    "            else: \n",
    "                value += ((abs(real[i] - forecasted[i])) / (real[i] + forecasted[i])) * 100\n",
    "        final_value = value / len(forecasted)  \n",
    "\n",
    "    elif parameter == 'MAPE':\n",
    "        for i in range(len(forecasted)):\n",
    "            if real[i] == 0:\n",
    "                value += 0\n",
    "            else: \n",
    "                value += (abs(real[i] - forecasted[i]))/real[i]\n",
    "        final_value = value / len(forecasted) * 100\n",
    "\n",
    "    elif parameter == 'RMSE':\n",
    "        for i in range(len(forecasted)):\n",
    "            value += (real[i] - forecasted[i]) ** 2\n",
    "        final_value = (value / len(forecasted)) ** (1 / 2) \n",
    "\n",
    "    elif parameter == 'R':\n",
    "        for i in range(len(forecasted)):\n",
    "            value += (real[i] - np.mean(real)) * (forecasted[i] - np.mean(forecasted))\n",
    "            value_1 += (real[i] - np.mean(real)) ** 2\n",
    "            value_2 += (forecasted[i] - np.mean(forecasted)) ** 2\n",
    "\n",
    "        if value_1 == 0 or value_2 == 0:\n",
    "            final_value = 100\n",
    "        else:\n",
    "            final_value = (value / ((value_1 ** (1 / 2)) * (value_2 ** (1 / 2))))*100\n",
    "\n",
    "    return final_value"
   ]
  }
 ],
 "metadata": {
  "kernelspec": {
   "display_name": "Python 3",
   "language": "python",
   "name": "python3"
  },
  "language_info": {
   "codemirror_mode": {
    "name": "ipython",
    "version": 3
   },
   "file_extension": ".py",
   "mimetype": "text/x-python",
   "name": "python",
   "nbconvert_exporter": "python",
   "pygments_lexer": "ipython3",
   "version": "3.8.6"
  }
 },
 "nbformat": 4,
 "nbformat_minor": 5
}
