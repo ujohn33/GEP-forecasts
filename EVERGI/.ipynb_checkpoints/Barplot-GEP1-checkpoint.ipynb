{
 "cells": [
  {
   "cell_type": "code",
   "execution_count": 25,
   "metadata": {},
   "outputs": [],
   "source": [
    "import pandas as pd\n",
    "import matplotlib.pyplot as plt\n",
    "import seaborn as sns\n",
    "import numpy as np"
   ]
  },
  {
   "cell_type": "code",
   "execution_count": 26,
   "metadata": {},
   "outputs": [],
   "source": [
    "fram = pd.read_csv('results/GEP1_fram.csv', index_col=0)\n",
    "MIMO_full = pd.read_csv('results/GEP1_MIMO-full.csv', index_col=0)\n",
    "MIMO = pd.read_csv('results/GEP1_MIMO.csv', index_col=0)\n",
    "condRNN = pd.read_csv('results/GEP1_ConditionalRNN.csv', index_col=0)\n",
    "datasets = [MIMO, condRNN, MIMO_full, fram]"
   ]
  },
  {
   "cell_type": "code",
   "execution_count": 27,
   "metadata": {},
   "outputs": [],
   "source": [
    "means = []\n",
    "stds = []\n",
    "means.append(35.58681558224254)\n",
    "stds.append(0)\n",
    "for df in datasets:\n",
    "    means.append(df['mape'].mean())\n",
    "    stds.append(df['mape'].std())"
   ]
  },
  {
   "cell_type": "code",
   "execution_count": 28,
   "metadata": {},
   "outputs": [
    {
     "data": {
      "text/plain": [
       "[35.58681558224254,\n",
       " 26.284455980672085,\n",
       " 24.04665915765714,\n",
       " 20.599821642815375,\n",
       " 18.253360933068727]"
      ]
     },
     "execution_count": 28,
     "metadata": {},
     "output_type": "execute_result"
    }
   ],
   "source": [
    "means"
   ]
  },
  {
   "cell_type": "code",
   "execution_count": null,
   "metadata": {},
   "outputs": [],
   "source": [
    "plt.rcParams['figure.figsize'] = (10, 8)\n",
    "colors=['blue',\"green\", \"green\", \"green\", \"green\"]\n",
    "labels = ['Reference','MIMO', 'ConditionalRNN', 'MIMO-full_data', 'LSTM-framework']\n",
    "plt.bar(range(len(means)), means, yerr=stds, align='center', alpha=0.5, color=colors)\n",
    "plt.xticks(ticks=range(len(means)), labels=labels,\n",
    "           rotation=45)\n",
    "plt.title('Comparison between model acccuracy for day-ahead load forecast\\n(GEP1 data 2014-2019)')\n",
    "plt.show()"
   ]
  },
  {
   "cell_type": "code",
   "execution_count": null,
   "metadata": {},
   "outputs": [],
   "source": []
  }
 ],
 "metadata": {
  "kernelspec": {
   "display_name": "Python [conda env:evgeny] *",
   "language": "python",
   "name": "conda-env-evgeny-py"
  },
  "language_info": {
   "codemirror_mode": {
    "name": "ipython",
    "version": 3
   },
   "file_extension": ".py",
   "mimetype": "text/x-python",
   "name": "python",
   "nbconvert_exporter": "python",
   "pygments_lexer": "ipython3",
   "version": "3.8.6"
  }
 },
 "nbformat": 4,
 "nbformat_minor": 4
}
