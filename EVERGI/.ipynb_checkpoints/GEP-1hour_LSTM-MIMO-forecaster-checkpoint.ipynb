{
 "cells": [
  {
   "cell_type": "code",
   "execution_count": null,
   "metadata": {},
   "outputs": [],
   "source": [
    "import datetime\n",
    "import sys\n",
    "import os\n",
    "\n",
    "import IPython\n",
    "import IPython.display\n",
    "import matplotlib as mpl\n",
    "import matplotlib.pyplot as plt\n",
    "import numpy as np\n",
    "import pandas as pd\n",
    "import seaborn as sns\n",
    "import tensorflow as tf\n",
    "import itertools\n",
    "from tensorflow.keras.layers import Dense\n",
    "from tensorflow.keras.models import Sequential\n",
    "from cond_rnn import ConditionalRNN\n",
    "from sklearn.preprocessing import MinMaxScaler\n",
    "\n",
    "import src.preprocessing\n",
    "from src.functions import load_data, mape, TimeSeriesTensor, create_evaluation_df, series_to_supervised, plot_train_history, validation\n",
    "\n",
    "np.set_printoptions(threshold=sys.maxsize)\n",
    "mpl.rcParams['figure.figsize'] = (8, 6)\n",
    "mpl.rcParams['axes.grid'] = False"
   ]
  },
  {
   "cell_type": "code",
   "execution_count": 2,
   "metadata": {},
   "outputs": [],
   "source": [
    "csv_path = '../data/GEP/Consumption_15min.csv'\n",
    "df = pd.read_csv(csv_path, index_col=0)"
   ]
  },
  {
   "cell_type": "code",
   "execution_count": 3,
   "metadata": {},
   "outputs": [],
   "source": [
    "df.index = pd.to_datetime(df.index)\n",
    "df = df.resample('H').sum()"
   ]
  },
  {
   "cell_type": "code",
   "execution_count": 4,
   "metadata": {},
   "outputs": [],
   "source": [
    "df = src.preprocessing.preprocess(df, 'Belgium')"
   ]
  },
  {
   "cell_type": "code",
   "execution_count": 5,
   "metadata": {},
   "outputs": [
    {
     "data": {
      "text/html": [
       "<div>\n",
       "<style scoped>\n",
       "    .dataframe tbody tr th:only-of-type {\n",
       "        vertical-align: middle;\n",
       "    }\n",
       "\n",
       "    .dataframe tbody tr th {\n",
       "        vertical-align: top;\n",
       "    }\n",
       "\n",
       "    .dataframe thead th {\n",
       "        text-align: right;\n",
       "    }\n",
       "</style>\n",
       "<table border=\"1\" class=\"dataframe\">\n",
       "  <thead>\n",
       "    <tr style=\"text-align: right;\">\n",
       "      <th></th>\n",
       "      <th>value</th>\n",
       "      <th>working day</th>\n",
       "      <th>week_1</th>\n",
       "      <th>week_2</th>\n",
       "      <th>week_3</th>\n",
       "      <th>week_4</th>\n",
       "      <th>week_5</th>\n",
       "      <th>week_6</th>\n",
       "      <th>week_7</th>\n",
       "      <th>fractional hour_sin</th>\n",
       "      <th>fractional hour_cos</th>\n",
       "      <th>day of year_sin</th>\n",
       "      <th>day of year_cos</th>\n",
       "    </tr>\n",
       "    <tr>\n",
       "      <th>Datetime</th>\n",
       "      <th></th>\n",
       "      <th></th>\n",
       "      <th></th>\n",
       "      <th></th>\n",
       "      <th></th>\n",
       "      <th></th>\n",
       "      <th></th>\n",
       "      <th></th>\n",
       "      <th></th>\n",
       "      <th></th>\n",
       "      <th></th>\n",
       "      <th></th>\n",
       "      <th></th>\n",
       "    </tr>\n",
       "  </thead>\n",
       "  <tbody>\n",
       "    <tr>\n",
       "      <th>2014-12-06 00:00:00</th>\n",
       "      <td>28.35</td>\n",
       "      <td>0.0</td>\n",
       "      <td>0</td>\n",
       "      <td>0</td>\n",
       "      <td>0</td>\n",
       "      <td>0</td>\n",
       "      <td>0</td>\n",
       "      <td>1</td>\n",
       "      <td>0</td>\n",
       "      <td>0.000000</td>\n",
       "      <td>1.000000</td>\n",
       "      <td>0.015987</td>\n",
       "      <td>0.999872</td>\n",
       "    </tr>\n",
       "    <tr>\n",
       "      <th>2014-12-06 01:00:00</th>\n",
       "      <td>28.14</td>\n",
       "      <td>0.0</td>\n",
       "      <td>0</td>\n",
       "      <td>0</td>\n",
       "      <td>0</td>\n",
       "      <td>0</td>\n",
       "      <td>0</td>\n",
       "      <td>1</td>\n",
       "      <td>0</td>\n",
       "      <td>0.010908</td>\n",
       "      <td>0.999941</td>\n",
       "      <td>0.015987</td>\n",
       "      <td>0.999872</td>\n",
       "    </tr>\n",
       "    <tr>\n",
       "      <th>2014-12-06 02:00:00</th>\n",
       "      <td>27.93</td>\n",
       "      <td>0.0</td>\n",
       "      <td>0</td>\n",
       "      <td>0</td>\n",
       "      <td>0</td>\n",
       "      <td>0</td>\n",
       "      <td>0</td>\n",
       "      <td>1</td>\n",
       "      <td>0</td>\n",
       "      <td>0.021815</td>\n",
       "      <td>0.999762</td>\n",
       "      <td>0.015987</td>\n",
       "      <td>0.999872</td>\n",
       "    </tr>\n",
       "    <tr>\n",
       "      <th>2014-12-06 03:00:00</th>\n",
       "      <td>28.56</td>\n",
       "      <td>0.0</td>\n",
       "      <td>0</td>\n",
       "      <td>0</td>\n",
       "      <td>0</td>\n",
       "      <td>0</td>\n",
       "      <td>0</td>\n",
       "      <td>1</td>\n",
       "      <td>0</td>\n",
       "      <td>0.032719</td>\n",
       "      <td>0.999465</td>\n",
       "      <td>0.015987</td>\n",
       "      <td>0.999872</td>\n",
       "    </tr>\n",
       "    <tr>\n",
       "      <th>2014-12-06 04:00:00</th>\n",
       "      <td>27.93</td>\n",
       "      <td>0.0</td>\n",
       "      <td>0</td>\n",
       "      <td>0</td>\n",
       "      <td>0</td>\n",
       "      <td>0</td>\n",
       "      <td>0</td>\n",
       "      <td>1</td>\n",
       "      <td>0</td>\n",
       "      <td>0.043619</td>\n",
       "      <td>0.999048</td>\n",
       "      <td>0.015987</td>\n",
       "      <td>0.999872</td>\n",
       "    </tr>\n",
       "    <tr>\n",
       "      <th>...</th>\n",
       "      <td>...</td>\n",
       "      <td>...</td>\n",
       "      <td>...</td>\n",
       "      <td>...</td>\n",
       "      <td>...</td>\n",
       "      <td>...</td>\n",
       "      <td>...</td>\n",
       "      <td>...</td>\n",
       "      <td>...</td>\n",
       "      <td>...</td>\n",
       "      <td>...</td>\n",
       "      <td>...</td>\n",
       "      <td>...</td>\n",
       "    </tr>\n",
       "    <tr>\n",
       "      <th>2019-12-31 19:00:00</th>\n",
       "      <td>15.33</td>\n",
       "      <td>1.0</td>\n",
       "      <td>0</td>\n",
       "      <td>1</td>\n",
       "      <td>0</td>\n",
       "      <td>0</td>\n",
       "      <td>0</td>\n",
       "      <td>0</td>\n",
       "      <td>0</td>\n",
       "      <td>0.205777</td>\n",
       "      <td>0.978599</td>\n",
       "      <td>0.017166</td>\n",
       "      <td>0.999853</td>\n",
       "    </tr>\n",
       "    <tr>\n",
       "      <th>2019-12-31 20:00:00</th>\n",
       "      <td>15.54</td>\n",
       "      <td>1.0</td>\n",
       "      <td>0</td>\n",
       "      <td>1</td>\n",
       "      <td>0</td>\n",
       "      <td>0</td>\n",
       "      <td>0</td>\n",
       "      <td>0</td>\n",
       "      <td>0</td>\n",
       "      <td>0.216440</td>\n",
       "      <td>0.976296</td>\n",
       "      <td>0.017166</td>\n",
       "      <td>0.999853</td>\n",
       "    </tr>\n",
       "    <tr>\n",
       "      <th>2019-12-31 21:00:00</th>\n",
       "      <td>15.75</td>\n",
       "      <td>1.0</td>\n",
       "      <td>0</td>\n",
       "      <td>1</td>\n",
       "      <td>0</td>\n",
       "      <td>0</td>\n",
       "      <td>0</td>\n",
       "      <td>0</td>\n",
       "      <td>0</td>\n",
       "      <td>0.227076</td>\n",
       "      <td>0.973877</td>\n",
       "      <td>0.017166</td>\n",
       "      <td>0.999853</td>\n",
       "    </tr>\n",
       "    <tr>\n",
       "      <th>2019-12-31 22:00:00</th>\n",
       "      <td>15.12</td>\n",
       "      <td>1.0</td>\n",
       "      <td>0</td>\n",
       "      <td>1</td>\n",
       "      <td>0</td>\n",
       "      <td>0</td>\n",
       "      <td>0</td>\n",
       "      <td>0</td>\n",
       "      <td>0</td>\n",
       "      <td>0.237686</td>\n",
       "      <td>0.971342</td>\n",
       "      <td>0.017166</td>\n",
       "      <td>0.999853</td>\n",
       "    </tr>\n",
       "    <tr>\n",
       "      <th>2019-12-31 23:00:00</th>\n",
       "      <td>15.33</td>\n",
       "      <td>1.0</td>\n",
       "      <td>0</td>\n",
       "      <td>1</td>\n",
       "      <td>0</td>\n",
       "      <td>0</td>\n",
       "      <td>0</td>\n",
       "      <td>0</td>\n",
       "      <td>0</td>\n",
       "      <td>0.248267</td>\n",
       "      <td>0.968692</td>\n",
       "      <td>0.017166</td>\n",
       "      <td>0.999853</td>\n",
       "    </tr>\n",
       "  </tbody>\n",
       "</table>\n",
       "<p>44448 rows × 13 columns</p>\n",
       "</div>"
      ],
      "text/plain": [
       "                     value  working day  week_1  week_2  week_3  week_4  \\\n",
       "Datetime                                                                  \n",
       "2014-12-06 00:00:00  28.35          0.0       0       0       0       0   \n",
       "2014-12-06 01:00:00  28.14          0.0       0       0       0       0   \n",
       "2014-12-06 02:00:00  27.93          0.0       0       0       0       0   \n",
       "2014-12-06 03:00:00  28.56          0.0       0       0       0       0   \n",
       "2014-12-06 04:00:00  27.93          0.0       0       0       0       0   \n",
       "...                    ...          ...     ...     ...     ...     ...   \n",
       "2019-12-31 19:00:00  15.33          1.0       0       1       0       0   \n",
       "2019-12-31 20:00:00  15.54          1.0       0       1       0       0   \n",
       "2019-12-31 21:00:00  15.75          1.0       0       1       0       0   \n",
       "2019-12-31 22:00:00  15.12          1.0       0       1       0       0   \n",
       "2019-12-31 23:00:00  15.33          1.0       0       1       0       0   \n",
       "\n",
       "                     week_5  week_6  week_7  fractional hour_sin  \\\n",
       "Datetime                                                           \n",
       "2014-12-06 00:00:00       0       1       0             0.000000   \n",
       "2014-12-06 01:00:00       0       1       0             0.010908   \n",
       "2014-12-06 02:00:00       0       1       0             0.021815   \n",
       "2014-12-06 03:00:00       0       1       0             0.032719   \n",
       "2014-12-06 04:00:00       0       1       0             0.043619   \n",
       "...                     ...     ...     ...                  ...   \n",
       "2019-12-31 19:00:00       0       0       0             0.205777   \n",
       "2019-12-31 20:00:00       0       0       0             0.216440   \n",
       "2019-12-31 21:00:00       0       0       0             0.227076   \n",
       "2019-12-31 22:00:00       0       0       0             0.237686   \n",
       "2019-12-31 23:00:00       0       0       0             0.248267   \n",
       "\n",
       "                     fractional hour_cos  day of year_sin  day of year_cos  \n",
       "Datetime                                                                    \n",
       "2014-12-06 00:00:00             1.000000         0.015987         0.999872  \n",
       "2014-12-06 01:00:00             0.999941         0.015987         0.999872  \n",
       "2014-12-06 02:00:00             0.999762         0.015987         0.999872  \n",
       "2014-12-06 03:00:00             0.999465         0.015987         0.999872  \n",
       "2014-12-06 04:00:00             0.999048         0.015987         0.999872  \n",
       "...                                  ...              ...              ...  \n",
       "2019-12-31 19:00:00             0.978599         0.017166         0.999853  \n",
       "2019-12-31 20:00:00             0.976296         0.017166         0.999853  \n",
       "2019-12-31 21:00:00             0.973877         0.017166         0.999853  \n",
       "2019-12-31 22:00:00             0.971342         0.017166         0.999853  \n",
       "2019-12-31 23:00:00             0.968692         0.017166         0.999853  \n",
       "\n",
       "[44448 rows x 13 columns]"
      ]
     },
     "execution_count": 5,
     "metadata": {},
     "output_type": "execute_result"
    }
   ],
   "source": [
    "df"
   ]
  },
  {
   "cell_type": "code",
   "execution_count": 6,
   "metadata": {},
   "outputs": [],
   "source": [
    "c1 = df.iloc[:,1:9]\n",
    "c2 = series_to_supervised(df)\n",
    "short_df = df.iloc[:,[0,1,-4,-3,-2,-1]].copy()\n",
    "c1 = c1.loc[c2.index]\n",
    "short_df = short_df['2014-12-12 02:00:00':]"
   ]
  },
  {
   "cell_type": "code",
   "execution_count": 7,
   "metadata": {},
   "outputs": [],
   "source": [
    "test_df = short_df.copy()['2014']\n",
    "test_c1 = c1.copy()['2014']\n",
    "test_c2 = c2.copy()['2014']\n",
    "\n",
    "n_test = len(test_df)\n",
    "index = len(df) - n_test\n",
    "train_val_split = 0\n",
    "\n",
    "train_df = short_df.copy()[:int(index * (1-train_val_split))]\n",
    "train_c1 = c1.copy()[:int(index * (1-train_val_split))]\n",
    "train_c2 = c2.copy()[:int(index * (1-train_val_split))]\n",
    "\n",
    "val_df = short_df.copy()[int(index * (1-train_val_split)):index]\n",
    "val_c1 = c1.copy()[:int(index * (1-train_val_split))]\n",
    "val_c2 = c2.copy()[:int(index * (1-train_val_split))]\n",
    "\n",
    "num_features = df.shape[1]"
   ]
  },
  {
   "cell_type": "code",
   "execution_count": 8,
   "metadata": {},
   "outputs": [
    {
     "data": {
      "text/plain": [
       "MinMaxScaler()"
      ]
     },
     "execution_count": 8,
     "metadata": {},
     "output_type": "execute_result"
    }
   ],
   "source": [
    "y_scaler = MinMaxScaler()\n",
    "y_scaler.fit(train_df[['value']])"
   ]
  },
  {
   "cell_type": "code",
   "execution_count": 9,
   "metadata": {},
   "outputs": [],
   "source": [
    "train_c2[['value(t-24)']] = y_scaler.fit_transform(train_c2[['value(t-168)']])"
   ]
  },
  {
   "cell_type": "code",
   "execution_count": 10,
   "metadata": {},
   "outputs": [],
   "source": [
    "train_c2[['value(t-24)']] = y_scaler.fit_transform(train_c2[['value(t-168)']])"
   ]
  },
  {
   "cell_type": "code",
   "execution_count": 11,
   "metadata": {},
   "outputs": [],
   "source": [
    "X_scaler = MinMaxScaler()\n",
    "train_df[train_df.columns] = X_scaler.fit_transform(train_df)\n",
    "test_df[train_df.columns] = X_scaler.fit_transform(test_df)"
   ]
  },
  {
   "cell_type": "code",
   "execution_count": 12,
   "metadata": {},
   "outputs": [],
   "source": [
    "T = 24\n",
    "HORIZON = 24\n",
    "tensor_structure = {'X':(range(-T+1, 1), ['value','fractional hour_sin','fractional hour_cos','day of year_sin','day of year_cos'])}\n",
    "train_inputs = TimeSeriesTensor(train_df, 'value', HORIZON, tensor_structure)"
   ]
  },
  {
   "cell_type": "code",
   "execution_count": 13,
   "metadata": {},
   "outputs": [],
   "source": [
    "test_inputs = TimeSeriesTensor(test_df, 'value', HORIZON, tensor_structure)"
   ]
  },
  {
   "cell_type": "code",
   "execution_count": 14,
   "metadata": {},
   "outputs": [
    {
     "name": "stdout",
     "output_type": "stream",
     "text": [
      "(43923, 144)\n",
      "(44280, 8)\n",
      "(44280, 2)\n"
     ]
    }
   ],
   "source": [
    "print(train_inputs.dataframe.shape)\n",
    "print(c1.shape)\n",
    "print(c2.shape)"
   ]
  },
  {
   "cell_type": "code",
   "execution_count": 15,
   "metadata": {},
   "outputs": [],
   "source": [
    "train_c1 = c1.reindex(train_inputs.dataframe.index)\n",
    "train_c2 = c2.reindex(train_inputs.dataframe.index)"
   ]
  },
  {
   "cell_type": "code",
   "execution_count": 16,
   "metadata": {},
   "outputs": [],
   "source": [
    "test_c1 = c1.reindex(test_inputs.dataframe.index)\n",
    "test_c2 = c2.reindex(test_inputs.dataframe.index)"
   ]
  },
  {
   "cell_type": "code",
   "execution_count": 17,
   "metadata": {},
   "outputs": [
    {
     "name": "stdout",
     "output_type": "stream",
     "text": [
      "(43923, 144)\n",
      "(43923, 8)\n",
      "(43923, 2)\n"
     ]
    }
   ],
   "source": [
    "print(train_inputs.dataframe.shape)\n",
    "print(train_c1.shape)\n",
    "print(train_c2.shape)"
   ]
  },
  {
   "cell_type": "code",
   "execution_count": 18,
   "metadata": {},
   "outputs": [],
   "source": [
    "#index_drop = train_c2.index[train_c2.isna().any(axis=1)]\n",
    "#train_c2 = train_c2.drop(index_drop)\n",
    "#train_c1 = train_c1.drop(index_drop)\n",
    "#train_inputs.dataframe = train_inputs.dataframe.drop(index_drop)"
   ]
  },
  {
   "cell_type": "code",
   "execution_count": 19,
   "metadata": {},
   "outputs": [],
   "source": [
    "#print(train_inputs.dataframe.shape)\n",
    "#print(train_c1.shape)\n",
    "#print(train_c2.shape)"
   ]
  },
  {
   "cell_type": "code",
   "execution_count": 20,
   "metadata": {},
   "outputs": [],
   "source": [
    "# FULL DATA\n",
    "longer_df = df.copy()\n",
    "#longer_df = longer_df['2012-01-07 02:00:00':]\n",
    "longer_df = longer_df.merge(series_to_supervised(longer_df), how='right', left_index=True, right_index=True)"
   ]
  },
  {
   "cell_type": "code",
   "execution_count": 21,
   "metadata": {},
   "outputs": [],
   "source": [
    "# FULL DATA\n",
    "test_longer_df = longer_df['2014'].copy()\n",
    "train_longer_df = longer_df[:-len(test_longer_df)].copy()"
   ]
  },
  {
   "cell_type": "code",
   "execution_count": 22,
   "metadata": {},
   "outputs": [],
   "source": [
    "# FULL DATA\n",
    "long_scaler = MinMaxScaler()\n",
    "test_longer_df[test_longer_df.columns] = X_scaler.fit_transform(test_longer_df)\n",
    "train_longer_df[train_longer_df.columns] = X_scaler.fit_transform(train_longer_df)"
   ]
  },
  {
   "cell_type": "code",
   "execution_count": 23,
   "metadata": {},
   "outputs": [],
   "source": [
    "# FULL DATA\n",
    "T = 24\n",
    "HORIZON = 24\n",
    "tensor_structure = {'X':(range(-T+1, 1), train_longer_df.columns)}\n",
    "train_longer_inputs = TimeSeriesTensor(train_longer_df, 'value', HORIZON, tensor_structure)\n",
    "test_longer_inputs = TimeSeriesTensor(test_longer_df, 'value', HORIZON, tensor_structure)"
   ]
  },
  {
   "cell_type": "code",
   "execution_count": null,
   "metadata": {},
   "outputs": [],
   "source": []
  },
  {
   "cell_type": "code",
   "execution_count": 24,
   "metadata": {},
   "outputs": [],
   "source": [
    "df_lags = short_df.merge(series_to_supervised(df), how='right', left_index=True, right_index=True)"
   ]
  },
  {
   "cell_type": "code",
   "execution_count": 25,
   "metadata": {},
   "outputs": [],
   "source": [
    "test_df_lags = df_lags['2014'].copy()\n",
    "train_df_lags = df_lags[:-len(test_df_lags)].copy()"
   ]
  },
  {
   "cell_type": "code",
   "execution_count": 26,
   "metadata": {},
   "outputs": [],
   "source": [
    "train_Y_df_lags = train_df_lags.iloc[:,0]\n",
    "test_Y_df_lags = test_df_lags.iloc[:,0]"
   ]
  },
  {
   "cell_type": "code",
   "execution_count": 27,
   "metadata": {},
   "outputs": [],
   "source": [
    "X_lags_scaler = MinMaxScaler()\n",
    "train_df_lags[train_df_lags.columns] = X_lags_scaler.fit_transform(train_df_lags)\n",
    "test_df_lags[test_df_lags.columns] = X_lags_scaler.fit_transform(test_df_lags)"
   ]
  },
  {
   "cell_type": "code",
   "execution_count": 28,
   "metadata": {},
   "outputs": [],
   "source": [
    "train_X_df_lags = train_df_lags.iloc[:,1:]\n",
    "test_X_df_lags = test_df_lags.iloc[:,1:]"
   ]
  },
  {
   "cell_type": "code",
   "execution_count": 29,
   "metadata": {},
   "outputs": [],
   "source": [
    "train_Y1_df_lags = train_df_lags.iloc[:,0]\n",
    "test_Y1_df_lags = test_df_lags.iloc[:,0]"
   ]
  },
  {
   "cell_type": "code",
   "execution_count": 30,
   "metadata": {},
   "outputs": [],
   "source": [
    "train_X_df_lags = np.asarray(train_X_df_lags).reshape((train_X_df_lags.shape[0], 1, train_X_df_lags.shape[1]))\n",
    "test_X_df_lags = np.asarray(test_X_df_lags).reshape((test_X_df_lags.shape[0], 1, test_X_df_lags.shape[1]))"
   ]
  },
  {
   "cell_type": "code",
   "execution_count": 31,
   "metadata": {},
   "outputs": [
    {
     "name": "stdout",
     "output_type": "stream",
     "text": [
      "[('target', 'y', 't+1') ('target', 'y', 't+2') ('target', 'y', 't+3')\n",
      " ('target', 'y', 't+4') ('target', 'y', 't+5') ('target', 'y', 't+6')\n",
      " ('target', 'y', 't+7') ('target', 'y', 't+8') ('target', 'y', 't+9')\n",
      " ('target', 'y', 't+10') ('target', 'y', 't+11') ('target', 'y', 't+12')\n",
      " ('target', 'y', 't+13') ('target', 'y', 't+14') ('target', 'y', 't+15')\n",
      " ('target', 'y', 't+16') ('target', 'y', 't+17') ('target', 'y', 't+18')\n",
      " ('target', 'y', 't+19') ('target', 'y', 't+20') ('target', 'y', 't+21')\n",
      " ('target', 'y', 't+22') ('target', 'y', 't+23') ('target', 'y', 't+24')\n",
      " ('X', 'value', 't-23') ('X', 'value', 't-22') ('X', 'value', 't-21')\n",
      " ('X', 'value', 't-20') ('X', 'value', 't-19') ('X', 'value', 't-18')\n",
      " ('X', 'value', 't-17') ('X', 'value', 't-16') ('X', 'value', 't-15')\n",
      " ('X', 'value', 't-14') ('X', 'value', 't-13') ('X', 'value', 't-12')\n",
      " ('X', 'value', 't-11') ('X', 'value', 't-10') ('X', 'value', 't-9')\n",
      " ('X', 'value', 't-8') ('X', 'value', 't-7') ('X', 'value', 't-6')\n",
      " ('X', 'value', 't-5') ('X', 'value', 't-4') ('X', 'value', 't-3')\n",
      " ('X', 'value', 't-2') ('X', 'value', 't-1') ('X', 'value', 't')\n",
      " ('X', 'fractional hour_sin', 't-23') ('X', 'fractional hour_sin', 't-22')\n",
      " ('X', 'fractional hour_sin', 't-21') ('X', 'fractional hour_sin', 't-20')\n",
      " ('X', 'fractional hour_sin', 't-19') ('X', 'fractional hour_sin', 't-18')\n",
      " ('X', 'fractional hour_sin', 't-17') ('X', 'fractional hour_sin', 't-16')\n",
      " ('X', 'fractional hour_sin', 't-15') ('X', 'fractional hour_sin', 't-14')\n",
      " ('X', 'fractional hour_sin', 't-13') ('X', 'fractional hour_sin', 't-12')\n",
      " ('X', 'fractional hour_sin', 't-11') ('X', 'fractional hour_sin', 't-10')\n",
      " ('X', 'fractional hour_sin', 't-9') ('X', 'fractional hour_sin', 't-8')\n",
      " ('X', 'fractional hour_sin', 't-7') ('X', 'fractional hour_sin', 't-6')\n",
      " ('X', 'fractional hour_sin', 't-5') ('X', 'fractional hour_sin', 't-4')\n",
      " ('X', 'fractional hour_sin', 't-3') ('X', 'fractional hour_sin', 't-2')\n",
      " ('X', 'fractional hour_sin', 't-1') ('X', 'fractional hour_sin', 't')\n",
      " ('X', 'fractional hour_cos', 't-23') ('X', 'fractional hour_cos', 't-22')\n",
      " ('X', 'fractional hour_cos', 't-21') ('X', 'fractional hour_cos', 't-20')\n",
      " ('X', 'fractional hour_cos', 't-19') ('X', 'fractional hour_cos', 't-18')\n",
      " ('X', 'fractional hour_cos', 't-17') ('X', 'fractional hour_cos', 't-16')\n",
      " ('X', 'fractional hour_cos', 't-15') ('X', 'fractional hour_cos', 't-14')\n",
      " ('X', 'fractional hour_cos', 't-13') ('X', 'fractional hour_cos', 't-12')\n",
      " ('X', 'fractional hour_cos', 't-11') ('X', 'fractional hour_cos', 't-10')\n",
      " ('X', 'fractional hour_cos', 't-9') ('X', 'fractional hour_cos', 't-8')\n",
      " ('X', 'fractional hour_cos', 't-7') ('X', 'fractional hour_cos', 't-6')\n",
      " ('X', 'fractional hour_cos', 't-5') ('X', 'fractional hour_cos', 't-4')\n",
      " ('X', 'fractional hour_cos', 't-3') ('X', 'fractional hour_cos', 't-2')\n",
      " ('X', 'fractional hour_cos', 't-1') ('X', 'fractional hour_cos', 't')\n",
      " ('X', 'day of year_sin', 't-23') ('X', 'day of year_sin', 't-22')\n",
      " ('X', 'day of year_sin', 't-21') ('X', 'day of year_sin', 't-20')\n",
      " ('X', 'day of year_sin', 't-19') ('X', 'day of year_sin', 't-18')\n",
      " ('X', 'day of year_sin', 't-17') ('X', 'day of year_sin', 't-16')\n",
      " ('X', 'day of year_sin', 't-15') ('X', 'day of year_sin', 't-14')\n",
      " ('X', 'day of year_sin', 't-13') ('X', 'day of year_sin', 't-12')\n",
      " ('X', 'day of year_sin', 't-11') ('X', 'day of year_sin', 't-10')\n",
      " ('X', 'day of year_sin', 't-9') ('X', 'day of year_sin', 't-8')\n",
      " ('X', 'day of year_sin', 't-7') ('X', 'day of year_sin', 't-6')\n",
      " ('X', 'day of year_sin', 't-5') ('X', 'day of year_sin', 't-4')\n",
      " ('X', 'day of year_sin', 't-3') ('X', 'day of year_sin', 't-2')\n",
      " ('X', 'day of year_sin', 't-1') ('X', 'day of year_sin', 't')\n",
      " ('X', 'day of year_cos', 't-23') ('X', 'day of year_cos', 't-22')\n",
      " ('X', 'day of year_cos', 't-21') ('X', 'day of year_cos', 't-20')\n",
      " ('X', 'day of year_cos', 't-19') ('X', 'day of year_cos', 't-18')\n",
      " ('X', 'day of year_cos', 't-17') ('X', 'day of year_cos', 't-16')\n",
      " ('X', 'day of year_cos', 't-15') ('X', 'day of year_cos', 't-14')\n",
      " ('X', 'day of year_cos', 't-13') ('X', 'day of year_cos', 't-12')\n",
      " ('X', 'day of year_cos', 't-11') ('X', 'day of year_cos', 't-10')\n",
      " ('X', 'day of year_cos', 't-9') ('X', 'day of year_cos', 't-8')\n",
      " ('X', 'day of year_cos', 't-7') ('X', 'day of year_cos', 't-6')\n",
      " ('X', 'day of year_cos', 't-5') ('X', 'day of year_cos', 't-4')\n",
      " ('X', 'day of year_cos', 't-3') ('X', 'day of year_cos', 't-2')\n",
      " ('X', 'day of year_cos', 't-1') ('X', 'day of year_cos', 't')]\n"
     ]
    }
   ],
   "source": [
    "print(train_inputs.dataframe.columns.to_numpy())"
   ]
  },
  {
   "cell_type": "code",
   "execution_count": 32,
   "metadata": {},
   "outputs": [],
   "source": [
    "class Baseline(tf.keras.Model):\n",
    "    def __init__(self, label_index=None):\n",
    "        super().__init__()\n",
    "        self.label_index = label_index\n",
    "\n",
    "    def call(self, inputs):\n",
    "        if self.label_index is None:\n",
    "            return inputs\n",
    "        result = inputs[:, :, self.label_index]\n",
    "        return result[:, :, tf.newaxis]"
   ]
  },
  {
   "cell_type": "code",
   "execution_count": 33,
   "metadata": {},
   "outputs": [],
   "source": [
    "val_performance = {}\n",
    "performance = {}\n",
    "mape_performance = {}\n",
    "mse_performance = {}\n",
    "\n",
    "baseline = Baseline(label_index = 0)\n",
    "\n",
    "baseline.compile(loss=tf.losses.MeanSquaredError(), metrics=[tf.metrics.MeanSquaredError()])\n",
    "\n",
    "predictions_B = baseline.predict(test_inputs['X'])\n",
    "eval_df_B = create_evaluation_df(predictions_B.reshape(-1,24), test_inputs, HORIZON, y_scaler)\n",
    "\n",
    "performance['Baseline'] = baseline.evaluate(test_inputs['X'],test_inputs['target'], verbose=0)\n",
    "mape_performance['Baseline'] = mape(eval_df_B['prediction'], eval_df_B['actual'])\n",
    "mse_performance['Baseline'] = validation(eval_df_B['prediction'], eval_df_B['actual'], 'RMSE')"
   ]
  },
  {
   "cell_type": "code",
   "execution_count": 34,
   "metadata": {},
   "outputs": [],
   "source": [
    "MAX_EPOCHS = 25\n",
    "BATCHSIZE = 10\n",
    "patience = 10\n",
    "\n",
    "LSTM_framework = tf.keras.models.Sequential([\n",
    "    # Shape [batch, time, features] => [batch, time, lstm_units]\n",
    "    tf.keras.layers.LSTM(32, activation='relu', return_sequences=True, input_shape=(train_X_df_lags.shape[1],train_X_df_lags.shape[2])),\n",
    "    tf.keras.layers.LSTM(32, activation='relu'),\n",
    "    tf.keras.layers.Dropout(0.2),\n",
    "    tf.keras.layers.Dense(1)\n",
    "])"
   ]
  },
  {
   "cell_type": "code",
   "execution_count": 35,
   "metadata": {},
   "outputs": [],
   "source": [
    "LSTM_framework.compile(optimizer=tf.optimizers.Adam(), loss='mse', metrics=[tf.metrics.MeanSquaredError()])"
   ]
  },
  {
   "cell_type": "code",
   "execution_count": 36,
   "metadata": {},
   "outputs": [
    {
     "name": "stdout",
     "output_type": "stream",
     "text": [
      "Model: \"sequential\"\n",
      "_________________________________________________________________\n",
      "Layer (type)                 Output Shape              Param #   \n",
      "=================================================================\n",
      "lstm (LSTM)                  (None, 1, 32)             5120      \n",
      "_________________________________________________________________\n",
      "lstm_1 (LSTM)                (None, 32)                8320      \n",
      "_________________________________________________________________\n",
      "dropout (Dropout)            (None, 32)                0         \n",
      "_________________________________________________________________\n",
      "dense (Dense)                (None, 1)                 33        \n",
      "=================================================================\n",
      "Total params: 13,473\n",
      "Trainable params: 13,473\n",
      "Non-trainable params: 0\n",
      "_________________________________________________________________\n"
     ]
    }
   ],
   "source": [
    "LSTM_framework.summary()"
   ]
  },
  {
   "cell_type": "code",
   "execution_count": 37,
   "metadata": {},
   "outputs": [
    {
     "name": "stdout",
     "output_type": "stream",
     "text": [
      "Epoch 1/25\n",
      "1165/1165 [==============================] - 4s 3ms/step - loss: 0.0240 - mean_squared_error: 0.0240 - val_loss: 0.0125 - val_mean_squared_error: 0.0125\n",
      "Epoch 2/25\n",
      "1165/1165 [==============================] - 3s 3ms/step - loss: 0.0168 - mean_squared_error: 0.0168 - val_loss: 0.0114 - val_mean_squared_error: 0.0114\n",
      "Epoch 3/25\n",
      "1165/1165 [==============================] - 3s 3ms/step - loss: 0.0157 - mean_squared_error: 0.0157 - val_loss: 0.0112 - val_mean_squared_error: 0.0112\n",
      "Epoch 4/25\n",
      "1165/1165 [==============================] - 3s 2ms/step - loss: 0.0152 - mean_squared_error: 0.0152 - val_loss: 0.0121 - val_mean_squared_error: 0.0121\n",
      "Epoch 5/25\n",
      "1165/1165 [==============================] - 3s 2ms/step - loss: 0.0146 - mean_squared_error: 0.0146 - val_loss: 0.0105 - val_mean_squared_error: 0.0105\n",
      "Epoch 6/25\n",
      "1165/1165 [==============================] - 3s 3ms/step - loss: 0.0142 - mean_squared_error: 0.0142 - val_loss: 0.0105 - val_mean_squared_error: 0.0105\n",
      "Epoch 7/25\n",
      "1165/1165 [==============================] - 3s 3ms/step - loss: 0.0140 - mean_squared_error: 0.0140 - val_loss: 0.0106 - val_mean_squared_error: 0.0106\n",
      "Epoch 8/25\n",
      "1165/1165 [==============================] - 3s 3ms/step - loss: 0.0138 - mean_squared_error: 0.0138 - val_loss: 0.0073 - val_mean_squared_error: 0.0073\n",
      "Epoch 9/25\n",
      "1165/1165 [==============================] - 3s 2ms/step - loss: 0.0137 - mean_squared_error: 0.0137 - val_loss: 0.0087 - val_mean_squared_error: 0.0087\n",
      "Epoch 10/25\n",
      "1165/1165 [==============================] - 3s 2ms/step - loss: 0.0137 - mean_squared_error: 0.0137 - val_loss: 0.0104 - val_mean_squared_error: 0.0104\n",
      "Epoch 11/25\n",
      "1165/1165 [==============================] - 3s 3ms/step - loss: 0.0135 - mean_squared_error: 0.0135 - val_loss: 0.0114 - val_mean_squared_error: 0.0114\n",
      "Epoch 12/25\n",
      "1165/1165 [==============================] - 3s 3ms/step - loss: 0.0135 - mean_squared_error: 0.0135 - val_loss: 0.0087 - val_mean_squared_error: 0.0087\n",
      "Epoch 13/25\n",
      "1165/1165 [==============================] - 3s 3ms/step - loss: 0.0136 - mean_squared_error: 0.0136 - val_loss: 0.0112 - val_mean_squared_error: 0.0112\n",
      "Epoch 14/25\n",
      "1165/1165 [==============================] - 3s 2ms/step - loss: 0.0136 - mean_squared_error: 0.0136 - val_loss: 0.0106 - val_mean_squared_error: 0.0106\n",
      "Epoch 15/25\n",
      "1165/1165 [==============================] - 3s 3ms/step - loss: 0.0135 - mean_squared_error: 0.0135 - val_loss: 0.0093 - val_mean_squared_error: 0.0093\n",
      "Epoch 16/25\n",
      "1165/1165 [==============================] - 3s 2ms/step - loss: 0.0134 - mean_squared_error: 0.0134 - val_loss: 0.0090 - val_mean_squared_error: 0.0090\n",
      "Epoch 17/25\n",
      "1165/1165 [==============================] - 3s 2ms/step - loss: 0.0135 - mean_squared_error: 0.0135 - val_loss: 0.0085 - val_mean_squared_error: 0.0085\n",
      "Epoch 18/25\n",
      "1165/1165 [==============================] - 3s 2ms/step - loss: 0.0134 - mean_squared_error: 0.0134 - val_loss: 0.0109 - val_mean_squared_error: 0.0109\n",
      "RUN 1\n",
      "\n",
      "Epoch 1/25\n",
      "1165/1165 [==============================] - 3s 3ms/step - loss: 0.0132 - mean_squared_error: 0.0132 - val_loss: 0.0108 - val_mean_squared_error: 0.0108\n",
      "Epoch 2/25\n",
      "1165/1165 [==============================] - 3s 3ms/step - loss: 0.0134 - mean_squared_error: 0.0134 - val_loss: 0.0084 - val_mean_squared_error: 0.0084\n",
      "Epoch 3/25\n",
      "1165/1165 [==============================] - 3s 3ms/step - loss: 0.0134 - mean_squared_error: 0.0134 - val_loss: 0.0090 - val_mean_squared_error: 0.0090\n",
      "Epoch 4/25\n",
      "1165/1165 [==============================] - 3s 3ms/step - loss: 0.0133 - mean_squared_error: 0.0133 - val_loss: 0.0097 - val_mean_squared_error: 0.0097\n",
      "Epoch 5/25\n",
      "1165/1165 [==============================] - 3s 3ms/step - loss: 0.0133 - mean_squared_error: 0.0133 - val_loss: 0.0089 - val_mean_squared_error: 0.0089\n",
      "Epoch 6/25\n",
      "1165/1165 [==============================] - 4s 3ms/step - loss: 0.0133 - mean_squared_error: 0.0133 - val_loss: 0.0088 - val_mean_squared_error: 0.0088\n",
      "Epoch 7/25\n",
      "1165/1165 [==============================] - 3s 3ms/step - loss: 0.0134 - mean_squared_error: 0.0134 - val_loss: 0.0076 - val_mean_squared_error: 0.0076\n",
      "Epoch 8/25\n",
      "1165/1165 [==============================] - 3s 3ms/step - loss: 0.0132 - mean_squared_error: 0.0132 - val_loss: 0.0092 - val_mean_squared_error: 0.0092\n",
      "Epoch 9/25\n",
      "1165/1165 [==============================] - 3s 3ms/step - loss: 0.0133 - mean_squared_error: 0.0133 - val_loss: 0.0100 - val_mean_squared_error: 0.0100\n",
      "Epoch 10/25\n",
      "1165/1165 [==============================] - 3s 3ms/step - loss: 0.0133 - mean_squared_error: 0.0133 - val_loss: 0.0080 - val_mean_squared_error: 0.0080\n",
      "Epoch 11/25\n",
      "1165/1165 [==============================] - 3s 3ms/step - loss: 0.0133 - mean_squared_error: 0.0133 - val_loss: 0.0111 - val_mean_squared_error: 0.0111\n",
      "Epoch 12/25\n",
      "1165/1165 [==============================] - 3s 3ms/step - loss: 0.0132 - mean_squared_error: 0.0132 - val_loss: 0.0107 - val_mean_squared_error: 0.0107\n",
      "Epoch 13/25\n",
      "1165/1165 [==============================] - 3s 2ms/step - loss: 0.0132 - mean_squared_error: 0.0132 - val_loss: 0.0082 - val_mean_squared_error: 0.0082\n",
      "Epoch 14/25\n",
      "1165/1165 [==============================] - 3s 2ms/step - loss: 0.0132 - mean_squared_error: 0.0132 - val_loss: 0.0115 - val_mean_squared_error: 0.0115\n",
      "Epoch 15/25\n",
      "1165/1165 [==============================] - 3s 2ms/step - loss: 0.0132 - mean_squared_error: 0.0132 - val_loss: 0.0084 - val_mean_squared_error: 0.0084\n",
      "Epoch 16/25\n",
      "1165/1165 [==============================] - 3s 3ms/step - loss: 0.0132 - mean_squared_error: 0.0132 - val_loss: 0.0075 - val_mean_squared_error: 0.0075\n",
      "Epoch 17/25\n",
      "1165/1165 [==============================] - 3s 3ms/step - loss: 0.0132 - mean_squared_error: 0.0132 - val_loss: 0.0104 - val_mean_squared_error: 0.0104\n",
      "Epoch 18/25\n",
      "1165/1165 [==============================] - 3s 3ms/step - loss: 0.0132 - mean_squared_error: 0.0132 - val_loss: 0.0084 - val_mean_squared_error: 0.0084\n",
      "Epoch 19/25\n",
      "1165/1165 [==============================] - 3s 3ms/step - loss: 0.0131 - mean_squared_error: 0.0131 - val_loss: 0.0080 - val_mean_squared_error: 0.0080\n",
      "Epoch 20/25\n",
      "1165/1165 [==============================] - 3s 3ms/step - loss: 0.0131 - mean_squared_error: 0.0131 - val_loss: 0.0086 - val_mean_squared_error: 0.0086\n",
      "Epoch 21/25\n",
      "1165/1165 [==============================] - 3s 3ms/step - loss: 0.0130 - mean_squared_error: 0.0130 - val_loss: 0.0093 - val_mean_squared_error: 0.0093\n",
      "Epoch 22/25\n",
      "1165/1165 [==============================] - 3s 3ms/step - loss: 0.0131 - mean_squared_error: 0.0131 - val_loss: 0.0088 - val_mean_squared_error: 0.0088\n",
      "Epoch 23/25\n",
      "1165/1165 [==============================] - 3s 3ms/step - loss: 0.0131 - mean_squared_error: 0.0131 - val_loss: 0.0098 - val_mean_squared_error: 0.0098\n",
      "Epoch 24/25\n",
      "1165/1165 [==============================] - 3s 3ms/step - loss: 0.0131 - mean_squared_error: 0.0131 - val_loss: 0.0111 - val_mean_squared_error: 0.0111\n",
      "Epoch 25/25\n",
      "1165/1165 [==============================] - 3s 3ms/step - loss: 0.0130 - mean_squared_error: 0.0130 - val_loss: 0.0092 - val_mean_squared_error: 0.0092\n",
      "RUN 2\n",
      "\n",
      "Epoch 1/25\n",
      "1165/1165 [==============================] - 4s 3ms/step - loss: 0.0130 - mean_squared_error: 0.0130 - val_loss: 0.0108 - val_mean_squared_error: 0.0108\n",
      "Epoch 2/25\n",
      "1165/1165 [==============================] - 3s 3ms/step - loss: 0.0130 - mean_squared_error: 0.0130 - val_loss: 0.0109 - val_mean_squared_error: 0.0109\n",
      "Epoch 3/25\n",
      "1165/1165 [==============================] - 3s 3ms/step - loss: 0.0130 - mean_squared_error: 0.0130 - val_loss: 0.0100 - val_mean_squared_error: 0.0100\n",
      "Epoch 4/25\n",
      "1165/1165 [==============================] - 3s 3ms/step - loss: 0.0131 - mean_squared_error: 0.0131 - val_loss: 0.0074 - val_mean_squared_error: 0.0074\n",
      "Epoch 5/25\n",
      "1165/1165 [==============================] - 3s 3ms/step - loss: 0.0129 - mean_squared_error: 0.0129 - val_loss: 0.0075 - val_mean_squared_error: 0.0075\n",
      "Epoch 6/25\n",
      "1165/1165 [==============================] - 3s 3ms/step - loss: 0.0130 - mean_squared_error: 0.0130 - val_loss: 0.0098 - val_mean_squared_error: 0.0098\n",
      "Epoch 7/25\n",
      "1165/1165 [==============================] - 3s 3ms/step - loss: 0.0129 - mean_squared_error: 0.0129 - val_loss: 0.0104 - val_mean_squared_error: 0.0104\n"
     ]
    },
    {
     "name": "stdout",
     "output_type": "stream",
     "text": [
      "Epoch 8/25\n",
      "1165/1165 [==============================] - 3s 3ms/step - loss: 0.0130 - mean_squared_error: 0.0130 - val_loss: 0.0084 - val_mean_squared_error: 0.0084\n",
      "Epoch 9/25\n",
      "1165/1165 [==============================] - 3s 3ms/step - loss: 0.0130 - mean_squared_error: 0.0130 - val_loss: 0.0088 - val_mean_squared_error: 0.0088\n",
      "Epoch 10/25\n",
      "1165/1165 [==============================] - 3s 3ms/step - loss: 0.0130 - mean_squared_error: 0.0130 - val_loss: 0.0082 - val_mean_squared_error: 0.0082\n",
      "Epoch 11/25\n",
      "1165/1165 [==============================] - 3s 3ms/step - loss: 0.0129 - mean_squared_error: 0.0129 - val_loss: 0.0096 - val_mean_squared_error: 0.0096\n",
      "Epoch 12/25\n",
      "1165/1165 [==============================] - 3s 2ms/step - loss: 0.0129 - mean_squared_error: 0.0129 - val_loss: 0.0077 - val_mean_squared_error: 0.0077\n",
      "Epoch 13/25\n",
      "1165/1165 [==============================] - 3s 2ms/step - loss: 0.0129 - mean_squared_error: 0.0129 - val_loss: 0.0090 - val_mean_squared_error: 0.0090\n",
      "Epoch 14/25\n",
      "1165/1165 [==============================] - 3s 3ms/step - loss: 0.0129 - mean_squared_error: 0.0129 - val_loss: 0.0084 - val_mean_squared_error: 0.0084\n",
      "RUN 3\n",
      "\n",
      "Epoch 1/25\n",
      "1165/1165 [==============================] - 4s 3ms/step - loss: 0.0128 - mean_squared_error: 0.0128 - val_loss: 0.0101 - val_mean_squared_error: 0.0101\n",
      "Epoch 2/25\n",
      "1165/1165 [==============================] - 3s 3ms/step - loss: 0.0129 - mean_squared_error: 0.0129 - val_loss: 0.0082 - val_mean_squared_error: 0.0082\n",
      "Epoch 3/25\n",
      "1165/1165 [==============================] - 3s 3ms/step - loss: 0.0129 - mean_squared_error: 0.0129 - val_loss: 0.0081 - val_mean_squared_error: 0.0081\n",
      "Epoch 4/25\n",
      "1165/1165 [==============================] - 3s 3ms/step - loss: 0.0129 - mean_squared_error: 0.0129 - val_loss: 0.0103 - val_mean_squared_error: 0.0103\n",
      "Epoch 5/25\n",
      "1165/1165 [==============================] - 3s 2ms/step - loss: 0.0129 - mean_squared_error: 0.0129 - val_loss: 0.0077 - val_mean_squared_error: 0.0077\n",
      "Epoch 6/25\n",
      "1165/1165 [==============================] - 3s 2ms/step - loss: 0.0128 - mean_squared_error: 0.0128 - val_loss: 0.0093 - val_mean_squared_error: 0.0093\n",
      "Epoch 7/25\n",
      "1165/1165 [==============================] - 3s 3ms/step - loss: 0.0129 - mean_squared_error: 0.0129 - val_loss: 0.0094 - val_mean_squared_error: 0.0094\n",
      "Epoch 8/25\n",
      "1165/1165 [==============================] - 3s 3ms/step - loss: 0.0128 - mean_squared_error: 0.0128 - val_loss: 0.0086 - val_mean_squared_error: 0.0086\n",
      "Epoch 9/25\n",
      "1165/1165 [==============================] - 3s 2ms/step - loss: 0.0128 - mean_squared_error: 0.0128 - val_loss: 0.0087 - val_mean_squared_error: 0.0087\n",
      "Epoch 10/25\n",
      "1165/1165 [==============================] - 3s 3ms/step - loss: 0.0128 - mean_squared_error: 0.0128 - val_loss: 0.0093 - val_mean_squared_error: 0.0093\n",
      "Epoch 11/25\n",
      "1165/1165 [==============================] - 3s 3ms/step - loss: 0.0128 - mean_squared_error: 0.0128 - val_loss: 0.0082 - val_mean_squared_error: 0.0082\n",
      "Epoch 12/25\n",
      "1165/1165 [==============================] - 3s 3ms/step - loss: 0.0128 - mean_squared_error: 0.0128 - val_loss: 0.0097 - val_mean_squared_error: 0.0097\n",
      "Epoch 13/25\n",
      "1165/1165 [==============================] - 3s 3ms/step - loss: 0.0128 - mean_squared_error: 0.0128 - val_loss: 0.0091 - val_mean_squared_error: 0.0091\n",
      "Epoch 14/25\n",
      "1165/1165 [==============================] - 3s 3ms/step - loss: 0.0127 - mean_squared_error: 0.0127 - val_loss: 0.0082 - val_mean_squared_error: 0.0082\n",
      "Epoch 15/25\n",
      "1165/1165 [==============================] - 3s 3ms/step - loss: 0.0128 - mean_squared_error: 0.0128 - val_loss: 0.0093 - val_mean_squared_error: 0.0093\n",
      "RUN 4\n",
      "\n",
      "Epoch 1/25\n",
      "1165/1165 [==============================] - 4s 3ms/step - loss: 0.0128 - mean_squared_error: 0.0128 - val_loss: 0.0085 - val_mean_squared_error: 0.0085\n",
      "Epoch 2/25\n",
      "1165/1165 [==============================] - 3s 3ms/step - loss: 0.0128 - mean_squared_error: 0.0128 - val_loss: 0.0101 - val_mean_squared_error: 0.0101\n",
      "Epoch 3/25\n",
      "1165/1165 [==============================] - 3s 3ms/step - loss: 0.0127 - mean_squared_error: 0.0127 - val_loss: 0.0096 - val_mean_squared_error: 0.0096\n",
      "Epoch 4/25\n",
      "1165/1165 [==============================] - 3s 3ms/step - loss: 0.0127 - mean_squared_error: 0.0127 - val_loss: 0.0082 - val_mean_squared_error: 0.0082\n",
      "Epoch 5/25\n",
      "1165/1165 [==============================] - 3s 3ms/step - loss: 0.0128 - mean_squared_error: 0.0128 - val_loss: 0.0082 - val_mean_squared_error: 0.0082\n",
      "Epoch 6/25\n",
      "1165/1165 [==============================] - 3s 3ms/step - loss: 0.0127 - mean_squared_error: 0.0127 - val_loss: 0.0089 - val_mean_squared_error: 0.0089\n",
      "Epoch 7/25\n",
      "1165/1165 [==============================] - 3s 3ms/step - loss: 0.0127 - mean_squared_error: 0.0127 - val_loss: 0.0084 - val_mean_squared_error: 0.0084\n",
      "Epoch 8/25\n",
      "1165/1165 [==============================] - 3s 3ms/step - loss: 0.0127 - mean_squared_error: 0.0127 - val_loss: 0.0082 - val_mean_squared_error: 0.0082\n",
      "Epoch 9/25\n",
      "1165/1165 [==============================] - 3s 2ms/step - loss: 0.0127 - mean_squared_error: 0.0127 - val_loss: 0.0086 - val_mean_squared_error: 0.0086\n",
      "Epoch 10/25\n",
      "1165/1165 [==============================] - 3s 3ms/step - loss: 0.0127 - mean_squared_error: 0.0127 - val_loss: 0.0113 - val_mean_squared_error: 0.0113\n",
      "Epoch 11/25\n",
      "1165/1165 [==============================] - 3s 3ms/step - loss: 0.0127 - mean_squared_error: 0.0127 - val_loss: 0.0082 - val_mean_squared_error: 0.0082\n",
      "Epoch 12/25\n",
      "1165/1165 [==============================] - 3s 3ms/step - loss: 0.0127 - mean_squared_error: 0.0127 - val_loss: 0.0096 - val_mean_squared_error: 0.0096\n",
      "Epoch 13/25\n",
      "1165/1165 [==============================] - 3s 2ms/step - loss: 0.0127 - mean_squared_error: 0.0127 - val_loss: 0.0089 - val_mean_squared_error: 0.0089\n",
      "Epoch 14/25\n",
      "1165/1165 [==============================] - 3s 2ms/step - loss: 0.0127 - mean_squared_error: 0.0127 - val_loss: 0.0089 - val_mean_squared_error: 0.0089\n",
      "Epoch 15/25\n",
      "1165/1165 [==============================] - 3s 3ms/step - loss: 0.0127 - mean_squared_error: 0.0127 - val_loss: 0.0081 - val_mean_squared_error: 0.0081\n",
      "Epoch 16/25\n",
      "1165/1165 [==============================] - 3s 2ms/step - loss: 0.0127 - mean_squared_error: 0.0127 - val_loss: 0.0090 - val_mean_squared_error: 0.0090\n",
      "Epoch 17/25\n",
      "1165/1165 [==============================] - 3s 3ms/step - loss: 0.0127 - mean_squared_error: 0.0127 - val_loss: 0.0084 - val_mean_squared_error: 0.0084\n",
      "Epoch 18/25\n",
      "1165/1165 [==============================] - 3s 2ms/step - loss: 0.0127 - mean_squared_error: 0.0127 - val_loss: 0.0077 - val_mean_squared_error: 0.0077\n",
      "Epoch 19/25\n",
      "1165/1165 [==============================] - 3s 2ms/step - loss: 0.0127 - mean_squared_error: 0.0127 - val_loss: 0.0090 - val_mean_squared_error: 0.0090\n",
      "Epoch 20/25\n",
      "1165/1165 [==============================] - 3s 3ms/step - loss: 0.0126 - mean_squared_error: 0.0126 - val_loss: 0.0098 - val_mean_squared_error: 0.0098\n",
      "Epoch 21/25\n",
      "1165/1165 [==============================] - 3s 2ms/step - loss: 0.0127 - mean_squared_error: 0.0127 - val_loss: 0.0088 - val_mean_squared_error: 0.0088\n",
      "Epoch 22/25\n",
      "1165/1165 [==============================] - 3s 2ms/step - loss: 0.0127 - mean_squared_error: 0.0127 - val_loss: 0.0084 - val_mean_squared_error: 0.0084\n",
      "Epoch 23/25\n",
      "1165/1165 [==============================] - 3s 2ms/step - loss: 0.0127 - mean_squared_error: 0.0127 - val_loss: 0.0088 - val_mean_squared_error: 0.0088\n",
      "Epoch 24/25\n",
      "1165/1165 [==============================] - 3s 3ms/step - loss: 0.0127 - mean_squared_error: 0.0127 - val_loss: 0.0089 - val_mean_squared_error: 0.0089\n",
      "Epoch 25/25\n",
      "1165/1165 [==============================] - 3s 2ms/step - loss: 0.0127 - mean_squared_error: 0.0127 - val_loss: 0.0107 - val_mean_squared_error: 0.0107\n",
      "RUN 5\n",
      "\n",
      "Epoch 1/25\n",
      "1165/1165 [==============================] - 3s 3ms/step - loss: 0.0126 - mean_squared_error: 0.0126 - val_loss: 0.0102 - val_mean_squared_error: 0.0102\n",
      "Epoch 2/25\n",
      "1165/1165 [==============================] - 3s 3ms/step - loss: 0.0126 - mean_squared_error: 0.0126 - val_loss: 0.0086 - val_mean_squared_error: 0.0086\n",
      "Epoch 3/25\n",
      "1165/1165 [==============================] - 3s 2ms/step - loss: 0.0127 - mean_squared_error: 0.0127 - val_loss: 0.0087 - val_mean_squared_error: 0.0087\n"
     ]
    },
    {
     "name": "stdout",
     "output_type": "stream",
     "text": [
      "Epoch 4/25\n",
      "1165/1165 [==============================] - 3s 3ms/step - loss: 0.0126 - mean_squared_error: 0.0126 - val_loss: 0.0094 - val_mean_squared_error: 0.0094\n",
      "Epoch 5/25\n",
      "1165/1165 [==============================] - 3s 3ms/step - loss: 0.0126 - mean_squared_error: 0.0126 - val_loss: 0.0081 - val_mean_squared_error: 0.0081\n",
      "Epoch 6/25\n",
      "1165/1165 [==============================] - 3s 3ms/step - loss: 0.0126 - mean_squared_error: 0.0126 - val_loss: 0.0082 - val_mean_squared_error: 0.0082\n",
      "Epoch 7/25\n",
      "1165/1165 [==============================] - 3s 2ms/step - loss: 0.0126 - mean_squared_error: 0.0126 - val_loss: 0.0089 - val_mean_squared_error: 0.0089\n",
      "Epoch 8/25\n",
      "1165/1165 [==============================] - 3s 2ms/step - loss: 0.0126 - mean_squared_error: 0.0126 - val_loss: 0.0089 - val_mean_squared_error: 0.0089\n",
      "Epoch 9/25\n",
      "1165/1165 [==============================] - 3s 3ms/step - loss: 0.0126 - mean_squared_error: 0.0126 - val_loss: 0.0082 - val_mean_squared_error: 0.0082\n",
      "Epoch 10/25\n",
      "1165/1165 [==============================] - 3s 3ms/step - loss: 0.0126 - mean_squared_error: 0.0126 - val_loss: 0.0093 - val_mean_squared_error: 0.0093\n",
      "Epoch 11/25\n",
      "1165/1165 [==============================] - 3s 3ms/step - loss: 0.0125 - mean_squared_error: 0.0125 - val_loss: 0.0087 - val_mean_squared_error: 0.0087\n",
      "Epoch 12/25\n",
      "1165/1165 [==============================] - 3s 3ms/step - loss: 0.0126 - mean_squared_error: 0.0126 - val_loss: 0.0083 - val_mean_squared_error: 0.0083\n",
      "Epoch 13/25\n",
      "1165/1165 [==============================] - 3s 3ms/step - loss: 0.0126 - mean_squared_error: 0.0126 - val_loss: 0.0085 - val_mean_squared_error: 0.0085\n",
      "Epoch 14/25\n",
      "1165/1165 [==============================] - 3s 3ms/step - loss: 0.0126 - mean_squared_error: 0.0126 - val_loss: 0.0091 - val_mean_squared_error: 0.0091\n",
      "Epoch 15/25\n",
      "1165/1165 [==============================] - 3s 3ms/step - loss: 0.0126 - mean_squared_error: 0.0126 - val_loss: 0.0088 - val_mean_squared_error: 0.0088\n",
      "RUN 6\n",
      "\n",
      "Epoch 1/25\n",
      "1165/1165 [==============================] - 4s 3ms/step - loss: 0.0126 - mean_squared_error: 0.0126 - val_loss: 0.0090 - val_mean_squared_error: 0.0090\n",
      "Epoch 2/25\n",
      "1165/1165 [==============================] - 3s 3ms/step - loss: 0.0125 - mean_squared_error: 0.0125 - val_loss: 0.0112 - val_mean_squared_error: 0.0112\n",
      "Epoch 3/25\n",
      "1165/1165 [==============================] - 3s 3ms/step - loss: 0.0126 - mean_squared_error: 0.0126 - val_loss: 0.0084 - val_mean_squared_error: 0.0084\n",
      "Epoch 4/25\n",
      "1165/1165 [==============================] - 3s 3ms/step - loss: 0.0125 - mean_squared_error: 0.0125 - val_loss: 0.0099 - val_mean_squared_error: 0.0099\n",
      "Epoch 5/25\n",
      "1165/1165 [==============================] - 3s 3ms/step - loss: 0.0126 - mean_squared_error: 0.0126 - val_loss: 0.0092 - val_mean_squared_error: 0.0092\n",
      "Epoch 6/25\n",
      "1165/1165 [==============================] - 3s 3ms/step - loss: 0.0125 - mean_squared_error: 0.0125 - val_loss: 0.0101 - val_mean_squared_error: 0.0101\n",
      "Epoch 7/25\n",
      "1165/1165 [==============================] - 3s 3ms/step - loss: 0.0125 - mean_squared_error: 0.0125 - val_loss: 0.0096 - val_mean_squared_error: 0.0096\n",
      "Epoch 8/25\n",
      "1165/1165 [==============================] - 3s 2ms/step - loss: 0.0125 - mean_squared_error: 0.0125 - val_loss: 0.0095 - val_mean_squared_error: 0.0095\n",
      "Epoch 9/25\n",
      "1165/1165 [==============================] - 3s 3ms/step - loss: 0.0125 - mean_squared_error: 0.0125 - val_loss: 0.0094 - val_mean_squared_error: 0.0094\n",
      "Epoch 10/25\n",
      "1165/1165 [==============================] - 4s 3ms/step - loss: 0.0125 - mean_squared_error: 0.0125 - val_loss: 0.0093 - val_mean_squared_error: 0.0093\n",
      "Epoch 11/25\n",
      "1165/1165 [==============================] - 3s 3ms/step - loss: 0.0125 - mean_squared_error: 0.0125 - val_loss: 0.0082 - val_mean_squared_error: 0.0082\n",
      "Epoch 12/25\n",
      "1165/1165 [==============================] - 3s 3ms/step - loss: 0.0125 - mean_squared_error: 0.0125 - val_loss: 0.0076 - val_mean_squared_error: 0.0076\n",
      "Epoch 13/25\n",
      "1165/1165 [==============================] - 3s 3ms/step - loss: 0.0125 - mean_squared_error: 0.0125 - val_loss: 0.0088 - val_mean_squared_error: 0.0088\n",
      "Epoch 14/25\n",
      "1165/1165 [==============================] - 3s 3ms/step - loss: 0.0125 - mean_squared_error: 0.0125 - val_loss: 0.0089 - val_mean_squared_error: 0.0089\n",
      "Epoch 15/25\n",
      "1165/1165 [==============================] - 3s 3ms/step - loss: 0.0125 - mean_squared_error: 0.0125 - val_loss: 0.0098 - val_mean_squared_error: 0.0098\n",
      "Epoch 16/25\n",
      "1165/1165 [==============================] - 3s 3ms/step - loss: 0.0125 - mean_squared_error: 0.0125 - val_loss: 0.0090 - val_mean_squared_error: 0.0090\n",
      "Epoch 17/25\n",
      "1165/1165 [==============================] - 3s 3ms/step - loss: 0.0125 - mean_squared_error: 0.0125 - val_loss: 0.0085 - val_mean_squared_error: 0.0085\n",
      "Epoch 18/25\n",
      "1165/1165 [==============================] - 3s 3ms/step - loss: 0.0125 - mean_squared_error: 0.0125 - val_loss: 0.0094 - val_mean_squared_error: 0.0094\n",
      "Epoch 19/25\n",
      "1165/1165 [==============================] - 3s 3ms/step - loss: 0.0124 - mean_squared_error: 0.0124 - val_loss: 0.0092 - val_mean_squared_error: 0.0092\n",
      "Epoch 20/25\n",
      "1165/1165 [==============================] - 3s 3ms/step - loss: 0.0124 - mean_squared_error: 0.0124 - val_loss: 0.0094 - val_mean_squared_error: 0.0094\n",
      "Epoch 21/25\n",
      "1165/1165 [==============================] - 4s 3ms/step - loss: 0.0125 - mean_squared_error: 0.0125 - val_loss: 0.0094 - val_mean_squared_error: 0.0094\n",
      "Epoch 22/25\n",
      "1165/1165 [==============================] - 3s 3ms/step - loss: 0.0125 - mean_squared_error: 0.0125 - val_loss: 0.0109 - val_mean_squared_error: 0.0109\n",
      "RUN 7\n",
      "\n",
      "Epoch 1/25\n",
      "1165/1165 [==============================] - 4s 3ms/step - loss: 0.0124 - mean_squared_error: 0.0124 - val_loss: 0.0097 - val_mean_squared_error: 0.0097\n",
      "Epoch 2/25\n",
      "1165/1165 [==============================] - 4s 3ms/step - loss: 0.0124 - mean_squared_error: 0.0124 - val_loss: 0.0081 - val_mean_squared_error: 0.0081\n",
      "Epoch 3/25\n",
      "1165/1165 [==============================] - 4s 3ms/step - loss: 0.0124 - mean_squared_error: 0.0124 - val_loss: 0.0093 - val_mean_squared_error: 0.0093\n",
      "Epoch 4/25\n",
      "1165/1165 [==============================] - 3s 3ms/step - loss: 0.0124 - mean_squared_error: 0.0124 - val_loss: 0.0086 - val_mean_squared_error: 0.0086\n",
      "Epoch 5/25\n",
      "1165/1165 [==============================] - 3s 3ms/step - loss: 0.0124 - mean_squared_error: 0.0124 - val_loss: 0.0102 - val_mean_squared_error: 0.0102\n",
      "Epoch 6/25\n",
      "1165/1165 [==============================] - 4s 3ms/step - loss: 0.0124 - mean_squared_error: 0.0124 - val_loss: 0.0081 - val_mean_squared_error: 0.0081\n",
      "Epoch 7/25\n",
      "1165/1165 [==============================] - 3s 3ms/step - loss: 0.0124 - mean_squared_error: 0.0124 - val_loss: 0.0075 - val_mean_squared_error: 0.0075\n",
      "Epoch 8/25\n",
      "1165/1165 [==============================] - 3s 3ms/step - loss: 0.0124 - mean_squared_error: 0.0124 - val_loss: 0.0080 - val_mean_squared_error: 0.0080\n",
      "Epoch 9/25\n",
      "1165/1165 [==============================] - 3s 3ms/step - loss: 0.0124 - mean_squared_error: 0.0124 - val_loss: 0.0088 - val_mean_squared_error: 0.0088\n",
      "Epoch 10/25\n",
      "1165/1165 [==============================] - 4s 3ms/step - loss: 0.0124 - mean_squared_error: 0.0124 - val_loss: 0.0092 - val_mean_squared_error: 0.0092\n",
      "Epoch 11/25\n",
      "1165/1165 [==============================] - 4s 3ms/step - loss: 0.0124 - mean_squared_error: 0.0124 - val_loss: 0.0103 - val_mean_squared_error: 0.0103\n",
      "Epoch 12/25\n",
      "1165/1165 [==============================] - 4s 3ms/step - loss: 0.0124 - mean_squared_error: 0.0124 - val_loss: 0.0088 - val_mean_squared_error: 0.0088\n",
      "Epoch 13/25\n",
      "1165/1165 [==============================] - 4s 3ms/step - loss: 0.0124 - mean_squared_error: 0.0124 - val_loss: 0.0091 - val_mean_squared_error: 0.0091\n",
      "Epoch 14/25\n",
      "1165/1165 [==============================] - 3s 3ms/step - loss: 0.0124 - mean_squared_error: 0.0124 - val_loss: 0.0091 - val_mean_squared_error: 0.0091\n",
      "Epoch 15/25\n",
      "1165/1165 [==============================] - 4s 3ms/step - loss: 0.0123 - mean_squared_error: 0.0123 - val_loss: 0.0092 - val_mean_squared_error: 0.0092\n",
      "Epoch 16/25\n",
      "1165/1165 [==============================] - 4s 3ms/step - loss: 0.0123 - mean_squared_error: 0.0123 - val_loss: 0.0082 - val_mean_squared_error: 0.0082\n"
     ]
    },
    {
     "name": "stdout",
     "output_type": "stream",
     "text": [
      "Epoch 17/25\n",
      "1165/1165 [==============================] - 3s 3ms/step - loss: 0.0124 - mean_squared_error: 0.0124 - val_loss: 0.0095 - val_mean_squared_error: 0.0095\n",
      "RUN 8\n",
      "\n",
      "Epoch 1/25\n",
      "1165/1165 [==============================] - 4s 3ms/step - loss: 0.0124 - mean_squared_error: 0.0124 - val_loss: 0.0098 - val_mean_squared_error: 0.0098\n",
      "Epoch 2/25\n",
      "1165/1165 [==============================] - 3s 3ms/step - loss: 0.0123 - mean_squared_error: 0.0123 - val_loss: 0.0097 - val_mean_squared_error: 0.0097\n",
      "Epoch 3/25\n",
      "1165/1165 [==============================] - 3s 3ms/step - loss: 0.0123 - mean_squared_error: 0.0123 - val_loss: 0.0090 - val_mean_squared_error: 0.0090\n",
      "Epoch 4/25\n",
      "1165/1165 [==============================] - 3s 3ms/step - loss: 0.0123 - mean_squared_error: 0.0123 - val_loss: 0.0088 - val_mean_squared_error: 0.0088\n",
      "Epoch 5/25\n",
      "1165/1165 [==============================] - 4s 3ms/step - loss: 0.0123 - mean_squared_error: 0.0123 - val_loss: 0.0089 - val_mean_squared_error: 0.0089\n",
      "Epoch 6/25\n",
      "1165/1165 [==============================] - 3s 3ms/step - loss: 0.0123 - mean_squared_error: 0.0123 - val_loss: 0.0096 - val_mean_squared_error: 0.0096\n",
      "Epoch 7/25\n",
      "1165/1165 [==============================] - 4s 3ms/step - loss: 0.0123 - mean_squared_error: 0.0123 - val_loss: 0.0088 - val_mean_squared_error: 0.0088\n",
      "Epoch 8/25\n",
      "1165/1165 [==============================] - 4s 3ms/step - loss: 0.0123 - mean_squared_error: 0.0123 - val_loss: 0.0093 - val_mean_squared_error: 0.0093\n",
      "Epoch 9/25\n",
      "1165/1165 [==============================] - 4s 3ms/step - loss: 0.0122 - mean_squared_error: 0.0122 - val_loss: 0.0087 - val_mean_squared_error: 0.0087\n",
      "Epoch 10/25\n",
      "1165/1165 [==============================] - 3s 3ms/step - loss: 0.0123 - mean_squared_error: 0.0123 - val_loss: 0.0094 - val_mean_squared_error: 0.0094\n",
      "Epoch 11/25\n",
      "1165/1165 [==============================] - 3s 3ms/step - loss: 0.0123 - mean_squared_error: 0.0123 - val_loss: 0.0103 - val_mean_squared_error: 0.0103\n",
      "Epoch 12/25\n",
      "1165/1165 [==============================] - 3s 3ms/step - loss: 0.0123 - mean_squared_error: 0.0123 - val_loss: 0.0089 - val_mean_squared_error: 0.0089\n",
      "Epoch 13/25\n",
      "1165/1165 [==============================] - 3s 3ms/step - loss: 0.0123 - mean_squared_error: 0.0123 - val_loss: 0.0094 - val_mean_squared_error: 0.0094\n",
      "Epoch 14/25\n",
      "1165/1165 [==============================] - 3s 3ms/step - loss: 0.0123 - mean_squared_error: 0.0123 - val_loss: 0.0099 - val_mean_squared_error: 0.0099\n",
      "Epoch 15/25\n",
      "1165/1165 [==============================] - 3s 3ms/step - loss: 0.0123 - mean_squared_error: 0.0123 - val_loss: 0.0101 - val_mean_squared_error: 0.0101\n",
      "Epoch 16/25\n",
      "1165/1165 [==============================] - 3s 3ms/step - loss: 0.0123 - mean_squared_error: 0.0123 - val_loss: 0.0098 - val_mean_squared_error: 0.0098\n",
      "Epoch 17/25\n",
      "1165/1165 [==============================] - 3s 3ms/step - loss: 0.0122 - mean_squared_error: 0.0122 - val_loss: 0.0104 - val_mean_squared_error: 0.0104\n",
      "Epoch 18/25\n",
      "1165/1165 [==============================] - 3s 3ms/step - loss: 0.0123 - mean_squared_error: 0.0123 - val_loss: 0.0088 - val_mean_squared_error: 0.0088\n",
      "Epoch 19/25\n",
      "1165/1165 [==============================] - 3s 3ms/step - loss: 0.0122 - mean_squared_error: 0.0122 - val_loss: 0.0098 - val_mean_squared_error: 0.0098\n",
      "RUN 9\n",
      "\n",
      "Epoch 1/25\n",
      "1165/1165 [==============================] - 4s 3ms/step - loss: 0.0123 - mean_squared_error: 0.0123 - val_loss: 0.0082 - val_mean_squared_error: 0.0082\n",
      "Epoch 2/25\n",
      "1165/1165 [==============================] - 4s 3ms/step - loss: 0.0122 - mean_squared_error: 0.0122 - val_loss: 0.0090 - val_mean_squared_error: 0.0090\n",
      "Epoch 3/25\n",
      "1165/1165 [==============================] - 4s 3ms/step - loss: 0.0122 - mean_squared_error: 0.0122 - val_loss: 0.0101 - val_mean_squared_error: 0.0101\n",
      "Epoch 4/25\n",
      "1165/1165 [==============================] - 4s 3ms/step - loss: 0.0123 - mean_squared_error: 0.0123 - val_loss: 0.0094 - val_mean_squared_error: 0.0094\n",
      "Epoch 5/25\n",
      "1165/1165 [==============================] - 4s 3ms/step - loss: 0.0122 - mean_squared_error: 0.0122 - val_loss: 0.0103 - val_mean_squared_error: 0.0103\n",
      "Epoch 6/25\n",
      "1165/1165 [==============================] - 4s 3ms/step - loss: 0.0122 - mean_squared_error: 0.0122 - val_loss: 0.0088 - val_mean_squared_error: 0.0088\n",
      "Epoch 7/25\n",
      "1165/1165 [==============================] - 4s 3ms/step - loss: 0.0123 - mean_squared_error: 0.0123 - val_loss: 0.0098 - val_mean_squared_error: 0.0098\n",
      "Epoch 8/25\n",
      "1165/1165 [==============================] - 4s 3ms/step - loss: 0.0123 - mean_squared_error: 0.0123 - val_loss: 0.0094 - val_mean_squared_error: 0.0094\n",
      "Epoch 9/25\n",
      "1165/1165 [==============================] - 3s 3ms/step - loss: 0.0122 - mean_squared_error: 0.0122 - val_loss: 0.0103 - val_mean_squared_error: 0.0103\n",
      "Epoch 10/25\n",
      "1165/1165 [==============================] - 3s 3ms/step - loss: 0.0122 - mean_squared_error: 0.0122 - val_loss: 0.0082 - val_mean_squared_error: 0.0082\n",
      "Epoch 11/25\n",
      "1165/1165 [==============================] - 3s 3ms/step - loss: 0.0122 - mean_squared_error: 0.0122 - val_loss: 0.0097 - val_mean_squared_error: 0.0097\n",
      "RUN 10\n",
      "\n"
     ]
    }
   ],
   "source": [
    "mape_performance['LSTM_framework'] = []\n",
    "mse_performance['LSTM_framework'] = []\n",
    "metrics = pd.DataFrame(columns=['mape','rmse'], index=range(1,11))\n",
    "for i in range(1,11):\n",
    "    LSTM_framework.compile(optimizer=tf.optimizers.Adam(), loss='mse', metrics=[tf.metrics.MeanSquaredError()])\n",
    "\n",
    "    early_stopping = tf.keras.callbacks.EarlyStopping(monitor='val_loss', patience=patience, mode='min')\n",
    "\n",
    "    history = LSTM_framework.fit(train_X_df_lags, train_Y1_df_lags, batch_size=32, epochs=MAX_EPOCHS,\n",
    "                      validation_split=0.15,\n",
    "                      callbacks=[early_stopping], verbose=1)\n",
    "\n",
    "\n",
    "    #save_model(LSTM_framework, i)\n",
    "    fpredictions = LSTM_framework.predict(test_X_df_lags)\n",
    "    fpredictions = y_scaler.inverse_transform(fpredictions)\n",
    "    mape = validation(fpredictions.reshape(-1), test_Y_df_lags, 'MAPE')\n",
    "    rmse = validation(fpredictions.reshape(-1), test_Y_df_lags, 'RMSE')\n",
    "    mape_performance['LSTM_framework'].append(mape)\n",
    "    mse_performance['LSTM_framework'].append(rmse)\n",
    "    print('RUN '+str(i)+'\\n')\n",
    "    metrics.loc[i] = pd.Series({'mape':mape, 'rmse':rmse})\n",
    "\n",
    "    file1 = open('./results/GEP1_LSTM_framework_accuracy.txt', 'a') \n",
    "    file1.write('\\nRUN '+str(i)+':') \n",
    "    file1.writelines(['\\n'+str(mape), '\\n'+str(rmse)]) \n",
    "    file1.close()\n",
    "metrics.to_csv('./results/GEP1_fram.csv')"
   ]
  },
  {
   "cell_type": "code",
   "execution_count": 50,
   "metadata": {},
   "outputs": [
    {
     "name": "stdout",
     "output_type": "stream",
     "text": [
      "Epoch 1/25\n",
      "1165/1165 [==============================] - 3s 3ms/step - loss: 0.0238 - mean_squared_error: 0.0238 - val_loss: 0.0119 - val_mean_squared_error: 0.0119\n",
      "Epoch 2/25\n",
      "1165/1165 [==============================] - 3s 3ms/step - loss: 0.0169 - mean_squared_error: 0.0169 - val_loss: 0.0165 - val_mean_squared_error: 0.0165\n",
      "Epoch 3/25\n",
      "1165/1165 [==============================] - 3s 2ms/step - loss: 0.0159 - mean_squared_error: 0.0159 - val_loss: 0.0155 - val_mean_squared_error: 0.0155\n",
      "Epoch 4/25\n",
      "1165/1165 [==============================] - 3s 3ms/step - loss: 0.0157 - mean_squared_error: 0.0157 - val_loss: 0.0112 - val_mean_squared_error: 0.0112\n",
      "Epoch 5/25\n",
      "1165/1165 [==============================] - 3s 3ms/step - loss: 0.0152 - mean_squared_error: 0.0152 - val_loss: 0.0105 - val_mean_squared_error: 0.0105\n",
      "Epoch 6/25\n",
      "1165/1165 [==============================] - 3s 3ms/step - loss: 0.0144 - mean_squared_error: 0.0144 - val_loss: 0.0103 - val_mean_squared_error: 0.0103\n",
      "Epoch 7/25\n",
      "1165/1165 [==============================] - 3s 3ms/step - loss: 0.0141 - mean_squared_error: 0.0141 - val_loss: 0.0101 - val_mean_squared_error: 0.0101\n",
      "Epoch 8/25\n",
      "1165/1165 [==============================] - 3s 3ms/step - loss: 0.0138 - mean_squared_error: 0.0138 - val_loss: 0.0109 - val_mean_squared_error: 0.0109\n",
      "Epoch 9/25\n",
      "1165/1165 [==============================] - 3s 3ms/step - loss: 0.0138 - mean_squared_error: 0.0138 - val_loss: 0.0088 - val_mean_squared_error: 0.0088\n",
      "Epoch 10/25\n",
      "1165/1165 [==============================] - 3s 3ms/step - loss: 0.0137 - mean_squared_error: 0.0137 - val_loss: 0.0105 - val_mean_squared_error: 0.0105\n",
      "Epoch 11/25\n",
      "1165/1165 [==============================] - 3s 3ms/step - loss: 0.0136 - mean_squared_error: 0.0136 - val_loss: 0.0126 - val_mean_squared_error: 0.0126\n",
      "Epoch 12/25\n",
      "1165/1165 [==============================] - 3s 3ms/step - loss: 0.0136 - mean_squared_error: 0.0136 - val_loss: 0.0112 - val_mean_squared_error: 0.0112\n",
      "Epoch 13/25\n",
      "1165/1165 [==============================] - 3s 3ms/step - loss: 0.0136 - mean_squared_error: 0.0136 - val_loss: 0.0079 - val_mean_squared_error: 0.0079\n",
      "Epoch 14/25\n",
      "1165/1165 [==============================] - 3s 3ms/step - loss: 0.0135 - mean_squared_error: 0.0135 - val_loss: 0.0096 - val_mean_squared_error: 0.0096\n",
      "Epoch 15/25\n",
      "1165/1165 [==============================] - 3s 3ms/step - loss: 0.0135 - mean_squared_error: 0.0135 - val_loss: 0.0092 - val_mean_squared_error: 0.0092\n",
      "Epoch 16/25\n",
      "1165/1165 [==============================] - 3s 3ms/step - loss: 0.0135 - mean_squared_error: 0.0135 - val_loss: 0.0087 - val_mean_squared_error: 0.0087\n",
      "Epoch 17/25\n",
      "1165/1165 [==============================] - 3s 3ms/step - loss: 0.0134 - mean_squared_error: 0.0134 - val_loss: 0.0098 - val_mean_squared_error: 0.0098\n",
      "Epoch 18/25\n",
      "1165/1165 [==============================] - 3s 3ms/step - loss: 0.0134 - mean_squared_error: 0.0134 - val_loss: 0.0112 - val_mean_squared_error: 0.0112\n",
      "Epoch 19/25\n",
      "1165/1165 [==============================] - 3s 3ms/step - loss: 0.0134 - mean_squared_error: 0.0134 - val_loss: 0.0093 - val_mean_squared_error: 0.0093\n",
      "Epoch 20/25\n",
      "1165/1165 [==============================] - 3s 3ms/step - loss: 0.0134 - mean_squared_error: 0.0134 - val_loss: 0.0097 - val_mean_squared_error: 0.0097\n",
      "Epoch 21/25\n",
      "1165/1165 [==============================] - 3s 3ms/step - loss: 0.0134 - mean_squared_error: 0.0134 - val_loss: 0.0101 - val_mean_squared_error: 0.0101\n",
      "Epoch 22/25\n",
      "1165/1165 [==============================] - 3s 2ms/step - loss: 0.0134 - mean_squared_error: 0.0134 - val_loss: 0.0087 - val_mean_squared_error: 0.0087\n",
      "Epoch 23/25\n",
      "1165/1165 [==============================] - 3s 3ms/step - loss: 0.0134 - mean_squared_error: 0.0134 - val_loss: 0.0106 - val_mean_squared_error: 0.0106\n"
     ]
    }
   ],
   "source": [
    "early_stopping = tf.keras.callbacks.EarlyStopping(monitor='val_loss', patience=patience, mode='min')\n",
    "\n",
    "history = LSTM_framework.fit(train_X_df_lags, train_Y1_df_lags, batch_size=32, epochs=MAX_EPOCHS,\n",
    "                  validation_split=0.15,\n",
    "                  callbacks=[early_stopping], verbose=1)"
   ]
  },
  {
   "cell_type": "code",
   "execution_count": 51,
   "metadata": {},
   "outputs": [
    {
     "data": {
      "image/png": "[encoded data removed]",
      "text/plain": [
       "<Figure size 576x432 with 1 Axes>"
      ]
     },
     "metadata": {
      "needs_background": "light"
     },
     "output_type": "display_data"
    }
   ],
   "source": [
    "plot_train_history(LSTM_framework)"
   ]
  },
  {
   "cell_type": "code",
   "execution_count": 52,
   "metadata": {},
   "outputs": [],
   "source": [
    "performance['LSTM framework'] = LSTM_framework.evaluate(test_X_df_lags, y_scaler.fit_transform(np.array(test_Y_df_lags).reshape(-1,1)).reshape(-1,1,1), verbose=0)"
   ]
  },
  {
   "cell_type": "code",
   "execution_count": 53,
   "metadata": {},
   "outputs": [],
   "source": [
    "fpredictions = LSTM_framework.predict(test_X_df_lags)\n",
    "fpredictions = y_scaler.inverse_transform(fpredictions)\n",
    "mape_performance['LSTM_framework'] = mape(fpredictions.reshape(-1), test_Y_df_lags)\n",
    "mse_performance['LSTM_framework'] = validation(fpredictions.reshape(-1), test_Y_df_lags, 'RMSE')"
   ]
  },
  {
   "cell_type": "code",
   "execution_count": null,
   "metadata": {},
   "outputs": [],
   "source": []
  },
  {
   "cell_type": "code",
   "execution_count": 39,
   "metadata": {},
   "outputs": [],
   "source": [
    "MAX_EPOCHS = 50\n",
    "BATCHSIZE = 10\n",
    "patience = 10\n",
    "\n",
    "FULL_LSTMIMO = tf.keras.models.Sequential([\n",
    "    # Shape [batch, time, features] => [batch, time, lstm_units]\n",
    "    tf.keras.layers.LSTM(32, input_shape=(24, 15)),\n",
    "    # Shape => [batch, time, features]\n",
    "    tf.keras.layers.Dense(HORIZON)\n",
    "])"
   ]
  },
  {
   "cell_type": "code",
   "execution_count": 40,
   "metadata": {
    "scrolled": true
   },
   "outputs": [
    {
     "name": "stdout",
     "output_type": "stream",
     "text": [
      "Model: \"sequential_1\"\n",
      "_________________________________________________________________\n",
      "Layer (type)                 Output Shape              Param #   \n",
      "=================================================================\n",
      "lstm_2 (LSTM)                (None, 32)                6144      \n",
      "_________________________________________________________________\n",
      "dense_1 (Dense)              (None, 24)                792       \n",
      "=================================================================\n",
      "Total params: 6,936\n",
      "Trainable params: 6,936\n",
      "Non-trainable params: 0\n",
      "_________________________________________________________________\n"
     ]
    }
   ],
   "source": [
    "FULL_LSTMIMO.summary()"
   ]
  },
  {
   "cell_type": "code",
   "execution_count": 55,
   "metadata": {},
   "outputs": [],
   "source": [
    "FULL_LSTMIMO.compile(optimizer=tf.optimizers.Adam(), loss='mse', metrics=[tf.metrics.MeanSquaredError()])"
   ]
  },
  {
   "cell_type": "code",
   "execution_count": null,
   "metadata": {},
   "outputs": [
    {
     "name": "stdout",
     "output_type": "stream",
     "text": [
      "Epoch 1/50\n",
      "1163/1163 [==============================] - 20s 17ms/step - loss: 0.0211 - mean_squared_error: 0.0211 - val_loss: 0.0125 - val_mean_squared_error: 0.0125\n",
      "Epoch 2/50\n",
      "1163/1163 [==============================] - 18s 16ms/step - loss: 0.0137 - mean_squared_error: 0.0137 - val_loss: 0.0099 - val_mean_squared_error: 0.0099\n",
      "Epoch 3/50\n",
      "1163/1163 [==============================] - 18s 15ms/step - loss: 0.0122 - mean_squared_error: 0.0122 - val_loss: 0.0092 - val_mean_squared_error: 0.0092\n",
      "Epoch 4/50\n",
      "1163/1163 [==============================] - 16s 14ms/step - loss: 0.0111 - mean_squared_error: 0.0111 - val_loss: 0.0088 - val_mean_squared_error: 0.0088\n",
      "Epoch 5/50\n",
      "1163/1163 [==============================] - 16s 14ms/step - loss: 0.0107 - mean_squared_error: 0.0107 - val_loss: 0.0082 - val_mean_squared_error: 0.0082\n",
      "Epoch 6/50\n",
      "1163/1163 [==============================] - 17s 15ms/step - loss: 0.0104 - mean_squared_error: 0.0104 - val_loss: 0.0088 - val_mean_squared_error: 0.0088\n",
      "Epoch 7/50\n",
      "1163/1163 [==============================] - 18s 15ms/step - loss: 0.0102 - mean_squared_error: 0.0102 - val_loss: 0.0072 - val_mean_squared_error: 0.0072\n",
      "Epoch 8/50\n",
      "1163/1163 [==============================] - 17s 15ms/step - loss: 0.0100 - mean_squared_error: 0.0100 - val_loss: 0.0073 - val_mean_squared_error: 0.0073\n",
      "Epoch 9/50\n",
      "1163/1163 [==============================] - 17s 15ms/step - loss: 0.0099 - mean_squared_error: 0.0099 - val_loss: 0.0075 - val_mean_squared_error: 0.0075\n",
      "Epoch 10/50\n",
      "1163/1163 [==============================] - 16s 14ms/step - loss: 0.0098 - mean_squared_error: 0.0098 - val_loss: 0.0079 - val_mean_squared_error: 0.0079\n",
      "Epoch 11/50\n",
      "1163/1163 [==============================] - 17s 15ms/step - loss: 0.0096 - mean_squared_error: 0.0096 - val_loss: 0.0077 - val_mean_squared_error: 0.0077\n",
      "Epoch 12/50\n",
      "1163/1163 [==============================] - 18s 15ms/step - loss: 0.0094 - mean_squared_error: 0.0094 - val_loss: 0.0079 - val_mean_squared_error: 0.0079\n",
      "Epoch 13/50\n",
      "1163/1163 [==============================] - 18s 16ms/step - loss: 0.0093 - mean_squared_error: 0.0093 - val_loss: 0.0075 - val_mean_squared_error: 0.0075\n",
      "Epoch 14/50\n",
      "1163/1163 [==============================] - 16s 14ms/step - loss: 0.0092 - mean_squared_error: 0.0092 - val_loss: 0.0076 - val_mean_squared_error: 0.0076\n",
      "Epoch 15/50\n",
      "1163/1163 [==============================] - 16s 14ms/step - loss: 0.0090 - mean_squared_error: 0.0090 - val_loss: 0.0079 - val_mean_squared_error: 0.0079\n",
      "Epoch 16/50\n",
      "1163/1163 [==============================] - 17s 14ms/step - loss: 0.0089 - mean_squared_error: 0.0089 - val_loss: 0.0068 - val_mean_squared_error: 0.0068\n",
      "Epoch 17/50\n",
      "1163/1163 [==============================] - 17s 15ms/step - loss: 0.0088 - mean_squared_error: 0.0088 - val_loss: 0.0077 - val_mean_squared_error: 0.0077\n",
      "Epoch 18/50\n",
      "1163/1163 [==============================] - 16s 14ms/step - loss: 0.0087 - mean_squared_error: 0.0087 - val_loss: 0.0064 - val_mean_squared_error: 0.0064\n",
      "Epoch 19/50\n",
      "1163/1163 [==============================] - 16s 14ms/step - loss: 0.0086 - mean_squared_error: 0.0086 - val_loss: 0.0065 - val_mean_squared_error: 0.0065\n",
      "Epoch 20/50\n",
      "1163/1163 [==============================] - 17s 14ms/step - loss: 0.0085 - mean_squared_error: 0.0085 - val_loss: 0.0063 - val_mean_squared_error: 0.0063\n",
      "Epoch 21/50\n",
      "1163/1163 [==============================] - 18s 15ms/step - loss: 0.0084 - mean_squared_error: 0.0084 - val_loss: 0.0071 - val_mean_squared_error: 0.0071\n",
      "Epoch 22/50\n",
      "1163/1163 [==============================] - 16s 14ms/step - loss: 0.0083 - mean_squared_error: 0.0083 - val_loss: 0.0071 - val_mean_squared_error: 0.0071\n",
      "Epoch 23/50\n",
      "1163/1163 [==============================] - 16s 14ms/step - loss: 0.0083 - mean_squared_error: 0.0083 - val_loss: 0.0069 - val_mean_squared_error: 0.0069\n",
      "Epoch 24/50\n",
      "1163/1163 [==============================] - 16s 14ms/step - loss: 0.0081 - mean_squared_error: 0.0081 - val_loss: 0.0065 - val_mean_squared_error: 0.0065\n",
      "Epoch 25/50\n",
      "1163/1163 [==============================] - 16s 14ms/step - loss: 0.0080 - mean_squared_error: 0.0080 - val_loss: 0.0066 - val_mean_squared_error: 0.0066\n",
      "Epoch 26/50\n",
      "1163/1163 [==============================] - 17s 14ms/step - loss: 0.0079 - mean_squared_error: 0.0079 - val_loss: 0.0064 - val_mean_squared_error: 0.0064\n",
      "Epoch 27/50\n",
      "1163/1163 [==============================] - 17s 15ms/step - loss: 0.0079 - mean_squared_error: 0.0079 - val_loss: 0.0071 - val_mean_squared_error: 0.0071\n",
      "Epoch 28/50\n",
      "1163/1163 [==============================] - 17s 14ms/step - loss: 0.0078 - mean_squared_error: 0.0078 - val_loss: 0.0070 - val_mean_squared_error: 0.0070\n",
      "Epoch 29/50\n",
      "1163/1163 [==============================] - 16s 14ms/step - loss: 0.0077 - mean_squared_error: 0.0077 - val_loss: 0.0077 - val_mean_squared_error: 0.0077\n",
      "Epoch 30/50\n",
      "1163/1163 [==============================] - 16s 14ms/step - loss: 0.0076 - mean_squared_error: 0.0076 - val_loss: 0.0072 - val_mean_squared_error: 0.0072\n",
      "RUN 1\n",
      "\n",
      "Epoch 1/50\n",
      "1163/1163 [==============================] - 17s 15ms/step - loss: 0.0075 - mean_squared_error: 0.0075 - val_loss: 0.0073 - val_mean_squared_error: 0.0073\n",
      "Epoch 2/50\n",
      "1163/1163 [==============================] - 17s 15ms/step - loss: 0.0075 - mean_squared_error: 0.0075 - val_loss: 0.0069 - val_mean_squared_error: 0.0069\n",
      "Epoch 3/50\n",
      "1163/1163 [==============================] - 17s 14ms/step - loss: 0.0074 - mean_squared_error: 0.0074 - val_loss: 0.0072 - val_mean_squared_error: 0.0072\n",
      "Epoch 4/50\n",
      "1163/1163 [==============================] - 17s 15ms/step - loss: 0.0073 - mean_squared_error: 0.0073 - val_loss: 0.0072 - val_mean_squared_error: 0.0072\n",
      "Epoch 5/50\n",
      "1163/1163 [==============================] - 18s 15ms/step - loss: 0.0073 - mean_squared_error: 0.0073 - val_loss: 0.0073 - val_mean_squared_error: 0.0073\n",
      "Epoch 6/50\n",
      "1163/1163 [==============================] - 17s 15ms/step - loss: 0.0072 - mean_squared_error: 0.0072 - val_loss: 0.0072 - val_mean_squared_error: 0.0072\n",
      "Epoch 7/50\n",
      "1163/1163 [==============================] - 17s 15ms/step - loss: 0.0071 - mean_squared_error: 0.0071 - val_loss: 0.0075 - val_mean_squared_error: 0.0075\n",
      "Epoch 8/50\n",
      "1163/1163 [==============================] - 17s 14ms/step - loss: 0.0071 - mean_squared_error: 0.0071 - val_loss: 0.0077 - val_mean_squared_error: 0.0077\n",
      "Epoch 9/50\n",
      "1163/1163 [==============================] - 18s 15ms/step - loss: 0.0071 - mean_squared_error: 0.0071 - val_loss: 0.0077 - val_mean_squared_error: 0.0077\n",
      "Epoch 10/50\n",
      "1163/1163 [==============================] - 18s 15ms/step - loss: 0.0069 - mean_squared_error: 0.0069 - val_loss: 0.0076 - val_mean_squared_error: 0.0076\n",
      "Epoch 11/50\n",
      "1163/1163 [==============================] - 18s 15ms/step - loss: 0.0069 - mean_squared_error: 0.0069 - val_loss: 0.0074 - val_mean_squared_error: 0.0074\n",
      "Epoch 12/50\n",
      "1163/1163 [==============================] - 18s 15ms/step - loss: 0.0068 - mean_squared_error: 0.0068 - val_loss: 0.0087 - val_mean_squared_error: 0.0087\n",
      "RUN 2\n",
      "\n",
      "Epoch 1/50\n",
      "1163/1163 [==============================] - 17s 15ms/step - loss: 0.0067 - mean_squared_error: 0.0067 - val_loss: 0.0083 - val_mean_squared_error: 0.0083\n",
      "Epoch 2/50\n",
      "1163/1163 [==============================] - 16s 14ms/step - loss: 0.0067 - mean_squared_error: 0.0067 - val_loss: 0.0081 - val_mean_squared_error: 0.0081\n",
      "Epoch 3/50\n",
      "1163/1163 [==============================] - 16s 14ms/step - loss: 0.0066 - mean_squared_error: 0.0066 - val_loss: 0.0082 - val_mean_squared_error: 0.0082\n",
      "Epoch 4/50\n",
      "1163/1163 [==============================] - 16s 14ms/step - loss: 0.0066 - mean_squared_error: 0.0066 - val_loss: 0.0084 - val_mean_squared_error: 0.0084\n",
      "Epoch 5/50\n",
      "1163/1163 [==============================] - 16s 14ms/step - loss: 0.0065 - mean_squared_error: 0.0065 - val_loss: 0.0080 - val_mean_squared_error: 0.0080\n",
      "Epoch 6/50\n",
      "1163/1163 [==============================] - 17s 15ms/step - loss: 0.0065 - mean_squared_error: 0.0065 - val_loss: 0.0084 - val_mean_squared_error: 0.0084\n",
      "Epoch 7/50\n",
      "1163/1163 [==============================] - 17s 14ms/step - loss: 0.0064 - mean_squared_error: 0.0064 - val_loss: 0.0083 - val_mean_squared_error: 0.0083\n",
      "Epoch 8/50\n"
     ]
    },
    {
     "name": "stdout",
     "output_type": "stream",
     "text": [
      "1163/1163 [==============================] - 17s 15ms/step - loss: 0.0064 - mean_squared_error: 0.0064 - val_loss: 0.0083 - val_mean_squared_error: 0.0083\n",
      "Epoch 9/50\n",
      "1163/1163 [==============================] - 18s 15ms/step - loss: 0.0063 - mean_squared_error: 0.0063 - val_loss: 0.0083 - val_mean_squared_error: 0.0083\n",
      "Epoch 10/50\n",
      "1163/1163 [==============================] - 16s 14ms/step - loss: 0.0062 - mean_squared_error: 0.0062 - val_loss: 0.0090 - val_mean_squared_error: 0.0090\n",
      "Epoch 11/50\n",
      "1163/1163 [==============================] - 17s 14ms/step - loss: 0.0062 - mean_squared_error: 0.0062 - val_loss: 0.0084 - val_mean_squared_error: 0.0084\n",
      "Epoch 12/50\n",
      "1163/1163 [==============================] - 17s 14ms/step - loss: 0.0061 - mean_squared_error: 0.0061 - val_loss: 0.0086 - val_mean_squared_error: 0.0086\n",
      "Epoch 13/50\n",
      "1163/1163 [==============================] - 17s 14ms/step - loss: 0.0061 - mean_squared_error: 0.0061 - val_loss: 0.0086 - val_mean_squared_error: 0.0086\n",
      "Epoch 14/50\n",
      "1163/1163 [==============================] - 17s 14ms/step - loss: 0.0061 - mean_squared_error: 0.0061 - val_loss: 0.0095 - val_mean_squared_error: 0.0095\n",
      "Epoch 15/50\n",
      "1163/1163 [==============================] - 18s 16ms/step - loss: 0.0060 - mean_squared_error: 0.0060 - val_loss: 0.0087 - val_mean_squared_error: 0.0087\n",
      "RUN 3\n",
      "\n",
      "Epoch 1/50\n",
      "1163/1163 [==============================] - 18s 15ms/step - loss: 0.0060 - mean_squared_error: 0.0060 - val_loss: 0.0082 - val_mean_squared_error: 0.0082\n",
      "Epoch 2/50\n",
      "1163/1163 [==============================] - 17s 15ms/step - loss: 0.0060 - mean_squared_error: 0.0060 - val_loss: 0.0090 - val_mean_squared_error: 0.0090\n",
      "Epoch 3/50\n",
      "1163/1163 [==============================] - 17s 14ms/step - loss: 0.0058 - mean_squared_error: 0.0058 - val_loss: 0.0093 - val_mean_squared_error: 0.0093\n",
      "Epoch 4/50\n",
      "1163/1163 [==============================] - 17s 14ms/step - loss: 0.0059 - mean_squared_error: 0.0059 - val_loss: 0.0086 - val_mean_squared_error: 0.0086\n",
      "Epoch 5/50\n",
      "1163/1163 [==============================] - 16s 14ms/step - loss: 0.0057 - mean_squared_error: 0.0057 - val_loss: 0.0089 - val_mean_squared_error: 0.0089\n",
      "Epoch 6/50\n",
      "1163/1163 [==============================] - 17s 14ms/step - loss: 0.0059 - mean_squared_error: 0.0059 - val_loss: 0.0082 - val_mean_squared_error: 0.0082\n",
      "Epoch 7/50\n",
      "1163/1163 [==============================] - 17s 14ms/step - loss: 0.0057 - mean_squared_error: 0.0057 - val_loss: 0.0089 - val_mean_squared_error: 0.0089\n",
      "Epoch 8/50\n",
      "1163/1163 [==============================] - 17s 14ms/step - loss: 0.0058 - mean_squared_error: 0.0058 - val_loss: 0.0089 - val_mean_squared_error: 0.0089\n",
      "Epoch 9/50\n",
      "1163/1163 [==============================] - 17s 15ms/step - loss: 0.0057 - mean_squared_error: 0.0057 - val_loss: 0.0095 - val_mean_squared_error: 0.0095\n",
      "Epoch 10/50\n",
      "1163/1163 [==============================] - 19s 16ms/step - loss: 0.0058 - mean_squared_error: 0.0058 - val_loss: 0.0092 - val_mean_squared_error: 0.0092\n",
      "Epoch 11/50\n",
      "1163/1163 [==============================] - 18s 16ms/step - loss: 0.0055 - mean_squared_error: 0.0055 - val_loss: 0.0093 - val_mean_squared_error: 0.0093\n",
      "Epoch 12/50\n",
      "1163/1163 [==============================] - 17s 15ms/step - loss: 0.0056 - mean_squared_error: 0.0056 - val_loss: 0.0087 - val_mean_squared_error: 0.0087\n",
      "Epoch 13/50\n",
      "1163/1163 [==============================] - 17s 15ms/step - loss: 0.0055 - mean_squared_error: 0.0055 - val_loss: 0.0088 - val_mean_squared_error: 0.0088\n",
      "Epoch 14/50\n",
      "1163/1163 [==============================] - 18s 16ms/step - loss: 0.0055 - mean_squared_error: 0.0055 - val_loss: 0.0085 - val_mean_squared_error: 0.0085\n",
      "Epoch 15/50\n",
      "1163/1163 [==============================] - 18s 15ms/step - loss: 0.0054 - mean_squared_error: 0.0054 - val_loss: 0.0091 - val_mean_squared_error: 0.0091\n",
      "Epoch 16/50\n",
      "1163/1163 [==============================] - 18s 16ms/step - loss: 0.0055 - mean_squared_error: 0.0055 - val_loss: 0.0088 - val_mean_squared_error: 0.0088\n",
      "RUN 4\n",
      "\n",
      "Epoch 1/50\n",
      "1163/1163 [==============================] - 19s 16ms/step - loss: 0.0056 - mean_squared_error: 0.0056 - val_loss: 0.0095 - val_mean_squared_error: 0.0095\n",
      "Epoch 2/50\n",
      "1163/1163 [==============================] - 19s 16ms/step - loss: 0.0054 - mean_squared_error: 0.0054 - val_loss: 0.0091 - val_mean_squared_error: 0.0091\n",
      "Epoch 3/50\n",
      "1163/1163 [==============================] - 18s 16ms/step - loss: 0.0054 - mean_squared_error: 0.0054 - val_loss: 0.0087 - val_mean_squared_error: 0.0087\n",
      "Epoch 4/50\n",
      "1163/1163 [==============================] - 17s 15ms/step - loss: 0.0053 - mean_squared_error: 0.0053 - val_loss: 0.0084 - val_mean_squared_error: 0.0084\n",
      "Epoch 5/50\n",
      "1163/1163 [==============================] - 16s 14ms/step - loss: 0.0053 - mean_squared_error: 0.0053 - val_loss: 0.0087 - val_mean_squared_error: 0.0087\n",
      "Epoch 6/50\n",
      "1163/1163 [==============================] - 17s 14ms/step - loss: 0.0053 - mean_squared_error: 0.0053 - val_loss: 0.0083 - val_mean_squared_error: 0.0083\n",
      "Epoch 7/50\n",
      "1163/1163 [==============================] - 17s 14ms/step - loss: 0.0055 - mean_squared_error: 0.0055 - val_loss: 0.0090 - val_mean_squared_error: 0.0090\n",
      "Epoch 8/50\n",
      "1163/1163 [==============================] - 16s 14ms/step - loss: 0.0055 - mean_squared_error: 0.0055 - val_loss: 0.0105 - val_mean_squared_error: 0.0105\n",
      "Epoch 9/50\n",
      "1163/1163 [==============================] - 17s 14ms/step - loss: 0.0051 - mean_squared_error: 0.0051 - val_loss: 0.0089 - val_mean_squared_error: 0.0089\n",
      "Epoch 10/50\n",
      "1163/1163 [==============================] - 16s 14ms/step - loss: 0.0051 - mean_squared_error: 0.0051 - val_loss: 0.0085 - val_mean_squared_error: 0.0085\n",
      "Epoch 11/50\n",
      "1163/1163 [==============================] - 17s 14ms/step - loss: 0.0051 - mean_squared_error: 0.0051 - val_loss: 0.0089 - val_mean_squared_error: 0.0089\n",
      "Epoch 12/50\n",
      "1163/1163 [==============================] - 16s 14ms/step - loss: 0.0052 - mean_squared_error: 0.0052 - val_loss: 0.0086 - val_mean_squared_error: 0.0086\n",
      "Epoch 13/50\n",
      "1163/1163 [==============================] - 16s 14ms/step - loss: 0.0052 - mean_squared_error: 0.0052 - val_loss: 0.0089 - val_mean_squared_error: 0.0089\n",
      "Epoch 14/50\n",
      "1163/1163 [==============================] - 17s 14ms/step - loss: 0.0051 - mean_squared_error: 0.0051 - val_loss: 0.0095 - val_mean_squared_error: 0.0095\n",
      "Epoch 15/50\n",
      "1163/1163 [==============================] - 17s 14ms/step - loss: 0.0050 - mean_squared_error: 0.0050 - val_loss: 0.0092 - val_mean_squared_error: 0.0092\n",
      "Epoch 16/50\n",
      "1163/1163 [==============================] - 16s 14ms/step - loss: 0.0053 - mean_squared_error: 0.0053 - val_loss: 0.0094 - val_mean_squared_error: 0.0094\n",
      "RUN 5\n",
      "\n",
      "Epoch 1/50\n",
      "1163/1163 [==============================] - 17s 15ms/step - loss: 0.0050 - mean_squared_error: 0.0050 - val_loss: 0.0097 - val_mean_squared_error: 0.0097\n",
      "Epoch 2/50\n",
      "1163/1163 [==============================] - 17s 15ms/step - loss: 0.0049 - mean_squared_error: 0.0049 - val_loss: 0.0085 - val_mean_squared_error: 0.0085\n",
      "Epoch 3/50\n",
      "1163/1163 [==============================] - 19s 16ms/step - loss: 0.0049 - mean_squared_error: 0.0049 - val_loss: 0.0086 - val_mean_squared_error: 0.0086\n",
      "Epoch 4/50\n",
      "1163/1163 [==============================] - 18s 16ms/step - loss: 0.0048 - mean_squared_error: 0.0048 - val_loss: 0.0093 - val_mean_squared_error: 0.0093\n",
      "Epoch 5/50\n",
      "1163/1163 [==============================] - 17s 15ms/step - loss: 0.0048 - mean_squared_error: 0.0048 - val_loss: 0.0090 - val_mean_squared_error: 0.0090\n",
      "Epoch 6/50\n",
      "1163/1163 [==============================] - 17s 14ms/step - loss: 0.0049 - mean_squared_error: 0.0049 - val_loss: 0.0090 - val_mean_squared_error: 0.0090\n",
      "Epoch 7/50\n",
      "1163/1163 [==============================] - 17s 15ms/step - loss: 0.0047 - mean_squared_error: 0.0047 - val_loss: 0.0092 - val_mean_squared_error: 0.0092\n",
      "Epoch 8/50\n",
      "1163/1163 [==============================] - 17s 14ms/step - loss: 0.0048 - mean_squared_error: 0.0048 - val_loss: 0.0089 - val_mean_squared_error: 0.0089\n",
      "Epoch 9/50\n",
      "1163/1163 [==============================] - 17s 15ms/step - loss: 0.0051 - mean_squared_error: 0.0051 - val_loss: 0.0096 - val_mean_squared_error: 0.0096\n",
      "Epoch 10/50\n"
     ]
    },
    {
     "name": "stdout",
     "output_type": "stream",
     "text": [
      " 903/1163 [======================>.......] - ETA: 3s - loss: 0.0047 - mean_squared_error: 0.0047"
     ]
    }
   ],
   "source": [
    "mape_performance['LSTM-MIMO-full-data'] = []\n",
    "mse_performance['LSTM-MIMO-full-data'] = []\n",
    "for i in range(1,11):\n",
    "    FULL_LSTMIMO.compile(optimizer=tf.optimizers.Adam(), loss='mse', metrics=[tf.metrics.MeanSquaredError()])\n",
    "\n",
    "    early_stopping = tf.keras.callbacks.EarlyStopping(monitor='val_loss', patience=patience, mode='min')\n",
    "\n",
    "    history = FULL_LSTMIMO.fit(train_longer_inputs['X'], train_longer_inputs['target'], batch_size=32, epochs=MAX_EPOCHS,\n",
    "                  validation_split=0.15,\n",
    "                  callbacks=[early_stopping], verbose=1)\n",
    "\n",
    "\n",
    "    #save_model(FULL_LSTMIMO, i)\n",
    "    FD_predictions = FULL_LSTMIMO.predict(test_longer_inputs['X'])\n",
    "    FD_eval_df = create_evaluation_df(FD_predictions, test_longer_inputs, HORIZON, y_scaler)\n",
    "    mape = validation(FD_eval_df['prediction'], FD_eval_df['actual'], 'MAPE')\n",
    "    rmse = validation(FD_eval_df['prediction'], FD_eval_df['actual'], 'RMSE')\n",
    "    mape_performance['LSTM-MIMO-full-data'].append(mape)\n",
    "    mse_performance['LSTM-MIMO-full-data'].append(rmse)\n",
    "    print('RUN '+str(i)+'\\n')\n",
    "    metrics.loc[i] = pd.Series({'mape':mape, 'rmse':rmse})\n",
    "\n",
    "    file1 = open('./results/GEP1_LSTM_MIMO-full_accuracy.txt', 'a') \n",
    "    file1.write('\\nRUN '+str(i)+':') \n",
    "    file1.writelines(['\\n'+str(mape), '\\n'+str(rmse)]) \n",
    "    file1.close()\n",
    "metrics.to_csv('./results/GEP1_MIMO-full.csv')"
   ]
  },
  {
   "cell_type": "code",
   "execution_count": 57,
   "metadata": {},
   "outputs": [
    {
     "name": "stdout",
     "output_type": "stream",
     "text": [
      "Epoch 1/50\n",
      "1163/1163 [==============================] - 18s 15ms/step - loss: 0.0211 - mean_squared_error: 0.0211 - val_loss: 0.0118 - val_mean_squared_error: 0.0118\n",
      "Epoch 2/50\n",
      "1163/1163 [==============================] - 18s 15ms/step - loss: 0.0134 - mean_squared_error: 0.0134 - val_loss: 0.0116 - val_mean_squared_error: 0.0116\n",
      "Epoch 3/50\n",
      "1163/1163 [==============================] - 17s 15ms/step - loss: 0.0118 - mean_squared_error: 0.0118 - val_loss: 0.0079 - val_mean_squared_error: 0.0079\n",
      "Epoch 4/50\n",
      "1163/1163 [==============================] - 17s 15ms/step - loss: 0.0108 - mean_squared_error: 0.0108 - val_loss: 0.0077 - val_mean_squared_error: 0.0077\n",
      "Epoch 5/50\n",
      "1163/1163 [==============================] - 17s 14ms/step - loss: 0.0104 - mean_squared_error: 0.0104 - val_loss: 0.0078 - val_mean_squared_error: 0.0078\n",
      "Epoch 6/50\n",
      "1163/1163 [==============================] - 17s 14ms/step - loss: 0.0102 - mean_squared_error: 0.0102 - val_loss: 0.0084 - val_mean_squared_error: 0.0084\n",
      "Epoch 7/50\n",
      "1163/1163 [==============================] - 17s 15ms/step - loss: 0.0100 - mean_squared_error: 0.0100 - val_loss: 0.0098 - val_mean_squared_error: 0.0098\n",
      "Epoch 8/50\n",
      "1163/1163 [==============================] - 17s 15ms/step - loss: 0.0098 - mean_squared_error: 0.0098 - val_loss: 0.0075 - val_mean_squared_error: 0.0075\n",
      "Epoch 9/50\n",
      "1163/1163 [==============================] - 18s 15ms/step - loss: 0.0097 - mean_squared_error: 0.0097 - val_loss: 0.0075 - val_mean_squared_error: 0.0075\n",
      "Epoch 10/50\n",
      "1163/1163 [==============================] - 17s 15ms/step - loss: 0.0096 - mean_squared_error: 0.0096 - val_loss: 0.0068 - val_mean_squared_error: 0.0068\n",
      "Epoch 11/50\n",
      "1163/1163 [==============================] - 18s 15ms/step - loss: 0.0095 - mean_squared_error: 0.0095 - val_loss: 0.0068 - val_mean_squared_error: 0.0068\n",
      "Epoch 12/50\n",
      "1163/1163 [==============================] - 17s 15ms/step - loss: 0.0094 - mean_squared_error: 0.0094 - val_loss: 0.0077 - val_mean_squared_error: 0.0077\n",
      "Epoch 13/50\n",
      "1163/1163 [==============================] - 17s 14ms/step - loss: 0.0093 - mean_squared_error: 0.0093 - val_loss: 0.0071 - val_mean_squared_error: 0.0071\n",
      "Epoch 14/50\n",
      "1163/1163 [==============================] - 18s 15ms/step - loss: 0.0092 - mean_squared_error: 0.0092 - val_loss: 0.0077 - val_mean_squared_error: 0.0077\n",
      "Epoch 15/50\n",
      "1163/1163 [==============================] - 17s 15ms/step - loss: 0.0091 - mean_squared_error: 0.0091 - val_loss: 0.0068 - val_mean_squared_error: 0.0068\n",
      "Epoch 16/50\n",
      "1163/1163 [==============================] - 17s 15ms/step - loss: 0.0090 - mean_squared_error: 0.0090 - val_loss: 0.0077 - val_mean_squared_error: 0.0077\n",
      "Epoch 17/50\n",
      "1163/1163 [==============================] - 16s 14ms/step - loss: 0.0089 - mean_squared_error: 0.0089 - val_loss: 0.0078 - val_mean_squared_error: 0.0078\n",
      "Epoch 18/50\n",
      "1163/1163 [==============================] - 17s 15ms/step - loss: 0.0089 - mean_squared_error: 0.0089 - val_loss: 0.0068 - val_mean_squared_error: 0.0068\n",
      "Epoch 19/50\n",
      "1163/1163 [==============================] - 18s 15ms/step - loss: 0.0088 - mean_squared_error: 0.0088 - val_loss: 0.0074 - val_mean_squared_error: 0.0074\n",
      "Epoch 20/50\n",
      "1163/1163 [==============================] - 17s 15ms/step - loss: 0.0087 - mean_squared_error: 0.0087 - val_loss: 0.0080 - val_mean_squared_error: 0.0080\n"
     ]
    }
   ],
   "source": [
    "early_stopping = tf.keras.callbacks.EarlyStopping(monitor='val_loss', patience=patience, mode='min')\n",
    "\n",
    "history = FULL_LSTMIMO.fit(train_longer_inputs['X'], train_longer_inputs['target'], batch_size=32, epochs=MAX_EPOCHS,\n",
    "                  validation_split=0.15,\n",
    "                  callbacks=[early_stopping], verbose=1)"
   ]
  },
  {
   "cell_type": "code",
   "execution_count": 58,
   "metadata": {},
   "outputs": [
    {
     "data": {
      "image/png": "[encoded data removed]",
      "text/plain": [
       "<Figure size 576x432 with 1 Axes>"
      ]
     },
     "metadata": {
      "needs_background": "light"
     },
     "output_type": "display_data"
    }
   ],
   "source": [
    "# FULL DATA \n",
    "plot_train_history(FULL_LSTMIMO)"
   ]
  },
  {
   "cell_type": "code",
   "execution_count": 59,
   "metadata": {},
   "outputs": [],
   "source": [
    "FD_predictions = FULL_LSTMIMO.predict(test_longer_inputs['X'])\n",
    "FD_eval_df = create_evaluation_df(FD_predictions, test_longer_inputs, HORIZON, y_scaler)\n",
    "#performance['LSTM-MIMO-full-data'] = FULL_LSTMIMO.evaluate(test_inputs['X'],test_inputs['target'], verbose=0)\n",
    "mape_performance['LSTM-MIMO-full-data'] = mape(FD_eval_df['prediction'], FD_eval_df['actual'])\n",
    "mse_performance['LSTM-MIMO-full-data'] = validation(FD_eval_df['prediction'], FD_eval_df['actual'], 'RMSE')"
   ]
  },
  {
   "cell_type": "code",
   "execution_count": null,
   "metadata": {},
   "outputs": [],
   "source": []
  },
  {
   "cell_type": "code",
   "execution_count": 60,
   "metadata": {},
   "outputs": [],
   "source": [
    "MAX_EPOCHS = 50\n",
    "BATCHSIZE = 10\n",
    "patience = 10\n",
    "\n",
    "LSTMIMO = tf.keras.models.Sequential([\n",
    "    # Shape [batch, time, features] => [batch, time, lstm_units]\n",
    "    tf.keras.layers.LSTM(32, input_shape=(24, 5)),\n",
    "    # Shape => [batch, time, features]\n",
    "    tf.keras.layers.Dense(HORIZON)\n",
    "])"
   ]
  },
  {
   "cell_type": "code",
   "execution_count": 61,
   "metadata": {},
   "outputs": [],
   "source": [
    "LSTMIMO.compile(optimizer=tf.optimizers.Adam(), loss='mse', metrics=[tf.metrics.MeanSquaredError()])"
   ]
  },
  {
   "cell_type": "code",
   "execution_count": 62,
   "metadata": {
    "scrolled": true
   },
   "outputs": [
    {
     "name": "stdout",
     "output_type": "stream",
     "text": [
      "Model: \"sequential_4\"\n",
      "_________________________________________________________________\n",
      "Layer (type)                 Output Shape              Param #   \n",
      "=================================================================\n",
      "lstm_6 (LSTM)                (None, 32)                4864      \n",
      "_________________________________________________________________\n",
      "dense_4 (Dense)              (None, 24)                792       \n",
      "=================================================================\n",
      "Total params: 5,656\n",
      "Trainable params: 5,656\n",
      "Non-trainable params: 0\n",
      "_________________________________________________________________\n"
     ]
    }
   ],
   "source": [
    "LSTMIMO.summary()"
   ]
  },
  {
   "cell_type": "code",
   "execution_count": 63,
   "metadata": {},
   "outputs": [
    {
     "name": "stdout",
     "output_type": "stream",
     "text": [
      "Epoch 1/50\n",
      "1163/1163 [==============================] - 18s 15ms/step - loss: 0.0229 - mean_squared_error: 0.0229 - val_loss: 0.0126 - val_mean_squared_error: 0.0126\n",
      "Epoch 2/50\n",
      "1163/1163 [==============================] - 18s 15ms/step - loss: 0.0179 - mean_squared_error: 0.0179 - val_loss: 0.0126 - val_mean_squared_error: 0.0126\n",
      "Epoch 3/50\n",
      "1163/1163 [==============================] - 18s 16ms/step - loss: 0.0170 - mean_squared_error: 0.0170 - val_loss: 0.0097 - val_mean_squared_error: 0.0097\n",
      "Epoch 4/50\n",
      "1163/1163 [==============================] - 18s 16ms/step - loss: 0.0162 - mean_squared_error: 0.0162 - val_loss: 0.0105 - val_mean_squared_error: 0.0105\n",
      "Epoch 5/50\n",
      "1163/1163 [==============================] - 18s 15ms/step - loss: 0.0159 - mean_squared_error: 0.0159 - val_loss: 0.0103 - val_mean_squared_error: 0.0103\n",
      "Epoch 6/50\n",
      "1163/1163 [==============================] - 18s 15ms/step - loss: 0.0157 - mean_squared_error: 0.0157 - val_loss: 0.0110 - val_mean_squared_error: 0.0110\n",
      "Epoch 7/50\n",
      "1163/1163 [==============================] - 17s 15ms/step - loss: 0.0155 - mean_squared_error: 0.0155 - val_loss: 0.0110 - val_mean_squared_error: 0.0110\n",
      "Epoch 8/50\n",
      "1163/1163 [==============================] - 17s 15ms/step - loss: 0.0154 - mean_squared_error: 0.0154 - val_loss: 0.0098 - val_mean_squared_error: 0.0098\n",
      "Epoch 9/50\n",
      "1163/1163 [==============================] - 17s 15ms/step - loss: 0.0153 - mean_squared_error: 0.0153 - val_loss: 0.0091 - val_mean_squared_error: 0.0091\n",
      "Epoch 10/50\n",
      "1163/1163 [==============================] - 18s 15ms/step - loss: 0.0152 - mean_squared_error: 0.0152 - val_loss: 0.0097 - val_mean_squared_error: 0.0097\n",
      "Epoch 11/50\n",
      "1163/1163 [==============================] - 17s 15ms/step - loss: 0.0151 - mean_squared_error: 0.0151 - val_loss: 0.0088 - val_mean_squared_error: 0.0088\n",
      "Epoch 12/50\n",
      "1163/1163 [==============================] - 17s 15ms/step - loss: 0.0150 - mean_squared_error: 0.0150 - val_loss: 0.0101 - val_mean_squared_error: 0.0101\n",
      "Epoch 13/50\n",
      "1163/1163 [==============================] - 17s 14ms/step - loss: 0.0149 - mean_squared_error: 0.0149 - val_loss: 0.0089 - val_mean_squared_error: 0.0089\n",
      "Epoch 14/50\n",
      "1163/1163 [==============================] - 16s 14ms/step - loss: 0.0148 - mean_squared_error: 0.0148 - val_loss: 0.0089 - val_mean_squared_error: 0.0089\n",
      "Epoch 15/50\n",
      "1163/1163 [==============================] - 17s 14ms/step - loss: 0.0147 - mean_squared_error: 0.0147 - val_loss: 0.0091 - val_mean_squared_error: 0.0091\n",
      "Epoch 16/50\n",
      "1163/1163 [==============================] - 17s 15ms/step - loss: 0.0147 - mean_squared_error: 0.0147 - val_loss: 0.0094 - val_mean_squared_error: 0.0094\n",
      "Epoch 17/50\n",
      "1163/1163 [==============================] - 17s 14ms/step - loss: 0.0146 - mean_squared_error: 0.0146 - val_loss: 0.0097 - val_mean_squared_error: 0.0097\n",
      "Epoch 18/50\n",
      "1163/1163 [==============================] - 18s 15ms/step - loss: 0.0145 - mean_squared_error: 0.0145 - val_loss: 0.0083 - val_mean_squared_error: 0.0083\n",
      "Epoch 19/50\n",
      "1163/1163 [==============================] - 16s 14ms/step - loss: 0.0144 - mean_squared_error: 0.0144 - val_loss: 0.0090 - val_mean_squared_error: 0.0090\n",
      "Epoch 20/50\n",
      "1163/1163 [==============================] - 16s 14ms/step - loss: 0.0144 - mean_squared_error: 0.0144 - val_loss: 0.0090 - val_mean_squared_error: 0.0090\n",
      "Epoch 21/50\n",
      "1163/1163 [==============================] - 16s 14ms/step - loss: 0.0143 - mean_squared_error: 0.0143 - val_loss: 0.0089 - val_mean_squared_error: 0.0089\n",
      "Epoch 22/50\n",
      "1163/1163 [==============================] - 17s 14ms/step - loss: 0.0142 - mean_squared_error: 0.0142 - val_loss: 0.0089 - val_mean_squared_error: 0.0089\n",
      "Epoch 23/50\n",
      "1163/1163 [==============================] - 17s 15ms/step - loss: 0.0142 - mean_squared_error: 0.0142 - val_loss: 0.0088 - val_mean_squared_error: 0.0088\n",
      "Epoch 24/50\n",
      "1163/1163 [==============================] - 17s 15ms/step - loss: 0.0141 - mean_squared_error: 0.0141 - val_loss: 0.0094 - val_mean_squared_error: 0.0094\n",
      "Epoch 25/50\n",
      "1163/1163 [==============================] - 17s 14ms/step - loss: 0.0140 - mean_squared_error: 0.0140 - val_loss: 0.0086 - val_mean_squared_error: 0.0086\n",
      "Epoch 26/50\n",
      "1163/1163 [==============================] - 17s 14ms/step - loss: 0.0140 - mean_squared_error: 0.0140 - val_loss: 0.0094 - val_mean_squared_error: 0.0094\n",
      "Epoch 27/50\n",
      "1163/1163 [==============================] - 17s 15ms/step - loss: 0.0139 - mean_squared_error: 0.0139 - val_loss: 0.0083 - val_mean_squared_error: 0.0083\n",
      "Epoch 28/50\n",
      "1163/1163 [==============================] - 18s 15ms/step - loss: 0.0139 - mean_squared_error: 0.0139 - val_loss: 0.0102 - val_mean_squared_error: 0.0102\n"
     ]
    }
   ],
   "source": [
    "early_stopping = tf.keras.callbacks.EarlyStopping(monitor='val_loss', patience=patience, mode='min')\n",
    "\n",
    "history = LSTMIMO.fit(train_inputs['X'], train_inputs['target'], batch_size=32, epochs=MAX_EPOCHS,\n",
    "                  validation_split=0.15,\n",
    "                  callbacks=[early_stopping], verbose=1)"
   ]
  },
  {
   "cell_type": "code",
   "execution_count": 64,
   "metadata": {},
   "outputs": [
    {
     "data": {
      "image/png": "[encoded data removed]",
      "text/plain": [
       "<Figure size 576x432 with 1 Axes>"
      ]
     },
     "metadata": {
      "needs_background": "light"
     },
     "output_type": "display_data"
    }
   ],
   "source": [
    "plot_train_history(LSTMIMO)"
   ]
  },
  {
   "cell_type": "code",
   "execution_count": 65,
   "metadata": {},
   "outputs": [],
   "source": [
    "predictions = LSTMIMO.predict(test_inputs['X'])\n",
    "eval_df = create_evaluation_df(predictions, test_inputs, HORIZON, y_scaler)\n",
    "performance['LSTM-MIMO'] = LSTMIMO.evaluate(test_inputs['X'],test_inputs['target'], verbose=0)\n",
    "mape_performance['LSTM-MIMO'] = mape(eval_df['prediction'], eval_df['actual'])\n",
    "mse_performance['LSTM-MIMO'] = validation(eval_df['prediction'], eval_df['actual'], 'RMSE')"
   ]
  },
  {
   "cell_type": "code",
   "execution_count": 66,
   "metadata": {},
   "outputs": [
    {
     "data": {
      "text/plain": [
       "h\n",
       "t+1     0.127720\n",
       "t+2     0.153339\n",
       "t+3     0.170575\n",
       "t+4     0.233779\n",
       "t+5     0.258875\n",
       "t+6     0.262532\n",
       "t+7     0.283372\n",
       "t+8     0.309086\n",
       "t+9     0.330162\n",
       "t+10    0.356188\n",
       "t+11    0.376600\n",
       "t+12    0.376962\n",
       "t+13    0.387016\n",
       "t+14    0.398364\n",
       "t+15    0.406465\n",
       "t+16    0.413911\n",
       "t+17    0.427505\n",
       "t+18    0.436779\n",
       "t+19    0.436078\n",
       "t+20    0.438409\n",
       "t+21    0.453689\n",
       "t+22    0.444487\n",
       "t+23    0.472363\n",
       "t+24    0.493867\n",
       "Name: APE, dtype: float64"
      ]
     },
     "execution_count": 66,
     "metadata": {},
     "output_type": "execute_result"
    }
   ],
   "source": [
    "eval_df['APE'] = (eval_df['prediction'] - eval_df['actual']).abs() / eval_df['actual']\n",
    "df = eval_df.groupby('h')['APE'].mean()\n",
    "df.reindex(['t+1', 't+2', 't+3', 't+4', 't+5', 't+6', 't+7', 't+8', 't+9', 't+10', 't+11', 't+12', 't+13', 't+14', 't+15', 't+16', 't+17', 't+18', 't+19', 't+20', 't+21', 't+22', 't+23', 't+24'])"
   ]
  },
  {
   "cell_type": "code",
   "execution_count": 150,
   "metadata": {},
   "outputs": [],
   "source": [
    "MAX_EPOCHS = 50\n",
    "BATCHSIZE = 32\n",
    "patience = 10\n",
    "\n",
    "ConditionalRNN = Sequential(layers=[ConditionalRNN(32, cell='LSTM'),\n",
    "                                    Dense(HORIZON)])"
   ]
  },
  {
   "cell_type": "code",
   "execution_count": 151,
   "metadata": {},
   "outputs": [],
   "source": [
    "ConditionalRNN.compile(optimizer=tf.optimizers.Adam(), loss='mse', metrics=[tf.metrics.MeanSquaredError()])"
   ]
  },
  {
   "cell_type": "code",
   "execution_count": 152,
   "metadata": {},
   "outputs": [
    {
     "ename": "ValueError",
     "evalue": "This model has not yet been built. Build the model first by calling `build()` or calling `fit()` with some data, or specify an `input_shape` argument in the first layer(s) for automatic build.",
     "output_type": "error",
     "traceback": [
      "\u001b[0;31m---------------------------------------------------------------------------\u001b[0m",
      "\u001b[0;31mValueError\u001b[0m                                Traceback (most recent call last)",
      "\u001b[0;32m<ipython-input-152-2ba3275328eb>\u001b[0m in \u001b[0;36m<module>\u001b[0;34m\u001b[0m\n\u001b[0;32m----> 1\u001b[0;31m \u001b[0mConditionalRNN\u001b[0m\u001b[0;34m.\u001b[0m\u001b[0msummary\u001b[0m\u001b[0;34m(\u001b[0m\u001b[0;34m)\u001b[0m\u001b[0;34m\u001b[0m\u001b[0;34m\u001b[0m\u001b[0m\n\u001b[0m",
      "\u001b[0;32m~/anaconda3/envs/evgeny/lib/python3.8/site-packages/tensorflow/python/keras/engine/training.py\u001b[0m in \u001b[0;36msummary\u001b[0;34m(self, line_length, positions, print_fn)\u001b[0m\n\u001b[1;32m   2349\u001b[0m     \"\"\"\n\u001b[1;32m   2350\u001b[0m     \u001b[0;32mif\u001b[0m \u001b[0;32mnot\u001b[0m \u001b[0mself\u001b[0m\u001b[0;34m.\u001b[0m\u001b[0mbuilt\u001b[0m\u001b[0;34m:\u001b[0m\u001b[0;34m\u001b[0m\u001b[0;34m\u001b[0m\u001b[0m\n\u001b[0;32m-> 2351\u001b[0;31m       raise ValueError('This model has not yet been built. '\n\u001b[0m\u001b[1;32m   2352\u001b[0m                        \u001b[0;34m'Build the model first by calling `build()` or calling '\u001b[0m\u001b[0;34m\u001b[0m\u001b[0;34m\u001b[0m\u001b[0m\n\u001b[1;32m   2353\u001b[0m                        \u001b[0;34m'`fit()` with some data, or specify '\u001b[0m\u001b[0;34m\u001b[0m\u001b[0;34m\u001b[0m\u001b[0m\n",
      "\u001b[0;31mValueError\u001b[0m: This model has not yet been built. Build the model first by calling `build()` or calling `fit()` with some data, or specify an `input_shape` argument in the first layer(s) for automatic build."
     ]
    }
   ],
   "source": [
    "ConditionalRNN.summary()"
   ]
  },
  {
   "cell_type": "code",
   "execution_count": 154,
   "metadata": {},
   "outputs": [
    {
     "name": "stdout",
     "output_type": "stream",
     "text": [
      "Epoch 1/50\n",
      "WARNING:tensorflow:Layers in a Sequential model should only have a single input tensor, but we receive a <class 'tuple'> input: (<tf.Tensor 'IteratorGetNext:0' shape=(None, 24, 5) dtype=float64>, <tf.Tensor 'IteratorGetNext:1' shape=(None, 8) dtype=float64>, <tf.Tensor 'IteratorGetNext:2' shape=(None, 2) dtype=float64>)\n",
      "Consider rewriting this model with the Functional API.\n",
      "WARNING:tensorflow:Layers in a Sequential model should only have a single input tensor, but we receive a <class 'tuple'> input: (<tf.Tensor 'IteratorGetNext:0' shape=(None, 24, 5) dtype=float64>, <tf.Tensor 'IteratorGetNext:1' shape=(None, 8) dtype=float64>, <tf.Tensor 'IteratorGetNext:2' shape=(None, 2) dtype=float64>)\n",
      "Consider rewriting this model with the Functional API.\n",
      "1166/1167 [============================>.] - ETA: 0s - loss: 0.0219 - mean_squared_error: 0.0219WARNING:tensorflow:Layers in a Sequential model should only have a single input tensor, but we receive a <class 'tuple'> input: (<tf.Tensor 'IteratorGetNext:0' shape=(None, 24, 5) dtype=float64>, <tf.Tensor 'IteratorGetNext:1' shape=(None, 8) dtype=float64>, <tf.Tensor 'IteratorGetNext:2' shape=(None, 2) dtype=float64>)\n",
      "Consider rewriting this model with the Functional API.\n",
      "1167/1167 [==============================] - 21s 18ms/step - loss: 0.0219 - mean_squared_error: 0.0219 - val_loss: 0.0122 - val_mean_squared_error: 0.0122\n",
      "Epoch 2/50\n",
      "1167/1167 [==============================] - 20s 17ms/step - loss: 0.0138 - mean_squared_error: 0.0138 - val_loss: 0.0089 - val_mean_squared_error: 0.0089\n",
      "Epoch 3/50\n",
      "1167/1167 [==============================] - 20s 17ms/step - loss: 0.0128 - mean_squared_error: 0.0128 - val_loss: 0.0105 - val_mean_squared_error: 0.0105\n",
      "Epoch 4/50\n",
      "1167/1167 [==============================] - 20s 17ms/step - loss: 0.0119 - mean_squared_error: 0.0119 - val_loss: 0.0082 - val_mean_squared_error: 0.0082\n",
      "Epoch 5/50\n",
      "1167/1167 [==============================] - 21s 18ms/step - loss: 0.0113 - mean_squared_error: 0.0113 - val_loss: 0.0088 - val_mean_squared_error: 0.0088\n",
      "Epoch 6/50\n",
      "1167/1167 [==============================] - 20s 17ms/step - loss: 0.0111 - mean_squared_error: 0.0111 - val_loss: 0.0075 - val_mean_squared_error: 0.0075\n",
      "Epoch 7/50\n",
      "1167/1167 [==============================] - 20s 17ms/step - loss: 0.0108 - mean_squared_error: 0.0108 - val_loss: 0.0070 - val_mean_squared_error: 0.0070\n",
      "Epoch 8/50\n",
      "1167/1167 [==============================] - 19s 17ms/step - loss: 0.0107 - mean_squared_error: 0.0107 - val_loss: 0.0085 - val_mean_squared_error: 0.0085\n",
      "Epoch 9/50\n",
      "1167/1167 [==============================] - 18s 15ms/step - loss: 0.0106 - mean_squared_error: 0.0106 - val_loss: 0.0086 - val_mean_squared_error: 0.0086\n",
      "Epoch 10/50\n",
      "1167/1167 [==============================] - 18s 16ms/step - loss: 0.0104 - mean_squared_error: 0.0104 - val_loss: 0.0075 - val_mean_squared_error: 0.0075\n",
      "Epoch 11/50\n",
      "1167/1167 [==============================] - 18s 16ms/step - loss: 0.0104 - mean_squared_error: 0.0104 - val_loss: 0.0072 - val_mean_squared_error: 0.0072\n",
      "Epoch 12/50\n",
      "1167/1167 [==============================] - 18s 16ms/step - loss: 0.0102 - mean_squared_error: 0.0102 - val_loss: 0.0081 - val_mean_squared_error: 0.0081\n",
      "Epoch 13/50\n",
      "1167/1167 [==============================] - 19s 16ms/step - loss: 0.0101 - mean_squared_error: 0.0101 - val_loss: 0.0086 - val_mean_squared_error: 0.0086\n",
      "Epoch 14/50\n",
      "1167/1167 [==============================] - 19s 16ms/step - loss: 0.0101 - mean_squared_error: 0.0101 - val_loss: 0.0074 - val_mean_squared_error: 0.0074\n",
      "Epoch 15/50\n",
      "1167/1167 [==============================] - 19s 16ms/step - loss: 0.0100 - mean_squared_error: 0.0100 - val_loss: 0.0072 - val_mean_squared_error: 0.0072\n",
      "Epoch 16/50\n",
      "1167/1167 [==============================] - 19s 16ms/step - loss: 0.0099 - mean_squared_error: 0.0099 - val_loss: 0.0074 - val_mean_squared_error: 0.0074\n",
      "Epoch 17/50\n",
      "1167/1167 [==============================] - 19s 16ms/step - loss: 0.0098 - mean_squared_error: 0.0098 - val_loss: 0.0076 - val_mean_squared_error: 0.0076\n"
     ]
    }
   ],
   "source": [
    "early_stopping = tf.keras.callbacks.EarlyStopping(monitor='val_loss', patience=patience, mode='min')\n",
    "tf.keras.backend.set_floatx('float64')\n",
    "history = ConditionalRNN.fit([train_inputs['X'],train_c1,train_c2], train_inputs['target'], batch_size=32, epochs=MAX_EPOCHS,\n",
    "                  validation_split=0.15,\n",
    "                  callbacks=[early_stopping], verbose=1)"
   ]
  },
  {
   "cell_type": "code",
   "execution_count": 155,
   "metadata": {},
   "outputs": [
    {
     "data": {
      "image/png": "[encoded data removed]",
      "text/plain": [
       "<Figure size 576x432 with 1 Axes>"
      ]
     },
     "metadata": {
      "needs_background": "light"
     },
     "output_type": "display_data"
    }
   ],
   "source": [
    "plot_train_history(ConditionalRNN)"
   ]
  },
  {
   "cell_type": "code",
   "execution_count": 156,
   "metadata": {},
   "outputs": [],
   "source": [
    "performance['ConditionalRNN'] = ConditionalRNN.evaluate([test_inputs['X'],test_c1,test_c2],test_inputs['target'], verbose=0)"
   ]
  },
  {
   "cell_type": "code",
   "execution_count": 157,
   "metadata": {},
   "outputs": [
    {
     "name": "stdout",
     "output_type": "stream",
     "text": [
      "WARNING:tensorflow:Layers in a Sequential model should only have a single input tensor, but we receive a <class 'tuple'> input: (<tf.Tensor 'IteratorGetNext:0' shape=(None, 24, 5) dtype=float64>, <tf.Tensor 'IteratorGetNext:1' shape=(None, 8) dtype=float64>, <tf.Tensor 'IteratorGetNext:2' shape=(None, 2) dtype=float64>)\n",
      "Consider rewriting this model with the Functional API.\n"
     ]
    }
   ],
   "source": [
    "cpredictions = ConditionalRNN.predict([test_inputs['X'],test_c1,test_c2])\n",
    "ceval_df = create_evaluation_df(cpredictions, test_inputs, HORIZON, y_scaler)\n",
    "mape_performance['ConditionalRNN'] = mape(ceval_df['prediction'], ceval_df['actual'])\n",
    "mse_performance['ConditionalRNN'] = validation(ceval_df['prediction'], ceval_df['actual'], 'RMSE')"
   ]
  },
  {
   "cell_type": "code",
   "execution_count": 158,
   "metadata": {
    "scrolled": false
   },
   "outputs": [
    {
     "data": {
      "image/png": "[encoded data removed]",
      "text/plain": [
       "<Figure size 576x432 with 1 Axes>"
      ]
     },
     "metadata": {
      "needs_background": "light"
     },
     "output_type": "display_data"
    }
   ],
   "source": [
    "x = np.arange(len(performance))\n",
    "width = 0.3\n",
    "\n",
    "metric_name = 'mean_squared_error'\n",
    "metric_index = LSTMIMO.metrics_names.index('mean_squared_error')\n",
    "#val_mae = [v[metric_index] for v in val_performance.values()]\n",
    "test_mae = [v[metric_index] for v in performance.values()]\n",
    "\n",
    "#plt.bar(x - 0.17, val_mae, width, label='Validation')\n",
    "plt.bar(x + 0.17, test_mae, width, label='Test')\n",
    "plt.xticks(ticks=x, labels=performance.keys(),\n",
    "           rotation=45)\n",
    "plt.ylabel('MSE (average over all outputs)')\n",
    "_ = plt.legend()"
   ]
  },
  {
   "cell_type": "code",
   "execution_count": 160,
   "metadata": {},
   "outputs": [
    {
     "data": {
      "image/png": "[encoded data removed]",
      "text/plain": [
       "<Figure size 576x432 with 1 Axes>"
      ]
     },
     "metadata": {
      "needs_background": "light"
     },
     "output_type": "display_data"
    }
   ],
   "source": [
    "x = np.arange(len(mape_performance))\n",
    "width = 0.3\n",
    "\n",
    "metric_name = 'mean_average_percentage_error'\n",
    "#metric_index = LSTMIMO.metrics_names.index('mean_squared_error')\n",
    "test_mape = []\n",
    "for i in mape_performance.values():\n",
    "    test_mape.append(100*i)\n",
    "\n",
    "#plt.bar(x - 0.17, val_mae, width, label='Validation')\n",
    "plt.bar(x + 0.17, test_mape, width, label='Test', color=['green','green','green','green','black'])\n",
    "plt.xticks(ticks=x, labels=mape_performance.keys(),\n",
    "           rotation=45)\n",
    "plt.ylabel('MAPE (average over all outputs)')\n",
    "_ = plt.legend()"
   ]
  },
  {
   "cell_type": "code",
   "execution_count": 291,
   "metadata": {},
   "outputs": [],
   "source": [
    "#del mse_performance[\"Paper\"]\n",
    "mse_performance['Reference'] = 19.0"
   ]
  },
  {
   "cell_type": "code",
   "execution_count": 162,
   "metadata": {},
   "outputs": [
    {
     "data": {
      "image/png": "[encoded data removed]",
      "text/plain": [
       "<Figure size 576x432 with 1 Axes>"
      ]
     },
     "metadata": {
      "needs_background": "light"
     },
     "output_type": "display_data"
    }
   ],
   "source": [
    "x = np.arange(len(mse_performance))\n",
    "width = 0.3\n",
    "\n",
    "metric_name = 'mean_squared_error'\n",
    "#metric_index = LSTMIMO.metrics_names.index('mean_squared_error')\n",
    "test_mse = mse_performance.values()\n",
    "\n",
    "#plt.bar(x - 0.17, val_mae, width, label='Validation')\n",
    "plt.bar(x + 0.17, test_mse, width, label='Test', color=['green','green','green','green','green', 'black'])\n",
    "plt.xticks(ticks=x, labels=mse_performance.keys(),\n",
    "           rotation=45)\n",
    "plt.ylabel('MAPE (average over all outputs)')\n",
    "plt.title('Comparison between model acccuracy for day-ahead load forecast\\n(GEP B1 2014-2019)')\n",
    "_ = plt.legend()"
   ]
  },
  {
   "cell_type": "code",
   "execution_count": 1181,
   "metadata": {},
   "outputs": [
    {
     "data": {
      "text/plain": [
       "[]"
      ]
     },
     "execution_count": 1181,
     "metadata": {},
     "output_type": "execute_result"
    },
    {
     "data": {
      "image/png": "[encoded data removed]",
      "text/plain": [
       "<Figure size 576x432 with 1 Axes>"
      ]
     },
     "metadata": {
      "needs_background": "light"
     },
     "output_type": "display_data"
    }
   ],
   "source": [
    "import random\n",
    "i = random.randint(1,8740)\n",
    "plt.plot(y_scaler.inverse_transform(test_inputs.dataframe.loc[:,'target'])[i].reshape(24,-1), label='target')\n",
    "plt.plot(y_scaler.inverse_transform(predictions_B.reshape(-1,24))[i], label='baseline')\n",
    "plt.plot(y_scaler.inverse_transform(predictions.reshape(-1,24))[i], label='LSTM')\n",
    "plt.legend()\n",
    "[]"
   ]
  },
  {
   "cell_type": "code",
   "execution_count": null,
   "metadata": {},
   "outputs": [],
   "source": []
  }
 ],
 "metadata": {
  "kernelspec": {
   "display_name": "Python [conda env:evgeny] *",
   "language": "python",
   "name": "conda-env-evgeny-py"
  },
  "language_info": {
   "codemirror_mode": {
    "name": "ipython",
    "version": 3
   },
   "file_extension": ".py",
   "mimetype": "text/x-python",
   "name": "python",
   "nbconvert_exporter": "python",
   "pygments_lexer": "ipython3",
   "version": "3.8.6"
  }
 },
 "nbformat": 4,
 "nbformat_minor": 5
}
